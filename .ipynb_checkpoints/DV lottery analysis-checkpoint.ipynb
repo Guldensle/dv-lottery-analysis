{
 "cells": [
  {
   "cell_type": "code",
   "execution_count": 1,
   "metadata": {},
   "outputs": [],
   "source": [
    "import pandas as pd"
   ]
  },
  {
   "cell_type": "code",
   "execution_count": 2,
   "metadata": {},
   "outputs": [
    {
     "data": {
      "text/plain": [
       "(211, 14)"
      ]
     },
     "execution_count": 2,
     "metadata": {},
     "output_type": "execute_result"
    }
   ],
   "source": [
    "# Read in the World Development Indicators Database\n",
    "data = pd.read_csv('DV_num_of_entries.csv')\n",
    "data.shape"
   ]
  },
  {
   "cell_type": "code",
   "execution_count": 3,
   "metadata": {},
   "outputs": [
    {
     "data": {
      "text/html": [
       "<div>\n",
       "<style scoped>\n",
       "    .dataframe tbody tr th:only-of-type {\n",
       "        vertical-align: middle;\n",
       "    }\n",
       "\n",
       "    .dataframe tbody tr th {\n",
       "        vertical-align: top;\n",
       "    }\n",
       "\n",
       "    .dataframe thead th {\n",
       "        text-align: right;\n",
       "    }\n",
       "</style>\n",
       "<table border=\"1\" class=\"dataframe\">\n",
       "  <thead>\n",
       "    <tr style=\"text-align: right;\">\n",
       "      <th></th>\n",
       "      <th>Unnamed: 0</th>\n",
       "      <th>Country</th>\n",
       "      <th>2010</th>\n",
       "      <th>2011</th>\n",
       "      <th>2012</th>\n",
       "      <th>2013</th>\n",
       "      <th>2014</th>\n",
       "      <th>2015</th>\n",
       "      <th>2016</th>\n",
       "      <th>2017</th>\n",
       "      <th>2018</th>\n",
       "      <th>8_years_diff</th>\n",
       "      <th>%_increase</th>\n",
       "      <th>average</th>\n",
       "    </tr>\n",
       "  </thead>\n",
       "  <tbody>\n",
       "    <tr>\n",
       "      <th>0</th>\n",
       "      <td>210</td>\n",
       "      <td>Grand Total</td>\n",
       "      <td>9769457</td>\n",
       "      <td>16511508</td>\n",
       "      <td>19672268</td>\n",
       "      <td>12577355</td>\n",
       "      <td>14633971</td>\n",
       "      <td>14418063</td>\n",
       "      <td>17573364</td>\n",
       "      <td>19344586</td>\n",
       "      <td>23088613</td>\n",
       "      <td>13319156</td>\n",
       "      <td>136.334660</td>\n",
       "      <td>16398798.0</td>\n",
       "    </tr>\n",
       "    <tr>\n",
       "      <th>1</th>\n",
       "      <td>14</td>\n",
       "      <td>Bangladesh</td>\n",
       "      <td>834324</td>\n",
       "      <td>6497926</td>\n",
       "      <td>8562251</td>\n",
       "      <td>0</td>\n",
       "      <td>0</td>\n",
       "      <td>0</td>\n",
       "      <td>0</td>\n",
       "      <td>0</td>\n",
       "      <td>0</td>\n",
       "      <td>-834324</td>\n",
       "      <td>0.000000</td>\n",
       "      <td>1766056.0</td>\n",
       "    </tr>\n",
       "    <tr>\n",
       "      <th>2</th>\n",
       "      <td>69</td>\n",
       "      <td>Ghana</td>\n",
       "      <td>523448</td>\n",
       "      <td>609924</td>\n",
       "      <td>774557</td>\n",
       "      <td>1056032</td>\n",
       "      <td>1217888</td>\n",
       "      <td>1729979</td>\n",
       "      <td>2231745</td>\n",
       "      <td>2199021</td>\n",
       "      <td>2227530</td>\n",
       "      <td>1704082</td>\n",
       "      <td>325.549434</td>\n",
       "      <td>1396680.0</td>\n",
       "    </tr>\n",
       "    <tr>\n",
       "      <th>3</th>\n",
       "      <td>198</td>\n",
       "      <td>Ukraine</td>\n",
       "      <td>927470</td>\n",
       "      <td>1080091</td>\n",
       "      <td>1122086</td>\n",
       "      <td>1232306</td>\n",
       "      <td>1255129</td>\n",
       "      <td>1274758</td>\n",
       "      <td>1291999</td>\n",
       "      <td>1470250</td>\n",
       "      <td>1450487</td>\n",
       "      <td>523017</td>\n",
       "      <td>56.391797</td>\n",
       "      <td>1233842.0</td>\n",
       "    </tr>\n",
       "    <tr>\n",
       "      <th>4</th>\n",
       "      <td>134</td>\n",
       "      <td>Nigeria</td>\n",
       "      <td>1570316</td>\n",
       "      <td>2144626</td>\n",
       "      <td>2005876</td>\n",
       "      <td>1975571</td>\n",
       "      <td>2390758</td>\n",
       "      <td>0</td>\n",
       "      <td>0</td>\n",
       "      <td>0</td>\n",
       "      <td>0</td>\n",
       "      <td>-1570316</td>\n",
       "      <td>0.000000</td>\n",
       "      <td>1120794.0</td>\n",
       "    </tr>\n",
       "  </tbody>\n",
       "</table>\n",
       "</div>"
      ],
      "text/plain": [
       "   Unnamed: 0      Country     2010      2011      2012      2013      2014  \\\n",
       "0         210  Grand Total  9769457  16511508  19672268  12577355  14633971   \n",
       "1          14   Bangladesh   834324   6497926   8562251         0         0   \n",
       "2          69        Ghana   523448    609924    774557   1056032   1217888   \n",
       "3         198      Ukraine   927470   1080091   1122086   1232306   1255129   \n",
       "4         134      Nigeria  1570316   2144626   2005876   1975571   2390758   \n",
       "\n",
       "       2015      2016      2017      2018  8_years_diff  %_increase  \\\n",
       "0  14418063  17573364  19344586  23088613      13319156  136.334660   \n",
       "1         0         0         0         0       -834324    0.000000   \n",
       "2   1729979   2231745   2199021   2227530       1704082  325.549434   \n",
       "3   1274758   1291999   1470250   1450487        523017   56.391797   \n",
       "4         0         0         0         0      -1570316    0.000000   \n",
       "\n",
       "      average  \n",
       "0  16398798.0  \n",
       "1   1766056.0  \n",
       "2   1396680.0  \n",
       "3   1233842.0  \n",
       "4   1120794.0  "
      ]
     },
     "execution_count": 3,
     "metadata": {},
     "output_type": "execute_result"
    }
   ],
   "source": [
    "data.head()"
   ]
  },
  {
   "cell_type": "code",
   "execution_count": 4,
   "metadata": {},
   "outputs": [
    {
     "data": {
      "text/plain": [
       "(244, 2)"
      ]
     },
     "execution_count": 4,
     "metadata": {},
     "output_type": "execute_result"
    }
   ],
   "source": [
    "country_codes = pd.read_csv('Country_codes.csv')\n",
    "country_codes.shape"
   ]
  },
  {
   "cell_type": "code",
   "execution_count": 5,
   "metadata": {
    "scrolled": true
   },
   "outputs": [],
   "source": [
    "#data_1 = data[['Country','average']]\n",
    "#data_1.head()"
   ]
  },
  {
   "cell_type": "code",
   "execution_count": 6,
   "metadata": {},
   "outputs": [
    {
     "data": {
      "text/html": [
       "<div>\n",
       "<style scoped>\n",
       "    .dataframe tbody tr th:only-of-type {\n",
       "        vertical-align: middle;\n",
       "    }\n",
       "\n",
       "    .dataframe tbody tr th {\n",
       "        vertical-align: top;\n",
       "    }\n",
       "\n",
       "    .dataframe thead th {\n",
       "        text-align: right;\n",
       "    }\n",
       "</style>\n",
       "<table border=\"1\" class=\"dataframe\">\n",
       "  <thead>\n",
       "    <tr style=\"text-align: right;\">\n",
       "      <th></th>\n",
       "      <th>Unnamed: 0</th>\n",
       "      <th>Country</th>\n",
       "      <th>2010</th>\n",
       "      <th>2011</th>\n",
       "      <th>2012</th>\n",
       "      <th>2013</th>\n",
       "      <th>2014</th>\n",
       "      <th>2015</th>\n",
       "      <th>2016</th>\n",
       "      <th>2017</th>\n",
       "      <th>2018</th>\n",
       "      <th>8_years_diff</th>\n",
       "      <th>%_increase</th>\n",
       "      <th>average</th>\n",
       "      <th>CountryCode</th>\n",
       "    </tr>\n",
       "  </thead>\n",
       "  <tbody>\n",
       "    <tr>\n",
       "      <th>0</th>\n",
       "      <td>210</td>\n",
       "      <td>Grand Total</td>\n",
       "      <td>9769457</td>\n",
       "      <td>16511508</td>\n",
       "      <td>19672268</td>\n",
       "      <td>12577355</td>\n",
       "      <td>14633971</td>\n",
       "      <td>14418063</td>\n",
       "      <td>17573364</td>\n",
       "      <td>19344586</td>\n",
       "      <td>23088613</td>\n",
       "      <td>13319156</td>\n",
       "      <td>136.334660</td>\n",
       "      <td>16398798.0</td>\n",
       "      <td>NaN</td>\n",
       "    </tr>\n",
       "    <tr>\n",
       "      <th>1</th>\n",
       "      <td>14</td>\n",
       "      <td>Bangladesh</td>\n",
       "      <td>834324</td>\n",
       "      <td>6497926</td>\n",
       "      <td>8562251</td>\n",
       "      <td>0</td>\n",
       "      <td>0</td>\n",
       "      <td>0</td>\n",
       "      <td>0</td>\n",
       "      <td>0</td>\n",
       "      <td>0</td>\n",
       "      <td>-834324</td>\n",
       "      <td>0.000000</td>\n",
       "      <td>1766056.0</td>\n",
       "      <td>BGD</td>\n",
       "    </tr>\n",
       "    <tr>\n",
       "      <th>2</th>\n",
       "      <td>69</td>\n",
       "      <td>Ghana</td>\n",
       "      <td>523448</td>\n",
       "      <td>609924</td>\n",
       "      <td>774557</td>\n",
       "      <td>1056032</td>\n",
       "      <td>1217888</td>\n",
       "      <td>1729979</td>\n",
       "      <td>2231745</td>\n",
       "      <td>2199021</td>\n",
       "      <td>2227530</td>\n",
       "      <td>1704082</td>\n",
       "      <td>325.549434</td>\n",
       "      <td>1396680.0</td>\n",
       "      <td>GHA</td>\n",
       "    </tr>\n",
       "    <tr>\n",
       "      <th>3</th>\n",
       "      <td>198</td>\n",
       "      <td>Ukraine</td>\n",
       "      <td>927470</td>\n",
       "      <td>1080091</td>\n",
       "      <td>1122086</td>\n",
       "      <td>1232306</td>\n",
       "      <td>1255129</td>\n",
       "      <td>1274758</td>\n",
       "      <td>1291999</td>\n",
       "      <td>1470250</td>\n",
       "      <td>1450487</td>\n",
       "      <td>523017</td>\n",
       "      <td>56.391797</td>\n",
       "      <td>1233842.0</td>\n",
       "      <td>UKR</td>\n",
       "    </tr>\n",
       "    <tr>\n",
       "      <th>4</th>\n",
       "      <td>134</td>\n",
       "      <td>Nigeria</td>\n",
       "      <td>1570316</td>\n",
       "      <td>2144626</td>\n",
       "      <td>2005876</td>\n",
       "      <td>1975571</td>\n",
       "      <td>2390758</td>\n",
       "      <td>0</td>\n",
       "      <td>0</td>\n",
       "      <td>0</td>\n",
       "      <td>0</td>\n",
       "      <td>-1570316</td>\n",
       "      <td>0.000000</td>\n",
       "      <td>1120794.0</td>\n",
       "      <td>NGA</td>\n",
       "    </tr>\n",
       "    <tr>\n",
       "      <th>5</th>\n",
       "      <td>201</td>\n",
       "      <td>Uzbekistan</td>\n",
       "      <td>194033</td>\n",
       "      <td>295828</td>\n",
       "      <td>507361</td>\n",
       "      <td>654327</td>\n",
       "      <td>1193657</td>\n",
       "      <td>1387420</td>\n",
       "      <td>1488984</td>\n",
       "      <td>1576179</td>\n",
       "      <td>2114446</td>\n",
       "      <td>1920413</td>\n",
       "      <td>989.735251</td>\n",
       "      <td>1045804.0</td>\n",
       "      <td>UZB</td>\n",
       "    </tr>\n",
       "    <tr>\n",
       "      <th>6</th>\n",
       "      <td>83</td>\n",
       "      <td>Iran</td>\n",
       "      <td>470279</td>\n",
       "      <td>426505</td>\n",
       "      <td>547735</td>\n",
       "      <td>692410</td>\n",
       "      <td>1037354</td>\n",
       "      <td>932346</td>\n",
       "      <td>1203531</td>\n",
       "      <td>1390853</td>\n",
       "      <td>1624204</td>\n",
       "      <td>1153925</td>\n",
       "      <td>245.370301</td>\n",
       "      <td>925024.0</td>\n",
       "      <td>IRN</td>\n",
       "    </tr>\n",
       "    <tr>\n",
       "      <th>7</th>\n",
       "      <td>53</td>\n",
       "      <td>Egypt</td>\n",
       "      <td>642321</td>\n",
       "      <td>534375</td>\n",
       "      <td>780728</td>\n",
       "      <td>960279</td>\n",
       "      <td>847230</td>\n",
       "      <td>763701</td>\n",
       "      <td>849681</td>\n",
       "      <td>914817</td>\n",
       "      <td>1274751</td>\n",
       "      <td>632430</td>\n",
       "      <td>98.460116</td>\n",
       "      <td>840876.0</td>\n",
       "      <td>EGY</td>\n",
       "    </tr>\n",
       "    <tr>\n",
       "      <th>8</th>\n",
       "      <td>57</td>\n",
       "      <td>Ethiopia</td>\n",
       "      <td>745372</td>\n",
       "      <td>662658</td>\n",
       "      <td>785318</td>\n",
       "      <td>775763</td>\n",
       "      <td>753701</td>\n",
       "      <td>845474</td>\n",
       "      <td>780829</td>\n",
       "      <td>844959</td>\n",
       "      <td>1056532</td>\n",
       "      <td>311160</td>\n",
       "      <td>41.745598</td>\n",
       "      <td>805623.0</td>\n",
       "      <td>ETH</td>\n",
       "    </tr>\n",
       "    <tr>\n",
       "      <th>9</th>\n",
       "      <td>127</td>\n",
       "      <td>Nepal</td>\n",
       "      <td>356216</td>\n",
       "      <td>322758</td>\n",
       "      <td>397036</td>\n",
       "      <td>496410</td>\n",
       "      <td>613385</td>\n",
       "      <td>892961</td>\n",
       "      <td>1090880</td>\n",
       "      <td>1136622</td>\n",
       "      <td>1187350</td>\n",
       "      <td>831134</td>\n",
       "      <td>233.323040</td>\n",
       "      <td>721513.0</td>\n",
       "      <td>NPL</td>\n",
       "    </tr>\n",
       "    <tr>\n",
       "      <th>10</th>\n",
       "      <td>165</td>\n",
       "      <td>Sierra Leone</td>\n",
       "      <td>326452</td>\n",
       "      <td>441250</td>\n",
       "      <td>315741</td>\n",
       "      <td>233519</td>\n",
       "      <td>284205</td>\n",
       "      <td>511120</td>\n",
       "      <td>611983</td>\n",
       "      <td>841688</td>\n",
       "      <td>1011725</td>\n",
       "      <td>685273</td>\n",
       "      <td>209.915393</td>\n",
       "      <td>508631.0</td>\n",
       "      <td>SLE</td>\n",
       "    </tr>\n",
       "    <tr>\n",
       "      <th>11</th>\n",
       "      <td>100</td>\n",
       "      <td>Liberia</td>\n",
       "      <td>119229</td>\n",
       "      <td>110960</td>\n",
       "      <td>141749</td>\n",
       "      <td>142298</td>\n",
       "      <td>216249</td>\n",
       "      <td>358224</td>\n",
       "      <td>661631</td>\n",
       "      <td>674936</td>\n",
       "      <td>686869</td>\n",
       "      <td>567640</td>\n",
       "      <td>476.092226</td>\n",
       "      <td>345794.0</td>\n",
       "      <td>LBR</td>\n",
       "    </tr>\n",
       "    <tr>\n",
       "      <th>12</th>\n",
       "      <td>91</td>\n",
       "      <td>Kenya</td>\n",
       "      <td>223586</td>\n",
       "      <td>260734</td>\n",
       "      <td>304083</td>\n",
       "      <td>265474</td>\n",
       "      <td>222749</td>\n",
       "      <td>193641</td>\n",
       "      <td>304693</td>\n",
       "      <td>360023</td>\n",
       "      <td>442966</td>\n",
       "      <td>219380</td>\n",
       "      <td>98.118845</td>\n",
       "      <td>286439.0</td>\n",
       "      <td>KEN</td>\n",
       "    </tr>\n",
       "    <tr>\n",
       "      <th>13</th>\n",
       "      <td>31</td>\n",
       "      <td>Cameroon</td>\n",
       "      <td>189622</td>\n",
       "      <td>189752</td>\n",
       "      <td>203906</td>\n",
       "      <td>224509</td>\n",
       "      <td>224020</td>\n",
       "      <td>286564</td>\n",
       "      <td>303783</td>\n",
       "      <td>332778</td>\n",
       "      <td>427259</td>\n",
       "      <td>237637</td>\n",
       "      <td>125.321429</td>\n",
       "      <td>264688.0</td>\n",
       "      <td>CMR</td>\n",
       "    </tr>\n",
       "    <tr>\n",
       "      <th>14</th>\n",
       "      <td>194</td>\n",
       "      <td>Turkey</td>\n",
       "      <td>146677</td>\n",
       "      <td>181578</td>\n",
       "      <td>176711</td>\n",
       "      <td>228009</td>\n",
       "      <td>259320</td>\n",
       "      <td>254660</td>\n",
       "      <td>245493</td>\n",
       "      <td>316226</td>\n",
       "      <td>406929</td>\n",
       "      <td>260252</td>\n",
       "      <td>177.432045</td>\n",
       "      <td>246178.0</td>\n",
       "      <td>TUR</td>\n",
       "    </tr>\n",
       "    <tr>\n",
       "      <th>15</th>\n",
       "      <td>151</td>\n",
       "      <td>Russia</td>\n",
       "      <td>101324</td>\n",
       "      <td>140444</td>\n",
       "      <td>167600</td>\n",
       "      <td>218862</td>\n",
       "      <td>249670</td>\n",
       "      <td>265086</td>\n",
       "      <td>274746</td>\n",
       "      <td>332069</td>\n",
       "      <td>434353</td>\n",
       "      <td>333029</td>\n",
       "      <td>328.677312</td>\n",
       "      <td>242684.0</td>\n",
       "      <td>RUS</td>\n",
       "    </tr>\n",
       "    <tr>\n",
       "      <th>16</th>\n",
       "      <td>177</td>\n",
       "      <td>Sudan</td>\n",
       "      <td>70709</td>\n",
       "      <td>84746</td>\n",
       "      <td>96210</td>\n",
       "      <td>113595</td>\n",
       "      <td>129437</td>\n",
       "      <td>252748</td>\n",
       "      <td>340392</td>\n",
       "      <td>451423</td>\n",
       "      <td>504312</td>\n",
       "      <td>433603</td>\n",
       "      <td>613.221796</td>\n",
       "      <td>227064.0</td>\n",
       "      <td>SDN</td>\n",
       "    </tr>\n",
       "    <tr>\n",
       "      <th>17</th>\n",
       "      <td>1</td>\n",
       "      <td>Albania</td>\n",
       "      <td>118913</td>\n",
       "      <td>87189</td>\n",
       "      <td>115357</td>\n",
       "      <td>122567</td>\n",
       "      <td>171362</td>\n",
       "      <td>198625</td>\n",
       "      <td>246129</td>\n",
       "      <td>315842</td>\n",
       "      <td>367231</td>\n",
       "      <td>248318</td>\n",
       "      <td>208.823257</td>\n",
       "      <td>193691.0</td>\n",
       "      <td>ALB</td>\n",
       "    </tr>\n",
       "    <tr>\n",
       "      <th>18</th>\n",
       "      <td>119</td>\n",
       "      <td>Moldova</td>\n",
       "      <td>35638</td>\n",
       "      <td>56808</td>\n",
       "      <td>75886</td>\n",
       "      <td>108565</td>\n",
       "      <td>162661</td>\n",
       "      <td>193288</td>\n",
       "      <td>230058</td>\n",
       "      <td>252180</td>\n",
       "      <td>440863</td>\n",
       "      <td>405225</td>\n",
       "      <td>1137.058758</td>\n",
       "      <td>172883.0</td>\n",
       "      <td>MDA</td>\n",
       "    </tr>\n",
       "    <tr>\n",
       "      <th>19</th>\n",
       "      <td>2</td>\n",
       "      <td>Algeria</td>\n",
       "      <td>90704</td>\n",
       "      <td>88004</td>\n",
       "      <td>112081</td>\n",
       "      <td>128189</td>\n",
       "      <td>127872</td>\n",
       "      <td>163091</td>\n",
       "      <td>204433</td>\n",
       "      <td>252733</td>\n",
       "      <td>342857</td>\n",
       "      <td>252153</td>\n",
       "      <td>277.995458</td>\n",
       "      <td>167774.0</td>\n",
       "      <td>DZA</td>\n",
       "    </tr>\n",
       "    <tr>\n",
       "      <th>20</th>\n",
       "      <td>123</td>\n",
       "      <td>Morocco</td>\n",
       "      <td>143821</td>\n",
       "      <td>97506</td>\n",
       "      <td>110573</td>\n",
       "      <td>119443</td>\n",
       "      <td>115235</td>\n",
       "      <td>139008</td>\n",
       "      <td>201964</td>\n",
       "      <td>286421</td>\n",
       "      <td>293708</td>\n",
       "      <td>149887</td>\n",
       "      <td>104.217743</td>\n",
       "      <td>167520.0</td>\n",
       "      <td>MAR</td>\n",
       "    </tr>\n",
       "    <tr>\n",
       "      <th>21</th>\n",
       "      <td>204</td>\n",
       "      <td>Venezuela</td>\n",
       "      <td>38314</td>\n",
       "      <td>71665</td>\n",
       "      <td>85412</td>\n",
       "      <td>94835</td>\n",
       "      <td>116198</td>\n",
       "      <td>124533</td>\n",
       "      <td>258921</td>\n",
       "      <td>313128</td>\n",
       "      <td>360799</td>\n",
       "      <td>322485</td>\n",
       "      <td>841.689722</td>\n",
       "      <td>162645.0</td>\n",
       "      <td>VEN</td>\n",
       "    </tr>\n",
       "    <tr>\n",
       "      <th>22</th>\n",
       "      <td>30</td>\n",
       "      <td>Cambodia</td>\n",
       "      <td>66339</td>\n",
       "      <td>60862</td>\n",
       "      <td>72829</td>\n",
       "      <td>119138</td>\n",
       "      <td>120435</td>\n",
       "      <td>197383</td>\n",
       "      <td>251948</td>\n",
       "      <td>282123</td>\n",
       "      <td>271603</td>\n",
       "      <td>205264</td>\n",
       "      <td>309.416783</td>\n",
       "      <td>160296.0</td>\n",
       "      <td>KHM</td>\n",
       "    </tr>\n",
       "    <tr>\n",
       "      <th>23</th>\n",
       "      <td>75</td>\n",
       "      <td>Guinea</td>\n",
       "      <td>43579</td>\n",
       "      <td>48467</td>\n",
       "      <td>68856</td>\n",
       "      <td>88935</td>\n",
       "      <td>106172</td>\n",
       "      <td>163860</td>\n",
       "      <td>239506</td>\n",
       "      <td>250751</td>\n",
       "      <td>322943</td>\n",
       "      <td>279364</td>\n",
       "      <td>641.051883</td>\n",
       "      <td>148119.0</td>\n",
       "      <td>GIN</td>\n",
       "    </tr>\n",
       "    <tr>\n",
       "      <th>24</th>\n",
       "      <td>7</td>\n",
       "      <td>Armenia</td>\n",
       "      <td>62051</td>\n",
       "      <td>72876</td>\n",
       "      <td>92352</td>\n",
       "      <td>97679</td>\n",
       "      <td>113681</td>\n",
       "      <td>131088</td>\n",
       "      <td>168115</td>\n",
       "      <td>226545</td>\n",
       "      <td>267067</td>\n",
       "      <td>205016</td>\n",
       "      <td>330.399188</td>\n",
       "      <td>136828.0</td>\n",
       "      <td>ARM</td>\n",
       "    </tr>\n",
       "    <tr>\n",
       "      <th>25</th>\n",
       "      <td>189</td>\n",
       "      <td>Togo</td>\n",
       "      <td>42468</td>\n",
       "      <td>58971</td>\n",
       "      <td>52587</td>\n",
       "      <td>64579</td>\n",
       "      <td>80430</td>\n",
       "      <td>117748</td>\n",
       "      <td>167146</td>\n",
       "      <td>186608</td>\n",
       "      <td>268194</td>\n",
       "      <td>225726</td>\n",
       "      <td>531.520203</td>\n",
       "      <td>115415.0</td>\n",
       "      <td>TGO</td>\n",
       "    </tr>\n",
       "    <tr>\n",
       "      <th>26</th>\n",
       "      <td>39</td>\n",
       "      <td>Democratic Republic of the Congo</td>\n",
       "      <td>92133</td>\n",
       "      <td>138558</td>\n",
       "      <td>208775</td>\n",
       "      <td>229650</td>\n",
       "      <td>339196</td>\n",
       "      <td>12581</td>\n",
       "      <td>0</td>\n",
       "      <td>0</td>\n",
       "      <td>0</td>\n",
       "      <td>-92133</td>\n",
       "      <td>0.000000</td>\n",
       "      <td>113433.0</td>\n",
       "      <td>COD</td>\n",
       "    </tr>\n",
       "    <tr>\n",
       "      <th>27</th>\n",
       "      <td>175</td>\n",
       "      <td>Sri Lanka</td>\n",
       "      <td>92219</td>\n",
       "      <td>84312</td>\n",
       "      <td>83772</td>\n",
       "      <td>102531</td>\n",
       "      <td>91261</td>\n",
       "      <td>107989</td>\n",
       "      <td>116673</td>\n",
       "      <td>104981</td>\n",
       "      <td>139527</td>\n",
       "      <td>47308</td>\n",
       "      <td>51.299624</td>\n",
       "      <td>102585.0</td>\n",
       "      <td>LKA</td>\n",
       "    </tr>\n",
       "    <tr>\n",
       "      <th>28</th>\n",
       "      <td>45</td>\n",
       "      <td>Cuba</td>\n",
       "      <td>23205</td>\n",
       "      <td>40490</td>\n",
       "      <td>32696</td>\n",
       "      <td>46744</td>\n",
       "      <td>56967</td>\n",
       "      <td>112998</td>\n",
       "      <td>362368</td>\n",
       "      <td>128271</td>\n",
       "      <td>114560</td>\n",
       "      <td>91355</td>\n",
       "      <td>393.686705</td>\n",
       "      <td>102033.0</td>\n",
       "      <td>CUB</td>\n",
       "    </tr>\n",
       "    <tr>\n",
       "      <th>29</th>\n",
       "      <td>16</td>\n",
       "      <td>Belarus</td>\n",
       "      <td>62097</td>\n",
       "      <td>65641</td>\n",
       "      <td>70881</td>\n",
       "      <td>97706</td>\n",
       "      <td>97747</td>\n",
       "      <td>100443</td>\n",
       "      <td>98767</td>\n",
       "      <td>135224</td>\n",
       "      <td>171134</td>\n",
       "      <td>109037</td>\n",
       "      <td>175.591413</td>\n",
       "      <td>99960.0</td>\n",
       "      <td>BLR</td>\n",
       "    </tr>\n",
       "    <tr>\n",
       "      <th>30</th>\n",
       "      <td>68</td>\n",
       "      <td>Germany</td>\n",
       "      <td>105561</td>\n",
       "      <td>106153</td>\n",
       "      <td>102375</td>\n",
       "      <td>94476</td>\n",
       "      <td>96299</td>\n",
       "      <td>92176</td>\n",
       "      <td>88931</td>\n",
       "      <td>91898</td>\n",
       "      <td>92484</td>\n",
       "      <td>-13077</td>\n",
       "      <td>-12.388098</td>\n",
       "      <td>96706.0</td>\n",
       "      <td>DEU</td>\n",
       "    </tr>\n",
       "    <tr>\n",
       "      <th>31</th>\n",
       "      <td>43</td>\n",
       "      <td>Cote d'Ivoire</td>\n",
       "      <td>31399</td>\n",
       "      <td>39488</td>\n",
       "      <td>33501</td>\n",
       "      <td>49721</td>\n",
       "      <td>67863</td>\n",
       "      <td>89234</td>\n",
       "      <td>117165</td>\n",
       "      <td>154145</td>\n",
       "      <td>243658</td>\n",
       "      <td>212259</td>\n",
       "      <td>676.005605</td>\n",
       "      <td>91797.0</td>\n",
       "      <td>CIV</td>\n",
       "    </tr>\n",
       "    <tr>\n",
       "      <th>32</th>\n",
       "      <td>207</td>\n",
       "      <td>Yemen</td>\n",
       "      <td>15479</td>\n",
       "      <td>17886</td>\n",
       "      <td>21606</td>\n",
       "      <td>28039</td>\n",
       "      <td>40962</td>\n",
       "      <td>76063</td>\n",
       "      <td>136398</td>\n",
       "      <td>172742</td>\n",
       "      <td>264519</td>\n",
       "      <td>249040</td>\n",
       "      <td>1608.889463</td>\n",
       "      <td>85966.0</td>\n",
       "      <td>YEM</td>\n",
       "    </tr>\n",
       "    <tr>\n",
       "      <th>33</th>\n",
       "      <td>26</td>\n",
       "      <td>Bulgaria</td>\n",
       "      <td>43212</td>\n",
       "      <td>56538</td>\n",
       "      <td>66941</td>\n",
       "      <td>97139</td>\n",
       "      <td>103878</td>\n",
       "      <td>91179</td>\n",
       "      <td>94513</td>\n",
       "      <td>88356</td>\n",
       "      <td>74316</td>\n",
       "      <td>31104</td>\n",
       "      <td>71.980006</td>\n",
       "      <td>79564.0</td>\n",
       "      <td>BGR</td>\n",
       "    </tr>\n",
       "    <tr>\n",
       "      <th>34</th>\n",
       "      <td>19</td>\n",
       "      <td>Benin</td>\n",
       "      <td>17235</td>\n",
       "      <td>36008</td>\n",
       "      <td>30776</td>\n",
       "      <td>47666</td>\n",
       "      <td>36087</td>\n",
       "      <td>115779</td>\n",
       "      <td>136321</td>\n",
       "      <td>117632</td>\n",
       "      <td>121771</td>\n",
       "      <td>104536</td>\n",
       "      <td>606.533217</td>\n",
       "      <td>73253.0</td>\n",
       "      <td>BEN</td>\n",
       "    </tr>\n",
       "    <tr>\n",
       "      <th>35</th>\n",
       "      <td>150</td>\n",
       "      <td>Romania</td>\n",
       "      <td>35745</td>\n",
       "      <td>47435</td>\n",
       "      <td>76594</td>\n",
       "      <td>60593</td>\n",
       "      <td>70864</td>\n",
       "      <td>72433</td>\n",
       "      <td>73227</td>\n",
       "      <td>67578</td>\n",
       "      <td>79583</td>\n",
       "      <td>43838</td>\n",
       "      <td>122.640929</td>\n",
       "      <td>64895.0</td>\n",
       "      <td>ROU</td>\n",
       "    </tr>\n",
       "    <tr>\n",
       "      <th>36</th>\n",
       "      <td>67</td>\n",
       "      <td>Georgia</td>\n",
       "      <td>31953</td>\n",
       "      <td>39253</td>\n",
       "      <td>49276</td>\n",
       "      <td>53625</td>\n",
       "      <td>46451</td>\n",
       "      <td>53395</td>\n",
       "      <td>73989</td>\n",
       "      <td>99351</td>\n",
       "      <td>122109</td>\n",
       "      <td>90156</td>\n",
       "      <td>282.151911</td>\n",
       "      <td>63267.0</td>\n",
       "      <td>GEO</td>\n",
       "    </tr>\n",
       "    <tr>\n",
       "      <th>37</th>\n",
       "      <td>172</td>\n",
       "      <td>South Africa</td>\n",
       "      <td>40208</td>\n",
       "      <td>50144</td>\n",
       "      <td>48570</td>\n",
       "      <td>47672</td>\n",
       "      <td>56356</td>\n",
       "      <td>52168</td>\n",
       "      <td>62062</td>\n",
       "      <td>66728</td>\n",
       "      <td>67344</td>\n",
       "      <td>27136</td>\n",
       "      <td>67.489057</td>\n",
       "      <td>54584.0</td>\n",
       "      <td>ZAF</td>\n",
       "    </tr>\n",
       "    <tr>\n",
       "      <th>38</th>\n",
       "      <td>40</td>\n",
       "      <td>Congo</td>\n",
       "      <td>5415</td>\n",
       "      <td>6620</td>\n",
       "      <td>7711</td>\n",
       "      <td>9094</td>\n",
       "      <td>11477</td>\n",
       "      <td>446488</td>\n",
       "      <td>0</td>\n",
       "      <td>0</td>\n",
       "      <td>0</td>\n",
       "      <td>-5415</td>\n",
       "      <td>0.000000</td>\n",
       "      <td>54089.0</td>\n",
       "      <td>COG</td>\n",
       "    </tr>\n",
       "    <tr>\n",
       "      <th>39</th>\n",
       "      <td>61</td>\n",
       "      <td>France</td>\n",
       "      <td>36302</td>\n",
       "      <td>44222</td>\n",
       "      <td>40644</td>\n",
       "      <td>43830</td>\n",
       "      <td>52394</td>\n",
       "      <td>54488</td>\n",
       "      <td>66709</td>\n",
       "      <td>67612</td>\n",
       "      <td>70964</td>\n",
       "      <td>34662</td>\n",
       "      <td>95.482343</td>\n",
       "      <td>53018.0</td>\n",
       "      <td>FRA</td>\n",
       "    </tr>\n",
       "    <tr>\n",
       "      <th>40</th>\n",
       "      <td>184</td>\n",
       "      <td>Taiwan</td>\n",
       "      <td>58916</td>\n",
       "      <td>56319</td>\n",
       "      <td>47398</td>\n",
       "      <td>41755</td>\n",
       "      <td>44163</td>\n",
       "      <td>44684</td>\n",
       "      <td>58183</td>\n",
       "      <td>55825</td>\n",
       "      <td>58872</td>\n",
       "      <td>-44</td>\n",
       "      <td>-0.074683</td>\n",
       "      <td>51791.0</td>\n",
       "      <td>TWN</td>\n",
       "    </tr>\n",
       "    <tr>\n",
       "      <th>41</th>\n",
       "      <td>88</td>\n",
       "      <td>Japan</td>\n",
       "      <td>50830</td>\n",
       "      <td>48708</td>\n",
       "      <td>46554</td>\n",
       "      <td>51775</td>\n",
       "      <td>51646</td>\n",
       "      <td>50501</td>\n",
       "      <td>52149</td>\n",
       "      <td>50213</td>\n",
       "      <td>50650</td>\n",
       "      <td>-180</td>\n",
       "      <td>-0.354122</td>\n",
       "      <td>50336.0</td>\n",
       "      <td>JPN</td>\n",
       "    </tr>\n",
       "    <tr>\n",
       "      <th>42</th>\n",
       "      <td>28</td>\n",
       "      <td>Myanmar</td>\n",
       "      <td>82313</td>\n",
       "      <td>59683</td>\n",
       "      <td>42372</td>\n",
       "      <td>44407</td>\n",
       "      <td>41748</td>\n",
       "      <td>43081</td>\n",
       "      <td>42043</td>\n",
       "      <td>50775</td>\n",
       "      <td>44752</td>\n",
       "      <td>-37561</td>\n",
       "      <td>-45.631917</td>\n",
       "      <td>50130.0</td>\n",
       "      <td>MMR</td>\n",
       "    </tr>\n",
       "    <tr>\n",
       "      <th>43</th>\n",
       "      <td>0</td>\n",
       "      <td>Afghanistan</td>\n",
       "      <td>66870</td>\n",
       "      <td>19656</td>\n",
       "      <td>12456</td>\n",
       "      <td>16277</td>\n",
       "      <td>31485</td>\n",
       "      <td>27789</td>\n",
       "      <td>65951</td>\n",
       "      <td>83277</td>\n",
       "      <td>122755</td>\n",
       "      <td>55885</td>\n",
       "      <td>83.572604</td>\n",
       "      <td>49613.0</td>\n",
       "      <td>AFG</td>\n",
       "    </tr>\n",
       "    <tr>\n",
       "      <th>44</th>\n",
       "      <td>55</td>\n",
       "      <td>Eritrea</td>\n",
       "      <td>36394</td>\n",
       "      <td>42316</td>\n",
       "      <td>45000</td>\n",
       "      <td>47330</td>\n",
       "      <td>35814</td>\n",
       "      <td>42467</td>\n",
       "      <td>49669</td>\n",
       "      <td>50995</td>\n",
       "      <td>63181</td>\n",
       "      <td>26787</td>\n",
       "      <td>73.602792</td>\n",
       "      <td>45907.0</td>\n",
       "      <td>ERI</td>\n",
       "    </tr>\n",
       "    <tr>\n",
       "      <th>45</th>\n",
       "      <td>89</td>\n",
       "      <td>Jordan</td>\n",
       "      <td>23924</td>\n",
       "      <td>22066</td>\n",
       "      <td>22535</td>\n",
       "      <td>29103</td>\n",
       "      <td>38075</td>\n",
       "      <td>39819</td>\n",
       "      <td>72438</td>\n",
       "      <td>63327</td>\n",
       "      <td>95068</td>\n",
       "      <td>71144</td>\n",
       "      <td>297.375021</td>\n",
       "      <td>45151.0</td>\n",
       "      <td>JOR</td>\n",
       "    </tr>\n",
       "    <tr>\n",
       "      <th>46</th>\n",
       "      <td>90</td>\n",
       "      <td>Kazakhstan</td>\n",
       "      <td>18194</td>\n",
       "      <td>23166</td>\n",
       "      <td>29032</td>\n",
       "      <td>38543</td>\n",
       "      <td>44144</td>\n",
       "      <td>46613</td>\n",
       "      <td>48136</td>\n",
       "      <td>60634</td>\n",
       "      <td>93406</td>\n",
       "      <td>75212</td>\n",
       "      <td>413.389029</td>\n",
       "      <td>44652.0</td>\n",
       "      <td>KAZ</td>\n",
       "    </tr>\n",
       "    <tr>\n",
       "      <th>47</th>\n",
       "      <td>183</td>\n",
       "      <td>Syria</td>\n",
       "      <td>15027</td>\n",
       "      <td>17957</td>\n",
       "      <td>18749</td>\n",
       "      <td>21804</td>\n",
       "      <td>33476</td>\n",
       "      <td>50659</td>\n",
       "      <td>79094</td>\n",
       "      <td>83828</td>\n",
       "      <td>80166</td>\n",
       "      <td>65139</td>\n",
       "      <td>433.479736</td>\n",
       "      <td>44529.0</td>\n",
       "      <td>SYR</td>\n",
       "    </tr>\n",
       "    <tr>\n",
       "      <th>48</th>\n",
       "      <td>84</td>\n",
       "      <td>Iraq</td>\n",
       "      <td>20955</td>\n",
       "      <td>20263</td>\n",
       "      <td>18940</td>\n",
       "      <td>20681</td>\n",
       "      <td>23418</td>\n",
       "      <td>26402</td>\n",
       "      <td>47444</td>\n",
       "      <td>76294</td>\n",
       "      <td>145710</td>\n",
       "      <td>124755</td>\n",
       "      <td>595.347173</td>\n",
       "      <td>44456.0</td>\n",
       "      <td>IRQ</td>\n",
       "    </tr>\n",
       "    <tr>\n",
       "      <th>49</th>\n",
       "      <td>87</td>\n",
       "      <td>Italy</td>\n",
       "      <td>21734</td>\n",
       "      <td>28464</td>\n",
       "      <td>30371</td>\n",
       "      <td>35452</td>\n",
       "      <td>46633</td>\n",
       "      <td>48958</td>\n",
       "      <td>60214</td>\n",
       "      <td>60599</td>\n",
       "      <td>60905</td>\n",
       "      <td>39171</td>\n",
       "      <td>180.229134</td>\n",
       "      <td>43703.0</td>\n",
       "      <td>ITA</td>\n",
       "    </tr>\n",
       "    <tr>\n",
       "      <th>50</th>\n",
       "      <td>11</td>\n",
       "      <td>Azerbaijan</td>\n",
       "      <td>16319</td>\n",
       "      <td>19741</td>\n",
       "      <td>22576</td>\n",
       "      <td>25440</td>\n",
       "      <td>27434</td>\n",
       "      <td>29321</td>\n",
       "      <td>54193</td>\n",
       "      <td>72993</td>\n",
       "      <td>124051</td>\n",
       "      <td>107732</td>\n",
       "      <td>660.163000</td>\n",
       "      <td>43563.0</td>\n",
       "      <td>AZE</td>\n",
       "    </tr>\n",
       "    <tr>\n",
       "      <th>51</th>\n",
       "      <td>161</td>\n",
       "      <td>Saudi Arabia</td>\n",
       "      <td>14272</td>\n",
       "      <td>20647</td>\n",
       "      <td>26646</td>\n",
       "      <td>29128</td>\n",
       "      <td>36007</td>\n",
       "      <td>45214</td>\n",
       "      <td>58892</td>\n",
       "      <td>65913</td>\n",
       "      <td>93060</td>\n",
       "      <td>78788</td>\n",
       "      <td>552.045964</td>\n",
       "      <td>43309.0</td>\n",
       "      <td>SAU</td>\n",
       "    </tr>\n",
       "    <tr>\n",
       "      <th>52</th>\n",
       "      <td>145</td>\n",
       "      <td>Poland</td>\n",
       "      <td>0</td>\n",
       "      <td>0</td>\n",
       "      <td>0</td>\n",
       "      <td>0</td>\n",
       "      <td>77563</td>\n",
       "      <td>65774</td>\n",
       "      <td>80056</td>\n",
       "      <td>73281</td>\n",
       "      <td>79002</td>\n",
       "      <td>79002</td>\n",
       "      <td>0.000000</td>\n",
       "      <td>41742.0</td>\n",
       "      <td>POL</td>\n",
       "    </tr>\n",
       "    <tr>\n",
       "      <th>53</th>\n",
       "      <td>185</td>\n",
       "      <td>Tajikistan</td>\n",
       "      <td>9542</td>\n",
       "      <td>12679</td>\n",
       "      <td>18917</td>\n",
       "      <td>24489</td>\n",
       "      <td>28762</td>\n",
       "      <td>34672</td>\n",
       "      <td>39194</td>\n",
       "      <td>70339</td>\n",
       "      <td>122178</td>\n",
       "      <td>112636</td>\n",
       "      <td>1180.423391</td>\n",
       "      <td>40086.0</td>\n",
       "      <td>TJK</td>\n",
       "    </tr>\n",
       "    <tr>\n",
       "      <th>54</th>\n",
       "      <td>162</td>\n",
       "      <td>Senegal</td>\n",
       "      <td>26194</td>\n",
       "      <td>24544</td>\n",
       "      <td>16879</td>\n",
       "      <td>26426</td>\n",
       "      <td>47574</td>\n",
       "      <td>39341</td>\n",
       "      <td>46203</td>\n",
       "      <td>62201</td>\n",
       "      <td>60312</td>\n",
       "      <td>34118</td>\n",
       "      <td>130.251203</td>\n",
       "      <td>38853.0</td>\n",
       "      <td>SEN</td>\n",
       "    </tr>\n",
       "    <tr>\n",
       "      <th>55</th>\n",
       "      <td>98</td>\n",
       "      <td>Lebanon</td>\n",
       "      <td>27639</td>\n",
       "      <td>32753</td>\n",
       "      <td>31594</td>\n",
       "      <td>30797</td>\n",
       "      <td>36080</td>\n",
       "      <td>34780</td>\n",
       "      <td>40602</td>\n",
       "      <td>42494</td>\n",
       "      <td>41002</td>\n",
       "      <td>13363</td>\n",
       "      <td>48.348348</td>\n",
       "      <td>35305.0</td>\n",
       "      <td>LBN</td>\n",
       "    </tr>\n",
       "    <tr>\n",
       "      <th>56</th>\n",
       "      <td>197</td>\n",
       "      <td>Uganda</td>\n",
       "      <td>19957</td>\n",
       "      <td>22062</td>\n",
       "      <td>24851</td>\n",
       "      <td>27702</td>\n",
       "      <td>30022</td>\n",
       "      <td>37506</td>\n",
       "      <td>41512</td>\n",
       "      <td>46327</td>\n",
       "      <td>53967</td>\n",
       "      <td>34010</td>\n",
       "      <td>170.416395</td>\n",
       "      <td>33767.0</td>\n",
       "      <td>UGA</td>\n",
       "    </tr>\n",
       "    <tr>\n",
       "      <th>57</th>\n",
       "      <td>152</td>\n",
       "      <td>Rwanda</td>\n",
       "      <td>7264</td>\n",
       "      <td>10809</td>\n",
       "      <td>20524</td>\n",
       "      <td>20413</td>\n",
       "      <td>23595</td>\n",
       "      <td>37179</td>\n",
       "      <td>49056</td>\n",
       "      <td>52111</td>\n",
       "      <td>67675</td>\n",
       "      <td>60411</td>\n",
       "      <td>831.649229</td>\n",
       "      <td>32070.0</td>\n",
       "      <td>RWA</td>\n",
       "    </tr>\n",
       "    <tr>\n",
       "      <th>58</th>\n",
       "      <td>163</td>\n",
       "      <td>Serbia</td>\n",
       "      <td>16234</td>\n",
       "      <td>18298</td>\n",
       "      <td>19180</td>\n",
       "      <td>21864</td>\n",
       "      <td>33510</td>\n",
       "      <td>27385</td>\n",
       "      <td>43060</td>\n",
       "      <td>50180</td>\n",
       "      <td>53613</td>\n",
       "      <td>37379</td>\n",
       "      <td>230.251324</td>\n",
       "      <td>31480.0</td>\n",
       "      <td>SRB</td>\n",
       "    </tr>\n",
       "    <tr>\n",
       "      <th>59</th>\n",
       "      <td>82</td>\n",
       "      <td>Indonesia</td>\n",
       "      <td>44739</td>\n",
       "      <td>32482</td>\n",
       "      <td>29949</td>\n",
       "      <td>27908</td>\n",
       "      <td>26255</td>\n",
       "      <td>22230</td>\n",
       "      <td>27174</td>\n",
       "      <td>27806</td>\n",
       "      <td>28072</td>\n",
       "      <td>-16667</td>\n",
       "      <td>-37.253850</td>\n",
       "      <td>29624.0</td>\n",
       "      <td>IDN</td>\n",
       "    </tr>\n",
       "    <tr>\n",
       "      <th>60</th>\n",
       "      <td>95</td>\n",
       "      <td>Kyrgyzstan</td>\n",
       "      <td>9851</td>\n",
       "      <td>12387</td>\n",
       "      <td>17351</td>\n",
       "      <td>18953</td>\n",
       "      <td>23918</td>\n",
       "      <td>27427</td>\n",
       "      <td>31314</td>\n",
       "      <td>43364</td>\n",
       "      <td>72350</td>\n",
       "      <td>62499</td>\n",
       "      <td>634.443204</td>\n",
       "      <td>28546.0</td>\n",
       "      <td>KGZ</td>\n",
       "    </tr>\n",
       "    <tr>\n",
       "      <th>61</th>\n",
       "      <td>121</td>\n",
       "      <td>Mongolia</td>\n",
       "      <td>25427</td>\n",
       "      <td>40335</td>\n",
       "      <td>27866</td>\n",
       "      <td>19538</td>\n",
       "      <td>14780</td>\n",
       "      <td>17998</td>\n",
       "      <td>26013</td>\n",
       "      <td>37355</td>\n",
       "      <td>34788</td>\n",
       "      <td>9361</td>\n",
       "      <td>36.815196</td>\n",
       "      <td>27122.0</td>\n",
       "      <td>MNG</td>\n",
       "    </tr>\n",
       "    <tr>\n",
       "      <th>62</th>\n",
       "      <td>106</td>\n",
       "      <td>Macedonia</td>\n",
       "      <td>12245</td>\n",
       "      <td>13910</td>\n",
       "      <td>12432</td>\n",
       "      <td>18669</td>\n",
       "      <td>21565</td>\n",
       "      <td>33730</td>\n",
       "      <td>32252</td>\n",
       "      <td>43180</td>\n",
       "      <td>47228</td>\n",
       "      <td>34983</td>\n",
       "      <td>285.692119</td>\n",
       "      <td>26135.0</td>\n",
       "      <td>MKD</td>\n",
       "    </tr>\n",
       "    <tr>\n",
       "      <th>63</th>\n",
       "      <td>106</td>\n",
       "      <td>Macedonia</td>\n",
       "      <td>12245</td>\n",
       "      <td>13910</td>\n",
       "      <td>12432</td>\n",
       "      <td>18669</td>\n",
       "      <td>21565</td>\n",
       "      <td>33730</td>\n",
       "      <td>32252</td>\n",
       "      <td>43180</td>\n",
       "      <td>47228</td>\n",
       "      <td>34983</td>\n",
       "      <td>285.692119</td>\n",
       "      <td>26135.0</td>\n",
       "      <td>MKD</td>\n",
       "    </tr>\n",
       "    <tr>\n",
       "      <th>64</th>\n",
       "      <td>86</td>\n",
       "      <td>Israel</td>\n",
       "      <td>19239</td>\n",
       "      <td>20223</td>\n",
       "      <td>20854</td>\n",
       "      <td>21501</td>\n",
       "      <td>23968</td>\n",
       "      <td>24115</td>\n",
       "      <td>29510</td>\n",
       "      <td>32752</td>\n",
       "      <td>37143</td>\n",
       "      <td>17904</td>\n",
       "      <td>93.060970</td>\n",
       "      <td>25478.0</td>\n",
       "      <td>ISR</td>\n",
       "    </tr>\n",
       "    <tr>\n",
       "      <th>65</th>\n",
       "      <td>171</td>\n",
       "      <td>Somalia</td>\n",
       "      <td>15333</td>\n",
       "      <td>15360</td>\n",
       "      <td>14805</td>\n",
       "      <td>13788</td>\n",
       "      <td>12778</td>\n",
       "      <td>17571</td>\n",
       "      <td>28387</td>\n",
       "      <td>35399</td>\n",
       "      <td>60579</td>\n",
       "      <td>45246</td>\n",
       "      <td>295.089024</td>\n",
       "      <td>23778.0</td>\n",
       "      <td>SOM</td>\n",
       "    </tr>\n",
       "    <tr>\n",
       "      <th>66</th>\n",
       "      <td>93</td>\n",
       "      <td>Kosovo</td>\n",
       "      <td>9824</td>\n",
       "      <td>10552</td>\n",
       "      <td>11898</td>\n",
       "      <td>15665</td>\n",
       "      <td>13832</td>\n",
       "      <td>18792</td>\n",
       "      <td>31875</td>\n",
       "      <td>46664</td>\n",
       "      <td>51819</td>\n",
       "      <td>41995</td>\n",
       "      <td>427.473534</td>\n",
       "      <td>23436.0</td>\n",
       "      <td>XKX</td>\n",
       "    </tr>\n",
       "    <tr>\n",
       "      <th>67</th>\n",
       "      <td>52</td>\n",
       "      <td>Ecuador</td>\n",
       "      <td>0</td>\n",
       "      <td>0</td>\n",
       "      <td>0</td>\n",
       "      <td>0</td>\n",
       "      <td>0</td>\n",
       "      <td>0</td>\n",
       "      <td>0</td>\n",
       "      <td>0</td>\n",
       "      <td>198685</td>\n",
       "      <td>198685</td>\n",
       "      <td>0.000000</td>\n",
       "      <td>22076.0</td>\n",
       "      <td>ECU</td>\n",
       "    </tr>\n",
       "    <tr>\n",
       "      <th>68</th>\n",
       "      <td>103</td>\n",
       "      <td>Lithuania</td>\n",
       "      <td>9030</td>\n",
       "      <td>16937</td>\n",
       "      <td>23739</td>\n",
       "      <td>20449</td>\n",
       "      <td>20900</td>\n",
       "      <td>18735</td>\n",
       "      <td>20454</td>\n",
       "      <td>29475</td>\n",
       "      <td>30666</td>\n",
       "      <td>21636</td>\n",
       "      <td>239.601329</td>\n",
       "      <td>21154.0</td>\n",
       "      <td>LTU</td>\n",
       "    </tr>\n",
       "    <tr>\n",
       "      <th>69</th>\n",
       "      <td>174</td>\n",
       "      <td>Spain</td>\n",
       "      <td>8258</td>\n",
       "      <td>11893</td>\n",
       "      <td>12922</td>\n",
       "      <td>15632</td>\n",
       "      <td>24408</td>\n",
       "      <td>25099</td>\n",
       "      <td>30278</td>\n",
       "      <td>28107</td>\n",
       "      <td>27807</td>\n",
       "      <td>19549</td>\n",
       "      <td>236.728021</td>\n",
       "      <td>20489.0</td>\n",
       "      <td>ESP</td>\n",
       "    </tr>\n",
       "    <tr>\n",
       "      <th>70</th>\n",
       "      <td>9</td>\n",
       "      <td>Australia</td>\n",
       "      <td>12772</td>\n",
       "      <td>15509</td>\n",
       "      <td>17163</td>\n",
       "      <td>18117</td>\n",
       "      <td>21621</td>\n",
       "      <td>20579</td>\n",
       "      <td>24888</td>\n",
       "      <td>26704</td>\n",
       "      <td>26353</td>\n",
       "      <td>13581</td>\n",
       "      <td>106.334168</td>\n",
       "      <td>20412.0</td>\n",
       "      <td>AUS</td>\n",
       "    </tr>\n",
       "    <tr>\n",
       "      <th>71</th>\n",
       "      <td>27</td>\n",
       "      <td>Burkina Faso</td>\n",
       "      <td>9228</td>\n",
       "      <td>9993</td>\n",
       "      <td>12241</td>\n",
       "      <td>15633</td>\n",
       "      <td>15287</td>\n",
       "      <td>20715</td>\n",
       "      <td>24995</td>\n",
       "      <td>30673</td>\n",
       "      <td>40961</td>\n",
       "      <td>31733</td>\n",
       "      <td>343.877330</td>\n",
       "      <td>19970.0</td>\n",
       "      <td>BFA</td>\n",
       "    </tr>\n",
       "    <tr>\n",
       "      <th>72</th>\n",
       "      <td>101</td>\n",
       "      <td>Libya</td>\n",
       "      <td>6248</td>\n",
       "      <td>7578</td>\n",
       "      <td>8904</td>\n",
       "      <td>8992</td>\n",
       "      <td>10683</td>\n",
       "      <td>15874</td>\n",
       "      <td>25638</td>\n",
       "      <td>39842</td>\n",
       "      <td>49868</td>\n",
       "      <td>43620</td>\n",
       "      <td>698.143406</td>\n",
       "      <td>19292.0</td>\n",
       "      <td>LBY</td>\n",
       "    </tr>\n",
       "    <tr>\n",
       "      <th>73</th>\n",
       "      <td>94</td>\n",
       "      <td>Kuwait</td>\n",
       "      <td>10916</td>\n",
       "      <td>14272</td>\n",
       "      <td>15099</td>\n",
       "      <td>15351</td>\n",
       "      <td>18998</td>\n",
       "      <td>19137</td>\n",
       "      <td>23659</td>\n",
       "      <td>24024</td>\n",
       "      <td>29954</td>\n",
       "      <td>19038</td>\n",
       "      <td>174.404544</td>\n",
       "      <td>19046.0</td>\n",
       "      <td>KWT</td>\n",
       "    </tr>\n",
       "    <tr>\n",
       "      <th>74</th>\n",
       "      <td>80</td>\n",
       "      <td>Hungary</td>\n",
       "      <td>11215</td>\n",
       "      <td>15363</td>\n",
       "      <td>15503</td>\n",
       "      <td>17539</td>\n",
       "      <td>20995</td>\n",
       "      <td>20176</td>\n",
       "      <td>21500</td>\n",
       "      <td>21522</td>\n",
       "      <td>21931</td>\n",
       "      <td>10716</td>\n",
       "      <td>95.550602</td>\n",
       "      <td>18416.0</td>\n",
       "      <td>HUN</td>\n",
       "    </tr>\n",
       "    <tr>\n",
       "      <th>75</th>\n",
       "      <td>146</td>\n",
       "      <td>Peru</td>\n",
       "      <td>0</td>\n",
       "      <td>0</td>\n",
       "      <td>0</td>\n",
       "      <td>159943</td>\n",
       "      <td>0</td>\n",
       "      <td>0</td>\n",
       "      <td>0</td>\n",
       "      <td>0</td>\n",
       "      <td>0</td>\n",
       "      <td>0</td>\n",
       "      <td>0.000000</td>\n",
       "      <td>17771.0</td>\n",
       "      <td>PER</td>\n",
       "    </tr>\n",
       "    <tr>\n",
       "      <th>76</th>\n",
       "      <td>199</td>\n",
       "      <td>United Arab Emirates</td>\n",
       "      <td>7968</td>\n",
       "      <td>8644</td>\n",
       "      <td>10676</td>\n",
       "      <td>12044</td>\n",
       "      <td>13357</td>\n",
       "      <td>15696</td>\n",
       "      <td>19929</td>\n",
       "      <td>23330</td>\n",
       "      <td>28231</td>\n",
       "      <td>20263</td>\n",
       "      <td>254.304719</td>\n",
       "      <td>15542.0</td>\n",
       "      <td>ARE</td>\n",
       "    </tr>\n",
       "    <tr>\n",
       "      <th>77</th>\n",
       "      <td>6</td>\n",
       "      <td>Argentina</td>\n",
       "      <td>9821</td>\n",
       "      <td>12025</td>\n",
       "      <td>10936</td>\n",
       "      <td>10246</td>\n",
       "      <td>12853</td>\n",
       "      <td>12154</td>\n",
       "      <td>17727</td>\n",
       "      <td>18309</td>\n",
       "      <td>19811</td>\n",
       "      <td>9990</td>\n",
       "      <td>101.720802</td>\n",
       "      <td>13765.0</td>\n",
       "      <td>ARG</td>\n",
       "    </tr>\n",
       "    <tr>\n",
       "      <th>78</th>\n",
       "      <td>109</td>\n",
       "      <td>Malaysia</td>\n",
       "      <td>13056</td>\n",
       "      <td>13941</td>\n",
       "      <td>13544</td>\n",
       "      <td>13320</td>\n",
       "      <td>12880</td>\n",
       "      <td>12908</td>\n",
       "      <td>14041</td>\n",
       "      <td>14719</td>\n",
       "      <td>14619</td>\n",
       "      <td>1563</td>\n",
       "      <td>11.971507</td>\n",
       "      <td>13670.0</td>\n",
       "      <td>MYS</td>\n",
       "    </tr>\n",
       "    <tr>\n",
       "      <th>79</th>\n",
       "      <td>193</td>\n",
       "      <td>Tunisia</td>\n",
       "      <td>6645</td>\n",
       "      <td>6590</td>\n",
       "      <td>7621</td>\n",
       "      <td>8352</td>\n",
       "      <td>8522</td>\n",
       "      <td>11697</td>\n",
       "      <td>23533</td>\n",
       "      <td>24446</td>\n",
       "      <td>25587</td>\n",
       "      <td>18942</td>\n",
       "      <td>285.056433</td>\n",
       "      <td>13666.0</td>\n",
       "      <td>TUN</td>\n",
       "    </tr>\n",
       "    <tr>\n",
       "      <th>80</th>\n",
       "      <td>192</td>\n",
       "      <td>Trinidad and Tobago</td>\n",
       "      <td>12402</td>\n",
       "      <td>13551</td>\n",
       "      <td>15761</td>\n",
       "      <td>14502</td>\n",
       "      <td>15103</td>\n",
       "      <td>14348</td>\n",
       "      <td>12588</td>\n",
       "      <td>9151</td>\n",
       "      <td>11268</td>\n",
       "      <td>-1134</td>\n",
       "      <td>-9.143687</td>\n",
       "      <td>13186.0</td>\n",
       "      <td>TTO</td>\n",
       "    </tr>\n",
       "    <tr>\n",
       "      <th>81</th>\n",
       "      <td>195</td>\n",
       "      <td>Turkmenistan</td>\n",
       "      <td>5711</td>\n",
       "      <td>6738</td>\n",
       "      <td>9212</td>\n",
       "      <td>9886</td>\n",
       "      <td>11632</td>\n",
       "      <td>11966</td>\n",
       "      <td>12959</td>\n",
       "      <td>17609</td>\n",
       "      <td>29666</td>\n",
       "      <td>23955</td>\n",
       "      <td>419.453686</td>\n",
       "      <td>12820.0</td>\n",
       "      <td>TKM</td>\n",
       "    </tr>\n",
       "    <tr>\n",
       "      <th>82</th>\n",
       "      <td>78</td>\n",
       "      <td>Honduras</td>\n",
       "      <td>6007</td>\n",
       "      <td>9268</td>\n",
       "      <td>10799</td>\n",
       "      <td>9215</td>\n",
       "      <td>10598</td>\n",
       "      <td>9610</td>\n",
       "      <td>19427</td>\n",
       "      <td>14280</td>\n",
       "      <td>23912</td>\n",
       "      <td>17905</td>\n",
       "      <td>298.068920</td>\n",
       "      <td>12568.0</td>\n",
       "      <td>HND</td>\n",
       "    </tr>\n",
       "    <tr>\n",
       "      <th>83</th>\n",
       "      <td>59</td>\n",
       "      <td>Fiji</td>\n",
       "      <td>12677</td>\n",
       "      <td>12214</td>\n",
       "      <td>12884</td>\n",
       "      <td>10341</td>\n",
       "      <td>13729</td>\n",
       "      <td>10089</td>\n",
       "      <td>12967</td>\n",
       "      <td>12879</td>\n",
       "      <td>12373</td>\n",
       "      <td>-304</td>\n",
       "      <td>-2.398044</td>\n",
       "      <td>12239.0</td>\n",
       "      <td>FJI</td>\n",
       "    </tr>\n",
       "    <tr>\n",
       "      <th>84</th>\n",
       "      <td>182</td>\n",
       "      <td>Switzerland</td>\n",
       "      <td>10538</td>\n",
       "      <td>12194</td>\n",
       "      <td>11590</td>\n",
       "      <td>11569</td>\n",
       "      <td>13150</td>\n",
       "      <td>12300</td>\n",
       "      <td>12928</td>\n",
       "      <td>12366</td>\n",
       "      <td>11646</td>\n",
       "      <td>1108</td>\n",
       "      <td>10.514329</td>\n",
       "      <td>12031.0</td>\n",
       "      <td>CHE</td>\n",
       "    </tr>\n",
       "    <tr>\n",
       "      <th>85</th>\n",
       "      <td>29</td>\n",
       "      <td>Burundi</td>\n",
       "      <td>3516</td>\n",
       "      <td>3774</td>\n",
       "      <td>4280</td>\n",
       "      <td>6356</td>\n",
       "      <td>7731</td>\n",
       "      <td>10375</td>\n",
       "      <td>21886</td>\n",
       "      <td>20966</td>\n",
       "      <td>27108</td>\n",
       "      <td>23592</td>\n",
       "      <td>670.989761</td>\n",
       "      <td>11777.0</td>\n",
       "      <td>BDI</td>\n",
       "    </tr>\n",
       "    <tr>\n",
       "      <th>86</th>\n",
       "      <td>181</td>\n",
       "      <td>Sweden</td>\n",
       "      <td>8018</td>\n",
       "      <td>10346</td>\n",
       "      <td>10980</td>\n",
       "      <td>11724</td>\n",
       "      <td>13129</td>\n",
       "      <td>12385</td>\n",
       "      <td>13244</td>\n",
       "      <td>13118</td>\n",
       "      <td>12197</td>\n",
       "      <td>4179</td>\n",
       "      <td>52.120229</td>\n",
       "      <td>11682.0</td>\n",
       "      <td>SWE</td>\n",
       "    </tr>\n",
       "    <tr>\n",
       "      <th>87</th>\n",
       "      <td>209</td>\n",
       "      <td>Zimbabwe</td>\n",
       "      <td>6935</td>\n",
       "      <td>8956</td>\n",
       "      <td>8638</td>\n",
       "      <td>10100</td>\n",
       "      <td>10174</td>\n",
       "      <td>10427</td>\n",
       "      <td>13165</td>\n",
       "      <td>16006</td>\n",
       "      <td>19408</td>\n",
       "      <td>12473</td>\n",
       "      <td>179.855804</td>\n",
       "      <td>11534.0</td>\n",
       "      <td>ZWE</td>\n",
       "    </tr>\n",
       "    <tr>\n",
       "      <th>88</th>\n",
       "      <td>186</td>\n",
       "      <td>Tanzania</td>\n",
       "      <td>9463</td>\n",
       "      <td>10385</td>\n",
       "      <td>10075</td>\n",
       "      <td>12011</td>\n",
       "      <td>10870</td>\n",
       "      <td>10918</td>\n",
       "      <td>11924</td>\n",
       "      <td>13085</td>\n",
       "      <td>14176</td>\n",
       "      <td>4713</td>\n",
       "      <td>49.804502</td>\n",
       "      <td>11434.0</td>\n",
       "      <td>TZA</td>\n",
       "    </tr>\n",
       "    <tr>\n",
       "      <th>89</th>\n",
       "      <td>85</td>\n",
       "      <td>Ireland</td>\n",
       "      <td>10232</td>\n",
       "      <td>10518</td>\n",
       "      <td>11666</td>\n",
       "      <td>11470</td>\n",
       "      <td>12282</td>\n",
       "      <td>11278</td>\n",
       "      <td>11335</td>\n",
       "      <td>10105</td>\n",
       "      <td>9794</td>\n",
       "      <td>-438</td>\n",
       "      <td>-4.280688</td>\n",
       "      <td>10964.0</td>\n",
       "      <td>IRL</td>\n",
       "    </tr>\n",
       "    <tr>\n",
       "      <th>90</th>\n",
       "      <td>187</td>\n",
       "      <td>Thailand</td>\n",
       "      <td>10411</td>\n",
       "      <td>10412</td>\n",
       "      <td>9025</td>\n",
       "      <td>8187</td>\n",
       "      <td>8697</td>\n",
       "      <td>8152</td>\n",
       "      <td>13595</td>\n",
       "      <td>13733</td>\n",
       "      <td>12961</td>\n",
       "      <td>2550</td>\n",
       "      <td>24.493324</td>\n",
       "      <td>10575.0</td>\n",
       "      <td>THA</td>\n",
       "    </tr>\n",
       "    <tr>\n",
       "      <th>91</th>\n",
       "      <td>128</td>\n",
       "      <td>Netherlands</td>\n",
       "      <td>8125</td>\n",
       "      <td>9453</td>\n",
       "      <td>9889</td>\n",
       "      <td>9962</td>\n",
       "      <td>11155</td>\n",
       "      <td>10331</td>\n",
       "      <td>11575</td>\n",
       "      <td>11538</td>\n",
       "      <td>11167</td>\n",
       "      <td>3042</td>\n",
       "      <td>37.440000</td>\n",
       "      <td>10355.0</td>\n",
       "      <td>NLD</td>\n",
       "    </tr>\n",
       "    <tr>\n",
       "      <th>92</th>\n",
       "      <td>133</td>\n",
       "      <td>Niger</td>\n",
       "      <td>2658</td>\n",
       "      <td>5864</td>\n",
       "      <td>3459</td>\n",
       "      <td>3549</td>\n",
       "      <td>6485</td>\n",
       "      <td>22835</td>\n",
       "      <td>16227</td>\n",
       "      <td>13082</td>\n",
       "      <td>16648</td>\n",
       "      <td>13990</td>\n",
       "      <td>526.335591</td>\n",
       "      <td>10090.0</td>\n",
       "      <td>NER</td>\n",
       "    </tr>\n",
       "    <tr>\n",
       "      <th>93</th>\n",
       "      <td>111</td>\n",
       "      <td>Mali</td>\n",
       "      <td>6219</td>\n",
       "      <td>5611</td>\n",
       "      <td>5891</td>\n",
       "      <td>6276</td>\n",
       "      <td>8076</td>\n",
       "      <td>9974</td>\n",
       "      <td>11051</td>\n",
       "      <td>13183</td>\n",
       "      <td>16972</td>\n",
       "      <td>10753</td>\n",
       "      <td>172.905612</td>\n",
       "      <td>9250.0</td>\n",
       "      <td>MLI</td>\n",
       "    </tr>\n",
       "    <tr>\n",
       "      <th>94</th>\n",
       "      <td>70</td>\n",
       "      <td>Greece</td>\n",
       "      <td>3102</td>\n",
       "      <td>3801</td>\n",
       "      <td>4827</td>\n",
       "      <td>8103</td>\n",
       "      <td>11035</td>\n",
       "      <td>10990</td>\n",
       "      <td>11131</td>\n",
       "      <td>12401</td>\n",
       "      <td>13288</td>\n",
       "      <td>10186</td>\n",
       "      <td>328.368794</td>\n",
       "      <td>8742.0</td>\n",
       "      <td>GRC</td>\n",
       "    </tr>\n",
       "    <tr>\n",
       "      <th>95</th>\n",
       "      <td>22</td>\n",
       "      <td>Bosnia and Herzegovina</td>\n",
       "      <td>3637</td>\n",
       "      <td>4478</td>\n",
       "      <td>5946</td>\n",
       "      <td>6094</td>\n",
       "      <td>10356</td>\n",
       "      <td>12044</td>\n",
       "      <td>10450</td>\n",
       "      <td>12348</td>\n",
       "      <td>11538</td>\n",
       "      <td>7901</td>\n",
       "      <td>217.239483</td>\n",
       "      <td>8543.0</td>\n",
       "      <td>BIH</td>\n",
       "    </tr>\n",
       "    <tr>\n",
       "      <th>96</th>\n",
       "      <td>10</td>\n",
       "      <td>Austria</td>\n",
       "      <td>7991</td>\n",
       "      <td>8164</td>\n",
       "      <td>8139</td>\n",
       "      <td>8258</td>\n",
       "      <td>8832</td>\n",
       "      <td>7990</td>\n",
       "      <td>8658</td>\n",
       "      <td>9069</td>\n",
       "      <td>8905</td>\n",
       "      <td>914</td>\n",
       "      <td>11.437868</td>\n",
       "      <td>8445.0</td>\n",
       "      <td>AUT</td>\n",
       "    </tr>\n",
       "    <tr>\n",
       "      <th>97</th>\n",
       "      <td>4</td>\n",
       "      <td>Angola</td>\n",
       "      <td>1817</td>\n",
       "      <td>2330</td>\n",
       "      <td>3055</td>\n",
       "      <td>3578</td>\n",
       "      <td>5884</td>\n",
       "      <td>9198</td>\n",
       "      <td>11546</td>\n",
       "      <td>14859</td>\n",
       "      <td>22819</td>\n",
       "      <td>21002</td>\n",
       "      <td>1155.861310</td>\n",
       "      <td>8343.0</td>\n",
       "      <td>AGO</td>\n",
       "    </tr>\n",
       "    <tr>\n",
       "      <th>98</th>\n",
       "      <td>17</td>\n",
       "      <td>Belgium</td>\n",
       "      <td>5371</td>\n",
       "      <td>7018</td>\n",
       "      <td>7378</td>\n",
       "      <td>7227</td>\n",
       "      <td>8237</td>\n",
       "      <td>8368</td>\n",
       "      <td>9560</td>\n",
       "      <td>9622</td>\n",
       "      <td>9674</td>\n",
       "      <td>4303</td>\n",
       "      <td>80.115435</td>\n",
       "      <td>8051.0</td>\n",
       "      <td>BEL</td>\n",
       "    </tr>\n",
       "    <tr>\n",
       "      <th>99</th>\n",
       "      <td>97</td>\n",
       "      <td>Latvia</td>\n",
       "      <td>4457</td>\n",
       "      <td>9434</td>\n",
       "      <td>9596</td>\n",
       "      <td>8755</td>\n",
       "      <td>8603</td>\n",
       "      <td>7424</td>\n",
       "      <td>7304</td>\n",
       "      <td>7540</td>\n",
       "      <td>8723</td>\n",
       "      <td>4266</td>\n",
       "      <td>95.714606</td>\n",
       "      <td>7982.0</td>\n",
       "      <td>LVA</td>\n",
       "    </tr>\n",
       "    <tr>\n",
       "      <th>100</th>\n",
       "      <td>21</td>\n",
       "      <td>Bolivia</td>\n",
       "      <td>7543</td>\n",
       "      <td>7759</td>\n",
       "      <td>9167</td>\n",
       "      <td>8442</td>\n",
       "      <td>6519</td>\n",
       "      <td>5668</td>\n",
       "      <td>7901</td>\n",
       "      <td>7498</td>\n",
       "      <td>8662</td>\n",
       "      <td>1119</td>\n",
       "      <td>14.834946</td>\n",
       "      <td>7684.0</td>\n",
       "      <td>BOL</td>\n",
       "    </tr>\n",
       "    <tr>\n",
       "      <th>101</th>\n",
       "      <td>168</td>\n",
       "      <td>Slovakia</td>\n",
       "      <td>5866</td>\n",
       "      <td>6710</td>\n",
       "      <td>6442</td>\n",
       "      <td>7443</td>\n",
       "      <td>8200</td>\n",
       "      <td>7753</td>\n",
       "      <td>9088</td>\n",
       "      <td>8852</td>\n",
       "      <td>8688</td>\n",
       "      <td>2822</td>\n",
       "      <td>48.107740</td>\n",
       "      <td>7671.0</td>\n",
       "      <td>SVK</td>\n",
       "    </tr>\n",
       "    <tr>\n",
       "      <th>102</th>\n",
       "      <td>48</td>\n",
       "      <td>Czech Republic</td>\n",
       "      <td>5778</td>\n",
       "      <td>6749</td>\n",
       "      <td>6983</td>\n",
       "      <td>7027</td>\n",
       "      <td>8141</td>\n",
       "      <td>7811</td>\n",
       "      <td>8842</td>\n",
       "      <td>8920</td>\n",
       "      <td>8714</td>\n",
       "      <td>2936</td>\n",
       "      <td>50.813430</td>\n",
       "      <td>7663.0</td>\n",
       "      <td>CZE</td>\n",
       "    </tr>\n",
       "    <tr>\n",
       "      <th>103</th>\n",
       "      <td>74</td>\n",
       "      <td>Guatemala</td>\n",
       "      <td>0</td>\n",
       "      <td>0</td>\n",
       "      <td>0</td>\n",
       "      <td>0</td>\n",
       "      <td>13651</td>\n",
       "      <td>6998</td>\n",
       "      <td>9619</td>\n",
       "      <td>10242</td>\n",
       "      <td>18395</td>\n",
       "      <td>18395</td>\n",
       "      <td>0.000000</td>\n",
       "      <td>6545.0</td>\n",
       "      <td>GTM</td>\n",
       "    </tr>\n",
       "    <tr>\n",
       "      <th>104</th>\n",
       "      <td>132</td>\n",
       "      <td>Nicaragua</td>\n",
       "      <td>4392</td>\n",
       "      <td>8777</td>\n",
       "      <td>5751</td>\n",
       "      <td>6244</td>\n",
       "      <td>4827</td>\n",
       "      <td>3494</td>\n",
       "      <td>10132</td>\n",
       "      <td>5043</td>\n",
       "      <td>7189</td>\n",
       "      <td>2797</td>\n",
       "      <td>63.683971</td>\n",
       "      <td>6205.0</td>\n",
       "      <td>NIC</td>\n",
       "    </tr>\n",
       "    <tr>\n",
       "      <th>105</th>\n",
       "      <td>131</td>\n",
       "      <td>New Zealand</td>\n",
       "      <td>5025</td>\n",
       "      <td>5924</td>\n",
       "      <td>5707</td>\n",
       "      <td>5403</td>\n",
       "      <td>6549</td>\n",
       "      <td>6022</td>\n",
       "      <td>6770</td>\n",
       "      <td>6879</td>\n",
       "      <td>6581</td>\n",
       "      <td>1556</td>\n",
       "      <td>30.965174</td>\n",
       "      <td>6096.0</td>\n",
       "      <td>NZL</td>\n",
       "    </tr>\n",
       "    <tr>\n",
       "      <th>106</th>\n",
       "      <td>42</td>\n",
       "      <td>Costa Rica</td>\n",
       "      <td>4364</td>\n",
       "      <td>4928</td>\n",
       "      <td>4718</td>\n",
       "      <td>4365</td>\n",
       "      <td>6356</td>\n",
       "      <td>5707</td>\n",
       "      <td>8381</td>\n",
       "      <td>6971</td>\n",
       "      <td>8872</td>\n",
       "      <td>4508</td>\n",
       "      <td>103.299725</td>\n",
       "      <td>6074.0</td>\n",
       "      <td>CRI</td>\n",
       "    </tr>\n",
       "    <tr>\n",
       "      <th>107</th>\n",
       "      <td>44</td>\n",
       "      <td>Croatia</td>\n",
       "      <td>3744</td>\n",
       "      <td>5307</td>\n",
       "      <td>5523</td>\n",
       "      <td>5656</td>\n",
       "      <td>7925</td>\n",
       "      <td>6379</td>\n",
       "      <td>6930</td>\n",
       "      <td>6429</td>\n",
       "      <td>6267</td>\n",
       "      <td>2523</td>\n",
       "      <td>67.387821</td>\n",
       "      <td>6018.0</td>\n",
       "      <td>HRV</td>\n",
       "    </tr>\n",
       "    <tr>\n",
       "      <th>108</th>\n",
       "      <td>79</td>\n",
       "      <td>Hong Kong Special Administrative Region</td>\n",
       "      <td>7398</td>\n",
       "      <td>7500</td>\n",
       "      <td>6994</td>\n",
       "      <td>7336</td>\n",
       "      <td>10412</td>\n",
       "      <td>13917</td>\n",
       "      <td>0</td>\n",
       "      <td>0</td>\n",
       "      <td>0</td>\n",
       "      <td>-7398</td>\n",
       "      <td>0.000000</td>\n",
       "      <td>5951.0</td>\n",
       "      <td>HKG</td>\n",
       "    </tr>\n",
       "    <tr>\n",
       "      <th>109</th>\n",
       "      <td>50</td>\n",
       "      <td>Djibouti</td>\n",
       "      <td>1666</td>\n",
       "      <td>2012</td>\n",
       "      <td>2971</td>\n",
       "      <td>4423</td>\n",
       "      <td>4429</td>\n",
       "      <td>4905</td>\n",
       "      <td>8463</td>\n",
       "      <td>10496</td>\n",
       "      <td>14131</td>\n",
       "      <td>12465</td>\n",
       "      <td>748.199280</td>\n",
       "      <td>5944.0</td>\n",
       "      <td>DJI</td>\n",
       "    </tr>\n",
       "    <tr>\n",
       "      <th>110</th>\n",
       "      <td>166</td>\n",
       "      <td>Singapore</td>\n",
       "      <td>5225</td>\n",
       "      <td>5793</td>\n",
       "      <td>5503</td>\n",
       "      <td>5430</td>\n",
       "      <td>5682</td>\n",
       "      <td>5951</td>\n",
       "      <td>6385</td>\n",
       "      <td>5999</td>\n",
       "      <td>6153</td>\n",
       "      <td>928</td>\n",
       "      <td>17.760766</td>\n",
       "      <td>5791.0</td>\n",
       "      <td>SGP</td>\n",
       "    </tr>\n",
       "    <tr>\n",
       "      <th>111</th>\n",
       "      <td>60</td>\n",
       "      <td>Finland</td>\n",
       "      <td>3884</td>\n",
       "      <td>5181</td>\n",
       "      <td>5154</td>\n",
       "      <td>5961</td>\n",
       "      <td>6384</td>\n",
       "      <td>6105</td>\n",
       "      <td>6795</td>\n",
       "      <td>6474</td>\n",
       "      <td>6072</td>\n",
       "      <td>2188</td>\n",
       "      <td>56.333677</td>\n",
       "      <td>5779.0</td>\n",
       "      <td>FIN</td>\n",
       "    </tr>\n",
       "    <tr>\n",
       "      <th>112</th>\n",
       "      <td>35</td>\n",
       "      <td>Chile</td>\n",
       "      <td>3178</td>\n",
       "      <td>4460</td>\n",
       "      <td>4164</td>\n",
       "      <td>3420</td>\n",
       "      <td>3559</td>\n",
       "      <td>3420</td>\n",
       "      <td>5398</td>\n",
       "      <td>7704</td>\n",
       "      <td>15752</td>\n",
       "      <td>12574</td>\n",
       "      <td>395.657646</td>\n",
       "      <td>5673.0</td>\n",
       "      <td>CHL</td>\n",
       "    </tr>\n",
       "    <tr>\n",
       "      <th>113</th>\n",
       "      <td>208</td>\n",
       "      <td>Zambia</td>\n",
       "      <td>4625</td>\n",
       "      <td>5077</td>\n",
       "      <td>5418</td>\n",
       "      <td>5673</td>\n",
       "      <td>5267</td>\n",
       "      <td>5071</td>\n",
       "      <td>5361</td>\n",
       "      <td>5465</td>\n",
       "      <td>7393</td>\n",
       "      <td>2768</td>\n",
       "      <td>59.848649</td>\n",
       "      <td>5483.0</td>\n",
       "      <td>ZMB</td>\n",
       "    </tr>\n",
       "    <tr>\n",
       "      <th>114</th>\n",
       "      <td>147</td>\n",
       "      <td>Portugal</td>\n",
       "      <td>3066</td>\n",
       "      <td>3787</td>\n",
       "      <td>3856</td>\n",
       "      <td>4215</td>\n",
       "      <td>7535</td>\n",
       "      <td>5267</td>\n",
       "      <td>5940</td>\n",
       "      <td>6055</td>\n",
       "      <td>6147</td>\n",
       "      <td>3081</td>\n",
       "      <td>100.489237</td>\n",
       "      <td>5096.0</td>\n",
       "      <td>PRT</td>\n",
       "    </tr>\n",
       "    <tr>\n",
       "      <th>115</th>\n",
       "      <td>49</td>\n",
       "      <td>Denmark</td>\n",
       "      <td>3545</td>\n",
       "      <td>4217</td>\n",
       "      <td>4527</td>\n",
       "      <td>5070</td>\n",
       "      <td>5389</td>\n",
       "      <td>5055</td>\n",
       "      <td>5205</td>\n",
       "      <td>4840</td>\n",
       "      <td>4798</td>\n",
       "      <td>1253</td>\n",
       "      <td>35.345557</td>\n",
       "      <td>4738.0</td>\n",
       "      <td>DNK</td>\n",
       "    </tr>\n",
       "    <tr>\n",
       "      <th>116</th>\n",
       "      <td>148</td>\n",
       "      <td>Qatar</td>\n",
       "      <td>1998</td>\n",
       "      <td>2840</td>\n",
       "      <td>3128</td>\n",
       "      <td>3135</td>\n",
       "      <td>3799</td>\n",
       "      <td>4205</td>\n",
       "      <td>5776</td>\n",
       "      <td>7381</td>\n",
       "      <td>8728</td>\n",
       "      <td>6730</td>\n",
       "      <td>336.836837</td>\n",
       "      <td>4554.0</td>\n",
       "      <td>QAT</td>\n",
       "    </tr>\n",
       "    <tr>\n",
       "      <th>117</th>\n",
       "      <td>34</td>\n",
       "      <td>Chad</td>\n",
       "      <td>2020</td>\n",
       "      <td>2312</td>\n",
       "      <td>2174</td>\n",
       "      <td>3010</td>\n",
       "      <td>2983</td>\n",
       "      <td>7560</td>\n",
       "      <td>4877</td>\n",
       "      <td>5761</td>\n",
       "      <td>9280</td>\n",
       "      <td>7260</td>\n",
       "      <td>359.405941</td>\n",
       "      <td>4442.0</td>\n",
       "      <td>TCD</td>\n",
       "    </tr>\n",
       "    <tr>\n",
       "      <th>118</th>\n",
       "      <td>66</td>\n",
       "      <td>Gambia</td>\n",
       "      <td>6124</td>\n",
       "      <td>4850</td>\n",
       "      <td>8859</td>\n",
       "      <td>6224</td>\n",
       "      <td>4620</td>\n",
       "      <td>6125</td>\n",
       "      <td>0</td>\n",
       "      <td>0</td>\n",
       "      <td>0</td>\n",
       "      <td>-6124</td>\n",
       "      <td>0.000000</td>\n",
       "      <td>4089.0</td>\n",
       "      <td>GMB</td>\n",
       "    </tr>\n",
       "    <tr>\n",
       "      <th>119</th>\n",
       "      <td>56</td>\n",
       "      <td>Estonia</td>\n",
       "      <td>2701</td>\n",
       "      <td>3577</td>\n",
       "      <td>4088</td>\n",
       "      <td>4140</td>\n",
       "      <td>4680</td>\n",
       "      <td>3991</td>\n",
       "      <td>4167</td>\n",
       "      <td>4118</td>\n",
       "      <td>4417</td>\n",
       "      <td>1716</td>\n",
       "      <td>63.532025</td>\n",
       "      <td>3987.0</td>\n",
       "      <td>EST</td>\n",
       "    </tr>\n",
       "    <tr>\n",
       "      <th>120</th>\n",
       "      <td>139</td>\n",
       "      <td>Norway</td>\n",
       "      <td>2695</td>\n",
       "      <td>3711</td>\n",
       "      <td>3934</td>\n",
       "      <td>4012</td>\n",
       "      <td>4468</td>\n",
       "      <td>3856</td>\n",
       "      <td>4218</td>\n",
       "      <td>4337</td>\n",
       "      <td>3785</td>\n",
       "      <td>1090</td>\n",
       "      <td>40.445269</td>\n",
       "      <td>3891.0</td>\n",
       "      <td>NOR</td>\n",
       "    </tr>\n",
       "    <tr>\n",
       "      <th>121</th>\n",
       "      <td>65</td>\n",
       "      <td>Gabon</td>\n",
       "      <td>1791</td>\n",
       "      <td>1964</td>\n",
       "      <td>2421</td>\n",
       "      <td>2594</td>\n",
       "      <td>2739</td>\n",
       "      <td>3645</td>\n",
       "      <td>4612</td>\n",
       "      <td>5689</td>\n",
       "      <td>7150</td>\n",
       "      <td>5359</td>\n",
       "      <td>299.218314</td>\n",
       "      <td>3623.0</td>\n",
       "      <td>GAB</td>\n",
       "    </tr>\n",
       "    <tr>\n",
       "      <th>122</th>\n",
       "      <td>107</td>\n",
       "      <td>Madagascar</td>\n",
       "      <td>1860</td>\n",
       "      <td>2883</td>\n",
       "      <td>1962</td>\n",
       "      <td>2599</td>\n",
       "      <td>2332</td>\n",
       "      <td>4606</td>\n",
       "      <td>5995</td>\n",
       "      <td>5558</td>\n",
       "      <td>4790</td>\n",
       "      <td>2930</td>\n",
       "      <td>157.526882</td>\n",
       "      <td>3621.0</td>\n",
       "      <td>MDG</td>\n",
       "    </tr>\n",
       "    <tr>\n",
       "      <th>123</th>\n",
       "      <td>12</td>\n",
       "      <td>Bahamas</td>\n",
       "      <td>2624</td>\n",
       "      <td>3793</td>\n",
       "      <td>3717</td>\n",
       "      <td>3356</td>\n",
       "      <td>3657</td>\n",
       "      <td>3585</td>\n",
       "      <td>4263</td>\n",
       "      <td>3581</td>\n",
       "      <td>3541</td>\n",
       "      <td>917</td>\n",
       "      <td>34.946646</td>\n",
       "      <td>3569.0</td>\n",
       "      <td>BHS</td>\n",
       "    </tr>\n",
       "    <tr>\n",
       "      <th>124</th>\n",
       "      <td>77</td>\n",
       "      <td>Guyana</td>\n",
       "      <td>3198</td>\n",
       "      <td>3244</td>\n",
       "      <td>3199</td>\n",
       "      <td>3770</td>\n",
       "      <td>3576</td>\n",
       "      <td>3269</td>\n",
       "      <td>3303</td>\n",
       "      <td>2866</td>\n",
       "      <td>3400</td>\n",
       "      <td>202</td>\n",
       "      <td>6.316448</td>\n",
       "      <td>3314.0</td>\n",
       "      <td>GUY</td>\n",
       "    </tr>\n",
       "    <tr>\n",
       "      <th>125</th>\n",
       "      <td>116</td>\n",
       "      <td>Mauritius</td>\n",
       "      <td>2652</td>\n",
       "      <td>3192</td>\n",
       "      <td>2833</td>\n",
       "      <td>3747</td>\n",
       "      <td>3370</td>\n",
       "      <td>3000</td>\n",
       "      <td>3758</td>\n",
       "      <td>3999</td>\n",
       "      <td>2761</td>\n",
       "      <td>109</td>\n",
       "      <td>4.110106</td>\n",
       "      <td>3257.0</td>\n",
       "      <td>MUS</td>\n",
       "    </tr>\n",
       "    <tr>\n",
       "      <th>126</th>\n",
       "      <td>115</td>\n",
       "      <td>Mauritania</td>\n",
       "      <td>1396</td>\n",
       "      <td>1455</td>\n",
       "      <td>1757</td>\n",
       "      <td>2139</td>\n",
       "      <td>2025</td>\n",
       "      <td>2510</td>\n",
       "      <td>2890</td>\n",
       "      <td>5111</td>\n",
       "      <td>7264</td>\n",
       "      <td>5868</td>\n",
       "      <td>420.343840</td>\n",
       "      <td>2950.0</td>\n",
       "      <td>MRT</td>\n",
       "    </tr>\n",
       "    <tr>\n",
       "      <th>127</th>\n",
       "      <td>13</td>\n",
       "      <td>Bahrain</td>\n",
       "      <td>2146</td>\n",
       "      <td>2883</td>\n",
       "      <td>3774</td>\n",
       "      <td>1804</td>\n",
       "      <td>2083</td>\n",
       "      <td>1996</td>\n",
       "      <td>2506</td>\n",
       "      <td>2664</td>\n",
       "      <td>3012</td>\n",
       "      <td>866</td>\n",
       "      <td>40.354147</td>\n",
       "      <td>2541.0</td>\n",
       "      <td>BHR</td>\n",
       "    </tr>\n",
       "    <tr>\n",
       "      <th>128</th>\n",
       "      <td>138</td>\n",
       "      <td>Northern Ireland</td>\n",
       "      <td>2371</td>\n",
       "      <td>2603</td>\n",
       "      <td>2560</td>\n",
       "      <td>2529</td>\n",
       "      <td>2560</td>\n",
       "      <td>2448</td>\n",
       "      <td>2463</td>\n",
       "      <td>2303</td>\n",
       "      <td>2077</td>\n",
       "      <td>-294</td>\n",
       "      <td>-12.399831</td>\n",
       "      <td>2435.0</td>\n",
       "      <td>GBR</td>\n",
       "    </tr>\n",
       "    <tr>\n",
       "      <th>129</th>\n",
       "      <td>81</td>\n",
       "      <td>Iceland</td>\n",
       "      <td>1661</td>\n",
       "      <td>2425</td>\n",
       "      <td>2467</td>\n",
       "      <td>2733</td>\n",
       "      <td>3370</td>\n",
       "      <td>2214</td>\n",
       "      <td>2576</td>\n",
       "      <td>2258</td>\n",
       "      <td>1904</td>\n",
       "      <td>243</td>\n",
       "      <td>14.629741</td>\n",
       "      <td>2401.0</td>\n",
       "      <td>ISL</td>\n",
       "    </tr>\n",
       "    <tr>\n",
       "      <th>130</th>\n",
       "      <td>200</td>\n",
       "      <td>Uruguay</td>\n",
       "      <td>1674</td>\n",
       "      <td>2106</td>\n",
       "      <td>1877</td>\n",
       "      <td>1754</td>\n",
       "      <td>1931</td>\n",
       "      <td>1983</td>\n",
       "      <td>2935</td>\n",
       "      <td>3663</td>\n",
       "      <td>3059</td>\n",
       "      <td>1385</td>\n",
       "      <td>82.735962</td>\n",
       "      <td>2331.0</td>\n",
       "      <td>URY</td>\n",
       "    </tr>\n",
       "    <tr>\n",
       "      <th>131</th>\n",
       "      <td>142</td>\n",
       "      <td>Panama</td>\n",
       "      <td>2061</td>\n",
       "      <td>2772</td>\n",
       "      <td>2423</td>\n",
       "      <td>2039</td>\n",
       "      <td>2006</td>\n",
       "      <td>1721</td>\n",
       "      <td>2183</td>\n",
       "      <td>2188</td>\n",
       "      <td>2712</td>\n",
       "      <td>651</td>\n",
       "      <td>31.586608</td>\n",
       "      <td>2234.0</td>\n",
       "      <td>PAN</td>\n",
       "    </tr>\n",
       "    <tr>\n",
       "      <th>132</th>\n",
       "      <td>108</td>\n",
       "      <td>Malawi</td>\n",
       "      <td>1649</td>\n",
       "      <td>1684</td>\n",
       "      <td>1731</td>\n",
       "      <td>2089</td>\n",
       "      <td>2346</td>\n",
       "      <td>1982</td>\n",
       "      <td>2015</td>\n",
       "      <td>2201</td>\n",
       "      <td>2660</td>\n",
       "      <td>1011</td>\n",
       "      <td>61.309885</td>\n",
       "      <td>2040.0</td>\n",
       "      <td>MWI</td>\n",
       "    </tr>\n",
       "    <tr>\n",
       "      <th>133</th>\n",
       "      <td>20</td>\n",
       "      <td>Bhutan</td>\n",
       "      <td>752</td>\n",
       "      <td>764</td>\n",
       "      <td>890</td>\n",
       "      <td>953</td>\n",
       "      <td>1102</td>\n",
       "      <td>2418</td>\n",
       "      <td>3112</td>\n",
       "      <td>4223</td>\n",
       "      <td>4021</td>\n",
       "      <td>3269</td>\n",
       "      <td>434.707447</td>\n",
       "      <td>2026.0</td>\n",
       "      <td>BTN</td>\n",
       "    </tr>\n",
       "    <tr>\n",
       "      <th>134</th>\n",
       "      <td>122</td>\n",
       "      <td>Montenegro</td>\n",
       "      <td>899</td>\n",
       "      <td>881</td>\n",
       "      <td>970</td>\n",
       "      <td>1007</td>\n",
       "      <td>1476</td>\n",
       "      <td>1623</td>\n",
       "      <td>2128</td>\n",
       "      <td>3192</td>\n",
       "      <td>3834</td>\n",
       "      <td>2935</td>\n",
       "      <td>326.473860</td>\n",
       "      <td>1779.0</td>\n",
       "      <td>MNE</td>\n",
       "    </tr>\n",
       "    <tr>\n",
       "      <th>135</th>\n",
       "      <td>15</td>\n",
       "      <td>Barbados</td>\n",
       "      <td>1750</td>\n",
       "      <td>2804</td>\n",
       "      <td>3967</td>\n",
       "      <td>1101</td>\n",
       "      <td>1174</td>\n",
       "      <td>981</td>\n",
       "      <td>1084</td>\n",
       "      <td>1077</td>\n",
       "      <td>991</td>\n",
       "      <td>-759</td>\n",
       "      <td>-43.371429</td>\n",
       "      <td>1659.0</td>\n",
       "      <td>BRB</td>\n",
       "    </tr>\n",
       "    <tr>\n",
       "      <th>136</th>\n",
       "      <td>33</td>\n",
       "      <td>Central African Republic</td>\n",
       "      <td>837</td>\n",
       "      <td>1006</td>\n",
       "      <td>976</td>\n",
       "      <td>995</td>\n",
       "      <td>2365</td>\n",
       "      <td>1846</td>\n",
       "      <td>2091</td>\n",
       "      <td>1858</td>\n",
       "      <td>2616</td>\n",
       "      <td>1779</td>\n",
       "      <td>212.544803</td>\n",
       "      <td>1621.0</td>\n",
       "      <td>CAF</td>\n",
       "    </tr>\n",
       "    <tr>\n",
       "      <th>137</th>\n",
       "      <td>191</td>\n",
       "      <td>Tonga</td>\n",
       "      <td>1692</td>\n",
       "      <td>1802</td>\n",
       "      <td>1470</td>\n",
       "      <td>1626</td>\n",
       "      <td>1344</td>\n",
       "      <td>1449</td>\n",
       "      <td>1702</td>\n",
       "      <td>1489</td>\n",
       "      <td>1685</td>\n",
       "      <td>-7</td>\n",
       "      <td>-0.413712</td>\n",
       "      <td>1584.0</td>\n",
       "      <td>TON</td>\n",
       "    </tr>\n",
       "    <tr>\n",
       "      <th>138</th>\n",
       "      <td>51</td>\n",
       "      <td>Dominica</td>\n",
       "      <td>1367</td>\n",
       "      <td>1697</td>\n",
       "      <td>1648</td>\n",
       "      <td>1602</td>\n",
       "      <td>1732</td>\n",
       "      <td>1454</td>\n",
       "      <td>1544</td>\n",
       "      <td>1443</td>\n",
       "      <td>1317</td>\n",
       "      <td>-50</td>\n",
       "      <td>-3.657644</td>\n",
       "      <td>1534.0</td>\n",
       "      <td>DMA</td>\n",
       "    </tr>\n",
       "    <tr>\n",
       "      <th>139</th>\n",
       "      <td>47</td>\n",
       "      <td>Cyprus</td>\n",
       "      <td>946</td>\n",
       "      <td>1224</td>\n",
       "      <td>1232</td>\n",
       "      <td>1341</td>\n",
       "      <td>1703</td>\n",
       "      <td>1685</td>\n",
       "      <td>1997</td>\n",
       "      <td>1782</td>\n",
       "      <td>1806</td>\n",
       "      <td>860</td>\n",
       "      <td>90.909091</td>\n",
       "      <td>1524.0</td>\n",
       "      <td>CYP</td>\n",
       "    </tr>\n",
       "    <tr>\n",
       "      <th>140</th>\n",
       "      <td>169</td>\n",
       "      <td>Slovenia</td>\n",
       "      <td>859</td>\n",
       "      <td>1168</td>\n",
       "      <td>1231</td>\n",
       "      <td>1291</td>\n",
       "      <td>1703</td>\n",
       "      <td>1735</td>\n",
       "      <td>1792</td>\n",
       "      <td>1753</td>\n",
       "      <td>1661</td>\n",
       "      <td>802</td>\n",
       "      <td>93.364377</td>\n",
       "      <td>1466.0</td>\n",
       "      <td>SVN</td>\n",
       "    </tr>\n",
       "    <tr>\n",
       "      <th>141</th>\n",
       "      <td>173</td>\n",
       "      <td>South Sudan</td>\n",
       "      <td>0</td>\n",
       "      <td>0</td>\n",
       "      <td>0</td>\n",
       "      <td>783</td>\n",
       "      <td>927</td>\n",
       "      <td>1264</td>\n",
       "      <td>2694</td>\n",
       "      <td>3173</td>\n",
       "      <td>4232</td>\n",
       "      <td>4232</td>\n",
       "      <td>0.000000</td>\n",
       "      <td>1453.0</td>\n",
       "      <td>SSD</td>\n",
       "    </tr>\n",
       "    <tr>\n",
       "      <th>142</th>\n",
       "      <td>32</td>\n",
       "      <td>Cape Verde</td>\n",
       "      <td>482</td>\n",
       "      <td>1826</td>\n",
       "      <td>699</td>\n",
       "      <td>1841</td>\n",
       "      <td>1392</td>\n",
       "      <td>828</td>\n",
       "      <td>1323</td>\n",
       "      <td>1390</td>\n",
       "      <td>2089</td>\n",
       "      <td>1607</td>\n",
       "      <td>333.402490</td>\n",
       "      <td>1319.0</td>\n",
       "      <td>CPV</td>\n",
       "    </tr>\n",
       "    <tr>\n",
       "      <th>143</th>\n",
       "      <td>140</td>\n",
       "      <td>Oman</td>\n",
       "      <td>590</td>\n",
       "      <td>757</td>\n",
       "      <td>868</td>\n",
       "      <td>848</td>\n",
       "      <td>1135</td>\n",
       "      <td>1146</td>\n",
       "      <td>1465</td>\n",
       "      <td>1791</td>\n",
       "      <td>2149</td>\n",
       "      <td>1559</td>\n",
       "      <td>264.237288</td>\n",
       "      <td>1194.0</td>\n",
       "      <td>OMN</td>\n",
       "    </tr>\n",
       "    <tr>\n",
       "      <th>144</th>\n",
       "      <td>72</td>\n",
       "      <td>Grenada</td>\n",
       "      <td>1013</td>\n",
       "      <td>1086</td>\n",
       "      <td>1207</td>\n",
       "      <td>1770</td>\n",
       "      <td>1334</td>\n",
       "      <td>1106</td>\n",
       "      <td>1007</td>\n",
       "      <td>1016</td>\n",
       "      <td>868</td>\n",
       "      <td>-145</td>\n",
       "      <td>-14.313919</td>\n",
       "      <td>1156.0</td>\n",
       "      <td>GRD</td>\n",
       "    </tr>\n",
       "    <tr>\n",
       "      <th>145</th>\n",
       "      <td>144</td>\n",
       "      <td>Paraguay</td>\n",
       "      <td>1042</td>\n",
       "      <td>1391</td>\n",
       "      <td>1223</td>\n",
       "      <td>1115</td>\n",
       "      <td>1038</td>\n",
       "      <td>793</td>\n",
       "      <td>1142</td>\n",
       "      <td>1049</td>\n",
       "      <td>1333</td>\n",
       "      <td>291</td>\n",
       "      <td>27.927063</td>\n",
       "      <td>1125.0</td>\n",
       "      <td>PRY</td>\n",
       "    </tr>\n",
       "    <tr>\n",
       "      <th>146</th>\n",
       "      <td>155</td>\n",
       "      <td>Saint Lucia</td>\n",
       "      <td>1182</td>\n",
       "      <td>1752</td>\n",
       "      <td>1667</td>\n",
       "      <td>1843</td>\n",
       "      <td>1839</td>\n",
       "      <td>1636</td>\n",
       "      <td>0</td>\n",
       "      <td>0</td>\n",
       "      <td>0</td>\n",
       "      <td>-1182</td>\n",
       "      <td>0.000000</td>\n",
       "      <td>1102.0</td>\n",
       "      <td>LCA</td>\n",
       "    </tr>\n",
       "    <tr>\n",
       "      <th>147</th>\n",
       "      <td>18</td>\n",
       "      <td>Belize</td>\n",
       "      <td>935</td>\n",
       "      <td>1103</td>\n",
       "      <td>1059</td>\n",
       "      <td>1233</td>\n",
       "      <td>1665</td>\n",
       "      <td>931</td>\n",
       "      <td>1175</td>\n",
       "      <td>737</td>\n",
       "      <td>930</td>\n",
       "      <td>-5</td>\n",
       "      <td>-0.534759</td>\n",
       "      <td>1085.0</td>\n",
       "      <td>BLZ</td>\n",
       "    </tr>\n",
       "    <tr>\n",
       "      <th>148</th>\n",
       "      <td>125</td>\n",
       "      <td>Namibia</td>\n",
       "      <td>837</td>\n",
       "      <td>1024</td>\n",
       "      <td>985</td>\n",
       "      <td>965</td>\n",
       "      <td>1033</td>\n",
       "      <td>1238</td>\n",
       "      <td>1069</td>\n",
       "      <td>1075</td>\n",
       "      <td>1036</td>\n",
       "      <td>199</td>\n",
       "      <td>23.775388</td>\n",
       "      <td>1029.0</td>\n",
       "      <td>NAM</td>\n",
       "    </tr>\n",
       "    <tr>\n",
       "      <th>149</th>\n",
       "      <td>178</td>\n",
       "      <td>Suriname</td>\n",
       "      <td>764</td>\n",
       "      <td>891</td>\n",
       "      <td>905</td>\n",
       "      <td>976</td>\n",
       "      <td>1047</td>\n",
       "      <td>884</td>\n",
       "      <td>936</td>\n",
       "      <td>1073</td>\n",
       "      <td>1323</td>\n",
       "      <td>559</td>\n",
       "      <td>73.167539</td>\n",
       "      <td>978.0</td>\n",
       "      <td>SUR</td>\n",
       "    </tr>\n",
       "    <tr>\n",
       "      <th>150</th>\n",
       "      <td>23</td>\n",
       "      <td>Botswana</td>\n",
       "      <td>824</td>\n",
       "      <td>1046</td>\n",
       "      <td>856</td>\n",
       "      <td>869</td>\n",
       "      <td>848</td>\n",
       "      <td>788</td>\n",
       "      <td>979</td>\n",
       "      <td>959</td>\n",
       "      <td>1195</td>\n",
       "      <td>371</td>\n",
       "      <td>45.024272</td>\n",
       "      <td>929.0</td>\n",
       "      <td>BWA</td>\n",
       "    </tr>\n",
       "    <tr>\n",
       "      <th>151</th>\n",
       "      <td>124</td>\n",
       "      <td>Mozambique</td>\n",
       "      <td>616</td>\n",
       "      <td>608</td>\n",
       "      <td>622</td>\n",
       "      <td>754</td>\n",
       "      <td>884</td>\n",
       "      <td>696</td>\n",
       "      <td>856</td>\n",
       "      <td>930</td>\n",
       "      <td>895</td>\n",
       "      <td>279</td>\n",
       "      <td>45.292208</td>\n",
       "      <td>762.0</td>\n",
       "      <td>MOZ</td>\n",
       "    </tr>\n",
       "    <tr>\n",
       "      <th>152</th>\n",
       "      <td>8</td>\n",
       "      <td>Aruba</td>\n",
       "      <td>1399</td>\n",
       "      <td>604</td>\n",
       "      <td>717</td>\n",
       "      <td>629</td>\n",
       "      <td>665</td>\n",
       "      <td>556</td>\n",
       "      <td>603</td>\n",
       "      <td>596</td>\n",
       "      <td>611</td>\n",
       "      <td>-788</td>\n",
       "      <td>-56.325947</td>\n",
       "      <td>709.0</td>\n",
       "      <td>ABW</td>\n",
       "    </tr>\n",
       "    <tr>\n",
       "      <th>153</th>\n",
       "      <td>5</td>\n",
       "      <td>Antigua and Barbuda</td>\n",
       "      <td>826</td>\n",
       "      <td>695</td>\n",
       "      <td>714</td>\n",
       "      <td>728</td>\n",
       "      <td>755</td>\n",
       "      <td>648</td>\n",
       "      <td>637</td>\n",
       "      <td>641</td>\n",
       "      <td>525</td>\n",
       "      <td>-301</td>\n",
       "      <td>-36.440678</td>\n",
       "      <td>685.0</td>\n",
       "      <td>ATG</td>\n",
       "    </tr>\n",
       "    <tr>\n",
       "      <th>154</th>\n",
       "      <td>76</td>\n",
       "      <td>Guinea-Bissau</td>\n",
       "      <td>331</td>\n",
       "      <td>371</td>\n",
       "      <td>387</td>\n",
       "      <td>566</td>\n",
       "      <td>397</td>\n",
       "      <td>505</td>\n",
       "      <td>1323</td>\n",
       "      <td>799</td>\n",
       "      <td>1355</td>\n",
       "      <td>1024</td>\n",
       "      <td>309.365559</td>\n",
       "      <td>670.0</td>\n",
       "      <td>GNB</td>\n",
       "    </tr>\n",
       "    <tr>\n",
       "      <th>155</th>\n",
       "      <td>54</td>\n",
       "      <td>Equatorial Guinea</td>\n",
       "      <td>480</td>\n",
       "      <td>565</td>\n",
       "      <td>605</td>\n",
       "      <td>574</td>\n",
       "      <td>608</td>\n",
       "      <td>577</td>\n",
       "      <td>728</td>\n",
       "      <td>852</td>\n",
       "      <td>1013</td>\n",
       "      <td>533</td>\n",
       "      <td>111.041667</td>\n",
       "      <td>667.0</td>\n",
       "      <td>GNQ</td>\n",
       "    </tr>\n",
       "    <tr>\n",
       "      <th>156</th>\n",
       "      <td>63</td>\n",
       "      <td>French Polynesia</td>\n",
       "      <td>346</td>\n",
       "      <td>544</td>\n",
       "      <td>588</td>\n",
       "      <td>611</td>\n",
       "      <td>704</td>\n",
       "      <td>579</td>\n",
       "      <td>665</td>\n",
       "      <td>587</td>\n",
       "      <td>556</td>\n",
       "      <td>210</td>\n",
       "      <td>60.693642</td>\n",
       "      <td>576.0</td>\n",
       "      <td>PYF</td>\n",
       "    </tr>\n",
       "    <tr>\n",
       "      <th>157</th>\n",
       "      <td>96</td>\n",
       "      <td>Laos</td>\n",
       "      <td>681</td>\n",
       "      <td>674</td>\n",
       "      <td>488</td>\n",
       "      <td>557</td>\n",
       "      <td>542</td>\n",
       "      <td>435</td>\n",
       "      <td>605</td>\n",
       "      <td>601</td>\n",
       "      <td>558</td>\n",
       "      <td>-123</td>\n",
       "      <td>-18.061674</td>\n",
       "      <td>571.0</td>\n",
       "      <td>LAO</td>\n",
       "    </tr>\n",
       "    <tr>\n",
       "      <th>158</th>\n",
       "      <td>38</td>\n",
       "      <td>Comoros</td>\n",
       "      <td>400</td>\n",
       "      <td>443</td>\n",
       "      <td>295</td>\n",
       "      <td>502</td>\n",
       "      <td>570</td>\n",
       "      <td>601</td>\n",
       "      <td>777</td>\n",
       "      <td>620</td>\n",
       "      <td>668</td>\n",
       "      <td>268</td>\n",
       "      <td>67.000000</td>\n",
       "      <td>542.0</td>\n",
       "      <td>COM</td>\n",
       "    </tr>\n",
       "    <tr>\n",
       "      <th>159</th>\n",
       "      <td>157</td>\n",
       "      <td>Saint Vincent and the Grenadines</td>\n",
       "      <td>662</td>\n",
       "      <td>834</td>\n",
       "      <td>840</td>\n",
       "      <td>885</td>\n",
       "      <td>871</td>\n",
       "      <td>763</td>\n",
       "      <td>0</td>\n",
       "      <td>0</td>\n",
       "      <td>0</td>\n",
       "      <td>-662</td>\n",
       "      <td>0.000000</td>\n",
       "      <td>539.0</td>\n",
       "      <td>VCT</td>\n",
       "    </tr>\n",
       "    <tr>\n",
       "      <th>160</th>\n",
       "      <td>105</td>\n",
       "      <td>Macau Special Administrative Region</td>\n",
       "      <td>605</td>\n",
       "      <td>607</td>\n",
       "      <td>837</td>\n",
       "      <td>623</td>\n",
       "      <td>906</td>\n",
       "      <td>1258</td>\n",
       "      <td>0</td>\n",
       "      <td>0</td>\n",
       "      <td>0</td>\n",
       "      <td>-605</td>\n",
       "      <td>0.000000</td>\n",
       "      <td>537.0</td>\n",
       "      <td>MAC</td>\n",
       "    </tr>\n",
       "    <tr>\n",
       "      <th>161</th>\n",
       "      <td>112</td>\n",
       "      <td>Malta</td>\n",
       "      <td>469</td>\n",
       "      <td>561</td>\n",
       "      <td>577</td>\n",
       "      <td>508</td>\n",
       "      <td>614</td>\n",
       "      <td>511</td>\n",
       "      <td>560</td>\n",
       "      <td>500</td>\n",
       "      <td>447</td>\n",
       "      <td>-22</td>\n",
       "      <td>-4.690832</td>\n",
       "      <td>527.0</td>\n",
       "      <td>MLT</td>\n",
       "    </tr>\n",
       "    <tr>\n",
       "      <th>162</th>\n",
       "      <td>104</td>\n",
       "      <td>Luxembourg</td>\n",
       "      <td>380</td>\n",
       "      <td>470</td>\n",
       "      <td>465</td>\n",
       "      <td>503</td>\n",
       "      <td>584</td>\n",
       "      <td>545</td>\n",
       "      <td>583</td>\n",
       "      <td>533</td>\n",
       "      <td>506</td>\n",
       "      <td>126</td>\n",
       "      <td>33.157895</td>\n",
       "      <td>508.0</td>\n",
       "      <td>LUX</td>\n",
       "    </tr>\n",
       "    <tr>\n",
       "      <th>163</th>\n",
       "      <td>46</td>\n",
       "      <td>Curacao</td>\n",
       "      <td>0</td>\n",
       "      <td>0</td>\n",
       "      <td>0</td>\n",
       "      <td>641</td>\n",
       "      <td>731</td>\n",
       "      <td>546</td>\n",
       "      <td>613</td>\n",
       "      <td>540</td>\n",
       "      <td>571</td>\n",
       "      <td>571</td>\n",
       "      <td>0.000000</td>\n",
       "      <td>405.0</td>\n",
       "      <td>CUW</td>\n",
       "    </tr>\n",
       "    <tr>\n",
       "      <th>164</th>\n",
       "      <td>158</td>\n",
       "      <td>Samoa</td>\n",
       "      <td>421</td>\n",
       "      <td>518</td>\n",
       "      <td>468</td>\n",
       "      <td>460</td>\n",
       "      <td>407</td>\n",
       "      <td>317</td>\n",
       "      <td>421</td>\n",
       "      <td>214</td>\n",
       "      <td>308</td>\n",
       "      <td>-113</td>\n",
       "      <td>-26.840855</td>\n",
       "      <td>393.0</td>\n",
       "      <td>WSM</td>\n",
       "    </tr>\n",
       "    <tr>\n",
       "      <th>165</th>\n",
       "      <td>154</td>\n",
       "      <td>Saint Kitts and Nevis</td>\n",
       "      <td>468</td>\n",
       "      <td>634</td>\n",
       "      <td>579</td>\n",
       "      <td>614</td>\n",
       "      <td>673</td>\n",
       "      <td>568</td>\n",
       "      <td>0</td>\n",
       "      <td>0</td>\n",
       "      <td>0</td>\n",
       "      <td>-468</td>\n",
       "      <td>0.000000</td>\n",
       "      <td>393.0</td>\n",
       "      <td>KNA</td>\n",
       "    </tr>\n",
       "    <tr>\n",
       "      <th>166</th>\n",
       "      <td>99</td>\n",
       "      <td>Lesotho</td>\n",
       "      <td>262</td>\n",
       "      <td>257</td>\n",
       "      <td>234</td>\n",
       "      <td>232</td>\n",
       "      <td>239</td>\n",
       "      <td>352</td>\n",
       "      <td>659</td>\n",
       "      <td>432</td>\n",
       "      <td>507</td>\n",
       "      <td>245</td>\n",
       "      <td>93.511450</td>\n",
       "      <td>353.0</td>\n",
       "      <td>LSO</td>\n",
       "    </tr>\n",
       "    <tr>\n",
       "      <th>167</th>\n",
       "      <td>180</td>\n",
       "      <td>Swaziland</td>\n",
       "      <td>238</td>\n",
       "      <td>269</td>\n",
       "      <td>286</td>\n",
       "      <td>355</td>\n",
       "      <td>370</td>\n",
       "      <td>326</td>\n",
       "      <td>434</td>\n",
       "      <td>379</td>\n",
       "      <td>461</td>\n",
       "      <td>223</td>\n",
       "      <td>93.697479</td>\n",
       "      <td>346.0</td>\n",
       "      <td>SWZ</td>\n",
       "    </tr>\n",
       "    <tr>\n",
       "      <th>168</th>\n",
       "      <td>110</td>\n",
       "      <td>Maldives</td>\n",
       "      <td>208</td>\n",
       "      <td>300</td>\n",
       "      <td>332</td>\n",
       "      <td>373</td>\n",
       "      <td>366</td>\n",
       "      <td>335</td>\n",
       "      <td>417</td>\n",
       "      <td>303</td>\n",
       "      <td>403</td>\n",
       "      <td>195</td>\n",
       "      <td>93.750000</td>\n",
       "      <td>337.0</td>\n",
       "      <td>MDV</td>\n",
       "    </tr>\n",
       "    <tr>\n",
       "      <th>169</th>\n",
       "      <td>129</td>\n",
       "      <td>Netherlands Antilles</td>\n",
       "      <td>770</td>\n",
       "      <td>998</td>\n",
       "      <td>1014</td>\n",
       "      <td>0</td>\n",
       "      <td>0</td>\n",
       "      <td>0</td>\n",
       "      <td>0</td>\n",
       "      <td>0</td>\n",
       "      <td>0</td>\n",
       "      <td>-770</td>\n",
       "      <td>0.000000</td>\n",
       "      <td>309.0</td>\n",
       "      <td>ANT</td>\n",
       "    </tr>\n",
       "    <tr>\n",
       "      <th>170</th>\n",
       "      <td>143</td>\n",
       "      <td>Papua New Guinea</td>\n",
       "      <td>163</td>\n",
       "      <td>201</td>\n",
       "      <td>269</td>\n",
       "      <td>285</td>\n",
       "      <td>346</td>\n",
       "      <td>467</td>\n",
       "      <td>347</td>\n",
       "      <td>332</td>\n",
       "      <td>355</td>\n",
       "      <td>192</td>\n",
       "      <td>117.791411</td>\n",
       "      <td>307.0</td>\n",
       "      <td>PNG</td>\n",
       "    </tr>\n",
       "    <tr>\n",
       "      <th>171</th>\n",
       "      <td>25</td>\n",
       "      <td>Brunei</td>\n",
       "      <td>308</td>\n",
       "      <td>319</td>\n",
       "      <td>292</td>\n",
       "      <td>270</td>\n",
       "      <td>245</td>\n",
       "      <td>193</td>\n",
       "      <td>274</td>\n",
       "      <td>251</td>\n",
       "      <td>278</td>\n",
       "      <td>-30</td>\n",
       "      <td>-9.740260</td>\n",
       "      <td>270.0</td>\n",
       "      <td>BRN</td>\n",
       "    </tr>\n",
       "    <tr>\n",
       "      <th>172</th>\n",
       "      <td>164</td>\n",
       "      <td>Seychelles</td>\n",
       "      <td>239</td>\n",
       "      <td>268</td>\n",
       "      <td>246</td>\n",
       "      <td>218</td>\n",
       "      <td>252</td>\n",
       "      <td>279</td>\n",
       "      <td>336</td>\n",
       "      <td>238</td>\n",
       "      <td>289</td>\n",
       "      <td>50</td>\n",
       "      <td>20.920502</td>\n",
       "      <td>263.0</td>\n",
       "      <td>SYC</td>\n",
       "    </tr>\n",
       "    <tr>\n",
       "      <th>173</th>\n",
       "      <td>135</td>\n",
       "      <td>Niue</td>\n",
       "      <td>289</td>\n",
       "      <td>693</td>\n",
       "      <td>322</td>\n",
       "      <td>285</td>\n",
       "      <td>297</td>\n",
       "      <td>49</td>\n",
       "      <td>19</td>\n",
       "      <td>22</td>\n",
       "      <td>48</td>\n",
       "      <td>-241</td>\n",
       "      <td>-83.391003</td>\n",
       "      <td>225.0</td>\n",
       "      <td>NIU</td>\n",
       "    </tr>\n",
       "    <tr>\n",
       "      <th>174</th>\n",
       "      <td>73</td>\n",
       "      <td>Guadeloupe</td>\n",
       "      <td>428</td>\n",
       "      <td>685</td>\n",
       "      <td>623</td>\n",
       "      <td>0</td>\n",
       "      <td>0</td>\n",
       "      <td>0</td>\n",
       "      <td>0</td>\n",
       "      <td>0</td>\n",
       "      <td>0</td>\n",
       "      <td>-428</td>\n",
       "      <td>0.000000</td>\n",
       "      <td>193.0</td>\n",
       "      <td>GLP</td>\n",
       "    </tr>\n",
       "    <tr>\n",
       "      <th>175</th>\n",
       "      <td>137</td>\n",
       "      <td>North Korea</td>\n",
       "      <td>373</td>\n",
       "      <td>382</td>\n",
       "      <td>348</td>\n",
       "      <td>293</td>\n",
       "      <td>300</td>\n",
       "      <td>0</td>\n",
       "      <td>0</td>\n",
       "      <td>0</td>\n",
       "      <td>0</td>\n",
       "      <td>-373</td>\n",
       "      <td>0.000000</td>\n",
       "      <td>188.0</td>\n",
       "      <td>PRK</td>\n",
       "    </tr>\n",
       "    <tr>\n",
       "      <th>176</th>\n",
       "      <td>130</td>\n",
       "      <td>New Caledonia</td>\n",
       "      <td>99</td>\n",
       "      <td>138</td>\n",
       "      <td>195</td>\n",
       "      <td>202</td>\n",
       "      <td>196</td>\n",
       "      <td>178</td>\n",
       "      <td>219</td>\n",
       "      <td>208</td>\n",
       "      <td>222</td>\n",
       "      <td>123</td>\n",
       "      <td>124.242424</td>\n",
       "      <td>184.0</td>\n",
       "      <td>NCL</td>\n",
       "    </tr>\n",
       "    <tr>\n",
       "      <th>177</th>\n",
       "      <td>3</td>\n",
       "      <td>Andorra</td>\n",
       "      <td>331</td>\n",
       "      <td>105</td>\n",
       "      <td>168</td>\n",
       "      <td>147</td>\n",
       "      <td>144</td>\n",
       "      <td>134</td>\n",
       "      <td>186</td>\n",
       "      <td>166</td>\n",
       "      <td>175</td>\n",
       "      <td>-156</td>\n",
       "      <td>-47.129909</td>\n",
       "      <td>173.0</td>\n",
       "      <td>AND</td>\n",
       "    </tr>\n",
       "    <tr>\n",
       "      <th>178</th>\n",
       "      <td>202</td>\n",
       "      <td>Vanuatu</td>\n",
       "      <td>264</td>\n",
       "      <td>111</td>\n",
       "      <td>124</td>\n",
       "      <td>133</td>\n",
       "      <td>172</td>\n",
       "      <td>79</td>\n",
       "      <td>127</td>\n",
       "      <td>131</td>\n",
       "      <td>201</td>\n",
       "      <td>-63</td>\n",
       "      <td>-23.863636</td>\n",
       "      <td>149.0</td>\n",
       "      <td>VUT</td>\n",
       "    </tr>\n",
       "    <tr>\n",
       "      <th>179</th>\n",
       "      <td>92</td>\n",
       "      <td>Kiribati</td>\n",
       "      <td>136</td>\n",
       "      <td>127</td>\n",
       "      <td>175</td>\n",
       "      <td>121</td>\n",
       "      <td>140</td>\n",
       "      <td>148</td>\n",
       "      <td>127</td>\n",
       "      <td>156</td>\n",
       "      <td>199</td>\n",
       "      <td>63</td>\n",
       "      <td>46.323529</td>\n",
       "      <td>148.0</td>\n",
       "      <td>KIR</td>\n",
       "    </tr>\n",
       "    <tr>\n",
       "      <th>180</th>\n",
       "      <td>126</td>\n",
       "      <td>Nauru</td>\n",
       "      <td>79</td>\n",
       "      <td>64</td>\n",
       "      <td>63</td>\n",
       "      <td>135</td>\n",
       "      <td>113</td>\n",
       "      <td>205</td>\n",
       "      <td>236</td>\n",
       "      <td>176</td>\n",
       "      <td>169</td>\n",
       "      <td>90</td>\n",
       "      <td>113.924051</td>\n",
       "      <td>138.0</td>\n",
       "      <td>NRU</td>\n",
       "    </tr>\n",
       "    <tr>\n",
       "      <th>181</th>\n",
       "      <td>114</td>\n",
       "      <td>Martinique</td>\n",
       "      <td>310</td>\n",
       "      <td>459</td>\n",
       "      <td>394</td>\n",
       "      <td>0</td>\n",
       "      <td>0</td>\n",
       "      <td>0</td>\n",
       "      <td>0</td>\n",
       "      <td>0</td>\n",
       "      <td>0</td>\n",
       "      <td>-310</td>\n",
       "      <td>0.000000</td>\n",
       "      <td>129.0</td>\n",
       "      <td>MTQ</td>\n",
       "    </tr>\n",
       "    <tr>\n",
       "      <th>182</th>\n",
       "      <td>167</td>\n",
       "      <td>Saint Martin</td>\n",
       "      <td>0</td>\n",
       "      <td>0</td>\n",
       "      <td>0</td>\n",
       "      <td>168</td>\n",
       "      <td>204</td>\n",
       "      <td>176</td>\n",
       "      <td>211</td>\n",
       "      <td>187</td>\n",
       "      <td>210</td>\n",
       "      <td>210</td>\n",
       "      <td>0.000000</td>\n",
       "      <td>128.0</td>\n",
       "      <td>MAF</td>\n",
       "    </tr>\n",
       "    <tr>\n",
       "      <th>183</th>\n",
       "      <td>120</td>\n",
       "      <td>Monaco</td>\n",
       "      <td>112</td>\n",
       "      <td>100</td>\n",
       "      <td>98</td>\n",
       "      <td>85</td>\n",
       "      <td>116</td>\n",
       "      <td>110</td>\n",
       "      <td>129</td>\n",
       "      <td>156</td>\n",
       "      <td>174</td>\n",
       "      <td>62</td>\n",
       "      <td>55.357143</td>\n",
       "      <td>120.0</td>\n",
       "      <td>MCO</td>\n",
       "    </tr>\n",
       "    <tr>\n",
       "      <th>184</th>\n",
       "      <td>41</td>\n",
       "      <td>Cook Islands</td>\n",
       "      <td>20</td>\n",
       "      <td>20</td>\n",
       "      <td>30</td>\n",
       "      <td>32</td>\n",
       "      <td>67</td>\n",
       "      <td>149</td>\n",
       "      <td>164</td>\n",
       "      <td>190</td>\n",
       "      <td>274</td>\n",
       "      <td>254</td>\n",
       "      <td>1270.000000</td>\n",
       "      <td>105.0</td>\n",
       "      <td>COK</td>\n",
       "    </tr>\n",
       "    <tr>\n",
       "      <th>185</th>\n",
       "      <td>160</td>\n",
       "      <td>Sao Tome and Principe</td>\n",
       "      <td>57</td>\n",
       "      <td>64</td>\n",
       "      <td>48</td>\n",
       "      <td>52</td>\n",
       "      <td>71</td>\n",
       "      <td>71</td>\n",
       "      <td>290</td>\n",
       "      <td>80</td>\n",
       "      <td>87</td>\n",
       "      <td>30</td>\n",
       "      <td>52.631579</td>\n",
       "      <td>91.0</td>\n",
       "      <td>STP</td>\n",
       "    </tr>\n",
       "    <tr>\n",
       "      <th>186</th>\n",
       "      <td>188</td>\n",
       "      <td>Timor-Leste</td>\n",
       "      <td>44</td>\n",
       "      <td>74</td>\n",
       "      <td>82</td>\n",
       "      <td>66</td>\n",
       "      <td>72</td>\n",
       "      <td>75</td>\n",
       "      <td>85</td>\n",
       "      <td>86</td>\n",
       "      <td>179</td>\n",
       "      <td>135</td>\n",
       "      <td>306.818182</td>\n",
       "      <td>85.0</td>\n",
       "      <td>TLS</td>\n",
       "    </tr>\n",
       "    <tr>\n",
       "      <th>187</th>\n",
       "      <td>170</td>\n",
       "      <td>Solomon Islands</td>\n",
       "      <td>43</td>\n",
       "      <td>72</td>\n",
       "      <td>102</td>\n",
       "      <td>55</td>\n",
       "      <td>53</td>\n",
       "      <td>92</td>\n",
       "      <td>83</td>\n",
       "      <td>69</td>\n",
       "      <td>134</td>\n",
       "      <td>91</td>\n",
       "      <td>211.627907</td>\n",
       "      <td>78.0</td>\n",
       "      <td>SLB</td>\n",
       "    </tr>\n",
       "    <tr>\n",
       "      <th>188</th>\n",
       "      <td>102</td>\n",
       "      <td>Liechtenstein</td>\n",
       "      <td>45</td>\n",
       "      <td>58</td>\n",
       "      <td>82</td>\n",
       "      <td>77</td>\n",
       "      <td>78</td>\n",
       "      <td>83</td>\n",
       "      <td>81</td>\n",
       "      <td>102</td>\n",
       "      <td>66</td>\n",
       "      <td>21</td>\n",
       "      <td>46.666667</td>\n",
       "      <td>75.0</td>\n",
       "      <td>LIE</td>\n",
       "    </tr>\n",
       "    <tr>\n",
       "      <th>189</th>\n",
       "      <td>156</td>\n",
       "      <td>Saint Martin</td>\n",
       "      <td>0</td>\n",
       "      <td>0</td>\n",
       "      <td>0</td>\n",
       "      <td>74</td>\n",
       "      <td>38</td>\n",
       "      <td>109</td>\n",
       "      <td>166</td>\n",
       "      <td>143</td>\n",
       "      <td>125</td>\n",
       "      <td>125</td>\n",
       "      <td>0.000000</td>\n",
       "      <td>73.0</td>\n",
       "      <td>MAF</td>\n",
       "    </tr>\n",
       "    <tr>\n",
       "      <th>190</th>\n",
       "      <td>58</td>\n",
       "      <td>Faroe Islands</td>\n",
       "      <td>0</td>\n",
       "      <td>0</td>\n",
       "      <td>0</td>\n",
       "      <td>105</td>\n",
       "      <td>139</td>\n",
       "      <td>111</td>\n",
       "      <td>104</td>\n",
       "      <td>105</td>\n",
       "      <td>96</td>\n",
       "      <td>96</td>\n",
       "      <td>0.000000</td>\n",
       "      <td>73.0</td>\n",
       "      <td>FRO</td>\n",
       "    </tr>\n",
       "    <tr>\n",
       "      <th>191</th>\n",
       "      <td>71</td>\n",
       "      <td>Greenland</td>\n",
       "      <td>80</td>\n",
       "      <td>76</td>\n",
       "      <td>71</td>\n",
       "      <td>48</td>\n",
       "      <td>68</td>\n",
       "      <td>54</td>\n",
       "      <td>53</td>\n",
       "      <td>59</td>\n",
       "      <td>92</td>\n",
       "      <td>12</td>\n",
       "      <td>15.000000</td>\n",
       "      <td>67.0</td>\n",
       "      <td>GRL</td>\n",
       "    </tr>\n",
       "    <tr>\n",
       "      <th>192</th>\n",
       "      <td>149</td>\n",
       "      <td>Reunion</td>\n",
       "      <td>177</td>\n",
       "      <td>184</td>\n",
       "      <td>181</td>\n",
       "      <td>0</td>\n",
       "      <td>0</td>\n",
       "      <td>0</td>\n",
       "      <td>0</td>\n",
       "      <td>0</td>\n",
       "      <td>0</td>\n",
       "      <td>-177</td>\n",
       "      <td>0.000000</td>\n",
       "      <td>60.0</td>\n",
       "      <td>REU</td>\n",
       "    </tr>\n",
       "    <tr>\n",
       "      <th>193</th>\n",
       "      <td>203</td>\n",
       "      <td>Vatican City</td>\n",
       "      <td>123</td>\n",
       "      <td>34</td>\n",
       "      <td>51</td>\n",
       "      <td>37</td>\n",
       "      <td>46</td>\n",
       "      <td>54</td>\n",
       "      <td>44</td>\n",
       "      <td>54</td>\n",
       "      <td>84</td>\n",
       "      <td>-39</td>\n",
       "      <td>-31.707317</td>\n",
       "      <td>59.0</td>\n",
       "      <td>VAT</td>\n",
       "    </tr>\n",
       "    <tr>\n",
       "      <th>194</th>\n",
       "      <td>62</td>\n",
       "      <td>French Guiana</td>\n",
       "      <td>132</td>\n",
       "      <td>185</td>\n",
       "      <td>149</td>\n",
       "      <td>0</td>\n",
       "      <td>0</td>\n",
       "      <td>0</td>\n",
       "      <td>0</td>\n",
       "      <td>0</td>\n",
       "      <td>0</td>\n",
       "      <td>-132</td>\n",
       "      <td>0.000000</td>\n",
       "      <td>52.0</td>\n",
       "      <td>GUF</td>\n",
       "    </tr>\n",
       "    <tr>\n",
       "      <th>195</th>\n",
       "      <td>206</td>\n",
       "      <td>Western Sahara</td>\n",
       "      <td>28</td>\n",
       "      <td>35</td>\n",
       "      <td>33</td>\n",
       "      <td>0</td>\n",
       "      <td>56</td>\n",
       "      <td>42</td>\n",
       "      <td>67</td>\n",
       "      <td>82</td>\n",
       "      <td>85</td>\n",
       "      <td>57</td>\n",
       "      <td>203.571429</td>\n",
       "      <td>48.0</td>\n",
       "      <td>ESH</td>\n",
       "    </tr>\n",
       "    <tr>\n",
       "      <th>196</th>\n",
       "      <td>113</td>\n",
       "      <td>Marshall Islands</td>\n",
       "      <td>11</td>\n",
       "      <td>285</td>\n",
       "      <td>33</td>\n",
       "      <td>54</td>\n",
       "      <td>18</td>\n",
       "      <td>22</td>\n",
       "      <td>0</td>\n",
       "      <td>0</td>\n",
       "      <td>0</td>\n",
       "      <td>-11</td>\n",
       "      <td>0.000000</td>\n",
       "      <td>47.0</td>\n",
       "      <td>MHL</td>\n",
       "    </tr>\n",
       "    <tr>\n",
       "      <th>197</th>\n",
       "      <td>141</td>\n",
       "      <td>Palau</td>\n",
       "      <td>72</td>\n",
       "      <td>65</td>\n",
       "      <td>66</td>\n",
       "      <td>33</td>\n",
       "      <td>40</td>\n",
       "      <td>48</td>\n",
       "      <td>0</td>\n",
       "      <td>0</td>\n",
       "      <td>0</td>\n",
       "      <td>-72</td>\n",
       "      <td>0.000000</td>\n",
       "      <td>36.0</td>\n",
       "      <td>PLW</td>\n",
       "    </tr>\n",
       "    <tr>\n",
       "      <th>198</th>\n",
       "      <td>196</td>\n",
       "      <td>Tuvalu</td>\n",
       "      <td>25</td>\n",
       "      <td>25</td>\n",
       "      <td>23</td>\n",
       "      <td>31</td>\n",
       "      <td>41</td>\n",
       "      <td>35</td>\n",
       "      <td>66</td>\n",
       "      <td>17</td>\n",
       "      <td>26</td>\n",
       "      <td>1</td>\n",
       "      <td>4.000000</td>\n",
       "      <td>32.0</td>\n",
       "      <td>TUV</td>\n",
       "    </tr>\n",
       "    <tr>\n",
       "      <th>199</th>\n",
       "      <td>159</td>\n",
       "      <td>San Marino</td>\n",
       "      <td>26</td>\n",
       "      <td>12</td>\n",
       "      <td>14</td>\n",
       "      <td>18</td>\n",
       "      <td>21</td>\n",
       "      <td>26</td>\n",
       "      <td>36</td>\n",
       "      <td>38</td>\n",
       "      <td>66</td>\n",
       "      <td>40</td>\n",
       "      <td>153.846154</td>\n",
       "      <td>29.0</td>\n",
       "      <td>SMR</td>\n",
       "    </tr>\n",
       "    <tr>\n",
       "      <th>200</th>\n",
       "      <td>118</td>\n",
       "      <td>Micronesia, Federated States of</td>\n",
       "      <td>31</td>\n",
       "      <td>31</td>\n",
       "      <td>40</td>\n",
       "      <td>43</td>\n",
       "      <td>43</td>\n",
       "      <td>47</td>\n",
       "      <td>0</td>\n",
       "      <td>0</td>\n",
       "      <td>0</td>\n",
       "      <td>-31</td>\n",
       "      <td>0.000000</td>\n",
       "      <td>26.0</td>\n",
       "      <td>FSM</td>\n",
       "    </tr>\n",
       "    <tr>\n",
       "      <th>201</th>\n",
       "      <td>205</td>\n",
       "      <td>Wallis and Futuna</td>\n",
       "      <td>29</td>\n",
       "      <td>41</td>\n",
       "      <td>20</td>\n",
       "      <td>28</td>\n",
       "      <td>22</td>\n",
       "      <td>9</td>\n",
       "      <td>26</td>\n",
       "      <td>30</td>\n",
       "      <td>27</td>\n",
       "      <td>-2</td>\n",
       "      <td>-6.896552</td>\n",
       "      <td>26.0</td>\n",
       "      <td>WLF</td>\n",
       "    </tr>\n",
       "    <tr>\n",
       "      <th>202</th>\n",
       "      <td>64</td>\n",
       "      <td>French Southern and Antarctic Lands</td>\n",
       "      <td>31</td>\n",
       "      <td>22</td>\n",
       "      <td>29</td>\n",
       "      <td>37</td>\n",
       "      <td>52</td>\n",
       "      <td>45</td>\n",
       "      <td>0</td>\n",
       "      <td>0</td>\n",
       "      <td>0</td>\n",
       "      <td>-31</td>\n",
       "      <td>0.000000</td>\n",
       "      <td>24.0</td>\n",
       "      <td>ATF</td>\n",
       "    </tr>\n",
       "    <tr>\n",
       "      <th>203</th>\n",
       "      <td>176</td>\n",
       "      <td>Saint Pierre and Miquelon</td>\n",
       "      <td>28</td>\n",
       "      <td>26</td>\n",
       "      <td>25</td>\n",
       "      <td>34</td>\n",
       "      <td>29</td>\n",
       "      <td>9</td>\n",
       "      <td>17</td>\n",
       "      <td>22</td>\n",
       "      <td>26</td>\n",
       "      <td>-2</td>\n",
       "      <td>-7.142857</td>\n",
       "      <td>24.0</td>\n",
       "      <td>SPM</td>\n",
       "    </tr>\n",
       "    <tr>\n",
       "      <th>204</th>\n",
       "      <td>136</td>\n",
       "      <td>Norfolk Island</td>\n",
       "      <td>0</td>\n",
       "      <td>0</td>\n",
       "      <td>0</td>\n",
       "      <td>0</td>\n",
       "      <td>78</td>\n",
       "      <td>49</td>\n",
       "      <td>34</td>\n",
       "      <td>39</td>\n",
       "      <td>18</td>\n",
       "      <td>18</td>\n",
       "      <td>0.000000</td>\n",
       "      <td>24.0</td>\n",
       "      <td>NFK</td>\n",
       "    </tr>\n",
       "    <tr>\n",
       "      <th>205</th>\n",
       "      <td>179</td>\n",
       "      <td>Svalbard</td>\n",
       "      <td>0</td>\n",
       "      <td>0</td>\n",
       "      <td>0</td>\n",
       "      <td>20</td>\n",
       "      <td>13</td>\n",
       "      <td>18</td>\n",
       "      <td>29</td>\n",
       "      <td>43</td>\n",
       "      <td>64</td>\n",
       "      <td>64</td>\n",
       "      <td>0.000000</td>\n",
       "      <td>21.0</td>\n",
       "      <td>SJM</td>\n",
       "    </tr>\n",
       "    <tr>\n",
       "      <th>206</th>\n",
       "      <td>190</td>\n",
       "      <td>Tokelau</td>\n",
       "      <td>0</td>\n",
       "      <td>0</td>\n",
       "      <td>0</td>\n",
       "      <td>29</td>\n",
       "      <td>18</td>\n",
       "      <td>10</td>\n",
       "      <td>31</td>\n",
       "      <td>42</td>\n",
       "      <td>37</td>\n",
       "      <td>37</td>\n",
       "      <td>0.000000</td>\n",
       "      <td>19.0</td>\n",
       "      <td>TKL</td>\n",
       "    </tr>\n",
       "    <tr>\n",
       "      <th>207</th>\n",
       "      <td>153</td>\n",
       "      <td>Saint Barthelemy</td>\n",
       "      <td>0</td>\n",
       "      <td>0</td>\n",
       "      <td>0</td>\n",
       "      <td>58</td>\n",
       "      <td>82</td>\n",
       "      <td>18</td>\n",
       "      <td>0</td>\n",
       "      <td>0</td>\n",
       "      <td>0</td>\n",
       "      <td>0</td>\n",
       "      <td>0.000000</td>\n",
       "      <td>18.0</td>\n",
       "      <td>BLM</td>\n",
       "    </tr>\n",
       "    <tr>\n",
       "      <th>208</th>\n",
       "      <td>36</td>\n",
       "      <td>Christmas Island</td>\n",
       "      <td>18</td>\n",
       "      <td>5</td>\n",
       "      <td>13</td>\n",
       "      <td>6</td>\n",
       "      <td>19</td>\n",
       "      <td>17</td>\n",
       "      <td>12</td>\n",
       "      <td>16</td>\n",
       "      <td>15</td>\n",
       "      <td>-3</td>\n",
       "      <td>-16.666667</td>\n",
       "      <td>13.0</td>\n",
       "      <td>CXR</td>\n",
       "    </tr>\n",
       "    <tr>\n",
       "      <th>209</th>\n",
       "      <td>117</td>\n",
       "      <td>Mayotte</td>\n",
       "      <td>0</td>\n",
       "      <td>0</td>\n",
       "      <td>0</td>\n",
       "      <td>16</td>\n",
       "      <td>36</td>\n",
       "      <td>23</td>\n",
       "      <td>18</td>\n",
       "      <td>0</td>\n",
       "      <td>0</td>\n",
       "      <td>0</td>\n",
       "      <td>0.000000</td>\n",
       "      <td>10.0</td>\n",
       "      <td>MYT</td>\n",
       "    </tr>\n",
       "    <tr>\n",
       "      <th>210</th>\n",
       "      <td>37</td>\n",
       "      <td>Cocos Islands</td>\n",
       "      <td>5</td>\n",
       "      <td>8</td>\n",
       "      <td>10</td>\n",
       "      <td>35</td>\n",
       "      <td>25</td>\n",
       "      <td>11</td>\n",
       "      <td>0</td>\n",
       "      <td>0</td>\n",
       "      <td>0</td>\n",
       "      <td>-5</td>\n",
       "      <td>0.000000</td>\n",
       "      <td>10.0</td>\n",
       "      <td>NaN</td>\n",
       "    </tr>\n",
       "    <tr>\n",
       "      <th>211</th>\n",
       "      <td>24</td>\n",
       "      <td>Brazil</td>\n",
       "      <td>0</td>\n",
       "      <td>0</td>\n",
       "      <td>0</td>\n",
       "      <td>0</td>\n",
       "      <td>0</td>\n",
       "      <td>0</td>\n",
       "      <td>0</td>\n",
       "      <td>0</td>\n",
       "      <td>0</td>\n",
       "      <td>0</td>\n",
       "      <td>0.000000</td>\n",
       "      <td>0.0</td>\n",
       "      <td>BRA</td>\n",
       "    </tr>\n",
       "  </tbody>\n",
       "</table>\n",
       "</div>"
      ],
      "text/plain": [
       "     Unnamed: 0                                  Country     2010      2011  \\\n",
       "0           210                              Grand Total  9769457  16511508   \n",
       "1            14                               Bangladesh   834324   6497926   \n",
       "2            69                                    Ghana   523448    609924   \n",
       "3           198                                  Ukraine   927470   1080091   \n",
       "4           134                                  Nigeria  1570316   2144626   \n",
       "5           201                               Uzbekistan   194033    295828   \n",
       "6            83                                     Iran   470279    426505   \n",
       "7            53                                    Egypt   642321    534375   \n",
       "8            57                                 Ethiopia   745372    662658   \n",
       "9           127                                    Nepal   356216    322758   \n",
       "10          165                             Sierra Leone   326452    441250   \n",
       "11          100                                  Liberia   119229    110960   \n",
       "12           91                                    Kenya   223586    260734   \n",
       "13           31                                 Cameroon   189622    189752   \n",
       "14          194                                   Turkey   146677    181578   \n",
       "15          151                                   Russia   101324    140444   \n",
       "16          177                                    Sudan    70709     84746   \n",
       "17            1                                  Albania   118913     87189   \n",
       "18          119                                  Moldova    35638     56808   \n",
       "19            2                                  Algeria    90704     88004   \n",
       "20          123                                  Morocco   143821     97506   \n",
       "21          204                                Venezuela    38314     71665   \n",
       "22           30                                 Cambodia    66339     60862   \n",
       "23           75                                   Guinea    43579     48467   \n",
       "24            7                                  Armenia    62051     72876   \n",
       "25          189                                     Togo    42468     58971   \n",
       "26           39         Democratic Republic of the Congo    92133    138558   \n",
       "27          175                                Sri Lanka    92219     84312   \n",
       "28           45                                     Cuba    23205     40490   \n",
       "29           16                                  Belarus    62097     65641   \n",
       "30           68                                  Germany   105561    106153   \n",
       "31           43                            Cote d'Ivoire    31399     39488   \n",
       "32          207                                    Yemen    15479     17886   \n",
       "33           26                                 Bulgaria    43212     56538   \n",
       "34           19                                    Benin    17235     36008   \n",
       "35          150                                  Romania    35745     47435   \n",
       "36           67                                  Georgia    31953     39253   \n",
       "37          172                             South Africa    40208     50144   \n",
       "38           40                                    Congo     5415      6620   \n",
       "39           61                                   France    36302     44222   \n",
       "40          184                                   Taiwan    58916     56319   \n",
       "41           88                                    Japan    50830     48708   \n",
       "42           28                                  Myanmar    82313     59683   \n",
       "43            0                              Afghanistan    66870     19656   \n",
       "44           55                                  Eritrea    36394     42316   \n",
       "45           89                                   Jordan    23924     22066   \n",
       "46           90                               Kazakhstan    18194     23166   \n",
       "47          183                                    Syria    15027     17957   \n",
       "48           84                                     Iraq    20955     20263   \n",
       "49           87                                    Italy    21734     28464   \n",
       "50           11                               Azerbaijan    16319     19741   \n",
       "51          161                             Saudi Arabia    14272     20647   \n",
       "52          145                                   Poland        0         0   \n",
       "53          185                               Tajikistan     9542     12679   \n",
       "54          162                                  Senegal    26194     24544   \n",
       "55           98                                  Lebanon    27639     32753   \n",
       "56          197                                   Uganda    19957     22062   \n",
       "57          152                                   Rwanda     7264     10809   \n",
       "58          163                                   Serbia    16234     18298   \n",
       "59           82                                Indonesia    44739     32482   \n",
       "60           95                               Kyrgyzstan     9851     12387   \n",
       "61          121                                 Mongolia    25427     40335   \n",
       "62          106                                Macedonia    12245     13910   \n",
       "63          106                                Macedonia    12245     13910   \n",
       "64           86                                   Israel    19239     20223   \n",
       "65          171                                  Somalia    15333     15360   \n",
       "66           93                                   Kosovo     9824     10552   \n",
       "67           52                                  Ecuador        0         0   \n",
       "68          103                                Lithuania     9030     16937   \n",
       "69          174                                    Spain     8258     11893   \n",
       "70            9                                Australia    12772     15509   \n",
       "71           27                             Burkina Faso     9228      9993   \n",
       "72          101                                    Libya     6248      7578   \n",
       "73           94                                   Kuwait    10916     14272   \n",
       "74           80                                  Hungary    11215     15363   \n",
       "75          146                                     Peru        0         0   \n",
       "76          199                     United Arab Emirates     7968      8644   \n",
       "77            6                                Argentina     9821     12025   \n",
       "78          109                                 Malaysia    13056     13941   \n",
       "79          193                                  Tunisia     6645      6590   \n",
       "80          192                      Trinidad and Tobago    12402     13551   \n",
       "81          195                             Turkmenistan     5711      6738   \n",
       "82           78                                 Honduras     6007      9268   \n",
       "83           59                                     Fiji    12677     12214   \n",
       "84          182                              Switzerland    10538     12194   \n",
       "85           29                                  Burundi     3516      3774   \n",
       "86          181                                   Sweden     8018     10346   \n",
       "87          209                                 Zimbabwe     6935      8956   \n",
       "88          186                                 Tanzania     9463     10385   \n",
       "89           85                                  Ireland    10232     10518   \n",
       "90          187                                 Thailand    10411     10412   \n",
       "91          128                              Netherlands     8125      9453   \n",
       "92          133                                    Niger     2658      5864   \n",
       "93          111                                     Mali     6219      5611   \n",
       "94           70                                   Greece     3102      3801   \n",
       "95           22                   Bosnia and Herzegovina     3637      4478   \n",
       "96           10                                  Austria     7991      8164   \n",
       "97            4                                   Angola     1817      2330   \n",
       "98           17                                  Belgium     5371      7018   \n",
       "99           97                                   Latvia     4457      9434   \n",
       "100          21                                  Bolivia     7543      7759   \n",
       "101         168                                 Slovakia     5866      6710   \n",
       "102          48                           Czech Republic     5778      6749   \n",
       "103          74                                Guatemala        0         0   \n",
       "104         132                                Nicaragua     4392      8777   \n",
       "105         131                              New Zealand     5025      5924   \n",
       "106          42                               Costa Rica     4364      4928   \n",
       "107          44                                  Croatia     3744      5307   \n",
       "108          79  Hong Kong Special Administrative Region     7398      7500   \n",
       "109          50                                 Djibouti     1666      2012   \n",
       "110         166                                Singapore     5225      5793   \n",
       "111          60                                  Finland     3884      5181   \n",
       "112          35                                    Chile     3178      4460   \n",
       "113         208                                   Zambia     4625      5077   \n",
       "114         147                                 Portugal     3066      3787   \n",
       "115          49                                  Denmark     3545      4217   \n",
       "116         148                                    Qatar     1998      2840   \n",
       "117          34                                     Chad     2020      2312   \n",
       "118          66                                   Gambia     6124      4850   \n",
       "119          56                                  Estonia     2701      3577   \n",
       "120         139                                   Norway     2695      3711   \n",
       "121          65                                    Gabon     1791      1964   \n",
       "122         107                               Madagascar     1860      2883   \n",
       "123          12                                  Bahamas     2624      3793   \n",
       "124          77                                   Guyana     3198      3244   \n",
       "125         116                                Mauritius     2652      3192   \n",
       "126         115                               Mauritania     1396      1455   \n",
       "127          13                                  Bahrain     2146      2883   \n",
       "128         138                         Northern Ireland     2371      2603   \n",
       "129          81                                  Iceland     1661      2425   \n",
       "130         200                                  Uruguay     1674      2106   \n",
       "131         142                                   Panama     2061      2772   \n",
       "132         108                                   Malawi     1649      1684   \n",
       "133          20                                   Bhutan      752       764   \n",
       "134         122                               Montenegro      899       881   \n",
       "135          15                                 Barbados     1750      2804   \n",
       "136          33                 Central African Republic      837      1006   \n",
       "137         191                                    Tonga     1692      1802   \n",
       "138          51                                 Dominica     1367      1697   \n",
       "139          47                                   Cyprus      946      1224   \n",
       "140         169                                 Slovenia      859      1168   \n",
       "141         173                              South Sudan        0         0   \n",
       "142          32                               Cape Verde      482      1826   \n",
       "143         140                                     Oman      590       757   \n",
       "144          72                                  Grenada     1013      1086   \n",
       "145         144                                 Paraguay     1042      1391   \n",
       "146         155                              Saint Lucia     1182      1752   \n",
       "147          18                                   Belize      935      1103   \n",
       "148         125                                  Namibia      837      1024   \n",
       "149         178                                 Suriname      764       891   \n",
       "150          23                                 Botswana      824      1046   \n",
       "151         124                               Mozambique      616       608   \n",
       "152           8                                    Aruba     1399       604   \n",
       "153           5                      Antigua and Barbuda      826       695   \n",
       "154          76                            Guinea-Bissau      331       371   \n",
       "155          54                        Equatorial Guinea      480       565   \n",
       "156          63                         French Polynesia      346       544   \n",
       "157          96                                     Laos      681       674   \n",
       "158          38                                  Comoros      400       443   \n",
       "159         157         Saint Vincent and the Grenadines      662       834   \n",
       "160         105      Macau Special Administrative Region      605       607   \n",
       "161         112                                    Malta      469       561   \n",
       "162         104                               Luxembourg      380       470   \n",
       "163          46                                  Curacao        0         0   \n",
       "164         158                                    Samoa      421       518   \n",
       "165         154                    Saint Kitts and Nevis      468       634   \n",
       "166          99                                  Lesotho      262       257   \n",
       "167         180                                Swaziland      238       269   \n",
       "168         110                                 Maldives      208       300   \n",
       "169         129                     Netherlands Antilles      770       998   \n",
       "170         143                         Papua New Guinea      163       201   \n",
       "171          25                                   Brunei      308       319   \n",
       "172         164                               Seychelles      239       268   \n",
       "173         135                                     Niue      289       693   \n",
       "174          73                               Guadeloupe      428       685   \n",
       "175         137                              North Korea      373       382   \n",
       "176         130                            New Caledonia       99       138   \n",
       "177           3                                  Andorra      331       105   \n",
       "178         202                                  Vanuatu      264       111   \n",
       "179          92                                 Kiribati      136       127   \n",
       "180         126                                    Nauru       79        64   \n",
       "181         114                               Martinique      310       459   \n",
       "182         167                             Saint Martin        0         0   \n",
       "183         120                                   Monaco      112       100   \n",
       "184          41                             Cook Islands       20        20   \n",
       "185         160                    Sao Tome and Principe       57        64   \n",
       "186         188                              Timor-Leste       44        74   \n",
       "187         170                          Solomon Islands       43        72   \n",
       "188         102                            Liechtenstein       45        58   \n",
       "189         156                             Saint Martin        0         0   \n",
       "190          58                            Faroe Islands        0         0   \n",
       "191          71                                Greenland       80        76   \n",
       "192         149                                  Reunion      177       184   \n",
       "193         203                             Vatican City      123        34   \n",
       "194          62                            French Guiana      132       185   \n",
       "195         206                           Western Sahara       28        35   \n",
       "196         113                         Marshall Islands       11       285   \n",
       "197         141                                    Palau       72        65   \n",
       "198         196                                   Tuvalu       25        25   \n",
       "199         159                               San Marino       26        12   \n",
       "200         118          Micronesia, Federated States of       31        31   \n",
       "201         205                        Wallis and Futuna       29        41   \n",
       "202          64      French Southern and Antarctic Lands       31        22   \n",
       "203         176                Saint Pierre and Miquelon       28        26   \n",
       "204         136                           Norfolk Island        0         0   \n",
       "205         179                                 Svalbard        0         0   \n",
       "206         190                                  Tokelau        0         0   \n",
       "207         153                         Saint Barthelemy        0         0   \n",
       "208          36                         Christmas Island       18         5   \n",
       "209         117                                  Mayotte        0         0   \n",
       "210          37                            Cocos Islands        5         8   \n",
       "211          24                                   Brazil        0         0   \n",
       "\n",
       "         2012      2013      2014      2015      2016      2017      2018  \\\n",
       "0    19672268  12577355  14633971  14418063  17573364  19344586  23088613   \n",
       "1     8562251         0         0         0         0         0         0   \n",
       "2      774557   1056032   1217888   1729979   2231745   2199021   2227530   \n",
       "3     1122086   1232306   1255129   1274758   1291999   1470250   1450487   \n",
       "4     2005876   1975571   2390758         0         0         0         0   \n",
       "5      507361    654327   1193657   1387420   1488984   1576179   2114446   \n",
       "6      547735    692410   1037354    932346   1203531   1390853   1624204   \n",
       "7      780728    960279    847230    763701    849681    914817   1274751   \n",
       "8      785318    775763    753701    845474    780829    844959   1056532   \n",
       "9      397036    496410    613385    892961   1090880   1136622   1187350   \n",
       "10     315741    233519    284205    511120    611983    841688   1011725   \n",
       "11     141749    142298    216249    358224    661631    674936    686869   \n",
       "12     304083    265474    222749    193641    304693    360023    442966   \n",
       "13     203906    224509    224020    286564    303783    332778    427259   \n",
       "14     176711    228009    259320    254660    245493    316226    406929   \n",
       "15     167600    218862    249670    265086    274746    332069    434353   \n",
       "16      96210    113595    129437    252748    340392    451423    504312   \n",
       "17     115357    122567    171362    198625    246129    315842    367231   \n",
       "18      75886    108565    162661    193288    230058    252180    440863   \n",
       "19     112081    128189    127872    163091    204433    252733    342857   \n",
       "20     110573    119443    115235    139008    201964    286421    293708   \n",
       "21      85412     94835    116198    124533    258921    313128    360799   \n",
       "22      72829    119138    120435    197383    251948    282123    271603   \n",
       "23      68856     88935    106172    163860    239506    250751    322943   \n",
       "24      92352     97679    113681    131088    168115    226545    267067   \n",
       "25      52587     64579     80430    117748    167146    186608    268194   \n",
       "26     208775    229650    339196     12581         0         0         0   \n",
       "27      83772    102531     91261    107989    116673    104981    139527   \n",
       "28      32696     46744     56967    112998    362368    128271    114560   \n",
       "29      70881     97706     97747    100443     98767    135224    171134   \n",
       "30     102375     94476     96299     92176     88931     91898     92484   \n",
       "31      33501     49721     67863     89234    117165    154145    243658   \n",
       "32      21606     28039     40962     76063    136398    172742    264519   \n",
       "33      66941     97139    103878     91179     94513     88356     74316   \n",
       "34      30776     47666     36087    115779    136321    117632    121771   \n",
       "35      76594     60593     70864     72433     73227     67578     79583   \n",
       "36      49276     53625     46451     53395     73989     99351    122109   \n",
       "37      48570     47672     56356     52168     62062     66728     67344   \n",
       "38       7711      9094     11477    446488         0         0         0   \n",
       "39      40644     43830     52394     54488     66709     67612     70964   \n",
       "40      47398     41755     44163     44684     58183     55825     58872   \n",
       "41      46554     51775     51646     50501     52149     50213     50650   \n",
       "42      42372     44407     41748     43081     42043     50775     44752   \n",
       "43      12456     16277     31485     27789     65951     83277    122755   \n",
       "44      45000     47330     35814     42467     49669     50995     63181   \n",
       "45      22535     29103     38075     39819     72438     63327     95068   \n",
       "46      29032     38543     44144     46613     48136     60634     93406   \n",
       "47      18749     21804     33476     50659     79094     83828     80166   \n",
       "48      18940     20681     23418     26402     47444     76294    145710   \n",
       "49      30371     35452     46633     48958     60214     60599     60905   \n",
       "50      22576     25440     27434     29321     54193     72993    124051   \n",
       "51      26646     29128     36007     45214     58892     65913     93060   \n",
       "52          0         0     77563     65774     80056     73281     79002   \n",
       "53      18917     24489     28762     34672     39194     70339    122178   \n",
       "54      16879     26426     47574     39341     46203     62201     60312   \n",
       "55      31594     30797     36080     34780     40602     42494     41002   \n",
       "56      24851     27702     30022     37506     41512     46327     53967   \n",
       "57      20524     20413     23595     37179     49056     52111     67675   \n",
       "58      19180     21864     33510     27385     43060     50180     53613   \n",
       "59      29949     27908     26255     22230     27174     27806     28072   \n",
       "60      17351     18953     23918     27427     31314     43364     72350   \n",
       "61      27866     19538     14780     17998     26013     37355     34788   \n",
       "62      12432     18669     21565     33730     32252     43180     47228   \n",
       "63      12432     18669     21565     33730     32252     43180     47228   \n",
       "64      20854     21501     23968     24115     29510     32752     37143   \n",
       "65      14805     13788     12778     17571     28387     35399     60579   \n",
       "66      11898     15665     13832     18792     31875     46664     51819   \n",
       "67          0         0         0         0         0         0    198685   \n",
       "68      23739     20449     20900     18735     20454     29475     30666   \n",
       "69      12922     15632     24408     25099     30278     28107     27807   \n",
       "70      17163     18117     21621     20579     24888     26704     26353   \n",
       "71      12241     15633     15287     20715     24995     30673     40961   \n",
       "72       8904      8992     10683     15874     25638     39842     49868   \n",
       "73      15099     15351     18998     19137     23659     24024     29954   \n",
       "74      15503     17539     20995     20176     21500     21522     21931   \n",
       "75          0    159943         0         0         0         0         0   \n",
       "76      10676     12044     13357     15696     19929     23330     28231   \n",
       "77      10936     10246     12853     12154     17727     18309     19811   \n",
       "78      13544     13320     12880     12908     14041     14719     14619   \n",
       "79       7621      8352      8522     11697     23533     24446     25587   \n",
       "80      15761     14502     15103     14348     12588      9151     11268   \n",
       "81       9212      9886     11632     11966     12959     17609     29666   \n",
       "82      10799      9215     10598      9610     19427     14280     23912   \n",
       "83      12884     10341     13729     10089     12967     12879     12373   \n",
       "84      11590     11569     13150     12300     12928     12366     11646   \n",
       "85       4280      6356      7731     10375     21886     20966     27108   \n",
       "86      10980     11724     13129     12385     13244     13118     12197   \n",
       "87       8638     10100     10174     10427     13165     16006     19408   \n",
       "88      10075     12011     10870     10918     11924     13085     14176   \n",
       "89      11666     11470     12282     11278     11335     10105      9794   \n",
       "90       9025      8187      8697      8152     13595     13733     12961   \n",
       "91       9889      9962     11155     10331     11575     11538     11167   \n",
       "92       3459      3549      6485     22835     16227     13082     16648   \n",
       "93       5891      6276      8076      9974     11051     13183     16972   \n",
       "94       4827      8103     11035     10990     11131     12401     13288   \n",
       "95       5946      6094     10356     12044     10450     12348     11538   \n",
       "96       8139      8258      8832      7990      8658      9069      8905   \n",
       "97       3055      3578      5884      9198     11546     14859     22819   \n",
       "98       7378      7227      8237      8368      9560      9622      9674   \n",
       "99       9596      8755      8603      7424      7304      7540      8723   \n",
       "100      9167      8442      6519      5668      7901      7498      8662   \n",
       "101      6442      7443      8200      7753      9088      8852      8688   \n",
       "102      6983      7027      8141      7811      8842      8920      8714   \n",
       "103         0         0     13651      6998      9619     10242     18395   \n",
       "104      5751      6244      4827      3494     10132      5043      7189   \n",
       "105      5707      5403      6549      6022      6770      6879      6581   \n",
       "106      4718      4365      6356      5707      8381      6971      8872   \n",
       "107      5523      5656      7925      6379      6930      6429      6267   \n",
       "108      6994      7336     10412     13917         0         0         0   \n",
       "109      2971      4423      4429      4905      8463     10496     14131   \n",
       "110      5503      5430      5682      5951      6385      5999      6153   \n",
       "111      5154      5961      6384      6105      6795      6474      6072   \n",
       "112      4164      3420      3559      3420      5398      7704     15752   \n",
       "113      5418      5673      5267      5071      5361      5465      7393   \n",
       "114      3856      4215      7535      5267      5940      6055      6147   \n",
       "115      4527      5070      5389      5055      5205      4840      4798   \n",
       "116      3128      3135      3799      4205      5776      7381      8728   \n",
       "117      2174      3010      2983      7560      4877      5761      9280   \n",
       "118      8859      6224      4620      6125         0         0         0   \n",
       "119      4088      4140      4680      3991      4167      4118      4417   \n",
       "120      3934      4012      4468      3856      4218      4337      3785   \n",
       "121      2421      2594      2739      3645      4612      5689      7150   \n",
       "122      1962      2599      2332      4606      5995      5558      4790   \n",
       "123      3717      3356      3657      3585      4263      3581      3541   \n",
       "124      3199      3770      3576      3269      3303      2866      3400   \n",
       "125      2833      3747      3370      3000      3758      3999      2761   \n",
       "126      1757      2139      2025      2510      2890      5111      7264   \n",
       "127      3774      1804      2083      1996      2506      2664      3012   \n",
       "128      2560      2529      2560      2448      2463      2303      2077   \n",
       "129      2467      2733      3370      2214      2576      2258      1904   \n",
       "130      1877      1754      1931      1983      2935      3663      3059   \n",
       "131      2423      2039      2006      1721      2183      2188      2712   \n",
       "132      1731      2089      2346      1982      2015      2201      2660   \n",
       "133       890       953      1102      2418      3112      4223      4021   \n",
       "134       970      1007      1476      1623      2128      3192      3834   \n",
       "135      3967      1101      1174       981      1084      1077       991   \n",
       "136       976       995      2365      1846      2091      1858      2616   \n",
       "137      1470      1626      1344      1449      1702      1489      1685   \n",
       "138      1648      1602      1732      1454      1544      1443      1317   \n",
       "139      1232      1341      1703      1685      1997      1782      1806   \n",
       "140      1231      1291      1703      1735      1792      1753      1661   \n",
       "141         0       783       927      1264      2694      3173      4232   \n",
       "142       699      1841      1392       828      1323      1390      2089   \n",
       "143       868       848      1135      1146      1465      1791      2149   \n",
       "144      1207      1770      1334      1106      1007      1016       868   \n",
       "145      1223      1115      1038       793      1142      1049      1333   \n",
       "146      1667      1843      1839      1636         0         0         0   \n",
       "147      1059      1233      1665       931      1175       737       930   \n",
       "148       985       965      1033      1238      1069      1075      1036   \n",
       "149       905       976      1047       884       936      1073      1323   \n",
       "150       856       869       848       788       979       959      1195   \n",
       "151       622       754       884       696       856       930       895   \n",
       "152       717       629       665       556       603       596       611   \n",
       "153       714       728       755       648       637       641       525   \n",
       "154       387       566       397       505      1323       799      1355   \n",
       "155       605       574       608       577       728       852      1013   \n",
       "156       588       611       704       579       665       587       556   \n",
       "157       488       557       542       435       605       601       558   \n",
       "158       295       502       570       601       777       620       668   \n",
       "159       840       885       871       763         0         0         0   \n",
       "160       837       623       906      1258         0         0         0   \n",
       "161       577       508       614       511       560       500       447   \n",
       "162       465       503       584       545       583       533       506   \n",
       "163         0       641       731       546       613       540       571   \n",
       "164       468       460       407       317       421       214       308   \n",
       "165       579       614       673       568         0         0         0   \n",
       "166       234       232       239       352       659       432       507   \n",
       "167       286       355       370       326       434       379       461   \n",
       "168       332       373       366       335       417       303       403   \n",
       "169      1014         0         0         0         0         0         0   \n",
       "170       269       285       346       467       347       332       355   \n",
       "171       292       270       245       193       274       251       278   \n",
       "172       246       218       252       279       336       238       289   \n",
       "173       322       285       297        49        19        22        48   \n",
       "174       623         0         0         0         0         0         0   \n",
       "175       348       293       300         0         0         0         0   \n",
       "176       195       202       196       178       219       208       222   \n",
       "177       168       147       144       134       186       166       175   \n",
       "178       124       133       172        79       127       131       201   \n",
       "179       175       121       140       148       127       156       199   \n",
       "180        63       135       113       205       236       176       169   \n",
       "181       394         0         0         0         0         0         0   \n",
       "182         0       168       204       176       211       187       210   \n",
       "183        98        85       116       110       129       156       174   \n",
       "184        30        32        67       149       164       190       274   \n",
       "185        48        52        71        71       290        80        87   \n",
       "186        82        66        72        75        85        86       179   \n",
       "187       102        55        53        92        83        69       134   \n",
       "188        82        77        78        83        81       102        66   \n",
       "189         0        74        38       109       166       143       125   \n",
       "190         0       105       139       111       104       105        96   \n",
       "191        71        48        68        54        53        59        92   \n",
       "192       181         0         0         0         0         0         0   \n",
       "193        51        37        46        54        44        54        84   \n",
       "194       149         0         0         0         0         0         0   \n",
       "195        33         0        56        42        67        82        85   \n",
       "196        33        54        18        22         0         0         0   \n",
       "197        66        33        40        48         0         0         0   \n",
       "198        23        31        41        35        66        17        26   \n",
       "199        14        18        21        26        36        38        66   \n",
       "200        40        43        43        47         0         0         0   \n",
       "201        20        28        22         9        26        30        27   \n",
       "202        29        37        52        45         0         0         0   \n",
       "203        25        34        29         9        17        22        26   \n",
       "204         0         0        78        49        34        39        18   \n",
       "205         0        20        13        18        29        43        64   \n",
       "206         0        29        18        10        31        42        37   \n",
       "207         0        58        82        18         0         0         0   \n",
       "208        13         6        19        17        12        16        15   \n",
       "209         0        16        36        23        18         0         0   \n",
       "210        10        35        25        11         0         0         0   \n",
       "211         0         0         0         0         0         0         0   \n",
       "\n",
       "     8_years_diff   %_increase     average CountryCode  \n",
       "0        13319156   136.334660  16398798.0         NaN  \n",
       "1         -834324     0.000000   1766056.0         BGD  \n",
       "2         1704082   325.549434   1396680.0         GHA  \n",
       "3          523017    56.391797   1233842.0         UKR  \n",
       "4        -1570316     0.000000   1120794.0         NGA  \n",
       "5         1920413   989.735251   1045804.0         UZB  \n",
       "6         1153925   245.370301    925024.0         IRN  \n",
       "7          632430    98.460116    840876.0         EGY  \n",
       "8          311160    41.745598    805623.0         ETH  \n",
       "9          831134   233.323040    721513.0         NPL  \n",
       "10         685273   209.915393    508631.0         SLE  \n",
       "11         567640   476.092226    345794.0         LBR  \n",
       "12         219380    98.118845    286439.0         KEN  \n",
       "13         237637   125.321429    264688.0         CMR  \n",
       "14         260252   177.432045    246178.0         TUR  \n",
       "15         333029   328.677312    242684.0         RUS  \n",
       "16         433603   613.221796    227064.0         SDN  \n",
       "17         248318   208.823257    193691.0         ALB  \n",
       "18         405225  1137.058758    172883.0         MDA  \n",
       "19         252153   277.995458    167774.0         DZA  \n",
       "20         149887   104.217743    167520.0         MAR  \n",
       "21         322485   841.689722    162645.0         VEN  \n",
       "22         205264   309.416783    160296.0         KHM  \n",
       "23         279364   641.051883    148119.0         GIN  \n",
       "24         205016   330.399188    136828.0         ARM  \n",
       "25         225726   531.520203    115415.0         TGO  \n",
       "26         -92133     0.000000    113433.0         COD  \n",
       "27          47308    51.299624    102585.0         LKA  \n",
       "28          91355   393.686705    102033.0         CUB  \n",
       "29         109037   175.591413     99960.0         BLR  \n",
       "30         -13077   -12.388098     96706.0         DEU  \n",
       "31         212259   676.005605     91797.0         CIV  \n",
       "32         249040  1608.889463     85966.0         YEM  \n",
       "33          31104    71.980006     79564.0         BGR  \n",
       "34         104536   606.533217     73253.0         BEN  \n",
       "35          43838   122.640929     64895.0         ROU  \n",
       "36          90156   282.151911     63267.0         GEO  \n",
       "37          27136    67.489057     54584.0         ZAF  \n",
       "38          -5415     0.000000     54089.0         COG  \n",
       "39          34662    95.482343     53018.0         FRA  \n",
       "40            -44    -0.074683     51791.0         TWN  \n",
       "41           -180    -0.354122     50336.0         JPN  \n",
       "42         -37561   -45.631917     50130.0         MMR  \n",
       "43          55885    83.572604     49613.0         AFG  \n",
       "44          26787    73.602792     45907.0         ERI  \n",
       "45          71144   297.375021     45151.0         JOR  \n",
       "46          75212   413.389029     44652.0         KAZ  \n",
       "47          65139   433.479736     44529.0         SYR  \n",
       "48         124755   595.347173     44456.0         IRQ  \n",
       "49          39171   180.229134     43703.0         ITA  \n",
       "50         107732   660.163000     43563.0         AZE  \n",
       "51          78788   552.045964     43309.0         SAU  \n",
       "52          79002     0.000000     41742.0         POL  \n",
       "53         112636  1180.423391     40086.0         TJK  \n",
       "54          34118   130.251203     38853.0         SEN  \n",
       "55          13363    48.348348     35305.0         LBN  \n",
       "56          34010   170.416395     33767.0         UGA  \n",
       "57          60411   831.649229     32070.0         RWA  \n",
       "58          37379   230.251324     31480.0         SRB  \n",
       "59         -16667   -37.253850     29624.0         IDN  \n",
       "60          62499   634.443204     28546.0         KGZ  \n",
       "61           9361    36.815196     27122.0         MNG  \n",
       "62          34983   285.692119     26135.0         MKD  \n",
       "63          34983   285.692119     26135.0         MKD  \n",
       "64          17904    93.060970     25478.0         ISR  \n",
       "65          45246   295.089024     23778.0         SOM  \n",
       "66          41995   427.473534     23436.0         XKX  \n",
       "67         198685     0.000000     22076.0         ECU  \n",
       "68          21636   239.601329     21154.0         LTU  \n",
       "69          19549   236.728021     20489.0         ESP  \n",
       "70          13581   106.334168     20412.0         AUS  \n",
       "71          31733   343.877330     19970.0         BFA  \n",
       "72          43620   698.143406     19292.0         LBY  \n",
       "73          19038   174.404544     19046.0         KWT  \n",
       "74          10716    95.550602     18416.0         HUN  \n",
       "75              0     0.000000     17771.0         PER  \n",
       "76          20263   254.304719     15542.0         ARE  \n",
       "77           9990   101.720802     13765.0         ARG  \n",
       "78           1563    11.971507     13670.0         MYS  \n",
       "79          18942   285.056433     13666.0         TUN  \n",
       "80          -1134    -9.143687     13186.0         TTO  \n",
       "81          23955   419.453686     12820.0         TKM  \n",
       "82          17905   298.068920     12568.0         HND  \n",
       "83           -304    -2.398044     12239.0         FJI  \n",
       "84           1108    10.514329     12031.0         CHE  \n",
       "85          23592   670.989761     11777.0         BDI  \n",
       "86           4179    52.120229     11682.0         SWE  \n",
       "87          12473   179.855804     11534.0         ZWE  \n",
       "88           4713    49.804502     11434.0         TZA  \n",
       "89           -438    -4.280688     10964.0         IRL  \n",
       "90           2550    24.493324     10575.0         THA  \n",
       "91           3042    37.440000     10355.0         NLD  \n",
       "92          13990   526.335591     10090.0         NER  \n",
       "93          10753   172.905612      9250.0         MLI  \n",
       "94          10186   328.368794      8742.0         GRC  \n",
       "95           7901   217.239483      8543.0         BIH  \n",
       "96            914    11.437868      8445.0         AUT  \n",
       "97          21002  1155.861310      8343.0         AGO  \n",
       "98           4303    80.115435      8051.0         BEL  \n",
       "99           4266    95.714606      7982.0         LVA  \n",
       "100          1119    14.834946      7684.0         BOL  \n",
       "101          2822    48.107740      7671.0         SVK  \n",
       "102          2936    50.813430      7663.0         CZE  \n",
       "103         18395     0.000000      6545.0         GTM  \n",
       "104          2797    63.683971      6205.0         NIC  \n",
       "105          1556    30.965174      6096.0         NZL  \n",
       "106          4508   103.299725      6074.0         CRI  \n",
       "107          2523    67.387821      6018.0         HRV  \n",
       "108         -7398     0.000000      5951.0         HKG  \n",
       "109         12465   748.199280      5944.0         DJI  \n",
       "110           928    17.760766      5791.0         SGP  \n",
       "111          2188    56.333677      5779.0         FIN  \n",
       "112         12574   395.657646      5673.0         CHL  \n",
       "113          2768    59.848649      5483.0         ZMB  \n",
       "114          3081   100.489237      5096.0         PRT  \n",
       "115          1253    35.345557      4738.0         DNK  \n",
       "116          6730   336.836837      4554.0         QAT  \n",
       "117          7260   359.405941      4442.0         TCD  \n",
       "118         -6124     0.000000      4089.0         GMB  \n",
       "119          1716    63.532025      3987.0         EST  \n",
       "120          1090    40.445269      3891.0         NOR  \n",
       "121          5359   299.218314      3623.0         GAB  \n",
       "122          2930   157.526882      3621.0         MDG  \n",
       "123           917    34.946646      3569.0         BHS  \n",
       "124           202     6.316448      3314.0         GUY  \n",
       "125           109     4.110106      3257.0         MUS  \n",
       "126          5868   420.343840      2950.0         MRT  \n",
       "127           866    40.354147      2541.0         BHR  \n",
       "128          -294   -12.399831      2435.0         GBR  \n",
       "129           243    14.629741      2401.0         ISL  \n",
       "130          1385    82.735962      2331.0         URY  \n",
       "131           651    31.586608      2234.0         PAN  \n",
       "132          1011    61.309885      2040.0         MWI  \n",
       "133          3269   434.707447      2026.0         BTN  \n",
       "134          2935   326.473860      1779.0         MNE  \n",
       "135          -759   -43.371429      1659.0         BRB  \n",
       "136          1779   212.544803      1621.0         CAF  \n",
       "137            -7    -0.413712      1584.0         TON  \n",
       "138           -50    -3.657644      1534.0         DMA  \n",
       "139           860    90.909091      1524.0         CYP  \n",
       "140           802    93.364377      1466.0         SVN  \n",
       "141          4232     0.000000      1453.0         SSD  \n",
       "142          1607   333.402490      1319.0         CPV  \n",
       "143          1559   264.237288      1194.0         OMN  \n",
       "144          -145   -14.313919      1156.0         GRD  \n",
       "145           291    27.927063      1125.0         PRY  \n",
       "146         -1182     0.000000      1102.0         LCA  \n",
       "147            -5    -0.534759      1085.0         BLZ  \n",
       "148           199    23.775388      1029.0         NAM  \n",
       "149           559    73.167539       978.0         SUR  \n",
       "150           371    45.024272       929.0         BWA  \n",
       "151           279    45.292208       762.0         MOZ  \n",
       "152          -788   -56.325947       709.0         ABW  \n",
       "153          -301   -36.440678       685.0         ATG  \n",
       "154          1024   309.365559       670.0         GNB  \n",
       "155           533   111.041667       667.0         GNQ  \n",
       "156           210    60.693642       576.0         PYF  \n",
       "157          -123   -18.061674       571.0         LAO  \n",
       "158           268    67.000000       542.0         COM  \n",
       "159          -662     0.000000       539.0         VCT  \n",
       "160          -605     0.000000       537.0         MAC  \n",
       "161           -22    -4.690832       527.0         MLT  \n",
       "162           126    33.157895       508.0         LUX  \n",
       "163           571     0.000000       405.0         CUW  \n",
       "164          -113   -26.840855       393.0         WSM  \n",
       "165          -468     0.000000       393.0         KNA  \n",
       "166           245    93.511450       353.0         LSO  \n",
       "167           223    93.697479       346.0         SWZ  \n",
       "168           195    93.750000       337.0         MDV  \n",
       "169          -770     0.000000       309.0         ANT  \n",
       "170           192   117.791411       307.0         PNG  \n",
       "171           -30    -9.740260       270.0         BRN  \n",
       "172            50    20.920502       263.0         SYC  \n",
       "173          -241   -83.391003       225.0         NIU  \n",
       "174          -428     0.000000       193.0         GLP  \n",
       "175          -373     0.000000       188.0         PRK  \n",
       "176           123   124.242424       184.0         NCL  \n",
       "177          -156   -47.129909       173.0         AND  \n",
       "178           -63   -23.863636       149.0         VUT  \n",
       "179            63    46.323529       148.0         KIR  \n",
       "180            90   113.924051       138.0         NRU  \n",
       "181          -310     0.000000       129.0         MTQ  \n",
       "182           210     0.000000       128.0         MAF  \n",
       "183            62    55.357143       120.0         MCO  \n",
       "184           254  1270.000000       105.0         COK  \n",
       "185            30    52.631579        91.0         STP  \n",
       "186           135   306.818182        85.0         TLS  \n",
       "187            91   211.627907        78.0         SLB  \n",
       "188            21    46.666667        75.0         LIE  \n",
       "189           125     0.000000        73.0         MAF  \n",
       "190            96     0.000000        73.0         FRO  \n",
       "191            12    15.000000        67.0         GRL  \n",
       "192          -177     0.000000        60.0         REU  \n",
       "193           -39   -31.707317        59.0         VAT  \n",
       "194          -132     0.000000        52.0         GUF  \n",
       "195            57   203.571429        48.0         ESH  \n",
       "196           -11     0.000000        47.0         MHL  \n",
       "197           -72     0.000000        36.0         PLW  \n",
       "198             1     4.000000        32.0         TUV  \n",
       "199            40   153.846154        29.0         SMR  \n",
       "200           -31     0.000000        26.0         FSM  \n",
       "201            -2    -6.896552        26.0         WLF  \n",
       "202           -31     0.000000        24.0         ATF  \n",
       "203            -2    -7.142857        24.0         SPM  \n",
       "204            18     0.000000        24.0         NFK  \n",
       "205            64     0.000000        21.0         SJM  \n",
       "206            37     0.000000        19.0         TKL  \n",
       "207             0     0.000000        18.0         BLM  \n",
       "208            -3   -16.666667        13.0         CXR  \n",
       "209             0     0.000000        10.0         MYT  \n",
       "210            -5     0.000000        10.0         NaN  \n",
       "211             0     0.000000         0.0         BRA  "
      ]
     },
     "metadata": {},
     "output_type": "display_data"
    }
   ],
   "source": [
    "data_to_plot = data.merge(country_codes, how = 'left', on = 'Country')\n",
    "#data_to_plot = data_to_plot.iloc[1:, :][['average','CountryCode', 'Country']]\n",
    "with pd.option_context(\"display.max_rows\", 1000):\n",
    "    display(data_to_plot)"
   ]
  },
  {
   "cell_type": "code",
   "execution_count": 9,
   "metadata": {
    "scrolled": false
   },
   "outputs": [
    {
     "data": {
      "application/vnd.plotly.v1+json": {
       "config": {
        "plotlyServerURL": "https://plot.ly"
       },
       "data": [
        {
         "autocolorscale": false,
         "colorbar": {
          "title": {
           "text": "average"
          }
         },
         "colorscale": [
          [
           0,
           "rgb(247,252,240)"
          ],
          [
           0.125,
           "rgb(224,243,219)"
          ],
          [
           0.25,
           "rgb(204,235,197)"
          ],
          [
           0.375,
           "rgb(168,221,181)"
          ],
          [
           0.5,
           "rgb(123,204,196)"
          ],
          [
           0.625,
           "rgb(78,179,211)"
          ],
          [
           0.75,
           "rgb(43,140,190)"
          ],
          [
           0.875,
           "rgb(8,104,172)"
          ],
          [
           1,
           "rgb(8,64,129)"
          ]
         ],
         "locations": [
          "BGD",
          "GHA",
          "UKR",
          "NGA",
          "UZB",
          "IRN",
          "EGY",
          "ETH",
          "NPL",
          "SLE",
          "LBR",
          "KEN",
          "CMR",
          "TUR",
          "RUS",
          "SDN",
          "ALB",
          "MDA",
          "DZA",
          "MAR",
          "VEN",
          "KHM",
          "GIN",
          "ARM",
          "TGO",
          "COD",
          "LKA",
          "CUB",
          "BLR",
          "DEU",
          "CIV",
          "YEM",
          "BGR",
          "BEN",
          "ROU",
          "GEO",
          "ZAF",
          "COG",
          "FRA",
          "TWN",
          "JPN",
          "MMR",
          "AFG",
          "ERI",
          "JOR",
          "KAZ",
          "SYR",
          "IRQ",
          "ITA",
          "AZE",
          "SAU",
          "POL",
          "TJK",
          "SEN",
          "LBN",
          "UGA",
          "RWA",
          "SRB",
          "IDN",
          "KGZ",
          "MNG",
          "MKD",
          "MKD",
          "ISR",
          "SOM",
          "XKX",
          "ECU",
          "LTU",
          "ESP",
          "AUS",
          "BFA",
          "LBY",
          "KWT",
          "HUN",
          "PER",
          "ARE",
          "ARG",
          "MYS",
          "TUN",
          "TTO",
          "TKM",
          "HND",
          "FJI",
          "CHE",
          "BDI",
          "SWE",
          "ZWE",
          "TZA",
          "IRL",
          "THA",
          "NLD",
          "NER",
          "MLI",
          "GRC",
          "BIH",
          "AUT",
          "AGO",
          "BEL",
          "LVA",
          "BOL",
          "SVK",
          "CZE",
          "GTM",
          "NIC",
          "NZL",
          "CRI",
          "HRV",
          "HKG",
          "DJI",
          "SGP",
          "FIN",
          "CHL",
          "ZMB",
          "PRT",
          "DNK",
          "QAT",
          "TCD",
          "GMB",
          "EST",
          "NOR",
          "GAB",
          "MDG",
          "BHS",
          "GUY",
          "MUS",
          "MRT",
          "BHR",
          "GBR",
          "ISL",
          "URY",
          "PAN",
          "MWI",
          "BTN",
          "MNE",
          "BRB",
          "CAF",
          "TON",
          "DMA",
          "CYP",
          "SVN",
          "SSD",
          "CPV",
          "OMN",
          "GRD",
          "PRY",
          "LCA",
          "BLZ",
          "NAM",
          "SUR",
          "BWA",
          "MOZ",
          "ABW",
          "ATG",
          "GNB",
          "GNQ",
          "PYF",
          "LAO",
          "COM",
          "VCT",
          "MAC",
          "MLT",
          "LUX",
          "CUW",
          "WSM",
          "KNA",
          "LSO",
          "SWZ",
          "MDV",
          "ANT",
          "PNG",
          "BRN",
          "SYC",
          "NIU",
          "GLP",
          "PRK",
          "NCL",
          "AND",
          "VUT",
          "KIR",
          "NRU",
          "MTQ",
          "MAF",
          "MCO",
          "COK",
          "STP",
          "TLS",
          "SLB",
          "LIE",
          "MAF",
          "FRO",
          "GRL",
          "REU",
          "VAT",
          "GUF",
          "ESH",
          "MHL",
          "PLW",
          "TUV",
          "SMR",
          "FSM",
          "WLF",
          "ATF",
          "SPM",
          "NFK",
          "SJM",
          "TKL",
          "BLM",
          "CXR",
          "MYT",
          null,
          "BRA"
         ],
         "marker": {
          "line": {
           "color": "darkgray",
           "width": 0.5
          }
         },
         "reversescale": true,
         "text": [
          "Bangladesh",
          "Ghana",
          "Ukraine",
          "Nigeria",
          "Uzbekistan",
          "Iran",
          "Egypt",
          "Ethiopia",
          "Nepal",
          "Sierra Leone",
          "Liberia",
          "Kenya",
          "Cameroon",
          "Turkey",
          "Russia",
          "Sudan",
          "Albania",
          "Moldova",
          "Algeria",
          "Morocco",
          "Venezuela",
          "Cambodia",
          "Guinea",
          "Armenia",
          "Togo",
          "Democratic Republic of the Congo",
          "Sri Lanka",
          "Cuba",
          "Belarus",
          "Germany",
          "Cote d'Ivoire",
          "Yemen",
          "Bulgaria",
          "Benin",
          "Romania",
          "Georgia",
          "South Africa",
          "Congo",
          "France",
          "Taiwan",
          "Japan",
          "Myanmar",
          "Afghanistan",
          "Eritrea",
          "Jordan",
          "Kazakhstan",
          "Syria",
          "Iraq",
          "Italy",
          "Azerbaijan",
          "Saudi Arabia",
          "Poland",
          "Tajikistan",
          "Senegal",
          "Lebanon",
          "Uganda",
          "Rwanda",
          "Serbia",
          "Indonesia",
          "Kyrgyzstan",
          "Mongolia",
          "Macedonia",
          "Macedonia",
          "Israel",
          "Somalia",
          "Kosovo",
          "Ecuador",
          "Lithuania",
          "Spain",
          "Australia",
          "Burkina Faso",
          "Libya",
          "Kuwait",
          "Hungary",
          "Peru",
          "United Arab Emirates",
          "Argentina",
          "Malaysia",
          "Tunisia",
          "Trinidad and Tobago",
          "Turkmenistan",
          "Honduras",
          "Fiji",
          "Switzerland",
          "Burundi",
          "Sweden",
          "Zimbabwe",
          "Tanzania",
          "Ireland",
          "Thailand",
          "Netherlands",
          "Niger",
          "Mali",
          "Greece",
          "Bosnia and Herzegovina",
          "Austria",
          "Angola",
          "Belgium",
          "Latvia",
          "Bolivia",
          "Slovakia",
          "Czech Republic",
          "Guatemala",
          "Nicaragua",
          "New Zealand",
          "Costa Rica",
          "Croatia",
          "Hong Kong Special Administrative Region",
          "Djibouti",
          "Singapore",
          "Finland",
          "Chile",
          "Zambia",
          "Portugal",
          "Denmark",
          "Qatar",
          "Chad",
          "Gambia",
          "Estonia",
          "Norway",
          "Gabon",
          "Madagascar",
          "Bahamas",
          "Guyana",
          "Mauritius",
          "Mauritania",
          "Bahrain",
          "Northern Ireland",
          "Iceland",
          "Uruguay",
          "Panama",
          "Malawi",
          "Bhutan",
          "Montenegro",
          "Barbados",
          "Central African Republic",
          "Tonga",
          "Dominica",
          "Cyprus",
          "Slovenia",
          "South Sudan",
          "Cape Verde",
          "Oman",
          "Grenada",
          "Paraguay",
          "Saint Lucia",
          "Belize",
          "Namibia",
          "Suriname",
          "Botswana",
          "Mozambique",
          "Aruba",
          "Antigua and Barbuda",
          "Guinea-Bissau",
          "Equatorial Guinea",
          "French Polynesia",
          "Laos",
          "Comoros",
          "Saint Vincent and the Grenadines",
          "Macau Special Administrative Region",
          "Malta",
          "Luxembourg",
          "Curacao",
          "Samoa",
          "Saint Kitts and Nevis",
          "Lesotho",
          "Swaziland",
          "Maldives",
          "Netherlands Antilles",
          "Papua New Guinea",
          "Brunei",
          "Seychelles",
          "Niue",
          "Guadeloupe",
          "North Korea",
          "New Caledonia",
          "Andorra",
          "Vanuatu",
          "Kiribati",
          "Nauru",
          "Martinique",
          "Saint Martin",
          "Monaco",
          "Cook Islands",
          "Sao Tome and Principe",
          "Timor-Leste",
          "Solomon Islands",
          "Liechtenstein",
          "Saint Martin",
          "Faroe Islands",
          "Greenland",
          "Reunion",
          "Vatican City",
          "French Guiana",
          "Western Sahara",
          "Marshall Islands",
          "Palau",
          "Tuvalu",
          "San Marino",
          "Micronesia, Federated States of",
          "Wallis and Futuna",
          "French Southern and Antarctic Lands",
          "Saint Pierre and Miquelon",
          "Norfolk Island",
          "Svalbard",
          "Tokelau",
          "Saint Barthelemy",
          "Christmas Island",
          "Mayotte",
          "Cocos Islands",
          "Brazil"
         ],
         "type": "choropleth",
         "z": [
          1766056,
          1396680,
          1233842,
          1120794,
          1045804,
          925024,
          840876,
          805623,
          721513,
          508631,
          345794,
          286439,
          264688,
          246178,
          242684,
          227064,
          193691,
          172883,
          167774,
          167520,
          162645,
          160296,
          148119,
          136828,
          115415,
          113433,
          102585,
          102033,
          99960,
          96706,
          91797,
          85966,
          79564,
          73253,
          64895,
          63267,
          54584,
          54089,
          53018,
          51791,
          50336,
          50130,
          49613,
          45907,
          45151,
          44652,
          44529,
          44456,
          43703,
          43563,
          43309,
          41742,
          40086,
          38853,
          35305,
          33767,
          32070,
          31480,
          29624,
          28546,
          27122,
          26135,
          26135,
          25478,
          23778,
          23436,
          22076,
          21154,
          20489,
          20412,
          19970,
          19292,
          19046,
          18416,
          17771,
          15542,
          13765,
          13670,
          13666,
          13186,
          12820,
          12568,
          12239,
          12031,
          11777,
          11682,
          11534,
          11434,
          10964,
          10575,
          10355,
          10090,
          9250,
          8742,
          8543,
          8445,
          8343,
          8051,
          7982,
          7684,
          7671,
          7663,
          6545,
          6205,
          6096,
          6074,
          6018,
          5951,
          5944,
          5791,
          5779,
          5673,
          5483,
          5096,
          4738,
          4554,
          4442,
          4089,
          3987,
          3891,
          3623,
          3621,
          3569,
          3314,
          3257,
          2950,
          2541,
          2435,
          2401,
          2331,
          2234,
          2040,
          2026,
          1779,
          1659,
          1621,
          1584,
          1534,
          1524,
          1466,
          1453,
          1319,
          1194,
          1156,
          1125,
          1102,
          1085,
          1029,
          978,
          929,
          762,
          709,
          685,
          670,
          667,
          576,
          571,
          542,
          539,
          537,
          527,
          508,
          405,
          393,
          393,
          353,
          346,
          337,
          309,
          307,
          270,
          263,
          225,
          193,
          188,
          184,
          173,
          149,
          148,
          138,
          129,
          128,
          120,
          105,
          91,
          85,
          78,
          75,
          73,
          73,
          67,
          60,
          59,
          52,
          48,
          47,
          36,
          32,
          29,
          26,
          26,
          24,
          24,
          24,
          21,
          19,
          18,
          13,
          10,
          10,
          0
         ]
        }
       ],
       "layout": {
        "annotations": [
         {
          "showarrow": false,
          "x": 0.55,
          "xref": "paper",
          "y": 0.1,
          "yref": "paper"
         }
        ],
        "geo": {
         "projection": {
          "type": "equirectangular"
         },
         "showcoastlines": false,
         "showframe": false
        },
        "template": {
         "data": {
          "bar": [
           {
            "error_x": {
             "color": "#2a3f5f"
            },
            "error_y": {
             "color": "#2a3f5f"
            },
            "marker": {
             "line": {
              "color": "#E5ECF6",
              "width": 0.5
             }
            },
            "type": "bar"
           }
          ],
          "barpolar": [
           {
            "marker": {
             "line": {
              "color": "#E5ECF6",
              "width": 0.5
             }
            },
            "type": "barpolar"
           }
          ],
          "carpet": [
           {
            "aaxis": {
             "endlinecolor": "#2a3f5f",
             "gridcolor": "white",
             "linecolor": "white",
             "minorgridcolor": "white",
             "startlinecolor": "#2a3f5f"
            },
            "baxis": {
             "endlinecolor": "#2a3f5f",
             "gridcolor": "white",
             "linecolor": "white",
             "minorgridcolor": "white",
             "startlinecolor": "#2a3f5f"
            },
            "type": "carpet"
           }
          ],
          "choropleth": [
           {
            "colorbar": {
             "outlinewidth": 0,
             "ticks": ""
            },
            "type": "choropleth"
           }
          ],
          "contour": [
           {
            "colorbar": {
             "outlinewidth": 0,
             "ticks": ""
            },
            "colorscale": [
             [
              0,
              "#0d0887"
             ],
             [
              0.1111111111111111,
              "#46039f"
             ],
             [
              0.2222222222222222,
              "#7201a8"
             ],
             [
              0.3333333333333333,
              "#9c179e"
             ],
             [
              0.4444444444444444,
              "#bd3786"
             ],
             [
              0.5555555555555556,
              "#d8576b"
             ],
             [
              0.6666666666666666,
              "#ed7953"
             ],
             [
              0.7777777777777778,
              "#fb9f3a"
             ],
             [
              0.8888888888888888,
              "#fdca26"
             ],
             [
              1,
              "#f0f921"
             ]
            ],
            "type": "contour"
           }
          ],
          "contourcarpet": [
           {
            "colorbar": {
             "outlinewidth": 0,
             "ticks": ""
            },
            "type": "contourcarpet"
           }
          ],
          "heatmap": [
           {
            "colorbar": {
             "outlinewidth": 0,
             "ticks": ""
            },
            "colorscale": [
             [
              0,
              "#0d0887"
             ],
             [
              0.1111111111111111,
              "#46039f"
             ],
             [
              0.2222222222222222,
              "#7201a8"
             ],
             [
              0.3333333333333333,
              "#9c179e"
             ],
             [
              0.4444444444444444,
              "#bd3786"
             ],
             [
              0.5555555555555556,
              "#d8576b"
             ],
             [
              0.6666666666666666,
              "#ed7953"
             ],
             [
              0.7777777777777778,
              "#fb9f3a"
             ],
             [
              0.8888888888888888,
              "#fdca26"
             ],
             [
              1,
              "#f0f921"
             ]
            ],
            "type": "heatmap"
           }
          ],
          "heatmapgl": [
           {
            "colorbar": {
             "outlinewidth": 0,
             "ticks": ""
            },
            "colorscale": [
             [
              0,
              "#0d0887"
             ],
             [
              0.1111111111111111,
              "#46039f"
             ],
             [
              0.2222222222222222,
              "#7201a8"
             ],
             [
              0.3333333333333333,
              "#9c179e"
             ],
             [
              0.4444444444444444,
              "#bd3786"
             ],
             [
              0.5555555555555556,
              "#d8576b"
             ],
             [
              0.6666666666666666,
              "#ed7953"
             ],
             [
              0.7777777777777778,
              "#fb9f3a"
             ],
             [
              0.8888888888888888,
              "#fdca26"
             ],
             [
              1,
              "#f0f921"
             ]
            ],
            "type": "heatmapgl"
           }
          ],
          "histogram": [
           {
            "marker": {
             "colorbar": {
              "outlinewidth": 0,
              "ticks": ""
             }
            },
            "type": "histogram"
           }
          ],
          "histogram2d": [
           {
            "colorbar": {
             "outlinewidth": 0,
             "ticks": ""
            },
            "colorscale": [
             [
              0,
              "#0d0887"
             ],
             [
              0.1111111111111111,
              "#46039f"
             ],
             [
              0.2222222222222222,
              "#7201a8"
             ],
             [
              0.3333333333333333,
              "#9c179e"
             ],
             [
              0.4444444444444444,
              "#bd3786"
             ],
             [
              0.5555555555555556,
              "#d8576b"
             ],
             [
              0.6666666666666666,
              "#ed7953"
             ],
             [
              0.7777777777777778,
              "#fb9f3a"
             ],
             [
              0.8888888888888888,
              "#fdca26"
             ],
             [
              1,
              "#f0f921"
             ]
            ],
            "type": "histogram2d"
           }
          ],
          "histogram2dcontour": [
           {
            "colorbar": {
             "outlinewidth": 0,
             "ticks": ""
            },
            "colorscale": [
             [
              0,
              "#0d0887"
             ],
             [
              0.1111111111111111,
              "#46039f"
             ],
             [
              0.2222222222222222,
              "#7201a8"
             ],
             [
              0.3333333333333333,
              "#9c179e"
             ],
             [
              0.4444444444444444,
              "#bd3786"
             ],
             [
              0.5555555555555556,
              "#d8576b"
             ],
             [
              0.6666666666666666,
              "#ed7953"
             ],
             [
              0.7777777777777778,
              "#fb9f3a"
             ],
             [
              0.8888888888888888,
              "#fdca26"
             ],
             [
              1,
              "#f0f921"
             ]
            ],
            "type": "histogram2dcontour"
           }
          ],
          "mesh3d": [
           {
            "colorbar": {
             "outlinewidth": 0,
             "ticks": ""
            },
            "type": "mesh3d"
           }
          ],
          "parcoords": [
           {
            "line": {
             "colorbar": {
              "outlinewidth": 0,
              "ticks": ""
             }
            },
            "type": "parcoords"
           }
          ],
          "pie": [
           {
            "automargin": true,
            "type": "pie"
           }
          ],
          "scatter": [
           {
            "marker": {
             "colorbar": {
              "outlinewidth": 0,
              "ticks": ""
             }
            },
            "type": "scatter"
           }
          ],
          "scatter3d": [
           {
            "line": {
             "colorbar": {
              "outlinewidth": 0,
              "ticks": ""
             }
            },
            "marker": {
             "colorbar": {
              "outlinewidth": 0,
              "ticks": ""
             }
            },
            "type": "scatter3d"
           }
          ],
          "scattercarpet": [
           {
            "marker": {
             "colorbar": {
              "outlinewidth": 0,
              "ticks": ""
             }
            },
            "type": "scattercarpet"
           }
          ],
          "scattergeo": [
           {
            "marker": {
             "colorbar": {
              "outlinewidth": 0,
              "ticks": ""
             }
            },
            "type": "scattergeo"
           }
          ],
          "scattergl": [
           {
            "marker": {
             "colorbar": {
              "outlinewidth": 0,
              "ticks": ""
             }
            },
            "type": "scattergl"
           }
          ],
          "scattermapbox": [
           {
            "marker": {
             "colorbar": {
              "outlinewidth": 0,
              "ticks": ""
             }
            },
            "type": "scattermapbox"
           }
          ],
          "scatterpolar": [
           {
            "marker": {
             "colorbar": {
              "outlinewidth": 0,
              "ticks": ""
             }
            },
            "type": "scatterpolar"
           }
          ],
          "scatterpolargl": [
           {
            "marker": {
             "colorbar": {
              "outlinewidth": 0,
              "ticks": ""
             }
            },
            "type": "scatterpolargl"
           }
          ],
          "scatterternary": [
           {
            "marker": {
             "colorbar": {
              "outlinewidth": 0,
              "ticks": ""
             }
            },
            "type": "scatterternary"
           }
          ],
          "surface": [
           {
            "colorbar": {
             "outlinewidth": 0,
             "ticks": ""
            },
            "colorscale": [
             [
              0,
              "#0d0887"
             ],
             [
              0.1111111111111111,
              "#46039f"
             ],
             [
              0.2222222222222222,
              "#7201a8"
             ],
             [
              0.3333333333333333,
              "#9c179e"
             ],
             [
              0.4444444444444444,
              "#bd3786"
             ],
             [
              0.5555555555555556,
              "#d8576b"
             ],
             [
              0.6666666666666666,
              "#ed7953"
             ],
             [
              0.7777777777777778,
              "#fb9f3a"
             ],
             [
              0.8888888888888888,
              "#fdca26"
             ],
             [
              1,
              "#f0f921"
             ]
            ],
            "type": "surface"
           }
          ],
          "table": [
           {
            "cells": {
             "fill": {
              "color": "#EBF0F8"
             },
             "line": {
              "color": "white"
             }
            },
            "header": {
             "fill": {
              "color": "#C8D4E3"
             },
             "line": {
              "color": "white"
             }
            },
            "type": "table"
           }
          ]
         },
         "layout": {
          "annotationdefaults": {
           "arrowcolor": "#2a3f5f",
           "arrowhead": 0,
           "arrowwidth": 1
          },
          "coloraxis": {
           "colorbar": {
            "outlinewidth": 0,
            "ticks": ""
           }
          },
          "colorscale": {
           "diverging": [
            [
             0,
             "#8e0152"
            ],
            [
             0.1,
             "#c51b7d"
            ],
            [
             0.2,
             "#de77ae"
            ],
            [
             0.3,
             "#f1b6da"
            ],
            [
             0.4,
             "#fde0ef"
            ],
            [
             0.5,
             "#f7f7f7"
            ],
            [
             0.6,
             "#e6f5d0"
            ],
            [
             0.7,
             "#b8e186"
            ],
            [
             0.8,
             "#7fbc41"
            ],
            [
             0.9,
             "#4d9221"
            ],
            [
             1,
             "#276419"
            ]
           ],
           "sequential": [
            [
             0,
             "#0d0887"
            ],
            [
             0.1111111111111111,
             "#46039f"
            ],
            [
             0.2222222222222222,
             "#7201a8"
            ],
            [
             0.3333333333333333,
             "#9c179e"
            ],
            [
             0.4444444444444444,
             "#bd3786"
            ],
            [
             0.5555555555555556,
             "#d8576b"
            ],
            [
             0.6666666666666666,
             "#ed7953"
            ],
            [
             0.7777777777777778,
             "#fb9f3a"
            ],
            [
             0.8888888888888888,
             "#fdca26"
            ],
            [
             1,
             "#f0f921"
            ]
           ],
           "sequentialminus": [
            [
             0,
             "#0d0887"
            ],
            [
             0.1111111111111111,
             "#46039f"
            ],
            [
             0.2222222222222222,
             "#7201a8"
            ],
            [
             0.3333333333333333,
             "#9c179e"
            ],
            [
             0.4444444444444444,
             "#bd3786"
            ],
            [
             0.5555555555555556,
             "#d8576b"
            ],
            [
             0.6666666666666666,
             "#ed7953"
            ],
            [
             0.7777777777777778,
             "#fb9f3a"
            ],
            [
             0.8888888888888888,
             "#fdca26"
            ],
            [
             1,
             "#f0f921"
            ]
           ]
          },
          "colorway": [
           "#636efa",
           "#EF553B",
           "#00cc96",
           "#ab63fa",
           "#FFA15A",
           "#19d3f3",
           "#FF6692",
           "#B6E880",
           "#FF97FF",
           "#FECB52"
          ],
          "font": {
           "color": "#2a3f5f"
          },
          "geo": {
           "bgcolor": "white",
           "lakecolor": "white",
           "landcolor": "#E5ECF6",
           "showlakes": true,
           "showland": true,
           "subunitcolor": "white"
          },
          "hoverlabel": {
           "align": "left"
          },
          "hovermode": "closest",
          "mapbox": {
           "style": "light"
          },
          "paper_bgcolor": "white",
          "plot_bgcolor": "#E5ECF6",
          "polar": {
           "angularaxis": {
            "gridcolor": "white",
            "linecolor": "white",
            "ticks": ""
           },
           "bgcolor": "#E5ECF6",
           "radialaxis": {
            "gridcolor": "white",
            "linecolor": "white",
            "ticks": ""
           }
          },
          "scene": {
           "xaxis": {
            "backgroundcolor": "#E5ECF6",
            "gridcolor": "white",
            "gridwidth": 2,
            "linecolor": "white",
            "showbackground": true,
            "ticks": "",
            "zerolinecolor": "white"
           },
           "yaxis": {
            "backgroundcolor": "#E5ECF6",
            "gridcolor": "white",
            "gridwidth": 2,
            "linecolor": "white",
            "showbackground": true,
            "ticks": "",
            "zerolinecolor": "white"
           },
           "zaxis": {
            "backgroundcolor": "#E5ECF6",
            "gridcolor": "white",
            "gridwidth": 2,
            "linecolor": "white",
            "showbackground": true,
            "ticks": "",
            "zerolinecolor": "white"
           }
          },
          "shapedefaults": {
           "line": {
            "color": "#2a3f5f"
           }
          },
          "ternary": {
           "aaxis": {
            "gridcolor": "white",
            "linecolor": "white",
            "ticks": ""
           },
           "baxis": {
            "gridcolor": "white",
            "linecolor": "white",
            "ticks": ""
           },
           "bgcolor": "#E5ECF6",
           "caxis": {
            "gridcolor": "white",
            "linecolor": "white",
            "ticks": ""
           }
          },
          "title": {
           "x": 0.05
          },
          "xaxis": {
           "automargin": true,
           "gridcolor": "white",
           "linecolor": "white",
           "ticks": "",
           "title": {
            "standoff": 15
           },
           "zerolinecolor": "white",
           "zerolinewidth": 2
          },
          "yaxis": {
           "automargin": true,
           "gridcolor": "white",
           "linecolor": "white",
           "ticks": "",
           "title": {
            "standoff": 15
           },
           "zerolinecolor": "white",
           "zerolinewidth": 2
          }
         }
        },
        "title": {
         "text": "Average Number of DV Lottery Application"
        }
       }
      },
      "text/html": [
       "<div>\n",
       "        \n",
       "        \n",
       "            <div id=\"1242c994-8972-4d80-9cb7-145f8b73581a\" class=\"plotly-graph-div\" style=\"height:525px; width:100%;\"></div>\n",
       "            <script type=\"text/javascript\">\n",
       "                require([\"plotly\"], function(Plotly) {\n",
       "                    window.PLOTLYENV=window.PLOTLYENV || {};\n",
       "                    \n",
       "                if (document.getElementById(\"1242c994-8972-4d80-9cb7-145f8b73581a\")) {\n",
       "                    Plotly.newPlot(\n",
       "                        '1242c994-8972-4d80-9cb7-145f8b73581a',\n",
       "                        [{\"autocolorscale\": false, \"colorbar\": {\"title\": {\"text\": \"average\"}}, \"colorscale\": [[0.0, \"rgb(247,252,240)\"], [0.125, \"rgb(224,243,219)\"], [0.25, \"rgb(204,235,197)\"], [0.375, \"rgb(168,221,181)\"], [0.5, \"rgb(123,204,196)\"], [0.625, \"rgb(78,179,211)\"], [0.75, \"rgb(43,140,190)\"], [0.875, \"rgb(8,104,172)\"], [1.0, \"rgb(8,64,129)\"]], \"locations\": [\"BGD\", \"GHA\", \"UKR\", \"NGA\", \"UZB\", \"IRN\", \"EGY\", \"ETH\", \"NPL\", \"SLE\", \"LBR\", \"KEN\", \"CMR\", \"TUR\", \"RUS\", \"SDN\", \"ALB\", \"MDA\", \"DZA\", \"MAR\", \"VEN\", \"KHM\", \"GIN\", \"ARM\", \"TGO\", \"COD\", \"LKA\", \"CUB\", \"BLR\", \"DEU\", \"CIV\", \"YEM\", \"BGR\", \"BEN\", \"ROU\", \"GEO\", \"ZAF\", \"COG\", \"FRA\", \"TWN\", \"JPN\", \"MMR\", \"AFG\", \"ERI\", \"JOR\", \"KAZ\", \"SYR\", \"IRQ\", \"ITA\", \"AZE\", \"SAU\", \"POL\", \"TJK\", \"SEN\", \"LBN\", \"UGA\", \"RWA\", \"SRB\", \"IDN\", \"KGZ\", \"MNG\", \"MKD\", \"MKD\", \"ISR\", \"SOM\", \"XKX\", \"ECU\", \"LTU\", \"ESP\", \"AUS\", \"BFA\", \"LBY\", \"KWT\", \"HUN\", \"PER\", \"ARE\", \"ARG\", \"MYS\", \"TUN\", \"TTO\", \"TKM\", \"HND\", \"FJI\", \"CHE\", \"BDI\", \"SWE\", \"ZWE\", \"TZA\", \"IRL\", \"THA\", \"NLD\", \"NER\", \"MLI\", \"GRC\", \"BIH\", \"AUT\", \"AGO\", \"BEL\", \"LVA\", \"BOL\", \"SVK\", \"CZE\", \"GTM\", \"NIC\", \"NZL\", \"CRI\", \"HRV\", \"HKG\", \"DJI\", \"SGP\", \"FIN\", \"CHL\", \"ZMB\", \"PRT\", \"DNK\", \"QAT\", \"TCD\", \"GMB\", \"EST\", \"NOR\", \"GAB\", \"MDG\", \"BHS\", \"GUY\", \"MUS\", \"MRT\", \"BHR\", \"GBR\", \"ISL\", \"URY\", \"PAN\", \"MWI\", \"BTN\", \"MNE\", \"BRB\", \"CAF\", \"TON\", \"DMA\", \"CYP\", \"SVN\", \"SSD\", \"CPV\", \"OMN\", \"GRD\", \"PRY\", \"LCA\", \"BLZ\", \"NAM\", \"SUR\", \"BWA\", \"MOZ\", \"ABW\", \"ATG\", \"GNB\", \"GNQ\", \"PYF\", \"LAO\", \"COM\", \"VCT\", \"MAC\", \"MLT\", \"LUX\", \"CUW\", \"WSM\", \"KNA\", \"LSO\", \"SWZ\", \"MDV\", \"ANT\", \"PNG\", \"BRN\", \"SYC\", \"NIU\", \"GLP\", \"PRK\", \"NCL\", \"AND\", \"VUT\", \"KIR\", \"NRU\", \"MTQ\", \"MAF\", \"MCO\", \"COK\", \"STP\", \"TLS\", \"SLB\", \"LIE\", \"MAF\", \"FRO\", \"GRL\", \"REU\", \"VAT\", \"GUF\", \"ESH\", \"MHL\", \"PLW\", \"TUV\", \"SMR\", \"FSM\", \"WLF\", \"ATF\", \"SPM\", \"NFK\", \"SJM\", \"TKL\", \"BLM\", \"CXR\", \"MYT\", null, \"BRA\"], \"marker\": {\"line\": {\"color\": \"darkgray\", \"width\": 0.5}}, \"reversescale\": true, \"text\": [\"Bangladesh\", \"Ghana\", \"Ukraine\", \"Nigeria\", \"Uzbekistan\", \"Iran\", \"Egypt\", \"Ethiopia\", \"Nepal\", \"Sierra Leone\", \"Liberia\", \"Kenya\", \"Cameroon\", \"Turkey\", \"Russia\", \"Sudan\", \"Albania\", \"Moldova\", \"Algeria\", \"Morocco\", \"Venezuela\", \"Cambodia\", \"Guinea\", \"Armenia\", \"Togo\", \"Democratic Republic of the Congo\", \"Sri Lanka\", \"Cuba\", \"Belarus\", \"Germany\", \"Cote d'Ivoire\", \"Yemen\", \"Bulgaria\", \"Benin\", \"Romania\", \"Georgia\", \"South Africa\", \"Congo\", \"France\", \"Taiwan\", \"Japan\", \"Myanmar\", \"Afghanistan\", \"Eritrea\", \"Jordan\", \"Kazakhstan\", \"Syria\", \"Iraq\", \"Italy\", \"Azerbaijan\", \"Saudi Arabia\", \"Poland\", \"Tajikistan\", \"Senegal\", \"Lebanon\", \"Uganda\", \"Rwanda\", \"Serbia\", \"Indonesia\", \"Kyrgyzstan\", \"Mongolia\", \"Macedonia\", \"Macedonia\", \"Israel\", \"Somalia\", \"Kosovo\", \"Ecuador\", \"Lithuania\", \"Spain\", \"Australia\", \"Burkina Faso\", \"Libya\", \"Kuwait\", \"Hungary\", \"Peru\", \"United Arab Emirates\", \"Argentina\", \"Malaysia\", \"Tunisia\", \"Trinidad and Tobago\", \"Turkmenistan\", \"Honduras\", \"Fiji\", \"Switzerland\", \"Burundi\", \"Sweden\", \"Zimbabwe\", \"Tanzania\", \"Ireland\", \"Thailand\", \"Netherlands\", \"Niger\", \"Mali\", \"Greece\", \"Bosnia and Herzegovina\", \"Austria\", \"Angola\", \"Belgium\", \"Latvia\", \"Bolivia\", \"Slovakia\", \"Czech Republic\", \"Guatemala\", \"Nicaragua\", \"New Zealand\", \"Costa Rica\", \"Croatia\", \"Hong Kong Special Administrative Region\", \"Djibouti\", \"Singapore\", \"Finland\", \"Chile\", \"Zambia\", \"Portugal\", \"Denmark\", \"Qatar\", \"Chad\", \"Gambia\", \"Estonia\", \"Norway\", \"Gabon\", \"Madagascar\", \"Bahamas\", \"Guyana\", \"Mauritius\", \"Mauritania\", \"Bahrain\", \"Northern Ireland\", \"Iceland\", \"Uruguay\", \"Panama\", \"Malawi\", \"Bhutan\", \"Montenegro\", \"Barbados\", \"Central African Republic\", \"Tonga\", \"Dominica\", \"Cyprus\", \"Slovenia\", \"South Sudan\", \"Cape Verde\", \"Oman\", \"Grenada\", \"Paraguay\", \"Saint Lucia\", \"Belize\", \"Namibia\", \"Suriname\", \"Botswana\", \"Mozambique\", \"Aruba\", \"Antigua and Barbuda\", \"Guinea-Bissau\", \"Equatorial Guinea\", \"French Polynesia\", \"Laos\", \"Comoros\", \"Saint Vincent and the Grenadines\", \"Macau Special Administrative Region\", \"Malta\", \"Luxembourg\", \"Curacao\", \"Samoa\", \"Saint Kitts and Nevis\", \"Lesotho\", \"Swaziland\", \"Maldives\", \"Netherlands Antilles\", \"Papua New Guinea\", \"Brunei\", \"Seychelles\", \"Niue\", \"Guadeloupe\", \"North Korea\", \"New Caledonia\", \"Andorra\", \"Vanuatu\", \"Kiribati\", \"Nauru\", \"Martinique\", \"Saint Martin\", \"Monaco\", \"Cook Islands\", \"Sao Tome and Principe\", \"Timor-Leste\", \"Solomon Islands\", \"Liechtenstein\", \"Saint Martin\", \"Faroe Islands\", \"Greenland\", \"Reunion\", \"Vatican City\", \"French Guiana\", \"Western Sahara\", \"Marshall Islands\", \"Palau\", \"Tuvalu\", \"San Marino\", \"Micronesia, Federated States of\", \"Wallis and Futuna\", \"French Southern and Antarctic Lands\", \"Saint Pierre and Miquelon\", \"Norfolk Island\", \"Svalbard\", \"Tokelau\", \"Saint Barthelemy\", \"Christmas Island\", \"Mayotte\", \"Cocos Islands\", \"Brazil\"], \"type\": \"choropleth\", \"z\": [1766056.0, 1396680.0, 1233842.0, 1120794.0, 1045804.0, 925024.0, 840876.0, 805623.0, 721513.0, 508631.0, 345794.0, 286439.0, 264688.0, 246178.0, 242684.0, 227064.0, 193691.0, 172883.0, 167774.0, 167520.0, 162645.0, 160296.0, 148119.0, 136828.0, 115415.0, 113433.0, 102585.0, 102033.0, 99960.0, 96706.0, 91797.0, 85966.0, 79564.0, 73253.0, 64895.0, 63267.0, 54584.0, 54089.0, 53018.0, 51791.0, 50336.0, 50130.0, 49613.0, 45907.0, 45151.0, 44652.0, 44529.0, 44456.0, 43703.0, 43563.0, 43309.0, 41742.0, 40086.0, 38853.0, 35305.0, 33767.0, 32070.0, 31480.0, 29624.0, 28546.0, 27122.0, 26135.0, 26135.0, 25478.0, 23778.0, 23436.0, 22076.0, 21154.0, 20489.0, 20412.0, 19970.0, 19292.0, 19046.0, 18416.0, 17771.0, 15542.0, 13765.0, 13670.0, 13666.0, 13186.0, 12820.0, 12568.0, 12239.0, 12031.0, 11777.0, 11682.0, 11534.0, 11434.0, 10964.0, 10575.0, 10355.0, 10090.0, 9250.0, 8742.0, 8543.0, 8445.0, 8343.0, 8051.0, 7982.0, 7684.0, 7671.0, 7663.0, 6545.0, 6205.0, 6096.0, 6074.0, 6018.0, 5951.0, 5944.0, 5791.0, 5779.0, 5673.0, 5483.0, 5096.0, 4738.0, 4554.0, 4442.0, 4089.0, 3987.0, 3891.0, 3623.0, 3621.0, 3569.0, 3314.0, 3257.0, 2950.0, 2541.0, 2435.0, 2401.0, 2331.0, 2234.0, 2040.0, 2026.0, 1779.0, 1659.0, 1621.0, 1584.0, 1534.0, 1524.0, 1466.0, 1453.0, 1319.0, 1194.0, 1156.0, 1125.0, 1102.0, 1085.0, 1029.0, 978.0, 929.0, 762.0, 709.0, 685.0, 670.0, 667.0, 576.0, 571.0, 542.0, 539.0, 537.0, 527.0, 508.0, 405.0, 393.0, 393.0, 353.0, 346.0, 337.0, 309.0, 307.0, 270.0, 263.0, 225.0, 193.0, 188.0, 184.0, 173.0, 149.0, 148.0, 138.0, 129.0, 128.0, 120.0, 105.0, 91.0, 85.0, 78.0, 75.0, 73.0, 73.0, 67.0, 60.0, 59.0, 52.0, 48.0, 47.0, 36.0, 32.0, 29.0, 26.0, 26.0, 24.0, 24.0, 24.0, 21.0, 19.0, 18.0, 13.0, 10.0, 10.0, 0.0]}],\n",
       "                        {\"annotations\": [{\"showarrow\": false, \"x\": 0.55, \"xref\": \"paper\", \"y\": 0.1, \"yref\": \"paper\"}], \"geo\": {\"projection\": {\"type\": \"equirectangular\"}, \"showcoastlines\": false, \"showframe\": false}, \"template\": {\"data\": {\"bar\": [{\"error_x\": {\"color\": \"#2a3f5f\"}, \"error_y\": {\"color\": \"#2a3f5f\"}, \"marker\": {\"line\": {\"color\": \"#E5ECF6\", \"width\": 0.5}}, \"type\": \"bar\"}], \"barpolar\": [{\"marker\": {\"line\": {\"color\": \"#E5ECF6\", \"width\": 0.5}}, \"type\": \"barpolar\"}], \"carpet\": [{\"aaxis\": {\"endlinecolor\": \"#2a3f5f\", \"gridcolor\": \"white\", \"linecolor\": \"white\", \"minorgridcolor\": \"white\", \"startlinecolor\": \"#2a3f5f\"}, \"baxis\": {\"endlinecolor\": \"#2a3f5f\", \"gridcolor\": \"white\", \"linecolor\": \"white\", \"minorgridcolor\": \"white\", \"startlinecolor\": \"#2a3f5f\"}, \"type\": \"carpet\"}], \"choropleth\": [{\"colorbar\": {\"outlinewidth\": 0, \"ticks\": \"\"}, \"type\": \"choropleth\"}], \"contour\": [{\"colorbar\": {\"outlinewidth\": 0, \"ticks\": \"\"}, \"colorscale\": [[0.0, \"#0d0887\"], [0.1111111111111111, \"#46039f\"], [0.2222222222222222, \"#7201a8\"], [0.3333333333333333, \"#9c179e\"], [0.4444444444444444, \"#bd3786\"], [0.5555555555555556, \"#d8576b\"], [0.6666666666666666, \"#ed7953\"], [0.7777777777777778, \"#fb9f3a\"], [0.8888888888888888, \"#fdca26\"], [1.0, \"#f0f921\"]], \"type\": \"contour\"}], \"contourcarpet\": [{\"colorbar\": {\"outlinewidth\": 0, \"ticks\": \"\"}, \"type\": \"contourcarpet\"}], \"heatmap\": [{\"colorbar\": {\"outlinewidth\": 0, \"ticks\": \"\"}, \"colorscale\": [[0.0, \"#0d0887\"], [0.1111111111111111, \"#46039f\"], [0.2222222222222222, \"#7201a8\"], [0.3333333333333333, \"#9c179e\"], [0.4444444444444444, \"#bd3786\"], [0.5555555555555556, \"#d8576b\"], [0.6666666666666666, \"#ed7953\"], [0.7777777777777778, \"#fb9f3a\"], [0.8888888888888888, \"#fdca26\"], [1.0, \"#f0f921\"]], \"type\": \"heatmap\"}], \"heatmapgl\": [{\"colorbar\": {\"outlinewidth\": 0, \"ticks\": \"\"}, \"colorscale\": [[0.0, \"#0d0887\"], [0.1111111111111111, \"#46039f\"], [0.2222222222222222, \"#7201a8\"], [0.3333333333333333, \"#9c179e\"], [0.4444444444444444, \"#bd3786\"], [0.5555555555555556, \"#d8576b\"], [0.6666666666666666, \"#ed7953\"], [0.7777777777777778, \"#fb9f3a\"], [0.8888888888888888, \"#fdca26\"], [1.0, \"#f0f921\"]], \"type\": \"heatmapgl\"}], \"histogram\": [{\"marker\": {\"colorbar\": {\"outlinewidth\": 0, \"ticks\": \"\"}}, \"type\": \"histogram\"}], \"histogram2d\": [{\"colorbar\": {\"outlinewidth\": 0, \"ticks\": \"\"}, \"colorscale\": [[0.0, \"#0d0887\"], [0.1111111111111111, \"#46039f\"], [0.2222222222222222, \"#7201a8\"], [0.3333333333333333, \"#9c179e\"], [0.4444444444444444, \"#bd3786\"], [0.5555555555555556, \"#d8576b\"], [0.6666666666666666, \"#ed7953\"], [0.7777777777777778, \"#fb9f3a\"], [0.8888888888888888, \"#fdca26\"], [1.0, \"#f0f921\"]], \"type\": \"histogram2d\"}], \"histogram2dcontour\": [{\"colorbar\": {\"outlinewidth\": 0, \"ticks\": \"\"}, \"colorscale\": [[0.0, \"#0d0887\"], [0.1111111111111111, \"#46039f\"], [0.2222222222222222, \"#7201a8\"], [0.3333333333333333, \"#9c179e\"], [0.4444444444444444, \"#bd3786\"], [0.5555555555555556, \"#d8576b\"], [0.6666666666666666, \"#ed7953\"], [0.7777777777777778, \"#fb9f3a\"], [0.8888888888888888, \"#fdca26\"], [1.0, \"#f0f921\"]], \"type\": \"histogram2dcontour\"}], \"mesh3d\": [{\"colorbar\": {\"outlinewidth\": 0, \"ticks\": \"\"}, \"type\": \"mesh3d\"}], \"parcoords\": [{\"line\": {\"colorbar\": {\"outlinewidth\": 0, \"ticks\": \"\"}}, \"type\": \"parcoords\"}], \"pie\": [{\"automargin\": true, \"type\": \"pie\"}], \"scatter\": [{\"marker\": {\"colorbar\": {\"outlinewidth\": 0, \"ticks\": \"\"}}, \"type\": \"scatter\"}], \"scatter3d\": [{\"line\": {\"colorbar\": {\"outlinewidth\": 0, \"ticks\": \"\"}}, \"marker\": {\"colorbar\": {\"outlinewidth\": 0, \"ticks\": \"\"}}, \"type\": \"scatter3d\"}], \"scattercarpet\": [{\"marker\": {\"colorbar\": {\"outlinewidth\": 0, \"ticks\": \"\"}}, \"type\": \"scattercarpet\"}], \"scattergeo\": [{\"marker\": {\"colorbar\": {\"outlinewidth\": 0, \"ticks\": \"\"}}, \"type\": \"scattergeo\"}], \"scattergl\": [{\"marker\": {\"colorbar\": {\"outlinewidth\": 0, \"ticks\": \"\"}}, \"type\": \"scattergl\"}], \"scattermapbox\": [{\"marker\": {\"colorbar\": {\"outlinewidth\": 0, \"ticks\": \"\"}}, \"type\": \"scattermapbox\"}], \"scatterpolar\": [{\"marker\": {\"colorbar\": {\"outlinewidth\": 0, \"ticks\": \"\"}}, \"type\": \"scatterpolar\"}], \"scatterpolargl\": [{\"marker\": {\"colorbar\": {\"outlinewidth\": 0, \"ticks\": \"\"}}, \"type\": \"scatterpolargl\"}], \"scatterternary\": [{\"marker\": {\"colorbar\": {\"outlinewidth\": 0, \"ticks\": \"\"}}, \"type\": \"scatterternary\"}], \"surface\": [{\"colorbar\": {\"outlinewidth\": 0, \"ticks\": \"\"}, \"colorscale\": [[0.0, \"#0d0887\"], [0.1111111111111111, \"#46039f\"], [0.2222222222222222, \"#7201a8\"], [0.3333333333333333, \"#9c179e\"], [0.4444444444444444, \"#bd3786\"], [0.5555555555555556, \"#d8576b\"], [0.6666666666666666, \"#ed7953\"], [0.7777777777777778, \"#fb9f3a\"], [0.8888888888888888, \"#fdca26\"], [1.0, \"#f0f921\"]], \"type\": \"surface\"}], \"table\": [{\"cells\": {\"fill\": {\"color\": \"#EBF0F8\"}, \"line\": {\"color\": \"white\"}}, \"header\": {\"fill\": {\"color\": \"#C8D4E3\"}, \"line\": {\"color\": \"white\"}}, \"type\": \"table\"}]}, \"layout\": {\"annotationdefaults\": {\"arrowcolor\": \"#2a3f5f\", \"arrowhead\": 0, \"arrowwidth\": 1}, \"coloraxis\": {\"colorbar\": {\"outlinewidth\": 0, \"ticks\": \"\"}}, \"colorscale\": {\"diverging\": [[0, \"#8e0152\"], [0.1, \"#c51b7d\"], [0.2, \"#de77ae\"], [0.3, \"#f1b6da\"], [0.4, \"#fde0ef\"], [0.5, \"#f7f7f7\"], [0.6, \"#e6f5d0\"], [0.7, \"#b8e186\"], [0.8, \"#7fbc41\"], [0.9, \"#4d9221\"], [1, \"#276419\"]], \"sequential\": [[0.0, \"#0d0887\"], [0.1111111111111111, \"#46039f\"], [0.2222222222222222, \"#7201a8\"], [0.3333333333333333, \"#9c179e\"], [0.4444444444444444, \"#bd3786\"], [0.5555555555555556, \"#d8576b\"], [0.6666666666666666, \"#ed7953\"], [0.7777777777777778, \"#fb9f3a\"], [0.8888888888888888, \"#fdca26\"], [1.0, \"#f0f921\"]], \"sequentialminus\": [[0.0, \"#0d0887\"], [0.1111111111111111, \"#46039f\"], [0.2222222222222222, \"#7201a8\"], [0.3333333333333333, \"#9c179e\"], [0.4444444444444444, \"#bd3786\"], [0.5555555555555556, \"#d8576b\"], [0.6666666666666666, \"#ed7953\"], [0.7777777777777778, \"#fb9f3a\"], [0.8888888888888888, \"#fdca26\"], [1.0, \"#f0f921\"]]}, \"colorway\": [\"#636efa\", \"#EF553B\", \"#00cc96\", \"#ab63fa\", \"#FFA15A\", \"#19d3f3\", \"#FF6692\", \"#B6E880\", \"#FF97FF\", \"#FECB52\"], \"font\": {\"color\": \"#2a3f5f\"}, \"geo\": {\"bgcolor\": \"white\", \"lakecolor\": \"white\", \"landcolor\": \"#E5ECF6\", \"showlakes\": true, \"showland\": true, \"subunitcolor\": \"white\"}, \"hoverlabel\": {\"align\": \"left\"}, \"hovermode\": \"closest\", \"mapbox\": {\"style\": \"light\"}, \"paper_bgcolor\": \"white\", \"plot_bgcolor\": \"#E5ECF6\", \"polar\": {\"angularaxis\": {\"gridcolor\": \"white\", \"linecolor\": \"white\", \"ticks\": \"\"}, \"bgcolor\": \"#E5ECF6\", \"radialaxis\": {\"gridcolor\": \"white\", \"linecolor\": \"white\", \"ticks\": \"\"}}, \"scene\": {\"xaxis\": {\"backgroundcolor\": \"#E5ECF6\", \"gridcolor\": \"white\", \"gridwidth\": 2, \"linecolor\": \"white\", \"showbackground\": true, \"ticks\": \"\", \"zerolinecolor\": \"white\"}, \"yaxis\": {\"backgroundcolor\": \"#E5ECF6\", \"gridcolor\": \"white\", \"gridwidth\": 2, \"linecolor\": \"white\", \"showbackground\": true, \"ticks\": \"\", \"zerolinecolor\": \"white\"}, \"zaxis\": {\"backgroundcolor\": \"#E5ECF6\", \"gridcolor\": \"white\", \"gridwidth\": 2, \"linecolor\": \"white\", \"showbackground\": true, \"ticks\": \"\", \"zerolinecolor\": \"white\"}}, \"shapedefaults\": {\"line\": {\"color\": \"#2a3f5f\"}}, \"ternary\": {\"aaxis\": {\"gridcolor\": \"white\", \"linecolor\": \"white\", \"ticks\": \"\"}, \"baxis\": {\"gridcolor\": \"white\", \"linecolor\": \"white\", \"ticks\": \"\"}, \"bgcolor\": \"#E5ECF6\", \"caxis\": {\"gridcolor\": \"white\", \"linecolor\": \"white\", \"ticks\": \"\"}}, \"title\": {\"x\": 0.05}, \"xaxis\": {\"automargin\": true, \"gridcolor\": \"white\", \"linecolor\": \"white\", \"ticks\": \"\", \"title\": {\"standoff\": 15}, \"zerolinecolor\": \"white\", \"zerolinewidth\": 2}, \"yaxis\": {\"automargin\": true, \"gridcolor\": \"white\", \"linecolor\": \"white\", \"ticks\": \"\", \"title\": {\"standoff\": 15}, \"zerolinecolor\": \"white\", \"zerolinewidth\": 2}}}, \"title\": {\"text\": \"Average Number of DV Lottery Application\"}},\n",
       "                        {\"responsive\": true}\n",
       "                    ).then(function(){\n",
       "                            \n",
       "var gd = document.getElementById('1242c994-8972-4d80-9cb7-145f8b73581a');\n",
       "var x = new MutationObserver(function (mutations, observer) {{\n",
       "        var display = window.getComputedStyle(gd).display;\n",
       "        if (!display || display === 'none') {{\n",
       "            console.log([gd, 'removed!']);\n",
       "            Plotly.purge(gd);\n",
       "            observer.disconnect();\n",
       "        }}\n",
       "}});\n",
       "\n",
       "// Listen for the removal of the full notebook cells\n",
       "var notebookContainer = gd.closest('#notebook-container');\n",
       "if (notebookContainer) {{\n",
       "    x.observe(notebookContainer, {childList: true});\n",
       "}}\n",
       "\n",
       "// Listen for the clearing of the current output cell\n",
       "var outputEl = gd.closest('.output');\n",
       "if (outputEl) {{\n",
       "    x.observe(outputEl, {childList: true});\n",
       "}}\n",
       "\n",
       "                        })\n",
       "                };\n",
       "                });\n",
       "            </script>\n",
       "        </div>"
      ]
     },
     "metadata": {},
     "output_type": "display_data"
    }
   ],
   "source": [
    "import plotly.graph_objects as go\n",
    "\n",
    "df = data_to_plot.iloc[1:, :]\n",
    "fig = go.Figure(data=go.Choropleth(\n",
    "    locations = df['CountryCode'],\n",
    "    z = df['average'],\n",
    "    text = df['Country'],\n",
    "    colorscale = 'GnBu',\n",
    "    autocolorscale=False,\n",
    "    reversescale=True,\n",
    "    marker_line_color='darkgray',\n",
    "    marker_line_width=0.5,\n",
    "    colorbar_title = 'average',\n",
    "))\n",
    "\n",
    "fig.update_layout(\n",
    "    title_text='Average Number of DV Lottery Application',\n",
    "    geo=dict(\n",
    "        showframe=False,\n",
    "        showcoastlines=False,\n",
    "        projection_type='equirectangular'\n",
    "    ),\n",
    "    annotations = [dict(\n",
    "        x=0.55,\n",
    "        y=0.1,\n",
    "        xref='paper',\n",
    "        yref='paper',\n",
    "        showarrow = False\n",
    "    )]\n",
    ")\n",
    "\n",
    "fig.show()\n"
   ]
  },
  {
   "cell_type": "code",
   "execution_count": 13,
   "metadata": {},
   "outputs": [
    {
     "data": {
      "application/vnd.plotly.v1+json": {
       "config": {
        "plotlyServerURL": "https://plot.ly"
       },
       "data": [
        {
         "geo": "geo",
         "hoverlabel": {
          "namelength": 0
         },
         "hovertemplate": "Country=Bangladesh<br>average=%{marker.size}<br>CountryCode=%{location}",
         "legendgroup": "Country=Bangladesh",
         "locationmode": "ISO-3",
         "locations": [
          "BGD"
         ],
         "marker": {
          "color": "#636efa",
          "size": [
           1766056
          ],
          "sizemode": "area",
          "sizeref": 4415.14
         },
         "name": "Country=Bangladesh",
         "showlegend": true,
         "type": "scattergeo"
        },
        {
         "geo": "geo",
         "hoverlabel": {
          "namelength": 0
         },
         "hovertemplate": "Country=Ghana<br>average=%{marker.size}<br>CountryCode=%{location}",
         "legendgroup": "Country=Ghana",
         "locationmode": "ISO-3",
         "locations": [
          "GHA"
         ],
         "marker": {
          "color": "#EF553B",
          "size": [
           1396680
          ],
          "sizemode": "area",
          "sizeref": 4415.14
         },
         "name": "Country=Ghana",
         "showlegend": true,
         "type": "scattergeo"
        },
        {
         "geo": "geo",
         "hoverlabel": {
          "namelength": 0
         },
         "hovertemplate": "Country=Ukraine<br>average=%{marker.size}<br>CountryCode=%{location}",
         "legendgroup": "Country=Ukraine",
         "locationmode": "ISO-3",
         "locations": [
          "UKR"
         ],
         "marker": {
          "color": "#00cc96",
          "size": [
           1233842
          ],
          "sizemode": "area",
          "sizeref": 4415.14
         },
         "name": "Country=Ukraine",
         "showlegend": true,
         "type": "scattergeo"
        },
        {
         "geo": "geo",
         "hoverlabel": {
          "namelength": 0
         },
         "hovertemplate": "Country=Nigeria<br>average=%{marker.size}<br>CountryCode=%{location}",
         "legendgroup": "Country=Nigeria",
         "locationmode": "ISO-3",
         "locations": [
          "NGA"
         ],
         "marker": {
          "color": "#ab63fa",
          "size": [
           1120794
          ],
          "sizemode": "area",
          "sizeref": 4415.14
         },
         "name": "Country=Nigeria",
         "showlegend": true,
         "type": "scattergeo"
        },
        {
         "geo": "geo",
         "hoverlabel": {
          "namelength": 0
         },
         "hovertemplate": "Country=Uzbekistan<br>average=%{marker.size}<br>CountryCode=%{location}",
         "legendgroup": "Country=Uzbekistan",
         "locationmode": "ISO-3",
         "locations": [
          "UZB"
         ],
         "marker": {
          "color": "#FFA15A",
          "size": [
           1045804
          ],
          "sizemode": "area",
          "sizeref": 4415.14
         },
         "name": "Country=Uzbekistan",
         "showlegend": true,
         "type": "scattergeo"
        },
        {
         "geo": "geo",
         "hoverlabel": {
          "namelength": 0
         },
         "hovertemplate": "Country=Iran<br>average=%{marker.size}<br>CountryCode=%{location}",
         "legendgroup": "Country=Iran",
         "locationmode": "ISO-3",
         "locations": [
          "IRN"
         ],
         "marker": {
          "color": "#19d3f3",
          "size": [
           925024
          ],
          "sizemode": "area",
          "sizeref": 4415.14
         },
         "name": "Country=Iran",
         "showlegend": true,
         "type": "scattergeo"
        },
        {
         "geo": "geo",
         "hoverlabel": {
          "namelength": 0
         },
         "hovertemplate": "Country=Egypt<br>average=%{marker.size}<br>CountryCode=%{location}",
         "legendgroup": "Country=Egypt",
         "locationmode": "ISO-3",
         "locations": [
          "EGY"
         ],
         "marker": {
          "color": "#FF6692",
          "size": [
           840876
          ],
          "sizemode": "area",
          "sizeref": 4415.14
         },
         "name": "Country=Egypt",
         "showlegend": true,
         "type": "scattergeo"
        },
        {
         "geo": "geo",
         "hoverlabel": {
          "namelength": 0
         },
         "hovertemplate": "Country=Ethiopia<br>average=%{marker.size}<br>CountryCode=%{location}",
         "legendgroup": "Country=Ethiopia",
         "locationmode": "ISO-3",
         "locations": [
          "ETH"
         ],
         "marker": {
          "color": "#B6E880",
          "size": [
           805623
          ],
          "sizemode": "area",
          "sizeref": 4415.14
         },
         "name": "Country=Ethiopia",
         "showlegend": true,
         "type": "scattergeo"
        },
        {
         "geo": "geo",
         "hoverlabel": {
          "namelength": 0
         },
         "hovertemplate": "Country=Nepal<br>average=%{marker.size}<br>CountryCode=%{location}",
         "legendgroup": "Country=Nepal",
         "locationmode": "ISO-3",
         "locations": [
          "NPL"
         ],
         "marker": {
          "color": "#FF97FF",
          "size": [
           721513
          ],
          "sizemode": "area",
          "sizeref": 4415.14
         },
         "name": "Country=Nepal",
         "showlegend": true,
         "type": "scattergeo"
        },
        {
         "geo": "geo",
         "hoverlabel": {
          "namelength": 0
         },
         "hovertemplate": "Country=Sierra Leone<br>average=%{marker.size}<br>CountryCode=%{location}",
         "legendgroup": "Country=Sierra Leone",
         "locationmode": "ISO-3",
         "locations": [
          "SLE"
         ],
         "marker": {
          "color": "#FECB52",
          "size": [
           508631
          ],
          "sizemode": "area",
          "sizeref": 4415.14
         },
         "name": "Country=Sierra Leone",
         "showlegend": true,
         "type": "scattergeo"
        },
        {
         "geo": "geo",
         "hoverlabel": {
          "namelength": 0
         },
         "hovertemplate": "Country=Liberia<br>average=%{marker.size}<br>CountryCode=%{location}",
         "legendgroup": "Country=Liberia",
         "locationmode": "ISO-3",
         "locations": [
          "LBR"
         ],
         "marker": {
          "color": "#636efa",
          "size": [
           345794
          ],
          "sizemode": "area",
          "sizeref": 4415.14
         },
         "name": "Country=Liberia",
         "showlegend": true,
         "type": "scattergeo"
        },
        {
         "geo": "geo",
         "hoverlabel": {
          "namelength": 0
         },
         "hovertemplate": "Country=Kenya<br>average=%{marker.size}<br>CountryCode=%{location}",
         "legendgroup": "Country=Kenya",
         "locationmode": "ISO-3",
         "locations": [
          "KEN"
         ],
         "marker": {
          "color": "#EF553B",
          "size": [
           286439
          ],
          "sizemode": "area",
          "sizeref": 4415.14
         },
         "name": "Country=Kenya",
         "showlegend": true,
         "type": "scattergeo"
        },
        {
         "geo": "geo",
         "hoverlabel": {
          "namelength": 0
         },
         "hovertemplate": "Country=Cameroon<br>average=%{marker.size}<br>CountryCode=%{location}",
         "legendgroup": "Country=Cameroon",
         "locationmode": "ISO-3",
         "locations": [
          "CMR"
         ],
         "marker": {
          "color": "#00cc96",
          "size": [
           264688
          ],
          "sizemode": "area",
          "sizeref": 4415.14
         },
         "name": "Country=Cameroon",
         "showlegend": true,
         "type": "scattergeo"
        },
        {
         "geo": "geo",
         "hoverlabel": {
          "namelength": 0
         },
         "hovertemplate": "Country=Turkey<br>average=%{marker.size}<br>CountryCode=%{location}",
         "legendgroup": "Country=Turkey",
         "locationmode": "ISO-3",
         "locations": [
          "TUR"
         ],
         "marker": {
          "color": "#ab63fa",
          "size": [
           246178
          ],
          "sizemode": "area",
          "sizeref": 4415.14
         },
         "name": "Country=Turkey",
         "showlegend": true,
         "type": "scattergeo"
        },
        {
         "geo": "geo",
         "hoverlabel": {
          "namelength": 0
         },
         "hovertemplate": "Country=Russia<br>average=%{marker.size}<br>CountryCode=%{location}",
         "legendgroup": "Country=Russia",
         "locationmode": "ISO-3",
         "locations": [
          "RUS"
         ],
         "marker": {
          "color": "#FFA15A",
          "size": [
           242684
          ],
          "sizemode": "area",
          "sizeref": 4415.14
         },
         "name": "Country=Russia",
         "showlegend": true,
         "type": "scattergeo"
        },
        {
         "geo": "geo",
         "hoverlabel": {
          "namelength": 0
         },
         "hovertemplate": "Country=Sudan<br>average=%{marker.size}<br>CountryCode=%{location}",
         "legendgroup": "Country=Sudan",
         "locationmode": "ISO-3",
         "locations": [
          "SDN"
         ],
         "marker": {
          "color": "#19d3f3",
          "size": [
           227064
          ],
          "sizemode": "area",
          "sizeref": 4415.14
         },
         "name": "Country=Sudan",
         "showlegend": true,
         "type": "scattergeo"
        },
        {
         "geo": "geo",
         "hoverlabel": {
          "namelength": 0
         },
         "hovertemplate": "Country=Albania<br>average=%{marker.size}<br>CountryCode=%{location}",
         "legendgroup": "Country=Albania",
         "locationmode": "ISO-3",
         "locations": [
          "ALB"
         ],
         "marker": {
          "color": "#FF6692",
          "size": [
           193691
          ],
          "sizemode": "area",
          "sizeref": 4415.14
         },
         "name": "Country=Albania",
         "showlegend": true,
         "type": "scattergeo"
        },
        {
         "geo": "geo",
         "hoverlabel": {
          "namelength": 0
         },
         "hovertemplate": "Country=Moldova<br>average=%{marker.size}<br>CountryCode=%{location}",
         "legendgroup": "Country=Moldova",
         "locationmode": "ISO-3",
         "locations": [
          "MDA"
         ],
         "marker": {
          "color": "#B6E880",
          "size": [
           172883
          ],
          "sizemode": "area",
          "sizeref": 4415.14
         },
         "name": "Country=Moldova",
         "showlegend": true,
         "type": "scattergeo"
        },
        {
         "geo": "geo",
         "hoverlabel": {
          "namelength": 0
         },
         "hovertemplate": "Country=Algeria<br>average=%{marker.size}<br>CountryCode=%{location}",
         "legendgroup": "Country=Algeria",
         "locationmode": "ISO-3",
         "locations": [
          "DZA"
         ],
         "marker": {
          "color": "#FF97FF",
          "size": [
           167774
          ],
          "sizemode": "area",
          "sizeref": 4415.14
         },
         "name": "Country=Algeria",
         "showlegend": true,
         "type": "scattergeo"
        },
        {
         "geo": "geo",
         "hoverlabel": {
          "namelength": 0
         },
         "hovertemplate": "Country=Morocco<br>average=%{marker.size}<br>CountryCode=%{location}",
         "legendgroup": "Country=Morocco",
         "locationmode": "ISO-3",
         "locations": [
          "MAR"
         ],
         "marker": {
          "color": "#FECB52",
          "size": [
           167520
          ],
          "sizemode": "area",
          "sizeref": 4415.14
         },
         "name": "Country=Morocco",
         "showlegend": true,
         "type": "scattergeo"
        },
        {
         "geo": "geo",
         "hoverlabel": {
          "namelength": 0
         },
         "hovertemplate": "Country=Venezuela<br>average=%{marker.size}<br>CountryCode=%{location}",
         "legendgroup": "Country=Venezuela",
         "locationmode": "ISO-3",
         "locations": [
          "VEN"
         ],
         "marker": {
          "color": "#636efa",
          "size": [
           162645
          ],
          "sizemode": "area",
          "sizeref": 4415.14
         },
         "name": "Country=Venezuela",
         "showlegend": true,
         "type": "scattergeo"
        },
        {
         "geo": "geo",
         "hoverlabel": {
          "namelength": 0
         },
         "hovertemplate": "Country=Cambodia<br>average=%{marker.size}<br>CountryCode=%{location}",
         "legendgroup": "Country=Cambodia",
         "locationmode": "ISO-3",
         "locations": [
          "KHM"
         ],
         "marker": {
          "color": "#EF553B",
          "size": [
           160296
          ],
          "sizemode": "area",
          "sizeref": 4415.14
         },
         "name": "Country=Cambodia",
         "showlegend": true,
         "type": "scattergeo"
        },
        {
         "geo": "geo",
         "hoverlabel": {
          "namelength": 0
         },
         "hovertemplate": "Country=Guinea<br>average=%{marker.size}<br>CountryCode=%{location}",
         "legendgroup": "Country=Guinea",
         "locationmode": "ISO-3",
         "locations": [
          "GIN"
         ],
         "marker": {
          "color": "#00cc96",
          "size": [
           148119
          ],
          "sizemode": "area",
          "sizeref": 4415.14
         },
         "name": "Country=Guinea",
         "showlegend": true,
         "type": "scattergeo"
        },
        {
         "geo": "geo",
         "hoverlabel": {
          "namelength": 0
         },
         "hovertemplate": "Country=Armenia<br>average=%{marker.size}<br>CountryCode=%{location}",
         "legendgroup": "Country=Armenia",
         "locationmode": "ISO-3",
         "locations": [
          "ARM"
         ],
         "marker": {
          "color": "#ab63fa",
          "size": [
           136828
          ],
          "sizemode": "area",
          "sizeref": 4415.14
         },
         "name": "Country=Armenia",
         "showlegend": true,
         "type": "scattergeo"
        },
        {
         "geo": "geo",
         "hoverlabel": {
          "namelength": 0
         },
         "hovertemplate": "Country=Togo<br>average=%{marker.size}<br>CountryCode=%{location}",
         "legendgroup": "Country=Togo",
         "locationmode": "ISO-3",
         "locations": [
          "TGO"
         ],
         "marker": {
          "color": "#FFA15A",
          "size": [
           115415
          ],
          "sizemode": "area",
          "sizeref": 4415.14
         },
         "name": "Country=Togo",
         "showlegend": true,
         "type": "scattergeo"
        },
        {
         "geo": "geo",
         "hoverlabel": {
          "namelength": 0
         },
         "hovertemplate": "Country=Democratic Republic of the Congo<br>average=%{marker.size}<br>CountryCode=%{location}",
         "legendgroup": "Country=Democratic Republic of the Congo",
         "locationmode": "ISO-3",
         "locations": [
          "COD"
         ],
         "marker": {
          "color": "#19d3f3",
          "size": [
           113433
          ],
          "sizemode": "area",
          "sizeref": 4415.14
         },
         "name": "Country=Democratic Republic of the Congo",
         "showlegend": true,
         "type": "scattergeo"
        },
        {
         "geo": "geo",
         "hoverlabel": {
          "namelength": 0
         },
         "hovertemplate": "Country=Sri Lanka<br>average=%{marker.size}<br>CountryCode=%{location}",
         "legendgroup": "Country=Sri Lanka",
         "locationmode": "ISO-3",
         "locations": [
          "LKA"
         ],
         "marker": {
          "color": "#FF6692",
          "size": [
           102585
          ],
          "sizemode": "area",
          "sizeref": 4415.14
         },
         "name": "Country=Sri Lanka",
         "showlegend": true,
         "type": "scattergeo"
        },
        {
         "geo": "geo",
         "hoverlabel": {
          "namelength": 0
         },
         "hovertemplate": "Country=Cuba<br>average=%{marker.size}<br>CountryCode=%{location}",
         "legendgroup": "Country=Cuba",
         "locationmode": "ISO-3",
         "locations": [
          "CUB"
         ],
         "marker": {
          "color": "#B6E880",
          "size": [
           102033
          ],
          "sizemode": "area",
          "sizeref": 4415.14
         },
         "name": "Country=Cuba",
         "showlegend": true,
         "type": "scattergeo"
        },
        {
         "geo": "geo",
         "hoverlabel": {
          "namelength": 0
         },
         "hovertemplate": "Country=Belarus<br>average=%{marker.size}<br>CountryCode=%{location}",
         "legendgroup": "Country=Belarus",
         "locationmode": "ISO-3",
         "locations": [
          "BLR"
         ],
         "marker": {
          "color": "#FF97FF",
          "size": [
           99960
          ],
          "sizemode": "area",
          "sizeref": 4415.14
         },
         "name": "Country=Belarus",
         "showlegend": true,
         "type": "scattergeo"
        },
        {
         "geo": "geo",
         "hoverlabel": {
          "namelength": 0
         },
         "hovertemplate": "Country=Germany<br>average=%{marker.size}<br>CountryCode=%{location}",
         "legendgroup": "Country=Germany",
         "locationmode": "ISO-3",
         "locations": [
          "DEU"
         ],
         "marker": {
          "color": "#FECB52",
          "size": [
           96706
          ],
          "sizemode": "area",
          "sizeref": 4415.14
         },
         "name": "Country=Germany",
         "showlegend": true,
         "type": "scattergeo"
        },
        {
         "geo": "geo",
         "hoverlabel": {
          "namelength": 0
         },
         "hovertemplate": "Country=Cote d'Ivoire<br>average=%{marker.size}<br>CountryCode=%{location}",
         "legendgroup": "Country=Cote d'Ivoire",
         "locationmode": "ISO-3",
         "locations": [
          "CIV"
         ],
         "marker": {
          "color": "#636efa",
          "size": [
           91797
          ],
          "sizemode": "area",
          "sizeref": 4415.14
         },
         "name": "Country=Cote d'Ivoire",
         "showlegend": true,
         "type": "scattergeo"
        },
        {
         "geo": "geo",
         "hoverlabel": {
          "namelength": 0
         },
         "hovertemplate": "Country=Yemen<br>average=%{marker.size}<br>CountryCode=%{location}",
         "legendgroup": "Country=Yemen",
         "locationmode": "ISO-3",
         "locations": [
          "YEM"
         ],
         "marker": {
          "color": "#EF553B",
          "size": [
           85966
          ],
          "sizemode": "area",
          "sizeref": 4415.14
         },
         "name": "Country=Yemen",
         "showlegend": true,
         "type": "scattergeo"
        },
        {
         "geo": "geo",
         "hoverlabel": {
          "namelength": 0
         },
         "hovertemplate": "Country=Bulgaria<br>average=%{marker.size}<br>CountryCode=%{location}",
         "legendgroup": "Country=Bulgaria",
         "locationmode": "ISO-3",
         "locations": [
          "BGR"
         ],
         "marker": {
          "color": "#00cc96",
          "size": [
           79564
          ],
          "sizemode": "area",
          "sizeref": 4415.14
         },
         "name": "Country=Bulgaria",
         "showlegend": true,
         "type": "scattergeo"
        },
        {
         "geo": "geo",
         "hoverlabel": {
          "namelength": 0
         },
         "hovertemplate": "Country=Benin<br>average=%{marker.size}<br>CountryCode=%{location}",
         "legendgroup": "Country=Benin",
         "locationmode": "ISO-3",
         "locations": [
          "BEN"
         ],
         "marker": {
          "color": "#ab63fa",
          "size": [
           73253
          ],
          "sizemode": "area",
          "sizeref": 4415.14
         },
         "name": "Country=Benin",
         "showlegend": true,
         "type": "scattergeo"
        },
        {
         "geo": "geo",
         "hoverlabel": {
          "namelength": 0
         },
         "hovertemplate": "Country=Romania<br>average=%{marker.size}<br>CountryCode=%{location}",
         "legendgroup": "Country=Romania",
         "locationmode": "ISO-3",
         "locations": [
          "ROU"
         ],
         "marker": {
          "color": "#FFA15A",
          "size": [
           64895
          ],
          "sizemode": "area",
          "sizeref": 4415.14
         },
         "name": "Country=Romania",
         "showlegend": true,
         "type": "scattergeo"
        },
        {
         "geo": "geo",
         "hoverlabel": {
          "namelength": 0
         },
         "hovertemplate": "Country=Georgia<br>average=%{marker.size}<br>CountryCode=%{location}",
         "legendgroup": "Country=Georgia",
         "locationmode": "ISO-3",
         "locations": [
          "GEO"
         ],
         "marker": {
          "color": "#19d3f3",
          "size": [
           63267
          ],
          "sizemode": "area",
          "sizeref": 4415.14
         },
         "name": "Country=Georgia",
         "showlegend": true,
         "type": "scattergeo"
        },
        {
         "geo": "geo",
         "hoverlabel": {
          "namelength": 0
         },
         "hovertemplate": "Country=South Africa<br>average=%{marker.size}<br>CountryCode=%{location}",
         "legendgroup": "Country=South Africa",
         "locationmode": "ISO-3",
         "locations": [
          "ZAF"
         ],
         "marker": {
          "color": "#FF6692",
          "size": [
           54584
          ],
          "sizemode": "area",
          "sizeref": 4415.14
         },
         "name": "Country=South Africa",
         "showlegend": true,
         "type": "scattergeo"
        },
        {
         "geo": "geo",
         "hoverlabel": {
          "namelength": 0
         },
         "hovertemplate": "Country=Congo<br>average=%{marker.size}<br>CountryCode=%{location}",
         "legendgroup": "Country=Congo",
         "locationmode": "ISO-3",
         "locations": [
          "COG"
         ],
         "marker": {
          "color": "#B6E880",
          "size": [
           54089
          ],
          "sizemode": "area",
          "sizeref": 4415.14
         },
         "name": "Country=Congo",
         "showlegend": true,
         "type": "scattergeo"
        },
        {
         "geo": "geo",
         "hoverlabel": {
          "namelength": 0
         },
         "hovertemplate": "Country=France<br>average=%{marker.size}<br>CountryCode=%{location}",
         "legendgroup": "Country=France",
         "locationmode": "ISO-3",
         "locations": [
          "FRA"
         ],
         "marker": {
          "color": "#FF97FF",
          "size": [
           53018
          ],
          "sizemode": "area",
          "sizeref": 4415.14
         },
         "name": "Country=France",
         "showlegend": true,
         "type": "scattergeo"
        },
        {
         "geo": "geo",
         "hoverlabel": {
          "namelength": 0
         },
         "hovertemplate": "Country=Taiwan<br>average=%{marker.size}<br>CountryCode=%{location}",
         "legendgroup": "Country=Taiwan",
         "locationmode": "ISO-3",
         "locations": [
          "TWN"
         ],
         "marker": {
          "color": "#FECB52",
          "size": [
           51791
          ],
          "sizemode": "area",
          "sizeref": 4415.14
         },
         "name": "Country=Taiwan",
         "showlegend": true,
         "type": "scattergeo"
        },
        {
         "geo": "geo",
         "hoverlabel": {
          "namelength": 0
         },
         "hovertemplate": "Country=Japan<br>average=%{marker.size}<br>CountryCode=%{location}",
         "legendgroup": "Country=Japan",
         "locationmode": "ISO-3",
         "locations": [
          "JPN"
         ],
         "marker": {
          "color": "#636efa",
          "size": [
           50336
          ],
          "sizemode": "area",
          "sizeref": 4415.14
         },
         "name": "Country=Japan",
         "showlegend": true,
         "type": "scattergeo"
        },
        {
         "geo": "geo",
         "hoverlabel": {
          "namelength": 0
         },
         "hovertemplate": "Country=Myanmar<br>average=%{marker.size}<br>CountryCode=%{location}",
         "legendgroup": "Country=Myanmar",
         "locationmode": "ISO-3",
         "locations": [
          "MMR"
         ],
         "marker": {
          "color": "#EF553B",
          "size": [
           50130
          ],
          "sizemode": "area",
          "sizeref": 4415.14
         },
         "name": "Country=Myanmar",
         "showlegend": true,
         "type": "scattergeo"
        },
        {
         "geo": "geo",
         "hoverlabel": {
          "namelength": 0
         },
         "hovertemplate": "Country=Afghanistan<br>average=%{marker.size}<br>CountryCode=%{location}",
         "legendgroup": "Country=Afghanistan",
         "locationmode": "ISO-3",
         "locations": [
          "AFG"
         ],
         "marker": {
          "color": "#00cc96",
          "size": [
           49613
          ],
          "sizemode": "area",
          "sizeref": 4415.14
         },
         "name": "Country=Afghanistan",
         "showlegend": true,
         "type": "scattergeo"
        },
        {
         "geo": "geo",
         "hoverlabel": {
          "namelength": 0
         },
         "hovertemplate": "Country=Eritrea<br>average=%{marker.size}<br>CountryCode=%{location}",
         "legendgroup": "Country=Eritrea",
         "locationmode": "ISO-3",
         "locations": [
          "ERI"
         ],
         "marker": {
          "color": "#ab63fa",
          "size": [
           45907
          ],
          "sizemode": "area",
          "sizeref": 4415.14
         },
         "name": "Country=Eritrea",
         "showlegend": true,
         "type": "scattergeo"
        },
        {
         "geo": "geo",
         "hoverlabel": {
          "namelength": 0
         },
         "hovertemplate": "Country=Jordan<br>average=%{marker.size}<br>CountryCode=%{location}",
         "legendgroup": "Country=Jordan",
         "locationmode": "ISO-3",
         "locations": [
          "JOR"
         ],
         "marker": {
          "color": "#FFA15A",
          "size": [
           45151
          ],
          "sizemode": "area",
          "sizeref": 4415.14
         },
         "name": "Country=Jordan",
         "showlegend": true,
         "type": "scattergeo"
        },
        {
         "geo": "geo",
         "hoverlabel": {
          "namelength": 0
         },
         "hovertemplate": "Country=Kazakhstan<br>average=%{marker.size}<br>CountryCode=%{location}",
         "legendgroup": "Country=Kazakhstan",
         "locationmode": "ISO-3",
         "locations": [
          "KAZ"
         ],
         "marker": {
          "color": "#19d3f3",
          "size": [
           44652
          ],
          "sizemode": "area",
          "sizeref": 4415.14
         },
         "name": "Country=Kazakhstan",
         "showlegend": true,
         "type": "scattergeo"
        },
        {
         "geo": "geo",
         "hoverlabel": {
          "namelength": 0
         },
         "hovertemplate": "Country=Syria<br>average=%{marker.size}<br>CountryCode=%{location}",
         "legendgroup": "Country=Syria",
         "locationmode": "ISO-3",
         "locations": [
          "SYR"
         ],
         "marker": {
          "color": "#FF6692",
          "size": [
           44529
          ],
          "sizemode": "area",
          "sizeref": 4415.14
         },
         "name": "Country=Syria",
         "showlegend": true,
         "type": "scattergeo"
        },
        {
         "geo": "geo",
         "hoverlabel": {
          "namelength": 0
         },
         "hovertemplate": "Country=Iraq<br>average=%{marker.size}<br>CountryCode=%{location}",
         "legendgroup": "Country=Iraq",
         "locationmode": "ISO-3",
         "locations": [
          "IRQ"
         ],
         "marker": {
          "color": "#B6E880",
          "size": [
           44456
          ],
          "sizemode": "area",
          "sizeref": 4415.14
         },
         "name": "Country=Iraq",
         "showlegend": true,
         "type": "scattergeo"
        },
        {
         "geo": "geo",
         "hoverlabel": {
          "namelength": 0
         },
         "hovertemplate": "Country=Italy<br>average=%{marker.size}<br>CountryCode=%{location}",
         "legendgroup": "Country=Italy",
         "locationmode": "ISO-3",
         "locations": [
          "ITA"
         ],
         "marker": {
          "color": "#FF97FF",
          "size": [
           43703
          ],
          "sizemode": "area",
          "sizeref": 4415.14
         },
         "name": "Country=Italy",
         "showlegend": true,
         "type": "scattergeo"
        },
        {
         "geo": "geo",
         "hoverlabel": {
          "namelength": 0
         },
         "hovertemplate": "Country=Azerbaijan<br>average=%{marker.size}<br>CountryCode=%{location}",
         "legendgroup": "Country=Azerbaijan",
         "locationmode": "ISO-3",
         "locations": [
          "AZE"
         ],
         "marker": {
          "color": "#FECB52",
          "size": [
           43563
          ],
          "sizemode": "area",
          "sizeref": 4415.14
         },
         "name": "Country=Azerbaijan",
         "showlegend": true,
         "type": "scattergeo"
        },
        {
         "geo": "geo",
         "hoverlabel": {
          "namelength": 0
         },
         "hovertemplate": "Country=Saudi Arabia<br>average=%{marker.size}<br>CountryCode=%{location}",
         "legendgroup": "Country=Saudi Arabia",
         "locationmode": "ISO-3",
         "locations": [
          "SAU"
         ],
         "marker": {
          "color": "#636efa",
          "size": [
           43309
          ],
          "sizemode": "area",
          "sizeref": 4415.14
         },
         "name": "Country=Saudi Arabia",
         "showlegend": true,
         "type": "scattergeo"
        },
        {
         "geo": "geo",
         "hoverlabel": {
          "namelength": 0
         },
         "hovertemplate": "Country=Poland<br>average=%{marker.size}<br>CountryCode=%{location}",
         "legendgroup": "Country=Poland",
         "locationmode": "ISO-3",
         "locations": [
          "POL"
         ],
         "marker": {
          "color": "#EF553B",
          "size": [
           41742
          ],
          "sizemode": "area",
          "sizeref": 4415.14
         },
         "name": "Country=Poland",
         "showlegend": true,
         "type": "scattergeo"
        },
        {
         "geo": "geo",
         "hoverlabel": {
          "namelength": 0
         },
         "hovertemplate": "Country=Tajikistan<br>average=%{marker.size}<br>CountryCode=%{location}",
         "legendgroup": "Country=Tajikistan",
         "locationmode": "ISO-3",
         "locations": [
          "TJK"
         ],
         "marker": {
          "color": "#00cc96",
          "size": [
           40086
          ],
          "sizemode": "area",
          "sizeref": 4415.14
         },
         "name": "Country=Tajikistan",
         "showlegend": true,
         "type": "scattergeo"
        },
        {
         "geo": "geo",
         "hoverlabel": {
          "namelength": 0
         },
         "hovertemplate": "Country=Senegal<br>average=%{marker.size}<br>CountryCode=%{location}",
         "legendgroup": "Country=Senegal",
         "locationmode": "ISO-3",
         "locations": [
          "SEN"
         ],
         "marker": {
          "color": "#ab63fa",
          "size": [
           38853
          ],
          "sizemode": "area",
          "sizeref": 4415.14
         },
         "name": "Country=Senegal",
         "showlegend": true,
         "type": "scattergeo"
        },
        {
         "geo": "geo",
         "hoverlabel": {
          "namelength": 0
         },
         "hovertemplate": "Country=Lebanon<br>average=%{marker.size}<br>CountryCode=%{location}",
         "legendgroup": "Country=Lebanon",
         "locationmode": "ISO-3",
         "locations": [
          "LBN"
         ],
         "marker": {
          "color": "#FFA15A",
          "size": [
           35305
          ],
          "sizemode": "area",
          "sizeref": 4415.14
         },
         "name": "Country=Lebanon",
         "showlegend": true,
         "type": "scattergeo"
        },
        {
         "geo": "geo",
         "hoverlabel": {
          "namelength": 0
         },
         "hovertemplate": "Country=Uganda<br>average=%{marker.size}<br>CountryCode=%{location}",
         "legendgroup": "Country=Uganda",
         "locationmode": "ISO-3",
         "locations": [
          "UGA"
         ],
         "marker": {
          "color": "#19d3f3",
          "size": [
           33767
          ],
          "sizemode": "area",
          "sizeref": 4415.14
         },
         "name": "Country=Uganda",
         "showlegend": true,
         "type": "scattergeo"
        },
        {
         "geo": "geo",
         "hoverlabel": {
          "namelength": 0
         },
         "hovertemplate": "Country=Rwanda<br>average=%{marker.size}<br>CountryCode=%{location}",
         "legendgroup": "Country=Rwanda",
         "locationmode": "ISO-3",
         "locations": [
          "RWA"
         ],
         "marker": {
          "color": "#FF6692",
          "size": [
           32070
          ],
          "sizemode": "area",
          "sizeref": 4415.14
         },
         "name": "Country=Rwanda",
         "showlegend": true,
         "type": "scattergeo"
        },
        {
         "geo": "geo",
         "hoverlabel": {
          "namelength": 0
         },
         "hovertemplate": "Country=Serbia<br>average=%{marker.size}<br>CountryCode=%{location}",
         "legendgroup": "Country=Serbia",
         "locationmode": "ISO-3",
         "locations": [
          "SRB"
         ],
         "marker": {
          "color": "#B6E880",
          "size": [
           31480
          ],
          "sizemode": "area",
          "sizeref": 4415.14
         },
         "name": "Country=Serbia",
         "showlegend": true,
         "type": "scattergeo"
        },
        {
         "geo": "geo",
         "hoverlabel": {
          "namelength": 0
         },
         "hovertemplate": "Country=Indonesia<br>average=%{marker.size}<br>CountryCode=%{location}",
         "legendgroup": "Country=Indonesia",
         "locationmode": "ISO-3",
         "locations": [
          "IDN"
         ],
         "marker": {
          "color": "#FF97FF",
          "size": [
           29624
          ],
          "sizemode": "area",
          "sizeref": 4415.14
         },
         "name": "Country=Indonesia",
         "showlegend": true,
         "type": "scattergeo"
        },
        {
         "geo": "geo",
         "hoverlabel": {
          "namelength": 0
         },
         "hovertemplate": "Country=Kyrgyzstan<br>average=%{marker.size}<br>CountryCode=%{location}",
         "legendgroup": "Country=Kyrgyzstan",
         "locationmode": "ISO-3",
         "locations": [
          "KGZ"
         ],
         "marker": {
          "color": "#FECB52",
          "size": [
           28546
          ],
          "sizemode": "area",
          "sizeref": 4415.14
         },
         "name": "Country=Kyrgyzstan",
         "showlegend": true,
         "type": "scattergeo"
        },
        {
         "geo": "geo",
         "hoverlabel": {
          "namelength": 0
         },
         "hovertemplate": "Country=Mongolia<br>average=%{marker.size}<br>CountryCode=%{location}",
         "legendgroup": "Country=Mongolia",
         "locationmode": "ISO-3",
         "locations": [
          "MNG"
         ],
         "marker": {
          "color": "#636efa",
          "size": [
           27122
          ],
          "sizemode": "area",
          "sizeref": 4415.14
         },
         "name": "Country=Mongolia",
         "showlegend": true,
         "type": "scattergeo"
        },
        {
         "geo": "geo",
         "hoverlabel": {
          "namelength": 0
         },
         "hovertemplate": "Country=Macedonia<br>average=%{marker.size}<br>CountryCode=%{location}",
         "legendgroup": "Country=Macedonia",
         "locationmode": "ISO-3",
         "locations": [
          "MKD",
          "MKD"
         ],
         "marker": {
          "color": "#EF553B",
          "size": [
           26135,
           26135
          ],
          "sizemode": "area",
          "sizeref": 4415.14
         },
         "name": "Country=Macedonia",
         "showlegend": true,
         "type": "scattergeo"
        },
        {
         "geo": "geo",
         "hoverlabel": {
          "namelength": 0
         },
         "hovertemplate": "Country=Israel<br>average=%{marker.size}<br>CountryCode=%{location}",
         "legendgroup": "Country=Israel",
         "locationmode": "ISO-3",
         "locations": [
          "ISR"
         ],
         "marker": {
          "color": "#00cc96",
          "size": [
           25478
          ],
          "sizemode": "area",
          "sizeref": 4415.14
         },
         "name": "Country=Israel",
         "showlegend": true,
         "type": "scattergeo"
        },
        {
         "geo": "geo",
         "hoverlabel": {
          "namelength": 0
         },
         "hovertemplate": "Country=Somalia<br>average=%{marker.size}<br>CountryCode=%{location}",
         "legendgroup": "Country=Somalia",
         "locationmode": "ISO-3",
         "locations": [
          "SOM"
         ],
         "marker": {
          "color": "#ab63fa",
          "size": [
           23778
          ],
          "sizemode": "area",
          "sizeref": 4415.14
         },
         "name": "Country=Somalia",
         "showlegend": true,
         "type": "scattergeo"
        },
        {
         "geo": "geo",
         "hoverlabel": {
          "namelength": 0
         },
         "hovertemplate": "Country=Kosovo<br>average=%{marker.size}<br>CountryCode=%{location}",
         "legendgroup": "Country=Kosovo",
         "locationmode": "ISO-3",
         "locations": [
          "XKX"
         ],
         "marker": {
          "color": "#FFA15A",
          "size": [
           23436
          ],
          "sizemode": "area",
          "sizeref": 4415.14
         },
         "name": "Country=Kosovo",
         "showlegend": true,
         "type": "scattergeo"
        },
        {
         "geo": "geo",
         "hoverlabel": {
          "namelength": 0
         },
         "hovertemplate": "Country=Ecuador<br>average=%{marker.size}<br>CountryCode=%{location}",
         "legendgroup": "Country=Ecuador",
         "locationmode": "ISO-3",
         "locations": [
          "ECU"
         ],
         "marker": {
          "color": "#19d3f3",
          "size": [
           22076
          ],
          "sizemode": "area",
          "sizeref": 4415.14
         },
         "name": "Country=Ecuador",
         "showlegend": true,
         "type": "scattergeo"
        },
        {
         "geo": "geo",
         "hoverlabel": {
          "namelength": 0
         },
         "hovertemplate": "Country=Lithuania<br>average=%{marker.size}<br>CountryCode=%{location}",
         "legendgroup": "Country=Lithuania",
         "locationmode": "ISO-3",
         "locations": [
          "LTU"
         ],
         "marker": {
          "color": "#FF6692",
          "size": [
           21154
          ],
          "sizemode": "area",
          "sizeref": 4415.14
         },
         "name": "Country=Lithuania",
         "showlegend": true,
         "type": "scattergeo"
        },
        {
         "geo": "geo",
         "hoverlabel": {
          "namelength": 0
         },
         "hovertemplate": "Country=Spain<br>average=%{marker.size}<br>CountryCode=%{location}",
         "legendgroup": "Country=Spain",
         "locationmode": "ISO-3",
         "locations": [
          "ESP"
         ],
         "marker": {
          "color": "#B6E880",
          "size": [
           20489
          ],
          "sizemode": "area",
          "sizeref": 4415.14
         },
         "name": "Country=Spain",
         "showlegend": true,
         "type": "scattergeo"
        },
        {
         "geo": "geo",
         "hoverlabel": {
          "namelength": 0
         },
         "hovertemplate": "Country=Australia<br>average=%{marker.size}<br>CountryCode=%{location}",
         "legendgroup": "Country=Australia",
         "locationmode": "ISO-3",
         "locations": [
          "AUS"
         ],
         "marker": {
          "color": "#FF97FF",
          "size": [
           20412
          ],
          "sizemode": "area",
          "sizeref": 4415.14
         },
         "name": "Country=Australia",
         "showlegend": true,
         "type": "scattergeo"
        },
        {
         "geo": "geo",
         "hoverlabel": {
          "namelength": 0
         },
         "hovertemplate": "Country=Burkina Faso<br>average=%{marker.size}<br>CountryCode=%{location}",
         "legendgroup": "Country=Burkina Faso",
         "locationmode": "ISO-3",
         "locations": [
          "BFA"
         ],
         "marker": {
          "color": "#FECB52",
          "size": [
           19970
          ],
          "sizemode": "area",
          "sizeref": 4415.14
         },
         "name": "Country=Burkina Faso",
         "showlegend": true,
         "type": "scattergeo"
        },
        {
         "geo": "geo",
         "hoverlabel": {
          "namelength": 0
         },
         "hovertemplate": "Country=Libya<br>average=%{marker.size}<br>CountryCode=%{location}",
         "legendgroup": "Country=Libya",
         "locationmode": "ISO-3",
         "locations": [
          "LBY"
         ],
         "marker": {
          "color": "#636efa",
          "size": [
           19292
          ],
          "sizemode": "area",
          "sizeref": 4415.14
         },
         "name": "Country=Libya",
         "showlegend": true,
         "type": "scattergeo"
        },
        {
         "geo": "geo",
         "hoverlabel": {
          "namelength": 0
         },
         "hovertemplate": "Country=Kuwait<br>average=%{marker.size}<br>CountryCode=%{location}",
         "legendgroup": "Country=Kuwait",
         "locationmode": "ISO-3",
         "locations": [
          "KWT"
         ],
         "marker": {
          "color": "#EF553B",
          "size": [
           19046
          ],
          "sizemode": "area",
          "sizeref": 4415.14
         },
         "name": "Country=Kuwait",
         "showlegend": true,
         "type": "scattergeo"
        },
        {
         "geo": "geo",
         "hoverlabel": {
          "namelength": 0
         },
         "hovertemplate": "Country=Hungary<br>average=%{marker.size}<br>CountryCode=%{location}",
         "legendgroup": "Country=Hungary",
         "locationmode": "ISO-3",
         "locations": [
          "HUN"
         ],
         "marker": {
          "color": "#00cc96",
          "size": [
           18416
          ],
          "sizemode": "area",
          "sizeref": 4415.14
         },
         "name": "Country=Hungary",
         "showlegend": true,
         "type": "scattergeo"
        },
        {
         "geo": "geo",
         "hoverlabel": {
          "namelength": 0
         },
         "hovertemplate": "Country=Peru<br>average=%{marker.size}<br>CountryCode=%{location}",
         "legendgroup": "Country=Peru",
         "locationmode": "ISO-3",
         "locations": [
          "PER"
         ],
         "marker": {
          "color": "#ab63fa",
          "size": [
           17771
          ],
          "sizemode": "area",
          "sizeref": 4415.14
         },
         "name": "Country=Peru",
         "showlegend": true,
         "type": "scattergeo"
        },
        {
         "geo": "geo",
         "hoverlabel": {
          "namelength": 0
         },
         "hovertemplate": "Country=United Arab Emirates<br>average=%{marker.size}<br>CountryCode=%{location}",
         "legendgroup": "Country=United Arab Emirates",
         "locationmode": "ISO-3",
         "locations": [
          "ARE"
         ],
         "marker": {
          "color": "#FFA15A",
          "size": [
           15542
          ],
          "sizemode": "area",
          "sizeref": 4415.14
         },
         "name": "Country=United Arab Emirates",
         "showlegend": true,
         "type": "scattergeo"
        },
        {
         "geo": "geo",
         "hoverlabel": {
          "namelength": 0
         },
         "hovertemplate": "Country=Argentina<br>average=%{marker.size}<br>CountryCode=%{location}",
         "legendgroup": "Country=Argentina",
         "locationmode": "ISO-3",
         "locations": [
          "ARG"
         ],
         "marker": {
          "color": "#19d3f3",
          "size": [
           13765
          ],
          "sizemode": "area",
          "sizeref": 4415.14
         },
         "name": "Country=Argentina",
         "showlegend": true,
         "type": "scattergeo"
        },
        {
         "geo": "geo",
         "hoverlabel": {
          "namelength": 0
         },
         "hovertemplate": "Country=Malaysia<br>average=%{marker.size}<br>CountryCode=%{location}",
         "legendgroup": "Country=Malaysia",
         "locationmode": "ISO-3",
         "locations": [
          "MYS"
         ],
         "marker": {
          "color": "#FF6692",
          "size": [
           13670
          ],
          "sizemode": "area",
          "sizeref": 4415.14
         },
         "name": "Country=Malaysia",
         "showlegend": true,
         "type": "scattergeo"
        },
        {
         "geo": "geo",
         "hoverlabel": {
          "namelength": 0
         },
         "hovertemplate": "Country=Tunisia<br>average=%{marker.size}<br>CountryCode=%{location}",
         "legendgroup": "Country=Tunisia",
         "locationmode": "ISO-3",
         "locations": [
          "TUN"
         ],
         "marker": {
          "color": "#B6E880",
          "size": [
           13666
          ],
          "sizemode": "area",
          "sizeref": 4415.14
         },
         "name": "Country=Tunisia",
         "showlegend": true,
         "type": "scattergeo"
        },
        {
         "geo": "geo",
         "hoverlabel": {
          "namelength": 0
         },
         "hovertemplate": "Country=Trinidad and Tobago<br>average=%{marker.size}<br>CountryCode=%{location}",
         "legendgroup": "Country=Trinidad and Tobago",
         "locationmode": "ISO-3",
         "locations": [
          "TTO"
         ],
         "marker": {
          "color": "#FF97FF",
          "size": [
           13186
          ],
          "sizemode": "area",
          "sizeref": 4415.14
         },
         "name": "Country=Trinidad and Tobago",
         "showlegend": true,
         "type": "scattergeo"
        },
        {
         "geo": "geo",
         "hoverlabel": {
          "namelength": 0
         },
         "hovertemplate": "Country=Turkmenistan<br>average=%{marker.size}<br>CountryCode=%{location}",
         "legendgroup": "Country=Turkmenistan",
         "locationmode": "ISO-3",
         "locations": [
          "TKM"
         ],
         "marker": {
          "color": "#FECB52",
          "size": [
           12820
          ],
          "sizemode": "area",
          "sizeref": 4415.14
         },
         "name": "Country=Turkmenistan",
         "showlegend": true,
         "type": "scattergeo"
        },
        {
         "geo": "geo",
         "hoverlabel": {
          "namelength": 0
         },
         "hovertemplate": "Country=Honduras<br>average=%{marker.size}<br>CountryCode=%{location}",
         "legendgroup": "Country=Honduras",
         "locationmode": "ISO-3",
         "locations": [
          "HND"
         ],
         "marker": {
          "color": "#636efa",
          "size": [
           12568
          ],
          "sizemode": "area",
          "sizeref": 4415.14
         },
         "name": "Country=Honduras",
         "showlegend": true,
         "type": "scattergeo"
        },
        {
         "geo": "geo",
         "hoverlabel": {
          "namelength": 0
         },
         "hovertemplate": "Country=Fiji<br>average=%{marker.size}<br>CountryCode=%{location}",
         "legendgroup": "Country=Fiji",
         "locationmode": "ISO-3",
         "locations": [
          "FJI"
         ],
         "marker": {
          "color": "#EF553B",
          "size": [
           12239
          ],
          "sizemode": "area",
          "sizeref": 4415.14
         },
         "name": "Country=Fiji",
         "showlegend": true,
         "type": "scattergeo"
        },
        {
         "geo": "geo",
         "hoverlabel": {
          "namelength": 0
         },
         "hovertemplate": "Country=Switzerland<br>average=%{marker.size}<br>CountryCode=%{location}",
         "legendgroup": "Country=Switzerland",
         "locationmode": "ISO-3",
         "locations": [
          "CHE"
         ],
         "marker": {
          "color": "#00cc96",
          "size": [
           12031
          ],
          "sizemode": "area",
          "sizeref": 4415.14
         },
         "name": "Country=Switzerland",
         "showlegend": true,
         "type": "scattergeo"
        },
        {
         "geo": "geo",
         "hoverlabel": {
          "namelength": 0
         },
         "hovertemplate": "Country=Burundi<br>average=%{marker.size}<br>CountryCode=%{location}",
         "legendgroup": "Country=Burundi",
         "locationmode": "ISO-3",
         "locations": [
          "BDI"
         ],
         "marker": {
          "color": "#ab63fa",
          "size": [
           11777
          ],
          "sizemode": "area",
          "sizeref": 4415.14
         },
         "name": "Country=Burundi",
         "showlegend": true,
         "type": "scattergeo"
        },
        {
         "geo": "geo",
         "hoverlabel": {
          "namelength": 0
         },
         "hovertemplate": "Country=Sweden<br>average=%{marker.size}<br>CountryCode=%{location}",
         "legendgroup": "Country=Sweden",
         "locationmode": "ISO-3",
         "locations": [
          "SWE"
         ],
         "marker": {
          "color": "#FFA15A",
          "size": [
           11682
          ],
          "sizemode": "area",
          "sizeref": 4415.14
         },
         "name": "Country=Sweden",
         "showlegend": true,
         "type": "scattergeo"
        },
        {
         "geo": "geo",
         "hoverlabel": {
          "namelength": 0
         },
         "hovertemplate": "Country=Zimbabwe<br>average=%{marker.size}<br>CountryCode=%{location}",
         "legendgroup": "Country=Zimbabwe",
         "locationmode": "ISO-3",
         "locations": [
          "ZWE"
         ],
         "marker": {
          "color": "#19d3f3",
          "size": [
           11534
          ],
          "sizemode": "area",
          "sizeref": 4415.14
         },
         "name": "Country=Zimbabwe",
         "showlegend": true,
         "type": "scattergeo"
        },
        {
         "geo": "geo",
         "hoverlabel": {
          "namelength": 0
         },
         "hovertemplate": "Country=Tanzania<br>average=%{marker.size}<br>CountryCode=%{location}",
         "legendgroup": "Country=Tanzania",
         "locationmode": "ISO-3",
         "locations": [
          "TZA"
         ],
         "marker": {
          "color": "#FF6692",
          "size": [
           11434
          ],
          "sizemode": "area",
          "sizeref": 4415.14
         },
         "name": "Country=Tanzania",
         "showlegend": true,
         "type": "scattergeo"
        },
        {
         "geo": "geo",
         "hoverlabel": {
          "namelength": 0
         },
         "hovertemplate": "Country=Ireland<br>average=%{marker.size}<br>CountryCode=%{location}",
         "legendgroup": "Country=Ireland",
         "locationmode": "ISO-3",
         "locations": [
          "IRL"
         ],
         "marker": {
          "color": "#B6E880",
          "size": [
           10964
          ],
          "sizemode": "area",
          "sizeref": 4415.14
         },
         "name": "Country=Ireland",
         "showlegend": true,
         "type": "scattergeo"
        },
        {
         "geo": "geo",
         "hoverlabel": {
          "namelength": 0
         },
         "hovertemplate": "Country=Thailand<br>average=%{marker.size}<br>CountryCode=%{location}",
         "legendgroup": "Country=Thailand",
         "locationmode": "ISO-3",
         "locations": [
          "THA"
         ],
         "marker": {
          "color": "#FF97FF",
          "size": [
           10575
          ],
          "sizemode": "area",
          "sizeref": 4415.14
         },
         "name": "Country=Thailand",
         "showlegend": true,
         "type": "scattergeo"
        },
        {
         "geo": "geo",
         "hoverlabel": {
          "namelength": 0
         },
         "hovertemplate": "Country=Netherlands<br>average=%{marker.size}<br>CountryCode=%{location}",
         "legendgroup": "Country=Netherlands",
         "locationmode": "ISO-3",
         "locations": [
          "NLD"
         ],
         "marker": {
          "color": "#FECB52",
          "size": [
           10355
          ],
          "sizemode": "area",
          "sizeref": 4415.14
         },
         "name": "Country=Netherlands",
         "showlegend": true,
         "type": "scattergeo"
        },
        {
         "geo": "geo",
         "hoverlabel": {
          "namelength": 0
         },
         "hovertemplate": "Country=Niger<br>average=%{marker.size}<br>CountryCode=%{location}",
         "legendgroup": "Country=Niger",
         "locationmode": "ISO-3",
         "locations": [
          "NER"
         ],
         "marker": {
          "color": "#636efa",
          "size": [
           10090
          ],
          "sizemode": "area",
          "sizeref": 4415.14
         },
         "name": "Country=Niger",
         "showlegend": true,
         "type": "scattergeo"
        },
        {
         "geo": "geo",
         "hoverlabel": {
          "namelength": 0
         },
         "hovertemplate": "Country=Mali<br>average=%{marker.size}<br>CountryCode=%{location}",
         "legendgroup": "Country=Mali",
         "locationmode": "ISO-3",
         "locations": [
          "MLI"
         ],
         "marker": {
          "color": "#EF553B",
          "size": [
           9250
          ],
          "sizemode": "area",
          "sizeref": 4415.14
         },
         "name": "Country=Mali",
         "showlegend": true,
         "type": "scattergeo"
        },
        {
         "geo": "geo",
         "hoverlabel": {
          "namelength": 0
         },
         "hovertemplate": "Country=Greece<br>average=%{marker.size}<br>CountryCode=%{location}",
         "legendgroup": "Country=Greece",
         "locationmode": "ISO-3",
         "locations": [
          "GRC"
         ],
         "marker": {
          "color": "#00cc96",
          "size": [
           8742
          ],
          "sizemode": "area",
          "sizeref": 4415.14
         },
         "name": "Country=Greece",
         "showlegend": true,
         "type": "scattergeo"
        },
        {
         "geo": "geo",
         "hoverlabel": {
          "namelength": 0
         },
         "hovertemplate": "Country=Bosnia and Herzegovina<br>average=%{marker.size}<br>CountryCode=%{location}",
         "legendgroup": "Country=Bosnia and Herzegovina",
         "locationmode": "ISO-3",
         "locations": [
          "BIH"
         ],
         "marker": {
          "color": "#ab63fa",
          "size": [
           8543
          ],
          "sizemode": "area",
          "sizeref": 4415.14
         },
         "name": "Country=Bosnia and Herzegovina",
         "showlegend": true,
         "type": "scattergeo"
        },
        {
         "geo": "geo",
         "hoverlabel": {
          "namelength": 0
         },
         "hovertemplate": "Country=Austria<br>average=%{marker.size}<br>CountryCode=%{location}",
         "legendgroup": "Country=Austria",
         "locationmode": "ISO-3",
         "locations": [
          "AUT"
         ],
         "marker": {
          "color": "#FFA15A",
          "size": [
           8445
          ],
          "sizemode": "area",
          "sizeref": 4415.14
         },
         "name": "Country=Austria",
         "showlegend": true,
         "type": "scattergeo"
        },
        {
         "geo": "geo",
         "hoverlabel": {
          "namelength": 0
         },
         "hovertemplate": "Country=Angola<br>average=%{marker.size}<br>CountryCode=%{location}",
         "legendgroup": "Country=Angola",
         "locationmode": "ISO-3",
         "locations": [
          "AGO"
         ],
         "marker": {
          "color": "#19d3f3",
          "size": [
           8343
          ],
          "sizemode": "area",
          "sizeref": 4415.14
         },
         "name": "Country=Angola",
         "showlegend": true,
         "type": "scattergeo"
        },
        {
         "geo": "geo",
         "hoverlabel": {
          "namelength": 0
         },
         "hovertemplate": "Country=Belgium<br>average=%{marker.size}<br>CountryCode=%{location}",
         "legendgroup": "Country=Belgium",
         "locationmode": "ISO-3",
         "locations": [
          "BEL"
         ],
         "marker": {
          "color": "#FF6692",
          "size": [
           8051
          ],
          "sizemode": "area",
          "sizeref": 4415.14
         },
         "name": "Country=Belgium",
         "showlegend": true,
         "type": "scattergeo"
        },
        {
         "geo": "geo",
         "hoverlabel": {
          "namelength": 0
         },
         "hovertemplate": "Country=Latvia<br>average=%{marker.size}<br>CountryCode=%{location}",
         "legendgroup": "Country=Latvia",
         "locationmode": "ISO-3",
         "locations": [
          "LVA"
         ],
         "marker": {
          "color": "#B6E880",
          "size": [
           7982
          ],
          "sizemode": "area",
          "sizeref": 4415.14
         },
         "name": "Country=Latvia",
         "showlegend": true,
         "type": "scattergeo"
        },
        {
         "geo": "geo",
         "hoverlabel": {
          "namelength": 0
         },
         "hovertemplate": "Country=Bolivia<br>average=%{marker.size}<br>CountryCode=%{location}",
         "legendgroup": "Country=Bolivia",
         "locationmode": "ISO-3",
         "locations": [
          "BOL"
         ],
         "marker": {
          "color": "#FF97FF",
          "size": [
           7684
          ],
          "sizemode": "area",
          "sizeref": 4415.14
         },
         "name": "Country=Bolivia",
         "showlegend": true,
         "type": "scattergeo"
        },
        {
         "geo": "geo",
         "hoverlabel": {
          "namelength": 0
         },
         "hovertemplate": "Country=Slovakia<br>average=%{marker.size}<br>CountryCode=%{location}",
         "legendgroup": "Country=Slovakia",
         "locationmode": "ISO-3",
         "locations": [
          "SVK"
         ],
         "marker": {
          "color": "#FECB52",
          "size": [
           7671
          ],
          "sizemode": "area",
          "sizeref": 4415.14
         },
         "name": "Country=Slovakia",
         "showlegend": true,
         "type": "scattergeo"
        },
        {
         "geo": "geo",
         "hoverlabel": {
          "namelength": 0
         },
         "hovertemplate": "Country=Czech Republic<br>average=%{marker.size}<br>CountryCode=%{location}",
         "legendgroup": "Country=Czech Republic",
         "locationmode": "ISO-3",
         "locations": [
          "CZE"
         ],
         "marker": {
          "color": "#636efa",
          "size": [
           7663
          ],
          "sizemode": "area",
          "sizeref": 4415.14
         },
         "name": "Country=Czech Republic",
         "showlegend": true,
         "type": "scattergeo"
        },
        {
         "geo": "geo",
         "hoverlabel": {
          "namelength": 0
         },
         "hovertemplate": "Country=Guatemala<br>average=%{marker.size}<br>CountryCode=%{location}",
         "legendgroup": "Country=Guatemala",
         "locationmode": "ISO-3",
         "locations": [
          "GTM"
         ],
         "marker": {
          "color": "#EF553B",
          "size": [
           6545
          ],
          "sizemode": "area",
          "sizeref": 4415.14
         },
         "name": "Country=Guatemala",
         "showlegend": true,
         "type": "scattergeo"
        },
        {
         "geo": "geo",
         "hoverlabel": {
          "namelength": 0
         },
         "hovertemplate": "Country=Nicaragua<br>average=%{marker.size}<br>CountryCode=%{location}",
         "legendgroup": "Country=Nicaragua",
         "locationmode": "ISO-3",
         "locations": [
          "NIC"
         ],
         "marker": {
          "color": "#00cc96",
          "size": [
           6205
          ],
          "sizemode": "area",
          "sizeref": 4415.14
         },
         "name": "Country=Nicaragua",
         "showlegend": true,
         "type": "scattergeo"
        },
        {
         "geo": "geo",
         "hoverlabel": {
          "namelength": 0
         },
         "hovertemplate": "Country=New Zealand<br>average=%{marker.size}<br>CountryCode=%{location}",
         "legendgroup": "Country=New Zealand",
         "locationmode": "ISO-3",
         "locations": [
          "NZL"
         ],
         "marker": {
          "color": "#ab63fa",
          "size": [
           6096
          ],
          "sizemode": "area",
          "sizeref": 4415.14
         },
         "name": "Country=New Zealand",
         "showlegend": true,
         "type": "scattergeo"
        },
        {
         "geo": "geo",
         "hoverlabel": {
          "namelength": 0
         },
         "hovertemplate": "Country=Costa Rica<br>average=%{marker.size}<br>CountryCode=%{location}",
         "legendgroup": "Country=Costa Rica",
         "locationmode": "ISO-3",
         "locations": [
          "CRI"
         ],
         "marker": {
          "color": "#FFA15A",
          "size": [
           6074
          ],
          "sizemode": "area",
          "sizeref": 4415.14
         },
         "name": "Country=Costa Rica",
         "showlegend": true,
         "type": "scattergeo"
        },
        {
         "geo": "geo",
         "hoverlabel": {
          "namelength": 0
         },
         "hovertemplate": "Country=Croatia<br>average=%{marker.size}<br>CountryCode=%{location}",
         "legendgroup": "Country=Croatia",
         "locationmode": "ISO-3",
         "locations": [
          "HRV"
         ],
         "marker": {
          "color": "#19d3f3",
          "size": [
           6018
          ],
          "sizemode": "area",
          "sizeref": 4415.14
         },
         "name": "Country=Croatia",
         "showlegend": true,
         "type": "scattergeo"
        },
        {
         "geo": "geo",
         "hoverlabel": {
          "namelength": 0
         },
         "hovertemplate": "Country=Hong Kong Special Administrative Region<br>average=%{marker.size}<br>CountryCode=%{location}",
         "legendgroup": "Country=Hong Kong Special Administrative Region",
         "locationmode": "ISO-3",
         "locations": [
          "HKG"
         ],
         "marker": {
          "color": "#FF6692",
          "size": [
           5951
          ],
          "sizemode": "area",
          "sizeref": 4415.14
         },
         "name": "Country=Hong Kong Special Administrative Region",
         "showlegend": true,
         "type": "scattergeo"
        },
        {
         "geo": "geo",
         "hoverlabel": {
          "namelength": 0
         },
         "hovertemplate": "Country=Djibouti<br>average=%{marker.size}<br>CountryCode=%{location}",
         "legendgroup": "Country=Djibouti",
         "locationmode": "ISO-3",
         "locations": [
          "DJI"
         ],
         "marker": {
          "color": "#B6E880",
          "size": [
           5944
          ],
          "sizemode": "area",
          "sizeref": 4415.14
         },
         "name": "Country=Djibouti",
         "showlegend": true,
         "type": "scattergeo"
        },
        {
         "geo": "geo",
         "hoverlabel": {
          "namelength": 0
         },
         "hovertemplate": "Country=Singapore<br>average=%{marker.size}<br>CountryCode=%{location}",
         "legendgroup": "Country=Singapore",
         "locationmode": "ISO-3",
         "locations": [
          "SGP"
         ],
         "marker": {
          "color": "#FF97FF",
          "size": [
           5791
          ],
          "sizemode": "area",
          "sizeref": 4415.14
         },
         "name": "Country=Singapore",
         "showlegend": true,
         "type": "scattergeo"
        },
        {
         "geo": "geo",
         "hoverlabel": {
          "namelength": 0
         },
         "hovertemplate": "Country=Finland<br>average=%{marker.size}<br>CountryCode=%{location}",
         "legendgroup": "Country=Finland",
         "locationmode": "ISO-3",
         "locations": [
          "FIN"
         ],
         "marker": {
          "color": "#FECB52",
          "size": [
           5779
          ],
          "sizemode": "area",
          "sizeref": 4415.14
         },
         "name": "Country=Finland",
         "showlegend": true,
         "type": "scattergeo"
        },
        {
         "geo": "geo",
         "hoverlabel": {
          "namelength": 0
         },
         "hovertemplate": "Country=Chile<br>average=%{marker.size}<br>CountryCode=%{location}",
         "legendgroup": "Country=Chile",
         "locationmode": "ISO-3",
         "locations": [
          "CHL"
         ],
         "marker": {
          "color": "#636efa",
          "size": [
           5673
          ],
          "sizemode": "area",
          "sizeref": 4415.14
         },
         "name": "Country=Chile",
         "showlegend": true,
         "type": "scattergeo"
        },
        {
         "geo": "geo",
         "hoverlabel": {
          "namelength": 0
         },
         "hovertemplate": "Country=Zambia<br>average=%{marker.size}<br>CountryCode=%{location}",
         "legendgroup": "Country=Zambia",
         "locationmode": "ISO-3",
         "locations": [
          "ZMB"
         ],
         "marker": {
          "color": "#EF553B",
          "size": [
           5483
          ],
          "sizemode": "area",
          "sizeref": 4415.14
         },
         "name": "Country=Zambia",
         "showlegend": true,
         "type": "scattergeo"
        },
        {
         "geo": "geo",
         "hoverlabel": {
          "namelength": 0
         },
         "hovertemplate": "Country=Portugal<br>average=%{marker.size}<br>CountryCode=%{location}",
         "legendgroup": "Country=Portugal",
         "locationmode": "ISO-3",
         "locations": [
          "PRT"
         ],
         "marker": {
          "color": "#00cc96",
          "size": [
           5096
          ],
          "sizemode": "area",
          "sizeref": 4415.14
         },
         "name": "Country=Portugal",
         "showlegend": true,
         "type": "scattergeo"
        },
        {
         "geo": "geo",
         "hoverlabel": {
          "namelength": 0
         },
         "hovertemplate": "Country=Denmark<br>average=%{marker.size}<br>CountryCode=%{location}",
         "legendgroup": "Country=Denmark",
         "locationmode": "ISO-3",
         "locations": [
          "DNK"
         ],
         "marker": {
          "color": "#ab63fa",
          "size": [
           4738
          ],
          "sizemode": "area",
          "sizeref": 4415.14
         },
         "name": "Country=Denmark",
         "showlegend": true,
         "type": "scattergeo"
        },
        {
         "geo": "geo",
         "hoverlabel": {
          "namelength": 0
         },
         "hovertemplate": "Country=Qatar<br>average=%{marker.size}<br>CountryCode=%{location}",
         "legendgroup": "Country=Qatar",
         "locationmode": "ISO-3",
         "locations": [
          "QAT"
         ],
         "marker": {
          "color": "#FFA15A",
          "size": [
           4554
          ],
          "sizemode": "area",
          "sizeref": 4415.14
         },
         "name": "Country=Qatar",
         "showlegend": true,
         "type": "scattergeo"
        },
        {
         "geo": "geo",
         "hoverlabel": {
          "namelength": 0
         },
         "hovertemplate": "Country=Chad<br>average=%{marker.size}<br>CountryCode=%{location}",
         "legendgroup": "Country=Chad",
         "locationmode": "ISO-3",
         "locations": [
          "TCD"
         ],
         "marker": {
          "color": "#19d3f3",
          "size": [
           4442
          ],
          "sizemode": "area",
          "sizeref": 4415.14
         },
         "name": "Country=Chad",
         "showlegend": true,
         "type": "scattergeo"
        },
        {
         "geo": "geo",
         "hoverlabel": {
          "namelength": 0
         },
         "hovertemplate": "Country=Gambia<br>average=%{marker.size}<br>CountryCode=%{location}",
         "legendgroup": "Country=Gambia",
         "locationmode": "ISO-3",
         "locations": [
          "GMB"
         ],
         "marker": {
          "color": "#FF6692",
          "size": [
           4089
          ],
          "sizemode": "area",
          "sizeref": 4415.14
         },
         "name": "Country=Gambia",
         "showlegend": true,
         "type": "scattergeo"
        },
        {
         "geo": "geo",
         "hoverlabel": {
          "namelength": 0
         },
         "hovertemplate": "Country=Estonia<br>average=%{marker.size}<br>CountryCode=%{location}",
         "legendgroup": "Country=Estonia",
         "locationmode": "ISO-3",
         "locations": [
          "EST"
         ],
         "marker": {
          "color": "#B6E880",
          "size": [
           3987
          ],
          "sizemode": "area",
          "sizeref": 4415.14
         },
         "name": "Country=Estonia",
         "showlegend": true,
         "type": "scattergeo"
        },
        {
         "geo": "geo",
         "hoverlabel": {
          "namelength": 0
         },
         "hovertemplate": "Country=Norway<br>average=%{marker.size}<br>CountryCode=%{location}",
         "legendgroup": "Country=Norway",
         "locationmode": "ISO-3",
         "locations": [
          "NOR"
         ],
         "marker": {
          "color": "#FF97FF",
          "size": [
           3891
          ],
          "sizemode": "area",
          "sizeref": 4415.14
         },
         "name": "Country=Norway",
         "showlegend": true,
         "type": "scattergeo"
        },
        {
         "geo": "geo",
         "hoverlabel": {
          "namelength": 0
         },
         "hovertemplate": "Country=Gabon<br>average=%{marker.size}<br>CountryCode=%{location}",
         "legendgroup": "Country=Gabon",
         "locationmode": "ISO-3",
         "locations": [
          "GAB"
         ],
         "marker": {
          "color": "#FECB52",
          "size": [
           3623
          ],
          "sizemode": "area",
          "sizeref": 4415.14
         },
         "name": "Country=Gabon",
         "showlegend": true,
         "type": "scattergeo"
        },
        {
         "geo": "geo",
         "hoverlabel": {
          "namelength": 0
         },
         "hovertemplate": "Country=Madagascar<br>average=%{marker.size}<br>CountryCode=%{location}",
         "legendgroup": "Country=Madagascar",
         "locationmode": "ISO-3",
         "locations": [
          "MDG"
         ],
         "marker": {
          "color": "#636efa",
          "size": [
           3621
          ],
          "sizemode": "area",
          "sizeref": 4415.14
         },
         "name": "Country=Madagascar",
         "showlegend": true,
         "type": "scattergeo"
        },
        {
         "geo": "geo",
         "hoverlabel": {
          "namelength": 0
         },
         "hovertemplate": "Country=Bahamas<br>average=%{marker.size}<br>CountryCode=%{location}",
         "legendgroup": "Country=Bahamas",
         "locationmode": "ISO-3",
         "locations": [
          "BHS"
         ],
         "marker": {
          "color": "#EF553B",
          "size": [
           3569
          ],
          "sizemode": "area",
          "sizeref": 4415.14
         },
         "name": "Country=Bahamas",
         "showlegend": true,
         "type": "scattergeo"
        },
        {
         "geo": "geo",
         "hoverlabel": {
          "namelength": 0
         },
         "hovertemplate": "Country=Guyana<br>average=%{marker.size}<br>CountryCode=%{location}",
         "legendgroup": "Country=Guyana",
         "locationmode": "ISO-3",
         "locations": [
          "GUY"
         ],
         "marker": {
          "color": "#00cc96",
          "size": [
           3314
          ],
          "sizemode": "area",
          "sizeref": 4415.14
         },
         "name": "Country=Guyana",
         "showlegend": true,
         "type": "scattergeo"
        },
        {
         "geo": "geo",
         "hoverlabel": {
          "namelength": 0
         },
         "hovertemplate": "Country=Mauritius<br>average=%{marker.size}<br>CountryCode=%{location}",
         "legendgroup": "Country=Mauritius",
         "locationmode": "ISO-3",
         "locations": [
          "MUS"
         ],
         "marker": {
          "color": "#ab63fa",
          "size": [
           3257
          ],
          "sizemode": "area",
          "sizeref": 4415.14
         },
         "name": "Country=Mauritius",
         "showlegend": true,
         "type": "scattergeo"
        },
        {
         "geo": "geo",
         "hoverlabel": {
          "namelength": 0
         },
         "hovertemplate": "Country=Mauritania<br>average=%{marker.size}<br>CountryCode=%{location}",
         "legendgroup": "Country=Mauritania",
         "locationmode": "ISO-3",
         "locations": [
          "MRT"
         ],
         "marker": {
          "color": "#FFA15A",
          "size": [
           2950
          ],
          "sizemode": "area",
          "sizeref": 4415.14
         },
         "name": "Country=Mauritania",
         "showlegend": true,
         "type": "scattergeo"
        },
        {
         "geo": "geo",
         "hoverlabel": {
          "namelength": 0
         },
         "hovertemplate": "Country=Bahrain<br>average=%{marker.size}<br>CountryCode=%{location}",
         "legendgroup": "Country=Bahrain",
         "locationmode": "ISO-3",
         "locations": [
          "BHR"
         ],
         "marker": {
          "color": "#19d3f3",
          "size": [
           2541
          ],
          "sizemode": "area",
          "sizeref": 4415.14
         },
         "name": "Country=Bahrain",
         "showlegend": true,
         "type": "scattergeo"
        },
        {
         "geo": "geo",
         "hoverlabel": {
          "namelength": 0
         },
         "hovertemplate": "Country=Northern Ireland<br>average=%{marker.size}<br>CountryCode=%{location}",
         "legendgroup": "Country=Northern Ireland",
         "locationmode": "ISO-3",
         "locations": [
          "GBR"
         ],
         "marker": {
          "color": "#FF6692",
          "size": [
           2435
          ],
          "sizemode": "area",
          "sizeref": 4415.14
         },
         "name": "Country=Northern Ireland",
         "showlegend": true,
         "type": "scattergeo"
        },
        {
         "geo": "geo",
         "hoverlabel": {
          "namelength": 0
         },
         "hovertemplate": "Country=Iceland<br>average=%{marker.size}<br>CountryCode=%{location}",
         "legendgroup": "Country=Iceland",
         "locationmode": "ISO-3",
         "locations": [
          "ISL"
         ],
         "marker": {
          "color": "#B6E880",
          "size": [
           2401
          ],
          "sizemode": "area",
          "sizeref": 4415.14
         },
         "name": "Country=Iceland",
         "showlegend": true,
         "type": "scattergeo"
        },
        {
         "geo": "geo",
         "hoverlabel": {
          "namelength": 0
         },
         "hovertemplate": "Country=Uruguay<br>average=%{marker.size}<br>CountryCode=%{location}",
         "legendgroup": "Country=Uruguay",
         "locationmode": "ISO-3",
         "locations": [
          "URY"
         ],
         "marker": {
          "color": "#FF97FF",
          "size": [
           2331
          ],
          "sizemode": "area",
          "sizeref": 4415.14
         },
         "name": "Country=Uruguay",
         "showlegend": true,
         "type": "scattergeo"
        },
        {
         "geo": "geo",
         "hoverlabel": {
          "namelength": 0
         },
         "hovertemplate": "Country=Panama<br>average=%{marker.size}<br>CountryCode=%{location}",
         "legendgroup": "Country=Panama",
         "locationmode": "ISO-3",
         "locations": [
          "PAN"
         ],
         "marker": {
          "color": "#FECB52",
          "size": [
           2234
          ],
          "sizemode": "area",
          "sizeref": 4415.14
         },
         "name": "Country=Panama",
         "showlegend": true,
         "type": "scattergeo"
        },
        {
         "geo": "geo",
         "hoverlabel": {
          "namelength": 0
         },
         "hovertemplate": "Country=Malawi<br>average=%{marker.size}<br>CountryCode=%{location}",
         "legendgroup": "Country=Malawi",
         "locationmode": "ISO-3",
         "locations": [
          "MWI"
         ],
         "marker": {
          "color": "#636efa",
          "size": [
           2040
          ],
          "sizemode": "area",
          "sizeref": 4415.14
         },
         "name": "Country=Malawi",
         "showlegend": true,
         "type": "scattergeo"
        },
        {
         "geo": "geo",
         "hoverlabel": {
          "namelength": 0
         },
         "hovertemplate": "Country=Bhutan<br>average=%{marker.size}<br>CountryCode=%{location}",
         "legendgroup": "Country=Bhutan",
         "locationmode": "ISO-3",
         "locations": [
          "BTN"
         ],
         "marker": {
          "color": "#EF553B",
          "size": [
           2026
          ],
          "sizemode": "area",
          "sizeref": 4415.14
         },
         "name": "Country=Bhutan",
         "showlegend": true,
         "type": "scattergeo"
        },
        {
         "geo": "geo",
         "hoverlabel": {
          "namelength": 0
         },
         "hovertemplate": "Country=Montenegro<br>average=%{marker.size}<br>CountryCode=%{location}",
         "legendgroup": "Country=Montenegro",
         "locationmode": "ISO-3",
         "locations": [
          "MNE"
         ],
         "marker": {
          "color": "#00cc96",
          "size": [
           1779
          ],
          "sizemode": "area",
          "sizeref": 4415.14
         },
         "name": "Country=Montenegro",
         "showlegend": true,
         "type": "scattergeo"
        },
        {
         "geo": "geo",
         "hoverlabel": {
          "namelength": 0
         },
         "hovertemplate": "Country=Barbados<br>average=%{marker.size}<br>CountryCode=%{location}",
         "legendgroup": "Country=Barbados",
         "locationmode": "ISO-3",
         "locations": [
          "BRB"
         ],
         "marker": {
          "color": "#ab63fa",
          "size": [
           1659
          ],
          "sizemode": "area",
          "sizeref": 4415.14
         },
         "name": "Country=Barbados",
         "showlegend": true,
         "type": "scattergeo"
        },
        {
         "geo": "geo",
         "hoverlabel": {
          "namelength": 0
         },
         "hovertemplate": "Country=Central African Republic<br>average=%{marker.size}<br>CountryCode=%{location}",
         "legendgroup": "Country=Central African Republic",
         "locationmode": "ISO-3",
         "locations": [
          "CAF"
         ],
         "marker": {
          "color": "#FFA15A",
          "size": [
           1621
          ],
          "sizemode": "area",
          "sizeref": 4415.14
         },
         "name": "Country=Central African Republic",
         "showlegend": true,
         "type": "scattergeo"
        },
        {
         "geo": "geo",
         "hoverlabel": {
          "namelength": 0
         },
         "hovertemplate": "Country=Tonga<br>average=%{marker.size}<br>CountryCode=%{location}",
         "legendgroup": "Country=Tonga",
         "locationmode": "ISO-3",
         "locations": [
          "TON"
         ],
         "marker": {
          "color": "#19d3f3",
          "size": [
           1584
          ],
          "sizemode": "area",
          "sizeref": 4415.14
         },
         "name": "Country=Tonga",
         "showlegend": true,
         "type": "scattergeo"
        },
        {
         "geo": "geo",
         "hoverlabel": {
          "namelength": 0
         },
         "hovertemplate": "Country=Dominica<br>average=%{marker.size}<br>CountryCode=%{location}",
         "legendgroup": "Country=Dominica",
         "locationmode": "ISO-3",
         "locations": [
          "DMA"
         ],
         "marker": {
          "color": "#FF6692",
          "size": [
           1534
          ],
          "sizemode": "area",
          "sizeref": 4415.14
         },
         "name": "Country=Dominica",
         "showlegend": true,
         "type": "scattergeo"
        },
        {
         "geo": "geo",
         "hoverlabel": {
          "namelength": 0
         },
         "hovertemplate": "Country=Cyprus<br>average=%{marker.size}<br>CountryCode=%{location}",
         "legendgroup": "Country=Cyprus",
         "locationmode": "ISO-3",
         "locations": [
          "CYP"
         ],
         "marker": {
          "color": "#B6E880",
          "size": [
           1524
          ],
          "sizemode": "area",
          "sizeref": 4415.14
         },
         "name": "Country=Cyprus",
         "showlegend": true,
         "type": "scattergeo"
        },
        {
         "geo": "geo",
         "hoverlabel": {
          "namelength": 0
         },
         "hovertemplate": "Country=Slovenia<br>average=%{marker.size}<br>CountryCode=%{location}",
         "legendgroup": "Country=Slovenia",
         "locationmode": "ISO-3",
         "locations": [
          "SVN"
         ],
         "marker": {
          "color": "#FF97FF",
          "size": [
           1466
          ],
          "sizemode": "area",
          "sizeref": 4415.14
         },
         "name": "Country=Slovenia",
         "showlegend": true,
         "type": "scattergeo"
        },
        {
         "geo": "geo",
         "hoverlabel": {
          "namelength": 0
         },
         "hovertemplate": "Country=South Sudan<br>average=%{marker.size}<br>CountryCode=%{location}",
         "legendgroup": "Country=South Sudan",
         "locationmode": "ISO-3",
         "locations": [
          "SSD"
         ],
         "marker": {
          "color": "#FECB52",
          "size": [
           1453
          ],
          "sizemode": "area",
          "sizeref": 4415.14
         },
         "name": "Country=South Sudan",
         "showlegend": true,
         "type": "scattergeo"
        },
        {
         "geo": "geo",
         "hoverlabel": {
          "namelength": 0
         },
         "hovertemplate": "Country=Cape Verde<br>average=%{marker.size}<br>CountryCode=%{location}",
         "legendgroup": "Country=Cape Verde",
         "locationmode": "ISO-3",
         "locations": [
          "CPV"
         ],
         "marker": {
          "color": "#636efa",
          "size": [
           1319
          ],
          "sizemode": "area",
          "sizeref": 4415.14
         },
         "name": "Country=Cape Verde",
         "showlegend": true,
         "type": "scattergeo"
        },
        {
         "geo": "geo",
         "hoverlabel": {
          "namelength": 0
         },
         "hovertemplate": "Country=Oman<br>average=%{marker.size}<br>CountryCode=%{location}",
         "legendgroup": "Country=Oman",
         "locationmode": "ISO-3",
         "locations": [
          "OMN"
         ],
         "marker": {
          "color": "#EF553B",
          "size": [
           1194
          ],
          "sizemode": "area",
          "sizeref": 4415.14
         },
         "name": "Country=Oman",
         "showlegend": true,
         "type": "scattergeo"
        },
        {
         "geo": "geo",
         "hoverlabel": {
          "namelength": 0
         },
         "hovertemplate": "Country=Grenada<br>average=%{marker.size}<br>CountryCode=%{location}",
         "legendgroup": "Country=Grenada",
         "locationmode": "ISO-3",
         "locations": [
          "GRD"
         ],
         "marker": {
          "color": "#00cc96",
          "size": [
           1156
          ],
          "sizemode": "area",
          "sizeref": 4415.14
         },
         "name": "Country=Grenada",
         "showlegend": true,
         "type": "scattergeo"
        },
        {
         "geo": "geo",
         "hoverlabel": {
          "namelength": 0
         },
         "hovertemplate": "Country=Paraguay<br>average=%{marker.size}<br>CountryCode=%{location}",
         "legendgroup": "Country=Paraguay",
         "locationmode": "ISO-3",
         "locations": [
          "PRY"
         ],
         "marker": {
          "color": "#ab63fa",
          "size": [
           1125
          ],
          "sizemode": "area",
          "sizeref": 4415.14
         },
         "name": "Country=Paraguay",
         "showlegend": true,
         "type": "scattergeo"
        },
        {
         "geo": "geo",
         "hoverlabel": {
          "namelength": 0
         },
         "hovertemplate": "Country=Saint Lucia<br>average=%{marker.size}<br>CountryCode=%{location}",
         "legendgroup": "Country=Saint Lucia",
         "locationmode": "ISO-3",
         "locations": [
          "LCA"
         ],
         "marker": {
          "color": "#FFA15A",
          "size": [
           1102
          ],
          "sizemode": "area",
          "sizeref": 4415.14
         },
         "name": "Country=Saint Lucia",
         "showlegend": true,
         "type": "scattergeo"
        },
        {
         "geo": "geo",
         "hoverlabel": {
          "namelength": 0
         },
         "hovertemplate": "Country=Belize<br>average=%{marker.size}<br>CountryCode=%{location}",
         "legendgroup": "Country=Belize",
         "locationmode": "ISO-3",
         "locations": [
          "BLZ"
         ],
         "marker": {
          "color": "#19d3f3",
          "size": [
           1085
          ],
          "sizemode": "area",
          "sizeref": 4415.14
         },
         "name": "Country=Belize",
         "showlegend": true,
         "type": "scattergeo"
        },
        {
         "geo": "geo",
         "hoverlabel": {
          "namelength": 0
         },
         "hovertemplate": "Country=Namibia<br>average=%{marker.size}<br>CountryCode=%{location}",
         "legendgroup": "Country=Namibia",
         "locationmode": "ISO-3",
         "locations": [
          "NAM"
         ],
         "marker": {
          "color": "#FF6692",
          "size": [
           1029
          ],
          "sizemode": "area",
          "sizeref": 4415.14
         },
         "name": "Country=Namibia",
         "showlegend": true,
         "type": "scattergeo"
        },
        {
         "geo": "geo",
         "hoverlabel": {
          "namelength": 0
         },
         "hovertemplate": "Country=Suriname<br>average=%{marker.size}<br>CountryCode=%{location}",
         "legendgroup": "Country=Suriname",
         "locationmode": "ISO-3",
         "locations": [
          "SUR"
         ],
         "marker": {
          "color": "#B6E880",
          "size": [
           978
          ],
          "sizemode": "area",
          "sizeref": 4415.14
         },
         "name": "Country=Suriname",
         "showlegend": true,
         "type": "scattergeo"
        },
        {
         "geo": "geo",
         "hoverlabel": {
          "namelength": 0
         },
         "hovertemplate": "Country=Botswana<br>average=%{marker.size}<br>CountryCode=%{location}",
         "legendgroup": "Country=Botswana",
         "locationmode": "ISO-3",
         "locations": [
          "BWA"
         ],
         "marker": {
          "color": "#FF97FF",
          "size": [
           929
          ],
          "sizemode": "area",
          "sizeref": 4415.14
         },
         "name": "Country=Botswana",
         "showlegend": true,
         "type": "scattergeo"
        },
        {
         "geo": "geo",
         "hoverlabel": {
          "namelength": 0
         },
         "hovertemplate": "Country=Mozambique<br>average=%{marker.size}<br>CountryCode=%{location}",
         "legendgroup": "Country=Mozambique",
         "locationmode": "ISO-3",
         "locations": [
          "MOZ"
         ],
         "marker": {
          "color": "#FECB52",
          "size": [
           762
          ],
          "sizemode": "area",
          "sizeref": 4415.14
         },
         "name": "Country=Mozambique",
         "showlegend": true,
         "type": "scattergeo"
        },
        {
         "geo": "geo",
         "hoverlabel": {
          "namelength": 0
         },
         "hovertemplate": "Country=Aruba<br>average=%{marker.size}<br>CountryCode=%{location}",
         "legendgroup": "Country=Aruba",
         "locationmode": "ISO-3",
         "locations": [
          "ABW"
         ],
         "marker": {
          "color": "#636efa",
          "size": [
           709
          ],
          "sizemode": "area",
          "sizeref": 4415.14
         },
         "name": "Country=Aruba",
         "showlegend": true,
         "type": "scattergeo"
        },
        {
         "geo": "geo",
         "hoverlabel": {
          "namelength": 0
         },
         "hovertemplate": "Country=Antigua and Barbuda<br>average=%{marker.size}<br>CountryCode=%{location}",
         "legendgroup": "Country=Antigua and Barbuda",
         "locationmode": "ISO-3",
         "locations": [
          "ATG"
         ],
         "marker": {
          "color": "#EF553B",
          "size": [
           685
          ],
          "sizemode": "area",
          "sizeref": 4415.14
         },
         "name": "Country=Antigua and Barbuda",
         "showlegend": true,
         "type": "scattergeo"
        },
        {
         "geo": "geo",
         "hoverlabel": {
          "namelength": 0
         },
         "hovertemplate": "Country=Guinea-Bissau<br>average=%{marker.size}<br>CountryCode=%{location}",
         "legendgroup": "Country=Guinea-Bissau",
         "locationmode": "ISO-3",
         "locations": [
          "GNB"
         ],
         "marker": {
          "color": "#00cc96",
          "size": [
           670
          ],
          "sizemode": "area",
          "sizeref": 4415.14
         },
         "name": "Country=Guinea-Bissau",
         "showlegend": true,
         "type": "scattergeo"
        },
        {
         "geo": "geo",
         "hoverlabel": {
          "namelength": 0
         },
         "hovertemplate": "Country=Equatorial Guinea<br>average=%{marker.size}<br>CountryCode=%{location}",
         "legendgroup": "Country=Equatorial Guinea",
         "locationmode": "ISO-3",
         "locations": [
          "GNQ"
         ],
         "marker": {
          "color": "#ab63fa",
          "size": [
           667
          ],
          "sizemode": "area",
          "sizeref": 4415.14
         },
         "name": "Country=Equatorial Guinea",
         "showlegend": true,
         "type": "scattergeo"
        },
        {
         "geo": "geo",
         "hoverlabel": {
          "namelength": 0
         },
         "hovertemplate": "Country=French Polynesia<br>average=%{marker.size}<br>CountryCode=%{location}",
         "legendgroup": "Country=French Polynesia",
         "locationmode": "ISO-3",
         "locations": [
          "PYF"
         ],
         "marker": {
          "color": "#FFA15A",
          "size": [
           576
          ],
          "sizemode": "area",
          "sizeref": 4415.14
         },
         "name": "Country=French Polynesia",
         "showlegend": true,
         "type": "scattergeo"
        },
        {
         "geo": "geo",
         "hoverlabel": {
          "namelength": 0
         },
         "hovertemplate": "Country=Laos<br>average=%{marker.size}<br>CountryCode=%{location}",
         "legendgroup": "Country=Laos",
         "locationmode": "ISO-3",
         "locations": [
          "LAO"
         ],
         "marker": {
          "color": "#19d3f3",
          "size": [
           571
          ],
          "sizemode": "area",
          "sizeref": 4415.14
         },
         "name": "Country=Laos",
         "showlegend": true,
         "type": "scattergeo"
        },
        {
         "geo": "geo",
         "hoverlabel": {
          "namelength": 0
         },
         "hovertemplate": "Country=Comoros<br>average=%{marker.size}<br>CountryCode=%{location}",
         "legendgroup": "Country=Comoros",
         "locationmode": "ISO-3",
         "locations": [
          "COM"
         ],
         "marker": {
          "color": "#FF6692",
          "size": [
           542
          ],
          "sizemode": "area",
          "sizeref": 4415.14
         },
         "name": "Country=Comoros",
         "showlegend": true,
         "type": "scattergeo"
        },
        {
         "geo": "geo",
         "hoverlabel": {
          "namelength": 0
         },
         "hovertemplate": "Country=Saint Vincent and the Grenadines<br>average=%{marker.size}<br>CountryCode=%{location}",
         "legendgroup": "Country=Saint Vincent and the Grenadines",
         "locationmode": "ISO-3",
         "locations": [
          "VCT"
         ],
         "marker": {
          "color": "#B6E880",
          "size": [
           539
          ],
          "sizemode": "area",
          "sizeref": 4415.14
         },
         "name": "Country=Saint Vincent and the Grenadines",
         "showlegend": true,
         "type": "scattergeo"
        },
        {
         "geo": "geo",
         "hoverlabel": {
          "namelength": 0
         },
         "hovertemplate": "Country=Macau Special Administrative Region<br>average=%{marker.size}<br>CountryCode=%{location}",
         "legendgroup": "Country=Macau Special Administrative Region",
         "locationmode": "ISO-3",
         "locations": [
          "MAC"
         ],
         "marker": {
          "color": "#FF97FF",
          "size": [
           537
          ],
          "sizemode": "area",
          "sizeref": 4415.14
         },
         "name": "Country=Macau Special Administrative Region",
         "showlegend": true,
         "type": "scattergeo"
        },
        {
         "geo": "geo",
         "hoverlabel": {
          "namelength": 0
         },
         "hovertemplate": "Country=Malta<br>average=%{marker.size}<br>CountryCode=%{location}",
         "legendgroup": "Country=Malta",
         "locationmode": "ISO-3",
         "locations": [
          "MLT"
         ],
         "marker": {
          "color": "#FECB52",
          "size": [
           527
          ],
          "sizemode": "area",
          "sizeref": 4415.14
         },
         "name": "Country=Malta",
         "showlegend": true,
         "type": "scattergeo"
        },
        {
         "geo": "geo",
         "hoverlabel": {
          "namelength": 0
         },
         "hovertemplate": "Country=Luxembourg<br>average=%{marker.size}<br>CountryCode=%{location}",
         "legendgroup": "Country=Luxembourg",
         "locationmode": "ISO-3",
         "locations": [
          "LUX"
         ],
         "marker": {
          "color": "#636efa",
          "size": [
           508
          ],
          "sizemode": "area",
          "sizeref": 4415.14
         },
         "name": "Country=Luxembourg",
         "showlegend": true,
         "type": "scattergeo"
        },
        {
         "geo": "geo",
         "hoverlabel": {
          "namelength": 0
         },
         "hovertemplate": "Country=Curacao<br>average=%{marker.size}<br>CountryCode=%{location}",
         "legendgroup": "Country=Curacao",
         "locationmode": "ISO-3",
         "locations": [
          "CUW"
         ],
         "marker": {
          "color": "#EF553B",
          "size": [
           405
          ],
          "sizemode": "area",
          "sizeref": 4415.14
         },
         "name": "Country=Curacao",
         "showlegend": true,
         "type": "scattergeo"
        },
        {
         "geo": "geo",
         "hoverlabel": {
          "namelength": 0
         },
         "hovertemplate": "Country=Samoa<br>average=%{marker.size}<br>CountryCode=%{location}",
         "legendgroup": "Country=Samoa",
         "locationmode": "ISO-3",
         "locations": [
          "WSM"
         ],
         "marker": {
          "color": "#00cc96",
          "size": [
           393
          ],
          "sizemode": "area",
          "sizeref": 4415.14
         },
         "name": "Country=Samoa",
         "showlegend": true,
         "type": "scattergeo"
        },
        {
         "geo": "geo",
         "hoverlabel": {
          "namelength": 0
         },
         "hovertemplate": "Country=Saint Kitts and Nevis<br>average=%{marker.size}<br>CountryCode=%{location}",
         "legendgroup": "Country=Saint Kitts and Nevis",
         "locationmode": "ISO-3",
         "locations": [
          "KNA"
         ],
         "marker": {
          "color": "#ab63fa",
          "size": [
           393
          ],
          "sizemode": "area",
          "sizeref": 4415.14
         },
         "name": "Country=Saint Kitts and Nevis",
         "showlegend": true,
         "type": "scattergeo"
        },
        {
         "geo": "geo",
         "hoverlabel": {
          "namelength": 0
         },
         "hovertemplate": "Country=Lesotho<br>average=%{marker.size}<br>CountryCode=%{location}",
         "legendgroup": "Country=Lesotho",
         "locationmode": "ISO-3",
         "locations": [
          "LSO"
         ],
         "marker": {
          "color": "#FFA15A",
          "size": [
           353
          ],
          "sizemode": "area",
          "sizeref": 4415.14
         },
         "name": "Country=Lesotho",
         "showlegend": true,
         "type": "scattergeo"
        },
        {
         "geo": "geo",
         "hoverlabel": {
          "namelength": 0
         },
         "hovertemplate": "Country=Swaziland<br>average=%{marker.size}<br>CountryCode=%{location}",
         "legendgroup": "Country=Swaziland",
         "locationmode": "ISO-3",
         "locations": [
          "SWZ"
         ],
         "marker": {
          "color": "#19d3f3",
          "size": [
           346
          ],
          "sizemode": "area",
          "sizeref": 4415.14
         },
         "name": "Country=Swaziland",
         "showlegend": true,
         "type": "scattergeo"
        },
        {
         "geo": "geo",
         "hoverlabel": {
          "namelength": 0
         },
         "hovertemplate": "Country=Maldives<br>average=%{marker.size}<br>CountryCode=%{location}",
         "legendgroup": "Country=Maldives",
         "locationmode": "ISO-3",
         "locations": [
          "MDV"
         ],
         "marker": {
          "color": "#FF6692",
          "size": [
           337
          ],
          "sizemode": "area",
          "sizeref": 4415.14
         },
         "name": "Country=Maldives",
         "showlegend": true,
         "type": "scattergeo"
        },
        {
         "geo": "geo",
         "hoverlabel": {
          "namelength": 0
         },
         "hovertemplate": "Country=Netherlands Antilles<br>average=%{marker.size}<br>CountryCode=%{location}",
         "legendgroup": "Country=Netherlands Antilles",
         "locationmode": "ISO-3",
         "locations": [
          "ANT"
         ],
         "marker": {
          "color": "#B6E880",
          "size": [
           309
          ],
          "sizemode": "area",
          "sizeref": 4415.14
         },
         "name": "Country=Netherlands Antilles",
         "showlegend": true,
         "type": "scattergeo"
        },
        {
         "geo": "geo",
         "hoverlabel": {
          "namelength": 0
         },
         "hovertemplate": "Country=Papua New Guinea<br>average=%{marker.size}<br>CountryCode=%{location}",
         "legendgroup": "Country=Papua New Guinea",
         "locationmode": "ISO-3",
         "locations": [
          "PNG"
         ],
         "marker": {
          "color": "#FF97FF",
          "size": [
           307
          ],
          "sizemode": "area",
          "sizeref": 4415.14
         },
         "name": "Country=Papua New Guinea",
         "showlegend": true,
         "type": "scattergeo"
        },
        {
         "geo": "geo",
         "hoverlabel": {
          "namelength": 0
         },
         "hovertemplate": "Country=Brunei<br>average=%{marker.size}<br>CountryCode=%{location}",
         "legendgroup": "Country=Brunei",
         "locationmode": "ISO-3",
         "locations": [
          "BRN"
         ],
         "marker": {
          "color": "#FECB52",
          "size": [
           270
          ],
          "sizemode": "area",
          "sizeref": 4415.14
         },
         "name": "Country=Brunei",
         "showlegend": true,
         "type": "scattergeo"
        },
        {
         "geo": "geo",
         "hoverlabel": {
          "namelength": 0
         },
         "hovertemplate": "Country=Seychelles<br>average=%{marker.size}<br>CountryCode=%{location}",
         "legendgroup": "Country=Seychelles",
         "locationmode": "ISO-3",
         "locations": [
          "SYC"
         ],
         "marker": {
          "color": "#636efa",
          "size": [
           263
          ],
          "sizemode": "area",
          "sizeref": 4415.14
         },
         "name": "Country=Seychelles",
         "showlegend": true,
         "type": "scattergeo"
        },
        {
         "geo": "geo",
         "hoverlabel": {
          "namelength": 0
         },
         "hovertemplate": "Country=Niue<br>average=%{marker.size}<br>CountryCode=%{location}",
         "legendgroup": "Country=Niue",
         "locationmode": "ISO-3",
         "locations": [
          "NIU"
         ],
         "marker": {
          "color": "#EF553B",
          "size": [
           225
          ],
          "sizemode": "area",
          "sizeref": 4415.14
         },
         "name": "Country=Niue",
         "showlegend": true,
         "type": "scattergeo"
        },
        {
         "geo": "geo",
         "hoverlabel": {
          "namelength": 0
         },
         "hovertemplate": "Country=Guadeloupe<br>average=%{marker.size}<br>CountryCode=%{location}",
         "legendgroup": "Country=Guadeloupe",
         "locationmode": "ISO-3",
         "locations": [
          "GLP"
         ],
         "marker": {
          "color": "#00cc96",
          "size": [
           193
          ],
          "sizemode": "area",
          "sizeref": 4415.14
         },
         "name": "Country=Guadeloupe",
         "showlegend": true,
         "type": "scattergeo"
        },
        {
         "geo": "geo",
         "hoverlabel": {
          "namelength": 0
         },
         "hovertemplate": "Country=North Korea<br>average=%{marker.size}<br>CountryCode=%{location}",
         "legendgroup": "Country=North Korea",
         "locationmode": "ISO-3",
         "locations": [
          "PRK"
         ],
         "marker": {
          "color": "#ab63fa",
          "size": [
           188
          ],
          "sizemode": "area",
          "sizeref": 4415.14
         },
         "name": "Country=North Korea",
         "showlegend": true,
         "type": "scattergeo"
        },
        {
         "geo": "geo",
         "hoverlabel": {
          "namelength": 0
         },
         "hovertemplate": "Country=New Caledonia<br>average=%{marker.size}<br>CountryCode=%{location}",
         "legendgroup": "Country=New Caledonia",
         "locationmode": "ISO-3",
         "locations": [
          "NCL"
         ],
         "marker": {
          "color": "#FFA15A",
          "size": [
           184
          ],
          "sizemode": "area",
          "sizeref": 4415.14
         },
         "name": "Country=New Caledonia",
         "showlegend": true,
         "type": "scattergeo"
        },
        {
         "geo": "geo",
         "hoverlabel": {
          "namelength": 0
         },
         "hovertemplate": "Country=Andorra<br>average=%{marker.size}<br>CountryCode=%{location}",
         "legendgroup": "Country=Andorra",
         "locationmode": "ISO-3",
         "locations": [
          "AND"
         ],
         "marker": {
          "color": "#19d3f3",
          "size": [
           173
          ],
          "sizemode": "area",
          "sizeref": 4415.14
         },
         "name": "Country=Andorra",
         "showlegend": true,
         "type": "scattergeo"
        },
        {
         "geo": "geo",
         "hoverlabel": {
          "namelength": 0
         },
         "hovertemplate": "Country=Vanuatu<br>average=%{marker.size}<br>CountryCode=%{location}",
         "legendgroup": "Country=Vanuatu",
         "locationmode": "ISO-3",
         "locations": [
          "VUT"
         ],
         "marker": {
          "color": "#FF6692",
          "size": [
           149
          ],
          "sizemode": "area",
          "sizeref": 4415.14
         },
         "name": "Country=Vanuatu",
         "showlegend": true,
         "type": "scattergeo"
        },
        {
         "geo": "geo",
         "hoverlabel": {
          "namelength": 0
         },
         "hovertemplate": "Country=Kiribati<br>average=%{marker.size}<br>CountryCode=%{location}",
         "legendgroup": "Country=Kiribati",
         "locationmode": "ISO-3",
         "locations": [
          "KIR"
         ],
         "marker": {
          "color": "#B6E880",
          "size": [
           148
          ],
          "sizemode": "area",
          "sizeref": 4415.14
         },
         "name": "Country=Kiribati",
         "showlegend": true,
         "type": "scattergeo"
        },
        {
         "geo": "geo",
         "hoverlabel": {
          "namelength": 0
         },
         "hovertemplate": "Country=Nauru<br>average=%{marker.size}<br>CountryCode=%{location}",
         "legendgroup": "Country=Nauru",
         "locationmode": "ISO-3",
         "locations": [
          "NRU"
         ],
         "marker": {
          "color": "#FF97FF",
          "size": [
           138
          ],
          "sizemode": "area",
          "sizeref": 4415.14
         },
         "name": "Country=Nauru",
         "showlegend": true,
         "type": "scattergeo"
        },
        {
         "geo": "geo",
         "hoverlabel": {
          "namelength": 0
         },
         "hovertemplate": "Country=Martinique<br>average=%{marker.size}<br>CountryCode=%{location}",
         "legendgroup": "Country=Martinique",
         "locationmode": "ISO-3",
         "locations": [
          "MTQ"
         ],
         "marker": {
          "color": "#FECB52",
          "size": [
           129
          ],
          "sizemode": "area",
          "sizeref": 4415.14
         },
         "name": "Country=Martinique",
         "showlegend": true,
         "type": "scattergeo"
        },
        {
         "geo": "geo",
         "hoverlabel": {
          "namelength": 0
         },
         "hovertemplate": "Country=Saint Martin<br>average=%{marker.size}<br>CountryCode=%{location}",
         "legendgroup": "Country=Saint Martin",
         "locationmode": "ISO-3",
         "locations": [
          "MAF",
          "MAF"
         ],
         "marker": {
          "color": "#636efa",
          "size": [
           128,
           73
          ],
          "sizemode": "area",
          "sizeref": 4415.14
         },
         "name": "Country=Saint Martin",
         "showlegend": true,
         "type": "scattergeo"
        },
        {
         "geo": "geo",
         "hoverlabel": {
          "namelength": 0
         },
         "hovertemplate": "Country=Monaco<br>average=%{marker.size}<br>CountryCode=%{location}",
         "legendgroup": "Country=Monaco",
         "locationmode": "ISO-3",
         "locations": [
          "MCO"
         ],
         "marker": {
          "color": "#EF553B",
          "size": [
           120
          ],
          "sizemode": "area",
          "sizeref": 4415.14
         },
         "name": "Country=Monaco",
         "showlegend": true,
         "type": "scattergeo"
        },
        {
         "geo": "geo",
         "hoverlabel": {
          "namelength": 0
         },
         "hovertemplate": "Country=Cook Islands<br>average=%{marker.size}<br>CountryCode=%{location}",
         "legendgroup": "Country=Cook Islands",
         "locationmode": "ISO-3",
         "locations": [
          "COK"
         ],
         "marker": {
          "color": "#00cc96",
          "size": [
           105
          ],
          "sizemode": "area",
          "sizeref": 4415.14
         },
         "name": "Country=Cook Islands",
         "showlegend": true,
         "type": "scattergeo"
        },
        {
         "geo": "geo",
         "hoverlabel": {
          "namelength": 0
         },
         "hovertemplate": "Country=Sao Tome and Principe<br>average=%{marker.size}<br>CountryCode=%{location}",
         "legendgroup": "Country=Sao Tome and Principe",
         "locationmode": "ISO-3",
         "locations": [
          "STP"
         ],
         "marker": {
          "color": "#ab63fa",
          "size": [
           91
          ],
          "sizemode": "area",
          "sizeref": 4415.14
         },
         "name": "Country=Sao Tome and Principe",
         "showlegend": true,
         "type": "scattergeo"
        },
        {
         "geo": "geo",
         "hoverlabel": {
          "namelength": 0
         },
         "hovertemplate": "Country=Timor-Leste<br>average=%{marker.size}<br>CountryCode=%{location}",
         "legendgroup": "Country=Timor-Leste",
         "locationmode": "ISO-3",
         "locations": [
          "TLS"
         ],
         "marker": {
          "color": "#FFA15A",
          "size": [
           85
          ],
          "sizemode": "area",
          "sizeref": 4415.14
         },
         "name": "Country=Timor-Leste",
         "showlegend": true,
         "type": "scattergeo"
        },
        {
         "geo": "geo",
         "hoverlabel": {
          "namelength": 0
         },
         "hovertemplate": "Country=Solomon Islands<br>average=%{marker.size}<br>CountryCode=%{location}",
         "legendgroup": "Country=Solomon Islands",
         "locationmode": "ISO-3",
         "locations": [
          "SLB"
         ],
         "marker": {
          "color": "#19d3f3",
          "size": [
           78
          ],
          "sizemode": "area",
          "sizeref": 4415.14
         },
         "name": "Country=Solomon Islands",
         "showlegend": true,
         "type": "scattergeo"
        },
        {
         "geo": "geo",
         "hoverlabel": {
          "namelength": 0
         },
         "hovertemplate": "Country=Liechtenstein<br>average=%{marker.size}<br>CountryCode=%{location}",
         "legendgroup": "Country=Liechtenstein",
         "locationmode": "ISO-3",
         "locations": [
          "LIE"
         ],
         "marker": {
          "color": "#FF6692",
          "size": [
           75
          ],
          "sizemode": "area",
          "sizeref": 4415.14
         },
         "name": "Country=Liechtenstein",
         "showlegend": true,
         "type": "scattergeo"
        },
        {
         "geo": "geo",
         "hoverlabel": {
          "namelength": 0
         },
         "hovertemplate": "Country=Faroe Islands<br>average=%{marker.size}<br>CountryCode=%{location}",
         "legendgroup": "Country=Faroe Islands",
         "locationmode": "ISO-3",
         "locations": [
          "FRO"
         ],
         "marker": {
          "color": "#B6E880",
          "size": [
           73
          ],
          "sizemode": "area",
          "sizeref": 4415.14
         },
         "name": "Country=Faroe Islands",
         "showlegend": true,
         "type": "scattergeo"
        },
        {
         "geo": "geo",
         "hoverlabel": {
          "namelength": 0
         },
         "hovertemplate": "Country=Greenland<br>average=%{marker.size}<br>CountryCode=%{location}",
         "legendgroup": "Country=Greenland",
         "locationmode": "ISO-3",
         "locations": [
          "GRL"
         ],
         "marker": {
          "color": "#FF97FF",
          "size": [
           67
          ],
          "sizemode": "area",
          "sizeref": 4415.14
         },
         "name": "Country=Greenland",
         "showlegend": true,
         "type": "scattergeo"
        },
        {
         "geo": "geo",
         "hoverlabel": {
          "namelength": 0
         },
         "hovertemplate": "Country=Reunion<br>average=%{marker.size}<br>CountryCode=%{location}",
         "legendgroup": "Country=Reunion",
         "locationmode": "ISO-3",
         "locations": [
          "REU"
         ],
         "marker": {
          "color": "#FECB52",
          "size": [
           60
          ],
          "sizemode": "area",
          "sizeref": 4415.14
         },
         "name": "Country=Reunion",
         "showlegend": true,
         "type": "scattergeo"
        },
        {
         "geo": "geo",
         "hoverlabel": {
          "namelength": 0
         },
         "hovertemplate": "Country=Vatican City<br>average=%{marker.size}<br>CountryCode=%{location}",
         "legendgroup": "Country=Vatican City",
         "locationmode": "ISO-3",
         "locations": [
          "VAT"
         ],
         "marker": {
          "color": "#636efa",
          "size": [
           59
          ],
          "sizemode": "area",
          "sizeref": 4415.14
         },
         "name": "Country=Vatican City",
         "showlegend": true,
         "type": "scattergeo"
        },
        {
         "geo": "geo",
         "hoverlabel": {
          "namelength": 0
         },
         "hovertemplate": "Country=French Guiana<br>average=%{marker.size}<br>CountryCode=%{location}",
         "legendgroup": "Country=French Guiana",
         "locationmode": "ISO-3",
         "locations": [
          "GUF"
         ],
         "marker": {
          "color": "#EF553B",
          "size": [
           52
          ],
          "sizemode": "area",
          "sizeref": 4415.14
         },
         "name": "Country=French Guiana",
         "showlegend": true,
         "type": "scattergeo"
        },
        {
         "geo": "geo",
         "hoverlabel": {
          "namelength": 0
         },
         "hovertemplate": "Country=Western Sahara<br>average=%{marker.size}<br>CountryCode=%{location}",
         "legendgroup": "Country=Western Sahara",
         "locationmode": "ISO-3",
         "locations": [
          "ESH"
         ],
         "marker": {
          "color": "#00cc96",
          "size": [
           48
          ],
          "sizemode": "area",
          "sizeref": 4415.14
         },
         "name": "Country=Western Sahara",
         "showlegend": true,
         "type": "scattergeo"
        },
        {
         "geo": "geo",
         "hoverlabel": {
          "namelength": 0
         },
         "hovertemplate": "Country=Marshall Islands<br>average=%{marker.size}<br>CountryCode=%{location}",
         "legendgroup": "Country=Marshall Islands",
         "locationmode": "ISO-3",
         "locations": [
          "MHL"
         ],
         "marker": {
          "color": "#ab63fa",
          "size": [
           47
          ],
          "sizemode": "area",
          "sizeref": 4415.14
         },
         "name": "Country=Marshall Islands",
         "showlegend": true,
         "type": "scattergeo"
        },
        {
         "geo": "geo",
         "hoverlabel": {
          "namelength": 0
         },
         "hovertemplate": "Country=Palau<br>average=%{marker.size}<br>CountryCode=%{location}",
         "legendgroup": "Country=Palau",
         "locationmode": "ISO-3",
         "locations": [
          "PLW"
         ],
         "marker": {
          "color": "#FFA15A",
          "size": [
           36
          ],
          "sizemode": "area",
          "sizeref": 4415.14
         },
         "name": "Country=Palau",
         "showlegend": true,
         "type": "scattergeo"
        },
        {
         "geo": "geo",
         "hoverlabel": {
          "namelength": 0
         },
         "hovertemplate": "Country=Tuvalu<br>average=%{marker.size}<br>CountryCode=%{location}",
         "legendgroup": "Country=Tuvalu",
         "locationmode": "ISO-3",
         "locations": [
          "TUV"
         ],
         "marker": {
          "color": "#19d3f3",
          "size": [
           32
          ],
          "sizemode": "area",
          "sizeref": 4415.14
         },
         "name": "Country=Tuvalu",
         "showlegend": true,
         "type": "scattergeo"
        },
        {
         "geo": "geo",
         "hoverlabel": {
          "namelength": 0
         },
         "hovertemplate": "Country=San Marino<br>average=%{marker.size}<br>CountryCode=%{location}",
         "legendgroup": "Country=San Marino",
         "locationmode": "ISO-3",
         "locations": [
          "SMR"
         ],
         "marker": {
          "color": "#FF6692",
          "size": [
           29
          ],
          "sizemode": "area",
          "sizeref": 4415.14
         },
         "name": "Country=San Marino",
         "showlegend": true,
         "type": "scattergeo"
        },
        {
         "geo": "geo",
         "hoverlabel": {
          "namelength": 0
         },
         "hovertemplate": "Country=Micronesia, Federated States of<br>average=%{marker.size}<br>CountryCode=%{location}",
         "legendgroup": "Country=Micronesia, Federated States of",
         "locationmode": "ISO-3",
         "locations": [
          "FSM"
         ],
         "marker": {
          "color": "#B6E880",
          "size": [
           26
          ],
          "sizemode": "area",
          "sizeref": 4415.14
         },
         "name": "Country=Micronesia, Federated States of",
         "showlegend": true,
         "type": "scattergeo"
        },
        {
         "geo": "geo",
         "hoverlabel": {
          "namelength": 0
         },
         "hovertemplate": "Country=Wallis and Futuna<br>average=%{marker.size}<br>CountryCode=%{location}",
         "legendgroup": "Country=Wallis and Futuna",
         "locationmode": "ISO-3",
         "locations": [
          "WLF"
         ],
         "marker": {
          "color": "#FF97FF",
          "size": [
           26
          ],
          "sizemode": "area",
          "sizeref": 4415.14
         },
         "name": "Country=Wallis and Futuna",
         "showlegend": true,
         "type": "scattergeo"
        },
        {
         "geo": "geo",
         "hoverlabel": {
          "namelength": 0
         },
         "hovertemplate": "Country=French Southern and Antarctic Lands<br>average=%{marker.size}<br>CountryCode=%{location}",
         "legendgroup": "Country=French Southern and Antarctic Lands",
         "locationmode": "ISO-3",
         "locations": [
          "ATF"
         ],
         "marker": {
          "color": "#FECB52",
          "size": [
           24
          ],
          "sizemode": "area",
          "sizeref": 4415.14
         },
         "name": "Country=French Southern and Antarctic Lands",
         "showlegend": true,
         "type": "scattergeo"
        },
        {
         "geo": "geo",
         "hoverlabel": {
          "namelength": 0
         },
         "hovertemplate": "Country=Saint Pierre and Miquelon<br>average=%{marker.size}<br>CountryCode=%{location}",
         "legendgroup": "Country=Saint Pierre and Miquelon",
         "locationmode": "ISO-3",
         "locations": [
          "SPM"
         ],
         "marker": {
          "color": "#636efa",
          "size": [
           24
          ],
          "sizemode": "area",
          "sizeref": 4415.14
         },
         "name": "Country=Saint Pierre and Miquelon",
         "showlegend": true,
         "type": "scattergeo"
        },
        {
         "geo": "geo",
         "hoverlabel": {
          "namelength": 0
         },
         "hovertemplate": "Country=Norfolk Island<br>average=%{marker.size}<br>CountryCode=%{location}",
         "legendgroup": "Country=Norfolk Island",
         "locationmode": "ISO-3",
         "locations": [
          "NFK"
         ],
         "marker": {
          "color": "#EF553B",
          "size": [
           24
          ],
          "sizemode": "area",
          "sizeref": 4415.14
         },
         "name": "Country=Norfolk Island",
         "showlegend": true,
         "type": "scattergeo"
        },
        {
         "geo": "geo",
         "hoverlabel": {
          "namelength": 0
         },
         "hovertemplate": "Country=Svalbard<br>average=%{marker.size}<br>CountryCode=%{location}",
         "legendgroup": "Country=Svalbard",
         "locationmode": "ISO-3",
         "locations": [
          "SJM"
         ],
         "marker": {
          "color": "#00cc96",
          "size": [
           21
          ],
          "sizemode": "area",
          "sizeref": 4415.14
         },
         "name": "Country=Svalbard",
         "showlegend": true,
         "type": "scattergeo"
        },
        {
         "geo": "geo",
         "hoverlabel": {
          "namelength": 0
         },
         "hovertemplate": "Country=Tokelau<br>average=%{marker.size}<br>CountryCode=%{location}",
         "legendgroup": "Country=Tokelau",
         "locationmode": "ISO-3",
         "locations": [
          "TKL"
         ],
         "marker": {
          "color": "#ab63fa",
          "size": [
           19
          ],
          "sizemode": "area",
          "sizeref": 4415.14
         },
         "name": "Country=Tokelau",
         "showlegend": true,
         "type": "scattergeo"
        },
        {
         "geo": "geo",
         "hoverlabel": {
          "namelength": 0
         },
         "hovertemplate": "Country=Saint Barthelemy<br>average=%{marker.size}<br>CountryCode=%{location}",
         "legendgroup": "Country=Saint Barthelemy",
         "locationmode": "ISO-3",
         "locations": [
          "BLM"
         ],
         "marker": {
          "color": "#FFA15A",
          "size": [
           18
          ],
          "sizemode": "area",
          "sizeref": 4415.14
         },
         "name": "Country=Saint Barthelemy",
         "showlegend": true,
         "type": "scattergeo"
        },
        {
         "geo": "geo",
         "hoverlabel": {
          "namelength": 0
         },
         "hovertemplate": "Country=Christmas Island<br>average=%{marker.size}<br>CountryCode=%{location}",
         "legendgroup": "Country=Christmas Island",
         "locationmode": "ISO-3",
         "locations": [
          "CXR"
         ],
         "marker": {
          "color": "#19d3f3",
          "size": [
           13
          ],
          "sizemode": "area",
          "sizeref": 4415.14
         },
         "name": "Country=Christmas Island",
         "showlegend": true,
         "type": "scattergeo"
        },
        {
         "geo": "geo",
         "hoverlabel": {
          "namelength": 0
         },
         "hovertemplate": "Country=Mayotte<br>average=%{marker.size}<br>CountryCode=%{location}",
         "legendgroup": "Country=Mayotte",
         "locationmode": "ISO-3",
         "locations": [
          "MYT"
         ],
         "marker": {
          "color": "#FF6692",
          "size": [
           10
          ],
          "sizemode": "area",
          "sizeref": 4415.14
         },
         "name": "Country=Mayotte",
         "showlegend": true,
         "type": "scattergeo"
        },
        {
         "geo": "geo",
         "hoverlabel": {
          "namelength": 0
         },
         "hovertemplate": "Country=Cocos Islands<br>average=%{marker.size}<br>CountryCode=%{location}",
         "legendgroup": "Country=Cocos Islands",
         "locationmode": "ISO-3",
         "locations": [
          null
         ],
         "marker": {
          "color": "#B6E880",
          "size": [
           10
          ],
          "sizemode": "area",
          "sizeref": 4415.14
         },
         "name": "Country=Cocos Islands",
         "showlegend": true,
         "type": "scattergeo"
        },
        {
         "geo": "geo",
         "hoverlabel": {
          "namelength": 0
         },
         "hovertemplate": "Country=Brazil<br>average=%{marker.size}<br>CountryCode=%{location}",
         "legendgroup": "Country=Brazil",
         "locationmode": "ISO-3",
         "locations": [
          "BRA"
         ],
         "marker": {
          "color": "#FF97FF",
          "size": [
           0
          ],
          "sizemode": "area",
          "sizeref": 4415.14
         },
         "name": "Country=Brazil",
         "showlegend": true,
         "type": "scattergeo"
        }
       ],
       "layout": {
        "geo": {
         "center": {},
         "domain": {
          "x": [
           0,
           1
          ],
          "y": [
           0,
           1
          ]
         },
         "projection": {
          "type": "natural earth"
         },
         "scope": "world"
        },
        "legend": {
         "itemsizing": "constant",
         "tracegroupgap": 0
        },
        "margin": {
         "t": 60
        },
        "template": {
         "data": {
          "bar": [
           {
            "error_x": {
             "color": "#2a3f5f"
            },
            "error_y": {
             "color": "#2a3f5f"
            },
            "marker": {
             "line": {
              "color": "#E5ECF6",
              "width": 0.5
             }
            },
            "type": "bar"
           }
          ],
          "barpolar": [
           {
            "marker": {
             "line": {
              "color": "#E5ECF6",
              "width": 0.5
             }
            },
            "type": "barpolar"
           }
          ],
          "carpet": [
           {
            "aaxis": {
             "endlinecolor": "#2a3f5f",
             "gridcolor": "white",
             "linecolor": "white",
             "minorgridcolor": "white",
             "startlinecolor": "#2a3f5f"
            },
            "baxis": {
             "endlinecolor": "#2a3f5f",
             "gridcolor": "white",
             "linecolor": "white",
             "minorgridcolor": "white",
             "startlinecolor": "#2a3f5f"
            },
            "type": "carpet"
           }
          ],
          "choropleth": [
           {
            "colorbar": {
             "outlinewidth": 0,
             "ticks": ""
            },
            "type": "choropleth"
           }
          ],
          "contour": [
           {
            "colorbar": {
             "outlinewidth": 0,
             "ticks": ""
            },
            "colorscale": [
             [
              0,
              "#0d0887"
             ],
             [
              0.1111111111111111,
              "#46039f"
             ],
             [
              0.2222222222222222,
              "#7201a8"
             ],
             [
              0.3333333333333333,
              "#9c179e"
             ],
             [
              0.4444444444444444,
              "#bd3786"
             ],
             [
              0.5555555555555556,
              "#d8576b"
             ],
             [
              0.6666666666666666,
              "#ed7953"
             ],
             [
              0.7777777777777778,
              "#fb9f3a"
             ],
             [
              0.8888888888888888,
              "#fdca26"
             ],
             [
              1,
              "#f0f921"
             ]
            ],
            "type": "contour"
           }
          ],
          "contourcarpet": [
           {
            "colorbar": {
             "outlinewidth": 0,
             "ticks": ""
            },
            "type": "contourcarpet"
           }
          ],
          "heatmap": [
           {
            "colorbar": {
             "outlinewidth": 0,
             "ticks": ""
            },
            "colorscale": [
             [
              0,
              "#0d0887"
             ],
             [
              0.1111111111111111,
              "#46039f"
             ],
             [
              0.2222222222222222,
              "#7201a8"
             ],
             [
              0.3333333333333333,
              "#9c179e"
             ],
             [
              0.4444444444444444,
              "#bd3786"
             ],
             [
              0.5555555555555556,
              "#d8576b"
             ],
             [
              0.6666666666666666,
              "#ed7953"
             ],
             [
              0.7777777777777778,
              "#fb9f3a"
             ],
             [
              0.8888888888888888,
              "#fdca26"
             ],
             [
              1,
              "#f0f921"
             ]
            ],
            "type": "heatmap"
           }
          ],
          "heatmapgl": [
           {
            "colorbar": {
             "outlinewidth": 0,
             "ticks": ""
            },
            "colorscale": [
             [
              0,
              "#0d0887"
             ],
             [
              0.1111111111111111,
              "#46039f"
             ],
             [
              0.2222222222222222,
              "#7201a8"
             ],
             [
              0.3333333333333333,
              "#9c179e"
             ],
             [
              0.4444444444444444,
              "#bd3786"
             ],
             [
              0.5555555555555556,
              "#d8576b"
             ],
             [
              0.6666666666666666,
              "#ed7953"
             ],
             [
              0.7777777777777778,
              "#fb9f3a"
             ],
             [
              0.8888888888888888,
              "#fdca26"
             ],
             [
              1,
              "#f0f921"
             ]
            ],
            "type": "heatmapgl"
           }
          ],
          "histogram": [
           {
            "marker": {
             "colorbar": {
              "outlinewidth": 0,
              "ticks": ""
             }
            },
            "type": "histogram"
           }
          ],
          "histogram2d": [
           {
            "colorbar": {
             "outlinewidth": 0,
             "ticks": ""
            },
            "colorscale": [
             [
              0,
              "#0d0887"
             ],
             [
              0.1111111111111111,
              "#46039f"
             ],
             [
              0.2222222222222222,
              "#7201a8"
             ],
             [
              0.3333333333333333,
              "#9c179e"
             ],
             [
              0.4444444444444444,
              "#bd3786"
             ],
             [
              0.5555555555555556,
              "#d8576b"
             ],
             [
              0.6666666666666666,
              "#ed7953"
             ],
             [
              0.7777777777777778,
              "#fb9f3a"
             ],
             [
              0.8888888888888888,
              "#fdca26"
             ],
             [
              1,
              "#f0f921"
             ]
            ],
            "type": "histogram2d"
           }
          ],
          "histogram2dcontour": [
           {
            "colorbar": {
             "outlinewidth": 0,
             "ticks": ""
            },
            "colorscale": [
             [
              0,
              "#0d0887"
             ],
             [
              0.1111111111111111,
              "#46039f"
             ],
             [
              0.2222222222222222,
              "#7201a8"
             ],
             [
              0.3333333333333333,
              "#9c179e"
             ],
             [
              0.4444444444444444,
              "#bd3786"
             ],
             [
              0.5555555555555556,
              "#d8576b"
             ],
             [
              0.6666666666666666,
              "#ed7953"
             ],
             [
              0.7777777777777778,
              "#fb9f3a"
             ],
             [
              0.8888888888888888,
              "#fdca26"
             ],
             [
              1,
              "#f0f921"
             ]
            ],
            "type": "histogram2dcontour"
           }
          ],
          "mesh3d": [
           {
            "colorbar": {
             "outlinewidth": 0,
             "ticks": ""
            },
            "type": "mesh3d"
           }
          ],
          "parcoords": [
           {
            "line": {
             "colorbar": {
              "outlinewidth": 0,
              "ticks": ""
             }
            },
            "type": "parcoords"
           }
          ],
          "pie": [
           {
            "automargin": true,
            "type": "pie"
           }
          ],
          "scatter": [
           {
            "marker": {
             "colorbar": {
              "outlinewidth": 0,
              "ticks": ""
             }
            },
            "type": "scatter"
           }
          ],
          "scatter3d": [
           {
            "line": {
             "colorbar": {
              "outlinewidth": 0,
              "ticks": ""
             }
            },
            "marker": {
             "colorbar": {
              "outlinewidth": 0,
              "ticks": ""
             }
            },
            "type": "scatter3d"
           }
          ],
          "scattercarpet": [
           {
            "marker": {
             "colorbar": {
              "outlinewidth": 0,
              "ticks": ""
             }
            },
            "type": "scattercarpet"
           }
          ],
          "scattergeo": [
           {
            "marker": {
             "colorbar": {
              "outlinewidth": 0,
              "ticks": ""
             }
            },
            "type": "scattergeo"
           }
          ],
          "scattergl": [
           {
            "marker": {
             "colorbar": {
              "outlinewidth": 0,
              "ticks": ""
             }
            },
            "type": "scattergl"
           }
          ],
          "scattermapbox": [
           {
            "marker": {
             "colorbar": {
              "outlinewidth": 0,
              "ticks": ""
             }
            },
            "type": "scattermapbox"
           }
          ],
          "scatterpolar": [
           {
            "marker": {
             "colorbar": {
              "outlinewidth": 0,
              "ticks": ""
             }
            },
            "type": "scatterpolar"
           }
          ],
          "scatterpolargl": [
           {
            "marker": {
             "colorbar": {
              "outlinewidth": 0,
              "ticks": ""
             }
            },
            "type": "scatterpolargl"
           }
          ],
          "scatterternary": [
           {
            "marker": {
             "colorbar": {
              "outlinewidth": 0,
              "ticks": ""
             }
            },
            "type": "scatterternary"
           }
          ],
          "surface": [
           {
            "colorbar": {
             "outlinewidth": 0,
             "ticks": ""
            },
            "colorscale": [
             [
              0,
              "#0d0887"
             ],
             [
              0.1111111111111111,
              "#46039f"
             ],
             [
              0.2222222222222222,
              "#7201a8"
             ],
             [
              0.3333333333333333,
              "#9c179e"
             ],
             [
              0.4444444444444444,
              "#bd3786"
             ],
             [
              0.5555555555555556,
              "#d8576b"
             ],
             [
              0.6666666666666666,
              "#ed7953"
             ],
             [
              0.7777777777777778,
              "#fb9f3a"
             ],
             [
              0.8888888888888888,
              "#fdca26"
             ],
             [
              1,
              "#f0f921"
             ]
            ],
            "type": "surface"
           }
          ],
          "table": [
           {
            "cells": {
             "fill": {
              "color": "#EBF0F8"
             },
             "line": {
              "color": "white"
             }
            },
            "header": {
             "fill": {
              "color": "#C8D4E3"
             },
             "line": {
              "color": "white"
             }
            },
            "type": "table"
           }
          ]
         },
         "layout": {
          "annotationdefaults": {
           "arrowcolor": "#2a3f5f",
           "arrowhead": 0,
           "arrowwidth": 1
          },
          "coloraxis": {
           "colorbar": {
            "outlinewidth": 0,
            "ticks": ""
           }
          },
          "colorscale": {
           "diverging": [
            [
             0,
             "#8e0152"
            ],
            [
             0.1,
             "#c51b7d"
            ],
            [
             0.2,
             "#de77ae"
            ],
            [
             0.3,
             "#f1b6da"
            ],
            [
             0.4,
             "#fde0ef"
            ],
            [
             0.5,
             "#f7f7f7"
            ],
            [
             0.6,
             "#e6f5d0"
            ],
            [
             0.7,
             "#b8e186"
            ],
            [
             0.8,
             "#7fbc41"
            ],
            [
             0.9,
             "#4d9221"
            ],
            [
             1,
             "#276419"
            ]
           ],
           "sequential": [
            [
             0,
             "#0d0887"
            ],
            [
             0.1111111111111111,
             "#46039f"
            ],
            [
             0.2222222222222222,
             "#7201a8"
            ],
            [
             0.3333333333333333,
             "#9c179e"
            ],
            [
             0.4444444444444444,
             "#bd3786"
            ],
            [
             0.5555555555555556,
             "#d8576b"
            ],
            [
             0.6666666666666666,
             "#ed7953"
            ],
            [
             0.7777777777777778,
             "#fb9f3a"
            ],
            [
             0.8888888888888888,
             "#fdca26"
            ],
            [
             1,
             "#f0f921"
            ]
           ],
           "sequentialminus": [
            [
             0,
             "#0d0887"
            ],
            [
             0.1111111111111111,
             "#46039f"
            ],
            [
             0.2222222222222222,
             "#7201a8"
            ],
            [
             0.3333333333333333,
             "#9c179e"
            ],
            [
             0.4444444444444444,
             "#bd3786"
            ],
            [
             0.5555555555555556,
             "#d8576b"
            ],
            [
             0.6666666666666666,
             "#ed7953"
            ],
            [
             0.7777777777777778,
             "#fb9f3a"
            ],
            [
             0.8888888888888888,
             "#fdca26"
            ],
            [
             1,
             "#f0f921"
            ]
           ]
          },
          "colorway": [
           "#636efa",
           "#EF553B",
           "#00cc96",
           "#ab63fa",
           "#FFA15A",
           "#19d3f3",
           "#FF6692",
           "#B6E880",
           "#FF97FF",
           "#FECB52"
          ],
          "font": {
           "color": "#2a3f5f"
          },
          "geo": {
           "bgcolor": "white",
           "lakecolor": "white",
           "landcolor": "#E5ECF6",
           "showlakes": true,
           "showland": true,
           "subunitcolor": "white"
          },
          "hoverlabel": {
           "align": "left"
          },
          "hovermode": "closest",
          "mapbox": {
           "style": "light"
          },
          "paper_bgcolor": "white",
          "plot_bgcolor": "#E5ECF6",
          "polar": {
           "angularaxis": {
            "gridcolor": "white",
            "linecolor": "white",
            "ticks": ""
           },
           "bgcolor": "#E5ECF6",
           "radialaxis": {
            "gridcolor": "white",
            "linecolor": "white",
            "ticks": ""
           }
          },
          "scene": {
           "xaxis": {
            "backgroundcolor": "#E5ECF6",
            "gridcolor": "white",
            "gridwidth": 2,
            "linecolor": "white",
            "showbackground": true,
            "ticks": "",
            "zerolinecolor": "white"
           },
           "yaxis": {
            "backgroundcolor": "#E5ECF6",
            "gridcolor": "white",
            "gridwidth": 2,
            "linecolor": "white",
            "showbackground": true,
            "ticks": "",
            "zerolinecolor": "white"
           },
           "zaxis": {
            "backgroundcolor": "#E5ECF6",
            "gridcolor": "white",
            "gridwidth": 2,
            "linecolor": "white",
            "showbackground": true,
            "ticks": "",
            "zerolinecolor": "white"
           }
          },
          "shapedefaults": {
           "line": {
            "color": "#2a3f5f"
           }
          },
          "ternary": {
           "aaxis": {
            "gridcolor": "white",
            "linecolor": "white",
            "ticks": ""
           },
           "baxis": {
            "gridcolor": "white",
            "linecolor": "white",
            "ticks": ""
           },
           "bgcolor": "#E5ECF6",
           "caxis": {
            "gridcolor": "white",
            "linecolor": "white",
            "ticks": ""
           }
          },
          "title": {
           "x": 0.05
          },
          "xaxis": {
           "automargin": true,
           "gridcolor": "white",
           "linecolor": "white",
           "ticks": "",
           "title": {
            "standoff": 15
           },
           "zerolinecolor": "white",
           "zerolinewidth": 2
          },
          "yaxis": {
           "automargin": true,
           "gridcolor": "white",
           "linecolor": "white",
           "ticks": "",
           "title": {
            "standoff": 15
           },
           "zerolinecolor": "white",
           "zerolinewidth": 2
          }
         }
        }
       }
      },
      "text/html": [
       "<div>\n",
       "        \n",
       "        \n",
       "            <div id=\"fda48428-5a31-4db6-9d29-1eb2af4fa005\" class=\"plotly-graph-div\" style=\"height:525px; width:100%;\"></div>\n",
       "            <script type=\"text/javascript\">\n",
       "                require([\"plotly\"], function(Plotly) {\n",
       "                    window.PLOTLYENV=window.PLOTLYENV || {};\n",
       "                    \n",
       "                if (document.getElementById(\"fda48428-5a31-4db6-9d29-1eb2af4fa005\")) {\n",
       "                    Plotly.newPlot(\n",
       "                        'fda48428-5a31-4db6-9d29-1eb2af4fa005',\n",
       "                        [{\"geo\": \"geo\", \"hoverlabel\": {\"namelength\": 0}, \"hovertemplate\": \"Country=Bangladesh<br>average=%{marker.size}<br>CountryCode=%{location}\", \"legendgroup\": \"Country=Bangladesh\", \"locationmode\": \"ISO-3\", \"locations\": [\"BGD\"], \"marker\": {\"color\": \"#636efa\", \"size\": [1766056.0], \"sizemode\": \"area\", \"sizeref\": 4415.14}, \"name\": \"Country=Bangladesh\", \"showlegend\": true, \"type\": \"scattergeo\"}, {\"geo\": \"geo\", \"hoverlabel\": {\"namelength\": 0}, \"hovertemplate\": \"Country=Ghana<br>average=%{marker.size}<br>CountryCode=%{location}\", \"legendgroup\": \"Country=Ghana\", \"locationmode\": \"ISO-3\", \"locations\": [\"GHA\"], \"marker\": {\"color\": \"#EF553B\", \"size\": [1396680.0], \"sizemode\": \"area\", \"sizeref\": 4415.14}, \"name\": \"Country=Ghana\", \"showlegend\": true, \"type\": \"scattergeo\"}, {\"geo\": \"geo\", \"hoverlabel\": {\"namelength\": 0}, \"hovertemplate\": \"Country=Ukraine<br>average=%{marker.size}<br>CountryCode=%{location}\", \"legendgroup\": \"Country=Ukraine\", \"locationmode\": \"ISO-3\", \"locations\": [\"UKR\"], \"marker\": {\"color\": \"#00cc96\", \"size\": [1233842.0], \"sizemode\": \"area\", \"sizeref\": 4415.14}, \"name\": \"Country=Ukraine\", \"showlegend\": true, \"type\": \"scattergeo\"}, {\"geo\": \"geo\", \"hoverlabel\": {\"namelength\": 0}, \"hovertemplate\": \"Country=Nigeria<br>average=%{marker.size}<br>CountryCode=%{location}\", \"legendgroup\": \"Country=Nigeria\", \"locationmode\": \"ISO-3\", \"locations\": [\"NGA\"], \"marker\": {\"color\": \"#ab63fa\", \"size\": [1120794.0], \"sizemode\": \"area\", \"sizeref\": 4415.14}, \"name\": \"Country=Nigeria\", \"showlegend\": true, \"type\": \"scattergeo\"}, {\"geo\": \"geo\", \"hoverlabel\": {\"namelength\": 0}, \"hovertemplate\": \"Country=Uzbekistan<br>average=%{marker.size}<br>CountryCode=%{location}\", \"legendgroup\": \"Country=Uzbekistan\", \"locationmode\": \"ISO-3\", \"locations\": [\"UZB\"], \"marker\": {\"color\": \"#FFA15A\", \"size\": [1045804.0], \"sizemode\": \"area\", \"sizeref\": 4415.14}, \"name\": \"Country=Uzbekistan\", \"showlegend\": true, \"type\": \"scattergeo\"}, {\"geo\": \"geo\", \"hoverlabel\": {\"namelength\": 0}, \"hovertemplate\": \"Country=Iran<br>average=%{marker.size}<br>CountryCode=%{location}\", \"legendgroup\": \"Country=Iran\", \"locationmode\": \"ISO-3\", \"locations\": [\"IRN\"], \"marker\": {\"color\": \"#19d3f3\", \"size\": [925024.0], \"sizemode\": \"area\", \"sizeref\": 4415.14}, \"name\": \"Country=Iran\", \"showlegend\": true, \"type\": \"scattergeo\"}, {\"geo\": \"geo\", \"hoverlabel\": {\"namelength\": 0}, \"hovertemplate\": \"Country=Egypt<br>average=%{marker.size}<br>CountryCode=%{location}\", \"legendgroup\": \"Country=Egypt\", \"locationmode\": \"ISO-3\", \"locations\": [\"EGY\"], \"marker\": {\"color\": \"#FF6692\", \"size\": [840876.0], \"sizemode\": \"area\", \"sizeref\": 4415.14}, \"name\": \"Country=Egypt\", \"showlegend\": true, \"type\": \"scattergeo\"}, {\"geo\": \"geo\", \"hoverlabel\": {\"namelength\": 0}, \"hovertemplate\": \"Country=Ethiopia<br>average=%{marker.size}<br>CountryCode=%{location}\", \"legendgroup\": \"Country=Ethiopia\", \"locationmode\": \"ISO-3\", \"locations\": [\"ETH\"], \"marker\": {\"color\": \"#B6E880\", \"size\": [805623.0], \"sizemode\": \"area\", \"sizeref\": 4415.14}, \"name\": \"Country=Ethiopia\", \"showlegend\": true, \"type\": \"scattergeo\"}, {\"geo\": \"geo\", \"hoverlabel\": {\"namelength\": 0}, \"hovertemplate\": \"Country=Nepal<br>average=%{marker.size}<br>CountryCode=%{location}\", \"legendgroup\": \"Country=Nepal\", \"locationmode\": \"ISO-3\", \"locations\": [\"NPL\"], \"marker\": {\"color\": \"#FF97FF\", \"size\": [721513.0], \"sizemode\": \"area\", \"sizeref\": 4415.14}, \"name\": \"Country=Nepal\", \"showlegend\": true, \"type\": \"scattergeo\"}, {\"geo\": \"geo\", \"hoverlabel\": {\"namelength\": 0}, \"hovertemplate\": \"Country=Sierra Leone<br>average=%{marker.size}<br>CountryCode=%{location}\", \"legendgroup\": \"Country=Sierra Leone\", \"locationmode\": \"ISO-3\", \"locations\": [\"SLE\"], \"marker\": {\"color\": \"#FECB52\", \"size\": [508631.0], \"sizemode\": \"area\", \"sizeref\": 4415.14}, \"name\": \"Country=Sierra Leone\", \"showlegend\": true, \"type\": \"scattergeo\"}, {\"geo\": \"geo\", \"hoverlabel\": {\"namelength\": 0}, \"hovertemplate\": \"Country=Liberia<br>average=%{marker.size}<br>CountryCode=%{location}\", \"legendgroup\": \"Country=Liberia\", \"locationmode\": \"ISO-3\", \"locations\": [\"LBR\"], \"marker\": {\"color\": \"#636efa\", \"size\": [345794.0], \"sizemode\": \"area\", \"sizeref\": 4415.14}, \"name\": \"Country=Liberia\", \"showlegend\": true, \"type\": \"scattergeo\"}, {\"geo\": \"geo\", \"hoverlabel\": {\"namelength\": 0}, \"hovertemplate\": \"Country=Kenya<br>average=%{marker.size}<br>CountryCode=%{location}\", \"legendgroup\": \"Country=Kenya\", \"locationmode\": \"ISO-3\", \"locations\": [\"KEN\"], \"marker\": {\"color\": \"#EF553B\", \"size\": [286439.0], \"sizemode\": \"area\", \"sizeref\": 4415.14}, \"name\": \"Country=Kenya\", \"showlegend\": true, \"type\": \"scattergeo\"}, {\"geo\": \"geo\", \"hoverlabel\": {\"namelength\": 0}, \"hovertemplate\": \"Country=Cameroon<br>average=%{marker.size}<br>CountryCode=%{location}\", \"legendgroup\": \"Country=Cameroon\", \"locationmode\": \"ISO-3\", \"locations\": [\"CMR\"], \"marker\": {\"color\": \"#00cc96\", \"size\": [264688.0], \"sizemode\": \"area\", \"sizeref\": 4415.14}, \"name\": \"Country=Cameroon\", \"showlegend\": true, \"type\": \"scattergeo\"}, {\"geo\": \"geo\", \"hoverlabel\": {\"namelength\": 0}, \"hovertemplate\": \"Country=Turkey<br>average=%{marker.size}<br>CountryCode=%{location}\", \"legendgroup\": \"Country=Turkey\", \"locationmode\": \"ISO-3\", \"locations\": [\"TUR\"], \"marker\": {\"color\": \"#ab63fa\", \"size\": [246178.0], \"sizemode\": \"area\", \"sizeref\": 4415.14}, \"name\": \"Country=Turkey\", \"showlegend\": true, \"type\": \"scattergeo\"}, {\"geo\": \"geo\", \"hoverlabel\": {\"namelength\": 0}, \"hovertemplate\": \"Country=Russia<br>average=%{marker.size}<br>CountryCode=%{location}\", \"legendgroup\": \"Country=Russia\", \"locationmode\": \"ISO-3\", \"locations\": [\"RUS\"], \"marker\": {\"color\": \"#FFA15A\", \"size\": [242684.0], \"sizemode\": \"area\", \"sizeref\": 4415.14}, \"name\": \"Country=Russia\", \"showlegend\": true, \"type\": \"scattergeo\"}, {\"geo\": \"geo\", \"hoverlabel\": {\"namelength\": 0}, \"hovertemplate\": \"Country=Sudan<br>average=%{marker.size}<br>CountryCode=%{location}\", \"legendgroup\": \"Country=Sudan\", \"locationmode\": \"ISO-3\", \"locations\": [\"SDN\"], \"marker\": {\"color\": \"#19d3f3\", \"size\": [227064.0], \"sizemode\": \"area\", \"sizeref\": 4415.14}, \"name\": \"Country=Sudan\", \"showlegend\": true, \"type\": \"scattergeo\"}, {\"geo\": \"geo\", \"hoverlabel\": {\"namelength\": 0}, \"hovertemplate\": \"Country=Albania<br>average=%{marker.size}<br>CountryCode=%{location}\", \"legendgroup\": \"Country=Albania\", \"locationmode\": \"ISO-3\", \"locations\": [\"ALB\"], \"marker\": {\"color\": \"#FF6692\", \"size\": [193691.0], \"sizemode\": \"area\", \"sizeref\": 4415.14}, \"name\": \"Country=Albania\", \"showlegend\": true, \"type\": \"scattergeo\"}, {\"geo\": \"geo\", \"hoverlabel\": {\"namelength\": 0}, \"hovertemplate\": \"Country=Moldova<br>average=%{marker.size}<br>CountryCode=%{location}\", \"legendgroup\": \"Country=Moldova\", \"locationmode\": \"ISO-3\", \"locations\": [\"MDA\"], \"marker\": {\"color\": \"#B6E880\", \"size\": [172883.0], \"sizemode\": \"area\", \"sizeref\": 4415.14}, \"name\": \"Country=Moldova\", \"showlegend\": true, \"type\": \"scattergeo\"}, {\"geo\": \"geo\", \"hoverlabel\": {\"namelength\": 0}, \"hovertemplate\": \"Country=Algeria<br>average=%{marker.size}<br>CountryCode=%{location}\", \"legendgroup\": \"Country=Algeria\", \"locationmode\": \"ISO-3\", \"locations\": [\"DZA\"], \"marker\": {\"color\": \"#FF97FF\", \"size\": [167774.0], \"sizemode\": \"area\", \"sizeref\": 4415.14}, \"name\": \"Country=Algeria\", \"showlegend\": true, \"type\": \"scattergeo\"}, {\"geo\": \"geo\", \"hoverlabel\": {\"namelength\": 0}, \"hovertemplate\": \"Country=Morocco<br>average=%{marker.size}<br>CountryCode=%{location}\", \"legendgroup\": \"Country=Morocco\", \"locationmode\": \"ISO-3\", \"locations\": [\"MAR\"], \"marker\": {\"color\": \"#FECB52\", \"size\": [167520.0], \"sizemode\": \"area\", \"sizeref\": 4415.14}, \"name\": \"Country=Morocco\", \"showlegend\": true, \"type\": \"scattergeo\"}, {\"geo\": \"geo\", \"hoverlabel\": {\"namelength\": 0}, \"hovertemplate\": \"Country=Venezuela<br>average=%{marker.size}<br>CountryCode=%{location}\", \"legendgroup\": \"Country=Venezuela\", \"locationmode\": \"ISO-3\", \"locations\": [\"VEN\"], \"marker\": {\"color\": \"#636efa\", \"size\": [162645.0], \"sizemode\": \"area\", \"sizeref\": 4415.14}, \"name\": \"Country=Venezuela\", \"showlegend\": true, \"type\": \"scattergeo\"}, {\"geo\": \"geo\", \"hoverlabel\": {\"namelength\": 0}, \"hovertemplate\": \"Country=Cambodia<br>average=%{marker.size}<br>CountryCode=%{location}\", \"legendgroup\": \"Country=Cambodia\", \"locationmode\": \"ISO-3\", \"locations\": [\"KHM\"], \"marker\": {\"color\": \"#EF553B\", \"size\": [160296.0], \"sizemode\": \"area\", \"sizeref\": 4415.14}, \"name\": \"Country=Cambodia\", \"showlegend\": true, \"type\": \"scattergeo\"}, {\"geo\": \"geo\", \"hoverlabel\": {\"namelength\": 0}, \"hovertemplate\": \"Country=Guinea<br>average=%{marker.size}<br>CountryCode=%{location}\", \"legendgroup\": \"Country=Guinea\", \"locationmode\": \"ISO-3\", \"locations\": [\"GIN\"], \"marker\": {\"color\": \"#00cc96\", \"size\": [148119.0], \"sizemode\": \"area\", \"sizeref\": 4415.14}, \"name\": \"Country=Guinea\", \"showlegend\": true, \"type\": \"scattergeo\"}, {\"geo\": \"geo\", \"hoverlabel\": {\"namelength\": 0}, \"hovertemplate\": \"Country=Armenia<br>average=%{marker.size}<br>CountryCode=%{location}\", \"legendgroup\": \"Country=Armenia\", \"locationmode\": \"ISO-3\", \"locations\": [\"ARM\"], \"marker\": {\"color\": \"#ab63fa\", \"size\": [136828.0], \"sizemode\": \"area\", \"sizeref\": 4415.14}, \"name\": \"Country=Armenia\", \"showlegend\": true, \"type\": \"scattergeo\"}, {\"geo\": \"geo\", \"hoverlabel\": {\"namelength\": 0}, \"hovertemplate\": \"Country=Togo<br>average=%{marker.size}<br>CountryCode=%{location}\", \"legendgroup\": \"Country=Togo\", \"locationmode\": \"ISO-3\", \"locations\": [\"TGO\"], \"marker\": {\"color\": \"#FFA15A\", \"size\": [115415.0], \"sizemode\": \"area\", \"sizeref\": 4415.14}, \"name\": \"Country=Togo\", \"showlegend\": true, \"type\": \"scattergeo\"}, {\"geo\": \"geo\", \"hoverlabel\": {\"namelength\": 0}, \"hovertemplate\": \"Country=Democratic Republic of the Congo<br>average=%{marker.size}<br>CountryCode=%{location}\", \"legendgroup\": \"Country=Democratic Republic of the Congo\", \"locationmode\": \"ISO-3\", \"locations\": [\"COD\"], \"marker\": {\"color\": \"#19d3f3\", \"size\": [113433.0], \"sizemode\": \"area\", \"sizeref\": 4415.14}, \"name\": \"Country=Democratic Republic of the Congo\", \"showlegend\": true, \"type\": \"scattergeo\"}, {\"geo\": \"geo\", \"hoverlabel\": {\"namelength\": 0}, \"hovertemplate\": \"Country=Sri Lanka<br>average=%{marker.size}<br>CountryCode=%{location}\", \"legendgroup\": \"Country=Sri Lanka\", \"locationmode\": \"ISO-3\", \"locations\": [\"LKA\"], \"marker\": {\"color\": \"#FF6692\", \"size\": [102585.0], \"sizemode\": \"area\", \"sizeref\": 4415.14}, \"name\": \"Country=Sri Lanka\", \"showlegend\": true, \"type\": \"scattergeo\"}, {\"geo\": \"geo\", \"hoverlabel\": {\"namelength\": 0}, \"hovertemplate\": \"Country=Cuba<br>average=%{marker.size}<br>CountryCode=%{location}\", \"legendgroup\": \"Country=Cuba\", \"locationmode\": \"ISO-3\", \"locations\": [\"CUB\"], \"marker\": {\"color\": \"#B6E880\", \"size\": [102033.0], \"sizemode\": \"area\", \"sizeref\": 4415.14}, \"name\": \"Country=Cuba\", \"showlegend\": true, \"type\": \"scattergeo\"}, {\"geo\": \"geo\", \"hoverlabel\": {\"namelength\": 0}, \"hovertemplate\": \"Country=Belarus<br>average=%{marker.size}<br>CountryCode=%{location}\", \"legendgroup\": \"Country=Belarus\", \"locationmode\": \"ISO-3\", \"locations\": [\"BLR\"], \"marker\": {\"color\": \"#FF97FF\", \"size\": [99960.0], \"sizemode\": \"area\", \"sizeref\": 4415.14}, \"name\": \"Country=Belarus\", \"showlegend\": true, \"type\": \"scattergeo\"}, {\"geo\": \"geo\", \"hoverlabel\": {\"namelength\": 0}, \"hovertemplate\": \"Country=Germany<br>average=%{marker.size}<br>CountryCode=%{location}\", \"legendgroup\": \"Country=Germany\", \"locationmode\": \"ISO-3\", \"locations\": [\"DEU\"], \"marker\": {\"color\": \"#FECB52\", \"size\": [96706.0], \"sizemode\": \"area\", \"sizeref\": 4415.14}, \"name\": \"Country=Germany\", \"showlegend\": true, \"type\": \"scattergeo\"}, {\"geo\": \"geo\", \"hoverlabel\": {\"namelength\": 0}, \"hovertemplate\": \"Country=Cote d'Ivoire<br>average=%{marker.size}<br>CountryCode=%{location}\", \"legendgroup\": \"Country=Cote d'Ivoire\", \"locationmode\": \"ISO-3\", \"locations\": [\"CIV\"], \"marker\": {\"color\": \"#636efa\", \"size\": [91797.0], \"sizemode\": \"area\", \"sizeref\": 4415.14}, \"name\": \"Country=Cote d'Ivoire\", \"showlegend\": true, \"type\": \"scattergeo\"}, {\"geo\": \"geo\", \"hoverlabel\": {\"namelength\": 0}, \"hovertemplate\": \"Country=Yemen<br>average=%{marker.size}<br>CountryCode=%{location}\", \"legendgroup\": \"Country=Yemen\", \"locationmode\": \"ISO-3\", \"locations\": [\"YEM\"], \"marker\": {\"color\": \"#EF553B\", \"size\": [85966.0], \"sizemode\": \"area\", \"sizeref\": 4415.14}, \"name\": \"Country=Yemen\", \"showlegend\": true, \"type\": \"scattergeo\"}, {\"geo\": \"geo\", \"hoverlabel\": {\"namelength\": 0}, \"hovertemplate\": \"Country=Bulgaria<br>average=%{marker.size}<br>CountryCode=%{location}\", \"legendgroup\": \"Country=Bulgaria\", \"locationmode\": \"ISO-3\", \"locations\": [\"BGR\"], \"marker\": {\"color\": \"#00cc96\", \"size\": [79564.0], \"sizemode\": \"area\", \"sizeref\": 4415.14}, \"name\": \"Country=Bulgaria\", \"showlegend\": true, \"type\": \"scattergeo\"}, {\"geo\": \"geo\", \"hoverlabel\": {\"namelength\": 0}, \"hovertemplate\": \"Country=Benin<br>average=%{marker.size}<br>CountryCode=%{location}\", \"legendgroup\": \"Country=Benin\", \"locationmode\": \"ISO-3\", \"locations\": [\"BEN\"], \"marker\": {\"color\": \"#ab63fa\", \"size\": [73253.0], \"sizemode\": \"area\", \"sizeref\": 4415.14}, \"name\": \"Country=Benin\", \"showlegend\": true, \"type\": \"scattergeo\"}, {\"geo\": \"geo\", \"hoverlabel\": {\"namelength\": 0}, \"hovertemplate\": \"Country=Romania<br>average=%{marker.size}<br>CountryCode=%{location}\", \"legendgroup\": \"Country=Romania\", \"locationmode\": \"ISO-3\", \"locations\": [\"ROU\"], \"marker\": {\"color\": \"#FFA15A\", \"size\": [64895.0], \"sizemode\": \"area\", \"sizeref\": 4415.14}, \"name\": \"Country=Romania\", \"showlegend\": true, \"type\": \"scattergeo\"}, {\"geo\": \"geo\", \"hoverlabel\": {\"namelength\": 0}, \"hovertemplate\": \"Country=Georgia<br>average=%{marker.size}<br>CountryCode=%{location}\", \"legendgroup\": \"Country=Georgia\", \"locationmode\": \"ISO-3\", \"locations\": [\"GEO\"], \"marker\": {\"color\": \"#19d3f3\", \"size\": [63267.0], \"sizemode\": \"area\", \"sizeref\": 4415.14}, \"name\": \"Country=Georgia\", \"showlegend\": true, \"type\": \"scattergeo\"}, {\"geo\": \"geo\", \"hoverlabel\": {\"namelength\": 0}, \"hovertemplate\": \"Country=South Africa<br>average=%{marker.size}<br>CountryCode=%{location}\", \"legendgroup\": \"Country=South Africa\", \"locationmode\": \"ISO-3\", \"locations\": [\"ZAF\"], \"marker\": {\"color\": \"#FF6692\", \"size\": [54584.0], \"sizemode\": \"area\", \"sizeref\": 4415.14}, \"name\": \"Country=South Africa\", \"showlegend\": true, \"type\": \"scattergeo\"}, {\"geo\": \"geo\", \"hoverlabel\": {\"namelength\": 0}, \"hovertemplate\": \"Country=Congo<br>average=%{marker.size}<br>CountryCode=%{location}\", \"legendgroup\": \"Country=Congo\", \"locationmode\": \"ISO-3\", \"locations\": [\"COG\"], \"marker\": {\"color\": \"#B6E880\", \"size\": [54089.0], \"sizemode\": \"area\", \"sizeref\": 4415.14}, \"name\": \"Country=Congo\", \"showlegend\": true, \"type\": \"scattergeo\"}, {\"geo\": \"geo\", \"hoverlabel\": {\"namelength\": 0}, \"hovertemplate\": \"Country=France<br>average=%{marker.size}<br>CountryCode=%{location}\", \"legendgroup\": \"Country=France\", \"locationmode\": \"ISO-3\", \"locations\": [\"FRA\"], \"marker\": {\"color\": \"#FF97FF\", \"size\": [53018.0], \"sizemode\": \"area\", \"sizeref\": 4415.14}, \"name\": \"Country=France\", \"showlegend\": true, \"type\": \"scattergeo\"}, {\"geo\": \"geo\", \"hoverlabel\": {\"namelength\": 0}, \"hovertemplate\": \"Country=Taiwan<br>average=%{marker.size}<br>CountryCode=%{location}\", \"legendgroup\": \"Country=Taiwan\", \"locationmode\": \"ISO-3\", \"locations\": [\"TWN\"], \"marker\": {\"color\": \"#FECB52\", \"size\": [51791.0], \"sizemode\": \"area\", \"sizeref\": 4415.14}, \"name\": \"Country=Taiwan\", \"showlegend\": true, \"type\": \"scattergeo\"}, {\"geo\": \"geo\", \"hoverlabel\": {\"namelength\": 0}, \"hovertemplate\": \"Country=Japan<br>average=%{marker.size}<br>CountryCode=%{location}\", \"legendgroup\": \"Country=Japan\", \"locationmode\": \"ISO-3\", \"locations\": [\"JPN\"], \"marker\": {\"color\": \"#636efa\", \"size\": [50336.0], \"sizemode\": \"area\", \"sizeref\": 4415.14}, \"name\": \"Country=Japan\", \"showlegend\": true, \"type\": \"scattergeo\"}, {\"geo\": \"geo\", \"hoverlabel\": {\"namelength\": 0}, \"hovertemplate\": \"Country=Myanmar<br>average=%{marker.size}<br>CountryCode=%{location}\", \"legendgroup\": \"Country=Myanmar\", \"locationmode\": \"ISO-3\", \"locations\": [\"MMR\"], \"marker\": {\"color\": \"#EF553B\", \"size\": [50130.0], \"sizemode\": \"area\", \"sizeref\": 4415.14}, \"name\": \"Country=Myanmar\", \"showlegend\": true, \"type\": \"scattergeo\"}, {\"geo\": \"geo\", \"hoverlabel\": {\"namelength\": 0}, \"hovertemplate\": \"Country=Afghanistan<br>average=%{marker.size}<br>CountryCode=%{location}\", \"legendgroup\": \"Country=Afghanistan\", \"locationmode\": \"ISO-3\", \"locations\": [\"AFG\"], \"marker\": {\"color\": \"#00cc96\", \"size\": [49613.0], \"sizemode\": \"area\", \"sizeref\": 4415.14}, \"name\": \"Country=Afghanistan\", \"showlegend\": true, \"type\": \"scattergeo\"}, {\"geo\": \"geo\", \"hoverlabel\": {\"namelength\": 0}, \"hovertemplate\": \"Country=Eritrea<br>average=%{marker.size}<br>CountryCode=%{location}\", \"legendgroup\": \"Country=Eritrea\", \"locationmode\": \"ISO-3\", \"locations\": [\"ERI\"], \"marker\": {\"color\": \"#ab63fa\", \"size\": [45907.0], \"sizemode\": \"area\", \"sizeref\": 4415.14}, \"name\": \"Country=Eritrea\", \"showlegend\": true, \"type\": \"scattergeo\"}, {\"geo\": \"geo\", \"hoverlabel\": {\"namelength\": 0}, \"hovertemplate\": \"Country=Jordan<br>average=%{marker.size}<br>CountryCode=%{location}\", \"legendgroup\": \"Country=Jordan\", \"locationmode\": \"ISO-3\", \"locations\": [\"JOR\"], \"marker\": {\"color\": \"#FFA15A\", \"size\": [45151.0], \"sizemode\": \"area\", \"sizeref\": 4415.14}, \"name\": \"Country=Jordan\", \"showlegend\": true, \"type\": \"scattergeo\"}, {\"geo\": \"geo\", \"hoverlabel\": {\"namelength\": 0}, \"hovertemplate\": \"Country=Kazakhstan<br>average=%{marker.size}<br>CountryCode=%{location}\", \"legendgroup\": \"Country=Kazakhstan\", \"locationmode\": \"ISO-3\", \"locations\": [\"KAZ\"], \"marker\": {\"color\": \"#19d3f3\", \"size\": [44652.0], \"sizemode\": \"area\", \"sizeref\": 4415.14}, \"name\": \"Country=Kazakhstan\", \"showlegend\": true, \"type\": \"scattergeo\"}, {\"geo\": \"geo\", \"hoverlabel\": {\"namelength\": 0}, \"hovertemplate\": \"Country=Syria<br>average=%{marker.size}<br>CountryCode=%{location}\", \"legendgroup\": \"Country=Syria\", \"locationmode\": \"ISO-3\", \"locations\": [\"SYR\"], \"marker\": {\"color\": \"#FF6692\", \"size\": [44529.0], \"sizemode\": \"area\", \"sizeref\": 4415.14}, \"name\": \"Country=Syria\", \"showlegend\": true, \"type\": \"scattergeo\"}, {\"geo\": \"geo\", \"hoverlabel\": {\"namelength\": 0}, \"hovertemplate\": \"Country=Iraq<br>average=%{marker.size}<br>CountryCode=%{location}\", \"legendgroup\": \"Country=Iraq\", \"locationmode\": \"ISO-3\", \"locations\": [\"IRQ\"], \"marker\": {\"color\": \"#B6E880\", \"size\": [44456.0], \"sizemode\": \"area\", \"sizeref\": 4415.14}, \"name\": \"Country=Iraq\", \"showlegend\": true, \"type\": \"scattergeo\"}, {\"geo\": \"geo\", \"hoverlabel\": {\"namelength\": 0}, \"hovertemplate\": \"Country=Italy<br>average=%{marker.size}<br>CountryCode=%{location}\", \"legendgroup\": \"Country=Italy\", \"locationmode\": \"ISO-3\", \"locations\": [\"ITA\"], \"marker\": {\"color\": \"#FF97FF\", \"size\": [43703.0], \"sizemode\": \"area\", \"sizeref\": 4415.14}, \"name\": \"Country=Italy\", \"showlegend\": true, \"type\": \"scattergeo\"}, {\"geo\": \"geo\", \"hoverlabel\": {\"namelength\": 0}, \"hovertemplate\": \"Country=Azerbaijan<br>average=%{marker.size}<br>CountryCode=%{location}\", \"legendgroup\": \"Country=Azerbaijan\", \"locationmode\": \"ISO-3\", \"locations\": [\"AZE\"], \"marker\": {\"color\": \"#FECB52\", \"size\": [43563.0], \"sizemode\": \"area\", \"sizeref\": 4415.14}, \"name\": \"Country=Azerbaijan\", \"showlegend\": true, \"type\": \"scattergeo\"}, {\"geo\": \"geo\", \"hoverlabel\": {\"namelength\": 0}, \"hovertemplate\": \"Country=Saudi Arabia<br>average=%{marker.size}<br>CountryCode=%{location}\", \"legendgroup\": \"Country=Saudi Arabia\", \"locationmode\": \"ISO-3\", \"locations\": [\"SAU\"], \"marker\": {\"color\": \"#636efa\", \"size\": [43309.0], \"sizemode\": \"area\", \"sizeref\": 4415.14}, \"name\": \"Country=Saudi Arabia\", \"showlegend\": true, \"type\": \"scattergeo\"}, {\"geo\": \"geo\", \"hoverlabel\": {\"namelength\": 0}, \"hovertemplate\": \"Country=Poland<br>average=%{marker.size}<br>CountryCode=%{location}\", \"legendgroup\": \"Country=Poland\", \"locationmode\": \"ISO-3\", \"locations\": [\"POL\"], \"marker\": {\"color\": \"#EF553B\", \"size\": [41742.0], \"sizemode\": \"area\", \"sizeref\": 4415.14}, \"name\": \"Country=Poland\", \"showlegend\": true, \"type\": \"scattergeo\"}, {\"geo\": \"geo\", \"hoverlabel\": {\"namelength\": 0}, \"hovertemplate\": \"Country=Tajikistan<br>average=%{marker.size}<br>CountryCode=%{location}\", \"legendgroup\": \"Country=Tajikistan\", \"locationmode\": \"ISO-3\", \"locations\": [\"TJK\"], \"marker\": {\"color\": \"#00cc96\", \"size\": [40086.0], \"sizemode\": \"area\", \"sizeref\": 4415.14}, \"name\": \"Country=Tajikistan\", \"showlegend\": true, \"type\": \"scattergeo\"}, {\"geo\": \"geo\", \"hoverlabel\": {\"namelength\": 0}, \"hovertemplate\": \"Country=Senegal<br>average=%{marker.size}<br>CountryCode=%{location}\", \"legendgroup\": \"Country=Senegal\", \"locationmode\": \"ISO-3\", \"locations\": [\"SEN\"], \"marker\": {\"color\": \"#ab63fa\", \"size\": [38853.0], \"sizemode\": \"area\", \"sizeref\": 4415.14}, \"name\": \"Country=Senegal\", \"showlegend\": true, \"type\": \"scattergeo\"}, {\"geo\": \"geo\", \"hoverlabel\": {\"namelength\": 0}, \"hovertemplate\": \"Country=Lebanon<br>average=%{marker.size}<br>CountryCode=%{location}\", \"legendgroup\": \"Country=Lebanon\", \"locationmode\": \"ISO-3\", \"locations\": [\"LBN\"], \"marker\": {\"color\": \"#FFA15A\", \"size\": [35305.0], \"sizemode\": \"area\", \"sizeref\": 4415.14}, \"name\": \"Country=Lebanon\", \"showlegend\": true, \"type\": \"scattergeo\"}, {\"geo\": \"geo\", \"hoverlabel\": {\"namelength\": 0}, \"hovertemplate\": \"Country=Uganda<br>average=%{marker.size}<br>CountryCode=%{location}\", \"legendgroup\": \"Country=Uganda\", \"locationmode\": \"ISO-3\", \"locations\": [\"UGA\"], \"marker\": {\"color\": \"#19d3f3\", \"size\": [33767.0], \"sizemode\": \"area\", \"sizeref\": 4415.14}, \"name\": \"Country=Uganda\", \"showlegend\": true, \"type\": \"scattergeo\"}, {\"geo\": \"geo\", \"hoverlabel\": {\"namelength\": 0}, \"hovertemplate\": \"Country=Rwanda<br>average=%{marker.size}<br>CountryCode=%{location}\", \"legendgroup\": \"Country=Rwanda\", \"locationmode\": \"ISO-3\", \"locations\": [\"RWA\"], \"marker\": {\"color\": \"#FF6692\", \"size\": [32070.0], \"sizemode\": \"area\", \"sizeref\": 4415.14}, \"name\": \"Country=Rwanda\", \"showlegend\": true, \"type\": \"scattergeo\"}, {\"geo\": \"geo\", \"hoverlabel\": {\"namelength\": 0}, \"hovertemplate\": \"Country=Serbia<br>average=%{marker.size}<br>CountryCode=%{location}\", \"legendgroup\": \"Country=Serbia\", \"locationmode\": \"ISO-3\", \"locations\": [\"SRB\"], \"marker\": {\"color\": \"#B6E880\", \"size\": [31480.0], \"sizemode\": \"area\", \"sizeref\": 4415.14}, \"name\": \"Country=Serbia\", \"showlegend\": true, \"type\": \"scattergeo\"}, {\"geo\": \"geo\", \"hoverlabel\": {\"namelength\": 0}, \"hovertemplate\": \"Country=Indonesia<br>average=%{marker.size}<br>CountryCode=%{location}\", \"legendgroup\": \"Country=Indonesia\", \"locationmode\": \"ISO-3\", \"locations\": [\"IDN\"], \"marker\": {\"color\": \"#FF97FF\", \"size\": [29624.0], \"sizemode\": \"area\", \"sizeref\": 4415.14}, \"name\": \"Country=Indonesia\", \"showlegend\": true, \"type\": \"scattergeo\"}, {\"geo\": \"geo\", \"hoverlabel\": {\"namelength\": 0}, \"hovertemplate\": \"Country=Kyrgyzstan<br>average=%{marker.size}<br>CountryCode=%{location}\", \"legendgroup\": \"Country=Kyrgyzstan\", \"locationmode\": \"ISO-3\", \"locations\": [\"KGZ\"], \"marker\": {\"color\": \"#FECB52\", \"size\": [28546.0], \"sizemode\": \"area\", \"sizeref\": 4415.14}, \"name\": \"Country=Kyrgyzstan\", \"showlegend\": true, \"type\": \"scattergeo\"}, {\"geo\": \"geo\", \"hoverlabel\": {\"namelength\": 0}, \"hovertemplate\": \"Country=Mongolia<br>average=%{marker.size}<br>CountryCode=%{location}\", \"legendgroup\": \"Country=Mongolia\", \"locationmode\": \"ISO-3\", \"locations\": [\"MNG\"], \"marker\": {\"color\": \"#636efa\", \"size\": [27122.0], \"sizemode\": \"area\", \"sizeref\": 4415.14}, \"name\": \"Country=Mongolia\", \"showlegend\": true, \"type\": \"scattergeo\"}, {\"geo\": \"geo\", \"hoverlabel\": {\"namelength\": 0}, \"hovertemplate\": \"Country=Macedonia<br>average=%{marker.size}<br>CountryCode=%{location}\", \"legendgroup\": \"Country=Macedonia\", \"locationmode\": \"ISO-3\", \"locations\": [\"MKD\", \"MKD\"], \"marker\": {\"color\": \"#EF553B\", \"size\": [26135.0, 26135.0], \"sizemode\": \"area\", \"sizeref\": 4415.14}, \"name\": \"Country=Macedonia\", \"showlegend\": true, \"type\": \"scattergeo\"}, {\"geo\": \"geo\", \"hoverlabel\": {\"namelength\": 0}, \"hovertemplate\": \"Country=Israel<br>average=%{marker.size}<br>CountryCode=%{location}\", \"legendgroup\": \"Country=Israel\", \"locationmode\": \"ISO-3\", \"locations\": [\"ISR\"], \"marker\": {\"color\": \"#00cc96\", \"size\": [25478.0], \"sizemode\": \"area\", \"sizeref\": 4415.14}, \"name\": \"Country=Israel\", \"showlegend\": true, \"type\": \"scattergeo\"}, {\"geo\": \"geo\", \"hoverlabel\": {\"namelength\": 0}, \"hovertemplate\": \"Country=Somalia<br>average=%{marker.size}<br>CountryCode=%{location}\", \"legendgroup\": \"Country=Somalia\", \"locationmode\": \"ISO-3\", \"locations\": [\"SOM\"], \"marker\": {\"color\": \"#ab63fa\", \"size\": [23778.0], \"sizemode\": \"area\", \"sizeref\": 4415.14}, \"name\": \"Country=Somalia\", \"showlegend\": true, \"type\": \"scattergeo\"}, {\"geo\": \"geo\", \"hoverlabel\": {\"namelength\": 0}, \"hovertemplate\": \"Country=Kosovo<br>average=%{marker.size}<br>CountryCode=%{location}\", \"legendgroup\": \"Country=Kosovo\", \"locationmode\": \"ISO-3\", \"locations\": [\"XKX\"], \"marker\": {\"color\": \"#FFA15A\", \"size\": [23436.0], \"sizemode\": \"area\", \"sizeref\": 4415.14}, \"name\": \"Country=Kosovo\", \"showlegend\": true, \"type\": \"scattergeo\"}, {\"geo\": \"geo\", \"hoverlabel\": {\"namelength\": 0}, \"hovertemplate\": \"Country=Ecuador<br>average=%{marker.size}<br>CountryCode=%{location}\", \"legendgroup\": \"Country=Ecuador\", \"locationmode\": \"ISO-3\", \"locations\": [\"ECU\"], \"marker\": {\"color\": \"#19d3f3\", \"size\": [22076.0], \"sizemode\": \"area\", \"sizeref\": 4415.14}, \"name\": \"Country=Ecuador\", \"showlegend\": true, \"type\": \"scattergeo\"}, {\"geo\": \"geo\", \"hoverlabel\": {\"namelength\": 0}, \"hovertemplate\": \"Country=Lithuania<br>average=%{marker.size}<br>CountryCode=%{location}\", \"legendgroup\": \"Country=Lithuania\", \"locationmode\": \"ISO-3\", \"locations\": [\"LTU\"], \"marker\": {\"color\": \"#FF6692\", \"size\": [21154.0], \"sizemode\": \"area\", \"sizeref\": 4415.14}, \"name\": \"Country=Lithuania\", \"showlegend\": true, \"type\": \"scattergeo\"}, {\"geo\": \"geo\", \"hoverlabel\": {\"namelength\": 0}, \"hovertemplate\": \"Country=Spain<br>average=%{marker.size}<br>CountryCode=%{location}\", \"legendgroup\": \"Country=Spain\", \"locationmode\": \"ISO-3\", \"locations\": [\"ESP\"], \"marker\": {\"color\": \"#B6E880\", \"size\": [20489.0], \"sizemode\": \"area\", \"sizeref\": 4415.14}, \"name\": \"Country=Spain\", \"showlegend\": true, \"type\": \"scattergeo\"}, {\"geo\": \"geo\", \"hoverlabel\": {\"namelength\": 0}, \"hovertemplate\": \"Country=Australia<br>average=%{marker.size}<br>CountryCode=%{location}\", \"legendgroup\": \"Country=Australia\", \"locationmode\": \"ISO-3\", \"locations\": [\"AUS\"], \"marker\": {\"color\": \"#FF97FF\", \"size\": [20412.0], \"sizemode\": \"area\", \"sizeref\": 4415.14}, \"name\": \"Country=Australia\", \"showlegend\": true, \"type\": \"scattergeo\"}, {\"geo\": \"geo\", \"hoverlabel\": {\"namelength\": 0}, \"hovertemplate\": \"Country=Burkina Faso<br>average=%{marker.size}<br>CountryCode=%{location}\", \"legendgroup\": \"Country=Burkina Faso\", \"locationmode\": \"ISO-3\", \"locations\": [\"BFA\"], \"marker\": {\"color\": \"#FECB52\", \"size\": [19970.0], \"sizemode\": \"area\", \"sizeref\": 4415.14}, \"name\": \"Country=Burkina Faso\", \"showlegend\": true, \"type\": \"scattergeo\"}, {\"geo\": \"geo\", \"hoverlabel\": {\"namelength\": 0}, \"hovertemplate\": \"Country=Libya<br>average=%{marker.size}<br>CountryCode=%{location}\", \"legendgroup\": \"Country=Libya\", \"locationmode\": \"ISO-3\", \"locations\": [\"LBY\"], \"marker\": {\"color\": \"#636efa\", \"size\": [19292.0], \"sizemode\": \"area\", \"sizeref\": 4415.14}, \"name\": \"Country=Libya\", \"showlegend\": true, \"type\": \"scattergeo\"}, {\"geo\": \"geo\", \"hoverlabel\": {\"namelength\": 0}, \"hovertemplate\": \"Country=Kuwait<br>average=%{marker.size}<br>CountryCode=%{location}\", \"legendgroup\": \"Country=Kuwait\", \"locationmode\": \"ISO-3\", \"locations\": [\"KWT\"], \"marker\": {\"color\": \"#EF553B\", \"size\": [19046.0], \"sizemode\": \"area\", \"sizeref\": 4415.14}, \"name\": \"Country=Kuwait\", \"showlegend\": true, \"type\": \"scattergeo\"}, {\"geo\": \"geo\", \"hoverlabel\": {\"namelength\": 0}, \"hovertemplate\": \"Country=Hungary<br>average=%{marker.size}<br>CountryCode=%{location}\", \"legendgroup\": \"Country=Hungary\", \"locationmode\": \"ISO-3\", \"locations\": [\"HUN\"], \"marker\": {\"color\": \"#00cc96\", \"size\": [18416.0], \"sizemode\": \"area\", \"sizeref\": 4415.14}, \"name\": \"Country=Hungary\", \"showlegend\": true, \"type\": \"scattergeo\"}, {\"geo\": \"geo\", \"hoverlabel\": {\"namelength\": 0}, \"hovertemplate\": \"Country=Peru<br>average=%{marker.size}<br>CountryCode=%{location}\", \"legendgroup\": \"Country=Peru\", \"locationmode\": \"ISO-3\", \"locations\": [\"PER\"], \"marker\": {\"color\": \"#ab63fa\", \"size\": [17771.0], \"sizemode\": \"area\", \"sizeref\": 4415.14}, \"name\": \"Country=Peru\", \"showlegend\": true, \"type\": \"scattergeo\"}, {\"geo\": \"geo\", \"hoverlabel\": {\"namelength\": 0}, \"hovertemplate\": \"Country=United Arab Emirates<br>average=%{marker.size}<br>CountryCode=%{location}\", \"legendgroup\": \"Country=United Arab Emirates\", \"locationmode\": \"ISO-3\", \"locations\": [\"ARE\"], \"marker\": {\"color\": \"#FFA15A\", \"size\": [15542.0], \"sizemode\": \"area\", \"sizeref\": 4415.14}, \"name\": \"Country=United Arab Emirates\", \"showlegend\": true, \"type\": \"scattergeo\"}, {\"geo\": \"geo\", \"hoverlabel\": {\"namelength\": 0}, \"hovertemplate\": \"Country=Argentina<br>average=%{marker.size}<br>CountryCode=%{location}\", \"legendgroup\": \"Country=Argentina\", \"locationmode\": \"ISO-3\", \"locations\": [\"ARG\"], \"marker\": {\"color\": \"#19d3f3\", \"size\": [13765.0], \"sizemode\": \"area\", \"sizeref\": 4415.14}, \"name\": \"Country=Argentina\", \"showlegend\": true, \"type\": \"scattergeo\"}, {\"geo\": \"geo\", \"hoverlabel\": {\"namelength\": 0}, \"hovertemplate\": \"Country=Malaysia<br>average=%{marker.size}<br>CountryCode=%{location}\", \"legendgroup\": \"Country=Malaysia\", \"locationmode\": \"ISO-3\", \"locations\": [\"MYS\"], \"marker\": {\"color\": \"#FF6692\", \"size\": [13670.0], \"sizemode\": \"area\", \"sizeref\": 4415.14}, \"name\": \"Country=Malaysia\", \"showlegend\": true, \"type\": \"scattergeo\"}, {\"geo\": \"geo\", \"hoverlabel\": {\"namelength\": 0}, \"hovertemplate\": \"Country=Tunisia<br>average=%{marker.size}<br>CountryCode=%{location}\", \"legendgroup\": \"Country=Tunisia\", \"locationmode\": \"ISO-3\", \"locations\": [\"TUN\"], \"marker\": {\"color\": \"#B6E880\", \"size\": [13666.0], \"sizemode\": \"area\", \"sizeref\": 4415.14}, \"name\": \"Country=Tunisia\", \"showlegend\": true, \"type\": \"scattergeo\"}, {\"geo\": \"geo\", \"hoverlabel\": {\"namelength\": 0}, \"hovertemplate\": \"Country=Trinidad and Tobago<br>average=%{marker.size}<br>CountryCode=%{location}\", \"legendgroup\": \"Country=Trinidad and Tobago\", \"locationmode\": \"ISO-3\", \"locations\": [\"TTO\"], \"marker\": {\"color\": \"#FF97FF\", \"size\": [13186.0], \"sizemode\": \"area\", \"sizeref\": 4415.14}, \"name\": \"Country=Trinidad and Tobago\", \"showlegend\": true, \"type\": \"scattergeo\"}, {\"geo\": \"geo\", \"hoverlabel\": {\"namelength\": 0}, \"hovertemplate\": \"Country=Turkmenistan<br>average=%{marker.size}<br>CountryCode=%{location}\", \"legendgroup\": \"Country=Turkmenistan\", \"locationmode\": \"ISO-3\", \"locations\": [\"TKM\"], \"marker\": {\"color\": \"#FECB52\", \"size\": [12820.0], \"sizemode\": \"area\", \"sizeref\": 4415.14}, \"name\": \"Country=Turkmenistan\", \"showlegend\": true, \"type\": \"scattergeo\"}, {\"geo\": \"geo\", \"hoverlabel\": {\"namelength\": 0}, \"hovertemplate\": \"Country=Honduras<br>average=%{marker.size}<br>CountryCode=%{location}\", \"legendgroup\": \"Country=Honduras\", \"locationmode\": \"ISO-3\", \"locations\": [\"HND\"], \"marker\": {\"color\": \"#636efa\", \"size\": [12568.0], \"sizemode\": \"area\", \"sizeref\": 4415.14}, \"name\": \"Country=Honduras\", \"showlegend\": true, \"type\": \"scattergeo\"}, {\"geo\": \"geo\", \"hoverlabel\": {\"namelength\": 0}, \"hovertemplate\": \"Country=Fiji<br>average=%{marker.size}<br>CountryCode=%{location}\", \"legendgroup\": \"Country=Fiji\", \"locationmode\": \"ISO-3\", \"locations\": [\"FJI\"], \"marker\": {\"color\": \"#EF553B\", \"size\": [12239.0], \"sizemode\": \"area\", \"sizeref\": 4415.14}, \"name\": \"Country=Fiji\", \"showlegend\": true, \"type\": \"scattergeo\"}, {\"geo\": \"geo\", \"hoverlabel\": {\"namelength\": 0}, \"hovertemplate\": \"Country=Switzerland<br>average=%{marker.size}<br>CountryCode=%{location}\", \"legendgroup\": \"Country=Switzerland\", \"locationmode\": \"ISO-3\", \"locations\": [\"CHE\"], \"marker\": {\"color\": \"#00cc96\", \"size\": [12031.0], \"sizemode\": \"area\", \"sizeref\": 4415.14}, \"name\": \"Country=Switzerland\", \"showlegend\": true, \"type\": \"scattergeo\"}, {\"geo\": \"geo\", \"hoverlabel\": {\"namelength\": 0}, \"hovertemplate\": \"Country=Burundi<br>average=%{marker.size}<br>CountryCode=%{location}\", \"legendgroup\": \"Country=Burundi\", \"locationmode\": \"ISO-3\", \"locations\": [\"BDI\"], \"marker\": {\"color\": \"#ab63fa\", \"size\": [11777.0], \"sizemode\": \"area\", \"sizeref\": 4415.14}, \"name\": \"Country=Burundi\", \"showlegend\": true, \"type\": \"scattergeo\"}, {\"geo\": \"geo\", \"hoverlabel\": {\"namelength\": 0}, \"hovertemplate\": \"Country=Sweden<br>average=%{marker.size}<br>CountryCode=%{location}\", \"legendgroup\": \"Country=Sweden\", \"locationmode\": \"ISO-3\", \"locations\": [\"SWE\"], \"marker\": {\"color\": \"#FFA15A\", \"size\": [11682.0], \"sizemode\": \"area\", \"sizeref\": 4415.14}, \"name\": \"Country=Sweden\", \"showlegend\": true, \"type\": \"scattergeo\"}, {\"geo\": \"geo\", \"hoverlabel\": {\"namelength\": 0}, \"hovertemplate\": \"Country=Zimbabwe<br>average=%{marker.size}<br>CountryCode=%{location}\", \"legendgroup\": \"Country=Zimbabwe\", \"locationmode\": \"ISO-3\", \"locations\": [\"ZWE\"], \"marker\": {\"color\": \"#19d3f3\", \"size\": [11534.0], \"sizemode\": \"area\", \"sizeref\": 4415.14}, \"name\": \"Country=Zimbabwe\", \"showlegend\": true, \"type\": \"scattergeo\"}, {\"geo\": \"geo\", \"hoverlabel\": {\"namelength\": 0}, \"hovertemplate\": \"Country=Tanzania<br>average=%{marker.size}<br>CountryCode=%{location}\", \"legendgroup\": \"Country=Tanzania\", \"locationmode\": \"ISO-3\", \"locations\": [\"TZA\"], \"marker\": {\"color\": \"#FF6692\", \"size\": [11434.0], \"sizemode\": \"area\", \"sizeref\": 4415.14}, \"name\": \"Country=Tanzania\", \"showlegend\": true, \"type\": \"scattergeo\"}, {\"geo\": \"geo\", \"hoverlabel\": {\"namelength\": 0}, \"hovertemplate\": \"Country=Ireland<br>average=%{marker.size}<br>CountryCode=%{location}\", \"legendgroup\": \"Country=Ireland\", \"locationmode\": \"ISO-3\", \"locations\": [\"IRL\"], \"marker\": {\"color\": \"#B6E880\", \"size\": [10964.0], \"sizemode\": \"area\", \"sizeref\": 4415.14}, \"name\": \"Country=Ireland\", \"showlegend\": true, \"type\": \"scattergeo\"}, {\"geo\": \"geo\", \"hoverlabel\": {\"namelength\": 0}, \"hovertemplate\": \"Country=Thailand<br>average=%{marker.size}<br>CountryCode=%{location}\", \"legendgroup\": \"Country=Thailand\", \"locationmode\": \"ISO-3\", \"locations\": [\"THA\"], \"marker\": {\"color\": \"#FF97FF\", \"size\": [10575.0], \"sizemode\": \"area\", \"sizeref\": 4415.14}, \"name\": \"Country=Thailand\", \"showlegend\": true, \"type\": \"scattergeo\"}, {\"geo\": \"geo\", \"hoverlabel\": {\"namelength\": 0}, \"hovertemplate\": \"Country=Netherlands<br>average=%{marker.size}<br>CountryCode=%{location}\", \"legendgroup\": \"Country=Netherlands\", \"locationmode\": \"ISO-3\", \"locations\": [\"NLD\"], \"marker\": {\"color\": \"#FECB52\", \"size\": [10355.0], \"sizemode\": \"area\", \"sizeref\": 4415.14}, \"name\": \"Country=Netherlands\", \"showlegend\": true, \"type\": \"scattergeo\"}, {\"geo\": \"geo\", \"hoverlabel\": {\"namelength\": 0}, \"hovertemplate\": \"Country=Niger<br>average=%{marker.size}<br>CountryCode=%{location}\", \"legendgroup\": \"Country=Niger\", \"locationmode\": \"ISO-3\", \"locations\": [\"NER\"], \"marker\": {\"color\": \"#636efa\", \"size\": [10090.0], \"sizemode\": \"area\", \"sizeref\": 4415.14}, \"name\": \"Country=Niger\", \"showlegend\": true, \"type\": \"scattergeo\"}, {\"geo\": \"geo\", \"hoverlabel\": {\"namelength\": 0}, \"hovertemplate\": \"Country=Mali<br>average=%{marker.size}<br>CountryCode=%{location}\", \"legendgroup\": \"Country=Mali\", \"locationmode\": \"ISO-3\", \"locations\": [\"MLI\"], \"marker\": {\"color\": \"#EF553B\", \"size\": [9250.0], \"sizemode\": \"area\", \"sizeref\": 4415.14}, \"name\": \"Country=Mali\", \"showlegend\": true, \"type\": \"scattergeo\"}, {\"geo\": \"geo\", \"hoverlabel\": {\"namelength\": 0}, \"hovertemplate\": \"Country=Greece<br>average=%{marker.size}<br>CountryCode=%{location}\", \"legendgroup\": \"Country=Greece\", \"locationmode\": \"ISO-3\", \"locations\": [\"GRC\"], \"marker\": {\"color\": \"#00cc96\", \"size\": [8742.0], \"sizemode\": \"area\", \"sizeref\": 4415.14}, \"name\": \"Country=Greece\", \"showlegend\": true, \"type\": \"scattergeo\"}, {\"geo\": \"geo\", \"hoverlabel\": {\"namelength\": 0}, \"hovertemplate\": \"Country=Bosnia and Herzegovina<br>average=%{marker.size}<br>CountryCode=%{location}\", \"legendgroup\": \"Country=Bosnia and Herzegovina\", \"locationmode\": \"ISO-3\", \"locations\": [\"BIH\"], \"marker\": {\"color\": \"#ab63fa\", \"size\": [8543.0], \"sizemode\": \"area\", \"sizeref\": 4415.14}, \"name\": \"Country=Bosnia and Herzegovina\", \"showlegend\": true, \"type\": \"scattergeo\"}, {\"geo\": \"geo\", \"hoverlabel\": {\"namelength\": 0}, \"hovertemplate\": \"Country=Austria<br>average=%{marker.size}<br>CountryCode=%{location}\", \"legendgroup\": \"Country=Austria\", \"locationmode\": \"ISO-3\", \"locations\": [\"AUT\"], \"marker\": {\"color\": \"#FFA15A\", \"size\": [8445.0], \"sizemode\": \"area\", \"sizeref\": 4415.14}, \"name\": \"Country=Austria\", \"showlegend\": true, \"type\": \"scattergeo\"}, {\"geo\": \"geo\", \"hoverlabel\": {\"namelength\": 0}, \"hovertemplate\": \"Country=Angola<br>average=%{marker.size}<br>CountryCode=%{location}\", \"legendgroup\": \"Country=Angola\", \"locationmode\": \"ISO-3\", \"locations\": [\"AGO\"], \"marker\": {\"color\": \"#19d3f3\", \"size\": [8343.0], \"sizemode\": \"area\", \"sizeref\": 4415.14}, \"name\": \"Country=Angola\", \"showlegend\": true, \"type\": \"scattergeo\"}, {\"geo\": \"geo\", \"hoverlabel\": {\"namelength\": 0}, \"hovertemplate\": \"Country=Belgium<br>average=%{marker.size}<br>CountryCode=%{location}\", \"legendgroup\": \"Country=Belgium\", \"locationmode\": \"ISO-3\", \"locations\": [\"BEL\"], \"marker\": {\"color\": \"#FF6692\", \"size\": [8051.0], \"sizemode\": \"area\", \"sizeref\": 4415.14}, \"name\": \"Country=Belgium\", \"showlegend\": true, \"type\": \"scattergeo\"}, {\"geo\": \"geo\", \"hoverlabel\": {\"namelength\": 0}, \"hovertemplate\": \"Country=Latvia<br>average=%{marker.size}<br>CountryCode=%{location}\", \"legendgroup\": \"Country=Latvia\", \"locationmode\": \"ISO-3\", \"locations\": [\"LVA\"], \"marker\": {\"color\": \"#B6E880\", \"size\": [7982.0], \"sizemode\": \"area\", \"sizeref\": 4415.14}, \"name\": \"Country=Latvia\", \"showlegend\": true, \"type\": \"scattergeo\"}, {\"geo\": \"geo\", \"hoverlabel\": {\"namelength\": 0}, \"hovertemplate\": \"Country=Bolivia<br>average=%{marker.size}<br>CountryCode=%{location}\", \"legendgroup\": \"Country=Bolivia\", \"locationmode\": \"ISO-3\", \"locations\": [\"BOL\"], \"marker\": {\"color\": \"#FF97FF\", \"size\": [7684.0], \"sizemode\": \"area\", \"sizeref\": 4415.14}, \"name\": \"Country=Bolivia\", \"showlegend\": true, \"type\": \"scattergeo\"}, {\"geo\": \"geo\", \"hoverlabel\": {\"namelength\": 0}, \"hovertemplate\": \"Country=Slovakia<br>average=%{marker.size}<br>CountryCode=%{location}\", \"legendgroup\": \"Country=Slovakia\", \"locationmode\": \"ISO-3\", \"locations\": [\"SVK\"], \"marker\": {\"color\": \"#FECB52\", \"size\": [7671.0], \"sizemode\": \"area\", \"sizeref\": 4415.14}, \"name\": \"Country=Slovakia\", \"showlegend\": true, \"type\": \"scattergeo\"}, {\"geo\": \"geo\", \"hoverlabel\": {\"namelength\": 0}, \"hovertemplate\": \"Country=Czech Republic<br>average=%{marker.size}<br>CountryCode=%{location}\", \"legendgroup\": \"Country=Czech Republic\", \"locationmode\": \"ISO-3\", \"locations\": [\"CZE\"], \"marker\": {\"color\": \"#636efa\", \"size\": [7663.0], \"sizemode\": \"area\", \"sizeref\": 4415.14}, \"name\": \"Country=Czech Republic\", \"showlegend\": true, \"type\": \"scattergeo\"}, {\"geo\": \"geo\", \"hoverlabel\": {\"namelength\": 0}, \"hovertemplate\": \"Country=Guatemala<br>average=%{marker.size}<br>CountryCode=%{location}\", \"legendgroup\": \"Country=Guatemala\", \"locationmode\": \"ISO-3\", \"locations\": [\"GTM\"], \"marker\": {\"color\": \"#EF553B\", \"size\": [6545.0], \"sizemode\": \"area\", \"sizeref\": 4415.14}, \"name\": \"Country=Guatemala\", \"showlegend\": true, \"type\": \"scattergeo\"}, {\"geo\": \"geo\", \"hoverlabel\": {\"namelength\": 0}, \"hovertemplate\": \"Country=Nicaragua<br>average=%{marker.size}<br>CountryCode=%{location}\", \"legendgroup\": \"Country=Nicaragua\", \"locationmode\": \"ISO-3\", \"locations\": [\"NIC\"], \"marker\": {\"color\": \"#00cc96\", \"size\": [6205.0], \"sizemode\": \"area\", \"sizeref\": 4415.14}, \"name\": \"Country=Nicaragua\", \"showlegend\": true, \"type\": \"scattergeo\"}, {\"geo\": \"geo\", \"hoverlabel\": {\"namelength\": 0}, \"hovertemplate\": \"Country=New Zealand<br>average=%{marker.size}<br>CountryCode=%{location}\", \"legendgroup\": \"Country=New Zealand\", \"locationmode\": \"ISO-3\", \"locations\": [\"NZL\"], \"marker\": {\"color\": \"#ab63fa\", \"size\": [6096.0], \"sizemode\": \"area\", \"sizeref\": 4415.14}, \"name\": \"Country=New Zealand\", \"showlegend\": true, \"type\": \"scattergeo\"}, {\"geo\": \"geo\", \"hoverlabel\": {\"namelength\": 0}, \"hovertemplate\": \"Country=Costa Rica<br>average=%{marker.size}<br>CountryCode=%{location}\", \"legendgroup\": \"Country=Costa Rica\", \"locationmode\": \"ISO-3\", \"locations\": [\"CRI\"], \"marker\": {\"color\": \"#FFA15A\", \"size\": [6074.0], \"sizemode\": \"area\", \"sizeref\": 4415.14}, \"name\": \"Country=Costa Rica\", \"showlegend\": true, \"type\": \"scattergeo\"}, {\"geo\": \"geo\", \"hoverlabel\": {\"namelength\": 0}, \"hovertemplate\": \"Country=Croatia<br>average=%{marker.size}<br>CountryCode=%{location}\", \"legendgroup\": \"Country=Croatia\", \"locationmode\": \"ISO-3\", \"locations\": [\"HRV\"], \"marker\": {\"color\": \"#19d3f3\", \"size\": [6018.0], \"sizemode\": \"area\", \"sizeref\": 4415.14}, \"name\": \"Country=Croatia\", \"showlegend\": true, \"type\": \"scattergeo\"}, {\"geo\": \"geo\", \"hoverlabel\": {\"namelength\": 0}, \"hovertemplate\": \"Country=Hong Kong Special Administrative Region<br>average=%{marker.size}<br>CountryCode=%{location}\", \"legendgroup\": \"Country=Hong Kong Special Administrative Region\", \"locationmode\": \"ISO-3\", \"locations\": [\"HKG\"], \"marker\": {\"color\": \"#FF6692\", \"size\": [5951.0], \"sizemode\": \"area\", \"sizeref\": 4415.14}, \"name\": \"Country=Hong Kong Special Administrative Region\", \"showlegend\": true, \"type\": \"scattergeo\"}, {\"geo\": \"geo\", \"hoverlabel\": {\"namelength\": 0}, \"hovertemplate\": \"Country=Djibouti<br>average=%{marker.size}<br>CountryCode=%{location}\", \"legendgroup\": \"Country=Djibouti\", \"locationmode\": \"ISO-3\", \"locations\": [\"DJI\"], \"marker\": {\"color\": \"#B6E880\", \"size\": [5944.0], \"sizemode\": \"area\", \"sizeref\": 4415.14}, \"name\": \"Country=Djibouti\", \"showlegend\": true, \"type\": \"scattergeo\"}, {\"geo\": \"geo\", \"hoverlabel\": {\"namelength\": 0}, \"hovertemplate\": \"Country=Singapore<br>average=%{marker.size}<br>CountryCode=%{location}\", \"legendgroup\": \"Country=Singapore\", \"locationmode\": \"ISO-3\", \"locations\": [\"SGP\"], \"marker\": {\"color\": \"#FF97FF\", \"size\": [5791.0], \"sizemode\": \"area\", \"sizeref\": 4415.14}, \"name\": \"Country=Singapore\", \"showlegend\": true, \"type\": \"scattergeo\"}, {\"geo\": \"geo\", \"hoverlabel\": {\"namelength\": 0}, \"hovertemplate\": \"Country=Finland<br>average=%{marker.size}<br>CountryCode=%{location}\", \"legendgroup\": \"Country=Finland\", \"locationmode\": \"ISO-3\", \"locations\": [\"FIN\"], \"marker\": {\"color\": \"#FECB52\", \"size\": [5779.0], \"sizemode\": \"area\", \"sizeref\": 4415.14}, \"name\": \"Country=Finland\", \"showlegend\": true, \"type\": \"scattergeo\"}, {\"geo\": \"geo\", \"hoverlabel\": {\"namelength\": 0}, \"hovertemplate\": \"Country=Chile<br>average=%{marker.size}<br>CountryCode=%{location}\", \"legendgroup\": \"Country=Chile\", \"locationmode\": \"ISO-3\", \"locations\": [\"CHL\"], \"marker\": {\"color\": \"#636efa\", \"size\": [5673.0], \"sizemode\": \"area\", \"sizeref\": 4415.14}, \"name\": \"Country=Chile\", \"showlegend\": true, \"type\": \"scattergeo\"}, {\"geo\": \"geo\", \"hoverlabel\": {\"namelength\": 0}, \"hovertemplate\": \"Country=Zambia<br>average=%{marker.size}<br>CountryCode=%{location}\", \"legendgroup\": \"Country=Zambia\", \"locationmode\": \"ISO-3\", \"locations\": [\"ZMB\"], \"marker\": {\"color\": \"#EF553B\", \"size\": [5483.0], \"sizemode\": \"area\", \"sizeref\": 4415.14}, \"name\": \"Country=Zambia\", \"showlegend\": true, \"type\": \"scattergeo\"}, {\"geo\": \"geo\", \"hoverlabel\": {\"namelength\": 0}, \"hovertemplate\": \"Country=Portugal<br>average=%{marker.size}<br>CountryCode=%{location}\", \"legendgroup\": \"Country=Portugal\", \"locationmode\": \"ISO-3\", \"locations\": [\"PRT\"], \"marker\": {\"color\": \"#00cc96\", \"size\": [5096.0], \"sizemode\": \"area\", \"sizeref\": 4415.14}, \"name\": \"Country=Portugal\", \"showlegend\": true, \"type\": \"scattergeo\"}, {\"geo\": \"geo\", \"hoverlabel\": {\"namelength\": 0}, \"hovertemplate\": \"Country=Denmark<br>average=%{marker.size}<br>CountryCode=%{location}\", \"legendgroup\": \"Country=Denmark\", \"locationmode\": \"ISO-3\", \"locations\": [\"DNK\"], \"marker\": {\"color\": \"#ab63fa\", \"size\": [4738.0], \"sizemode\": \"area\", \"sizeref\": 4415.14}, \"name\": \"Country=Denmark\", \"showlegend\": true, \"type\": \"scattergeo\"}, {\"geo\": \"geo\", \"hoverlabel\": {\"namelength\": 0}, \"hovertemplate\": \"Country=Qatar<br>average=%{marker.size}<br>CountryCode=%{location}\", \"legendgroup\": \"Country=Qatar\", \"locationmode\": \"ISO-3\", \"locations\": [\"QAT\"], \"marker\": {\"color\": \"#FFA15A\", \"size\": [4554.0], \"sizemode\": \"area\", \"sizeref\": 4415.14}, \"name\": \"Country=Qatar\", \"showlegend\": true, \"type\": \"scattergeo\"}, {\"geo\": \"geo\", \"hoverlabel\": {\"namelength\": 0}, \"hovertemplate\": \"Country=Chad<br>average=%{marker.size}<br>CountryCode=%{location}\", \"legendgroup\": \"Country=Chad\", \"locationmode\": \"ISO-3\", \"locations\": [\"TCD\"], \"marker\": {\"color\": \"#19d3f3\", \"size\": [4442.0], \"sizemode\": \"area\", \"sizeref\": 4415.14}, \"name\": \"Country=Chad\", \"showlegend\": true, \"type\": \"scattergeo\"}, {\"geo\": \"geo\", \"hoverlabel\": {\"namelength\": 0}, \"hovertemplate\": \"Country=Gambia<br>average=%{marker.size}<br>CountryCode=%{location}\", \"legendgroup\": \"Country=Gambia\", \"locationmode\": \"ISO-3\", \"locations\": [\"GMB\"], \"marker\": {\"color\": \"#FF6692\", \"size\": [4089.0], \"sizemode\": \"area\", \"sizeref\": 4415.14}, \"name\": \"Country=Gambia\", \"showlegend\": true, \"type\": \"scattergeo\"}, {\"geo\": \"geo\", \"hoverlabel\": {\"namelength\": 0}, \"hovertemplate\": \"Country=Estonia<br>average=%{marker.size}<br>CountryCode=%{location}\", \"legendgroup\": \"Country=Estonia\", \"locationmode\": \"ISO-3\", \"locations\": [\"EST\"], \"marker\": {\"color\": \"#B6E880\", \"size\": [3987.0], \"sizemode\": \"area\", \"sizeref\": 4415.14}, \"name\": \"Country=Estonia\", \"showlegend\": true, \"type\": \"scattergeo\"}, {\"geo\": \"geo\", \"hoverlabel\": {\"namelength\": 0}, \"hovertemplate\": \"Country=Norway<br>average=%{marker.size}<br>CountryCode=%{location}\", \"legendgroup\": \"Country=Norway\", \"locationmode\": \"ISO-3\", \"locations\": [\"NOR\"], \"marker\": {\"color\": \"#FF97FF\", \"size\": [3891.0], \"sizemode\": \"area\", \"sizeref\": 4415.14}, \"name\": \"Country=Norway\", \"showlegend\": true, \"type\": \"scattergeo\"}, {\"geo\": \"geo\", \"hoverlabel\": {\"namelength\": 0}, \"hovertemplate\": \"Country=Gabon<br>average=%{marker.size}<br>CountryCode=%{location}\", \"legendgroup\": \"Country=Gabon\", \"locationmode\": \"ISO-3\", \"locations\": [\"GAB\"], \"marker\": {\"color\": \"#FECB52\", \"size\": [3623.0], \"sizemode\": \"area\", \"sizeref\": 4415.14}, \"name\": \"Country=Gabon\", \"showlegend\": true, \"type\": \"scattergeo\"}, {\"geo\": \"geo\", \"hoverlabel\": {\"namelength\": 0}, \"hovertemplate\": \"Country=Madagascar<br>average=%{marker.size}<br>CountryCode=%{location}\", \"legendgroup\": \"Country=Madagascar\", \"locationmode\": \"ISO-3\", \"locations\": [\"MDG\"], \"marker\": {\"color\": \"#636efa\", \"size\": [3621.0], \"sizemode\": \"area\", \"sizeref\": 4415.14}, \"name\": \"Country=Madagascar\", \"showlegend\": true, \"type\": \"scattergeo\"}, {\"geo\": \"geo\", \"hoverlabel\": {\"namelength\": 0}, \"hovertemplate\": \"Country=Bahamas<br>average=%{marker.size}<br>CountryCode=%{location}\", \"legendgroup\": \"Country=Bahamas\", \"locationmode\": \"ISO-3\", \"locations\": [\"BHS\"], \"marker\": {\"color\": \"#EF553B\", \"size\": [3569.0], \"sizemode\": \"area\", \"sizeref\": 4415.14}, \"name\": \"Country=Bahamas\", \"showlegend\": true, \"type\": \"scattergeo\"}, {\"geo\": \"geo\", \"hoverlabel\": {\"namelength\": 0}, \"hovertemplate\": \"Country=Guyana<br>average=%{marker.size}<br>CountryCode=%{location}\", \"legendgroup\": \"Country=Guyana\", \"locationmode\": \"ISO-3\", \"locations\": [\"GUY\"], \"marker\": {\"color\": \"#00cc96\", \"size\": [3314.0], \"sizemode\": \"area\", \"sizeref\": 4415.14}, \"name\": \"Country=Guyana\", \"showlegend\": true, \"type\": \"scattergeo\"}, {\"geo\": \"geo\", \"hoverlabel\": {\"namelength\": 0}, \"hovertemplate\": \"Country=Mauritius<br>average=%{marker.size}<br>CountryCode=%{location}\", \"legendgroup\": \"Country=Mauritius\", \"locationmode\": \"ISO-3\", \"locations\": [\"MUS\"], \"marker\": {\"color\": \"#ab63fa\", \"size\": [3257.0], \"sizemode\": \"area\", \"sizeref\": 4415.14}, \"name\": \"Country=Mauritius\", \"showlegend\": true, \"type\": \"scattergeo\"}, {\"geo\": \"geo\", \"hoverlabel\": {\"namelength\": 0}, \"hovertemplate\": \"Country=Mauritania<br>average=%{marker.size}<br>CountryCode=%{location}\", \"legendgroup\": \"Country=Mauritania\", \"locationmode\": \"ISO-3\", \"locations\": [\"MRT\"], \"marker\": {\"color\": \"#FFA15A\", \"size\": [2950.0], \"sizemode\": \"area\", \"sizeref\": 4415.14}, \"name\": \"Country=Mauritania\", \"showlegend\": true, \"type\": \"scattergeo\"}, {\"geo\": \"geo\", \"hoverlabel\": {\"namelength\": 0}, \"hovertemplate\": \"Country=Bahrain<br>average=%{marker.size}<br>CountryCode=%{location}\", \"legendgroup\": \"Country=Bahrain\", \"locationmode\": \"ISO-3\", \"locations\": [\"BHR\"], \"marker\": {\"color\": \"#19d3f3\", \"size\": [2541.0], \"sizemode\": \"area\", \"sizeref\": 4415.14}, \"name\": \"Country=Bahrain\", \"showlegend\": true, \"type\": \"scattergeo\"}, {\"geo\": \"geo\", \"hoverlabel\": {\"namelength\": 0}, \"hovertemplate\": \"Country=Northern Ireland<br>average=%{marker.size}<br>CountryCode=%{location}\", \"legendgroup\": \"Country=Northern Ireland\", \"locationmode\": \"ISO-3\", \"locations\": [\"GBR\"], \"marker\": {\"color\": \"#FF6692\", \"size\": [2435.0], \"sizemode\": \"area\", \"sizeref\": 4415.14}, \"name\": \"Country=Northern Ireland\", \"showlegend\": true, \"type\": \"scattergeo\"}, {\"geo\": \"geo\", \"hoverlabel\": {\"namelength\": 0}, \"hovertemplate\": \"Country=Iceland<br>average=%{marker.size}<br>CountryCode=%{location}\", \"legendgroup\": \"Country=Iceland\", \"locationmode\": \"ISO-3\", \"locations\": [\"ISL\"], \"marker\": {\"color\": \"#B6E880\", \"size\": [2401.0], \"sizemode\": \"area\", \"sizeref\": 4415.14}, \"name\": \"Country=Iceland\", \"showlegend\": true, \"type\": \"scattergeo\"}, {\"geo\": \"geo\", \"hoverlabel\": {\"namelength\": 0}, \"hovertemplate\": \"Country=Uruguay<br>average=%{marker.size}<br>CountryCode=%{location}\", \"legendgroup\": \"Country=Uruguay\", \"locationmode\": \"ISO-3\", \"locations\": [\"URY\"], \"marker\": {\"color\": \"#FF97FF\", \"size\": [2331.0], \"sizemode\": \"area\", \"sizeref\": 4415.14}, \"name\": \"Country=Uruguay\", \"showlegend\": true, \"type\": \"scattergeo\"}, {\"geo\": \"geo\", \"hoverlabel\": {\"namelength\": 0}, \"hovertemplate\": \"Country=Panama<br>average=%{marker.size}<br>CountryCode=%{location}\", \"legendgroup\": \"Country=Panama\", \"locationmode\": \"ISO-3\", \"locations\": [\"PAN\"], \"marker\": {\"color\": \"#FECB52\", \"size\": [2234.0], \"sizemode\": \"area\", \"sizeref\": 4415.14}, \"name\": \"Country=Panama\", \"showlegend\": true, \"type\": \"scattergeo\"}, {\"geo\": \"geo\", \"hoverlabel\": {\"namelength\": 0}, \"hovertemplate\": \"Country=Malawi<br>average=%{marker.size}<br>CountryCode=%{location}\", \"legendgroup\": \"Country=Malawi\", \"locationmode\": \"ISO-3\", \"locations\": [\"MWI\"], \"marker\": {\"color\": \"#636efa\", \"size\": [2040.0], \"sizemode\": \"area\", \"sizeref\": 4415.14}, \"name\": \"Country=Malawi\", \"showlegend\": true, \"type\": \"scattergeo\"}, {\"geo\": \"geo\", \"hoverlabel\": {\"namelength\": 0}, \"hovertemplate\": \"Country=Bhutan<br>average=%{marker.size}<br>CountryCode=%{location}\", \"legendgroup\": \"Country=Bhutan\", \"locationmode\": \"ISO-3\", \"locations\": [\"BTN\"], \"marker\": {\"color\": \"#EF553B\", \"size\": [2026.0], \"sizemode\": \"area\", \"sizeref\": 4415.14}, \"name\": \"Country=Bhutan\", \"showlegend\": true, \"type\": \"scattergeo\"}, {\"geo\": \"geo\", \"hoverlabel\": {\"namelength\": 0}, \"hovertemplate\": \"Country=Montenegro<br>average=%{marker.size}<br>CountryCode=%{location}\", \"legendgroup\": \"Country=Montenegro\", \"locationmode\": \"ISO-3\", \"locations\": [\"MNE\"], \"marker\": {\"color\": \"#00cc96\", \"size\": [1779.0], \"sizemode\": \"area\", \"sizeref\": 4415.14}, \"name\": \"Country=Montenegro\", \"showlegend\": true, \"type\": \"scattergeo\"}, {\"geo\": \"geo\", \"hoverlabel\": {\"namelength\": 0}, \"hovertemplate\": \"Country=Barbados<br>average=%{marker.size}<br>CountryCode=%{location}\", \"legendgroup\": \"Country=Barbados\", \"locationmode\": \"ISO-3\", \"locations\": [\"BRB\"], \"marker\": {\"color\": \"#ab63fa\", \"size\": [1659.0], \"sizemode\": \"area\", \"sizeref\": 4415.14}, \"name\": \"Country=Barbados\", \"showlegend\": true, \"type\": \"scattergeo\"}, {\"geo\": \"geo\", \"hoverlabel\": {\"namelength\": 0}, \"hovertemplate\": \"Country=Central African Republic<br>average=%{marker.size}<br>CountryCode=%{location}\", \"legendgroup\": \"Country=Central African Republic\", \"locationmode\": \"ISO-3\", \"locations\": [\"CAF\"], \"marker\": {\"color\": \"#FFA15A\", \"size\": [1621.0], \"sizemode\": \"area\", \"sizeref\": 4415.14}, \"name\": \"Country=Central African Republic\", \"showlegend\": true, \"type\": \"scattergeo\"}, {\"geo\": \"geo\", \"hoverlabel\": {\"namelength\": 0}, \"hovertemplate\": \"Country=Tonga<br>average=%{marker.size}<br>CountryCode=%{location}\", \"legendgroup\": \"Country=Tonga\", \"locationmode\": \"ISO-3\", \"locations\": [\"TON\"], \"marker\": {\"color\": \"#19d3f3\", \"size\": [1584.0], \"sizemode\": \"area\", \"sizeref\": 4415.14}, \"name\": \"Country=Tonga\", \"showlegend\": true, \"type\": \"scattergeo\"}, {\"geo\": \"geo\", \"hoverlabel\": {\"namelength\": 0}, \"hovertemplate\": \"Country=Dominica<br>average=%{marker.size}<br>CountryCode=%{location}\", \"legendgroup\": \"Country=Dominica\", \"locationmode\": \"ISO-3\", \"locations\": [\"DMA\"], \"marker\": {\"color\": \"#FF6692\", \"size\": [1534.0], \"sizemode\": \"area\", \"sizeref\": 4415.14}, \"name\": \"Country=Dominica\", \"showlegend\": true, \"type\": \"scattergeo\"}, {\"geo\": \"geo\", \"hoverlabel\": {\"namelength\": 0}, \"hovertemplate\": \"Country=Cyprus<br>average=%{marker.size}<br>CountryCode=%{location}\", \"legendgroup\": \"Country=Cyprus\", \"locationmode\": \"ISO-3\", \"locations\": [\"CYP\"], \"marker\": {\"color\": \"#B6E880\", \"size\": [1524.0], \"sizemode\": \"area\", \"sizeref\": 4415.14}, \"name\": \"Country=Cyprus\", \"showlegend\": true, \"type\": \"scattergeo\"}, {\"geo\": \"geo\", \"hoverlabel\": {\"namelength\": 0}, \"hovertemplate\": \"Country=Slovenia<br>average=%{marker.size}<br>CountryCode=%{location}\", \"legendgroup\": \"Country=Slovenia\", \"locationmode\": \"ISO-3\", \"locations\": [\"SVN\"], \"marker\": {\"color\": \"#FF97FF\", \"size\": [1466.0], \"sizemode\": \"area\", \"sizeref\": 4415.14}, \"name\": \"Country=Slovenia\", \"showlegend\": true, \"type\": \"scattergeo\"}, {\"geo\": \"geo\", \"hoverlabel\": {\"namelength\": 0}, \"hovertemplate\": \"Country=South Sudan<br>average=%{marker.size}<br>CountryCode=%{location}\", \"legendgroup\": \"Country=South Sudan\", \"locationmode\": \"ISO-3\", \"locations\": [\"SSD\"], \"marker\": {\"color\": \"#FECB52\", \"size\": [1453.0], \"sizemode\": \"area\", \"sizeref\": 4415.14}, \"name\": \"Country=South Sudan\", \"showlegend\": true, \"type\": \"scattergeo\"}, {\"geo\": \"geo\", \"hoverlabel\": {\"namelength\": 0}, \"hovertemplate\": \"Country=Cape Verde<br>average=%{marker.size}<br>CountryCode=%{location}\", \"legendgroup\": \"Country=Cape Verde\", \"locationmode\": \"ISO-3\", \"locations\": [\"CPV\"], \"marker\": {\"color\": \"#636efa\", \"size\": [1319.0], \"sizemode\": \"area\", \"sizeref\": 4415.14}, \"name\": \"Country=Cape Verde\", \"showlegend\": true, \"type\": \"scattergeo\"}, {\"geo\": \"geo\", \"hoverlabel\": {\"namelength\": 0}, \"hovertemplate\": \"Country=Oman<br>average=%{marker.size}<br>CountryCode=%{location}\", \"legendgroup\": \"Country=Oman\", \"locationmode\": \"ISO-3\", \"locations\": [\"OMN\"], \"marker\": {\"color\": \"#EF553B\", \"size\": [1194.0], \"sizemode\": \"area\", \"sizeref\": 4415.14}, \"name\": \"Country=Oman\", \"showlegend\": true, \"type\": \"scattergeo\"}, {\"geo\": \"geo\", \"hoverlabel\": {\"namelength\": 0}, \"hovertemplate\": \"Country=Grenada<br>average=%{marker.size}<br>CountryCode=%{location}\", \"legendgroup\": \"Country=Grenada\", \"locationmode\": \"ISO-3\", \"locations\": [\"GRD\"], \"marker\": {\"color\": \"#00cc96\", \"size\": [1156.0], \"sizemode\": \"area\", \"sizeref\": 4415.14}, \"name\": \"Country=Grenada\", \"showlegend\": true, \"type\": \"scattergeo\"}, {\"geo\": \"geo\", \"hoverlabel\": {\"namelength\": 0}, \"hovertemplate\": \"Country=Paraguay<br>average=%{marker.size}<br>CountryCode=%{location}\", \"legendgroup\": \"Country=Paraguay\", \"locationmode\": \"ISO-3\", \"locations\": [\"PRY\"], \"marker\": {\"color\": \"#ab63fa\", \"size\": [1125.0], \"sizemode\": \"area\", \"sizeref\": 4415.14}, \"name\": \"Country=Paraguay\", \"showlegend\": true, \"type\": \"scattergeo\"}, {\"geo\": \"geo\", \"hoverlabel\": {\"namelength\": 0}, \"hovertemplate\": \"Country=Saint Lucia<br>average=%{marker.size}<br>CountryCode=%{location}\", \"legendgroup\": \"Country=Saint Lucia\", \"locationmode\": \"ISO-3\", \"locations\": [\"LCA\"], \"marker\": {\"color\": \"#FFA15A\", \"size\": [1102.0], \"sizemode\": \"area\", \"sizeref\": 4415.14}, \"name\": \"Country=Saint Lucia\", \"showlegend\": true, \"type\": \"scattergeo\"}, {\"geo\": \"geo\", \"hoverlabel\": {\"namelength\": 0}, \"hovertemplate\": \"Country=Belize<br>average=%{marker.size}<br>CountryCode=%{location}\", \"legendgroup\": \"Country=Belize\", \"locationmode\": \"ISO-3\", \"locations\": [\"BLZ\"], \"marker\": {\"color\": \"#19d3f3\", \"size\": [1085.0], \"sizemode\": \"area\", \"sizeref\": 4415.14}, \"name\": \"Country=Belize\", \"showlegend\": true, \"type\": \"scattergeo\"}, {\"geo\": \"geo\", \"hoverlabel\": {\"namelength\": 0}, \"hovertemplate\": \"Country=Namibia<br>average=%{marker.size}<br>CountryCode=%{location}\", \"legendgroup\": \"Country=Namibia\", \"locationmode\": \"ISO-3\", \"locations\": [\"NAM\"], \"marker\": {\"color\": \"#FF6692\", \"size\": [1029.0], \"sizemode\": \"area\", \"sizeref\": 4415.14}, \"name\": \"Country=Namibia\", \"showlegend\": true, \"type\": \"scattergeo\"}, {\"geo\": \"geo\", \"hoverlabel\": {\"namelength\": 0}, \"hovertemplate\": \"Country=Suriname<br>average=%{marker.size}<br>CountryCode=%{location}\", \"legendgroup\": \"Country=Suriname\", \"locationmode\": \"ISO-3\", \"locations\": [\"SUR\"], \"marker\": {\"color\": \"#B6E880\", \"size\": [978.0], \"sizemode\": \"area\", \"sizeref\": 4415.14}, \"name\": \"Country=Suriname\", \"showlegend\": true, \"type\": \"scattergeo\"}, {\"geo\": \"geo\", \"hoverlabel\": {\"namelength\": 0}, \"hovertemplate\": \"Country=Botswana<br>average=%{marker.size}<br>CountryCode=%{location}\", \"legendgroup\": \"Country=Botswana\", \"locationmode\": \"ISO-3\", \"locations\": [\"BWA\"], \"marker\": {\"color\": \"#FF97FF\", \"size\": [929.0], \"sizemode\": \"area\", \"sizeref\": 4415.14}, \"name\": \"Country=Botswana\", \"showlegend\": true, \"type\": \"scattergeo\"}, {\"geo\": \"geo\", \"hoverlabel\": {\"namelength\": 0}, \"hovertemplate\": \"Country=Mozambique<br>average=%{marker.size}<br>CountryCode=%{location}\", \"legendgroup\": \"Country=Mozambique\", \"locationmode\": \"ISO-3\", \"locations\": [\"MOZ\"], \"marker\": {\"color\": \"#FECB52\", \"size\": [762.0], \"sizemode\": \"area\", \"sizeref\": 4415.14}, \"name\": \"Country=Mozambique\", \"showlegend\": true, \"type\": \"scattergeo\"}, {\"geo\": \"geo\", \"hoverlabel\": {\"namelength\": 0}, \"hovertemplate\": \"Country=Aruba<br>average=%{marker.size}<br>CountryCode=%{location}\", \"legendgroup\": \"Country=Aruba\", \"locationmode\": \"ISO-3\", \"locations\": [\"ABW\"], \"marker\": {\"color\": \"#636efa\", \"size\": [709.0], \"sizemode\": \"area\", \"sizeref\": 4415.14}, \"name\": \"Country=Aruba\", \"showlegend\": true, \"type\": \"scattergeo\"}, {\"geo\": \"geo\", \"hoverlabel\": {\"namelength\": 0}, \"hovertemplate\": \"Country=Antigua and Barbuda<br>average=%{marker.size}<br>CountryCode=%{location}\", \"legendgroup\": \"Country=Antigua and Barbuda\", \"locationmode\": \"ISO-3\", \"locations\": [\"ATG\"], \"marker\": {\"color\": \"#EF553B\", \"size\": [685.0], \"sizemode\": \"area\", \"sizeref\": 4415.14}, \"name\": \"Country=Antigua and Barbuda\", \"showlegend\": true, \"type\": \"scattergeo\"}, {\"geo\": \"geo\", \"hoverlabel\": {\"namelength\": 0}, \"hovertemplate\": \"Country=Guinea-Bissau<br>average=%{marker.size}<br>CountryCode=%{location}\", \"legendgroup\": \"Country=Guinea-Bissau\", \"locationmode\": \"ISO-3\", \"locations\": [\"GNB\"], \"marker\": {\"color\": \"#00cc96\", \"size\": [670.0], \"sizemode\": \"area\", \"sizeref\": 4415.14}, \"name\": \"Country=Guinea-Bissau\", \"showlegend\": true, \"type\": \"scattergeo\"}, {\"geo\": \"geo\", \"hoverlabel\": {\"namelength\": 0}, \"hovertemplate\": \"Country=Equatorial Guinea<br>average=%{marker.size}<br>CountryCode=%{location}\", \"legendgroup\": \"Country=Equatorial Guinea\", \"locationmode\": \"ISO-3\", \"locations\": [\"GNQ\"], \"marker\": {\"color\": \"#ab63fa\", \"size\": [667.0], \"sizemode\": \"area\", \"sizeref\": 4415.14}, \"name\": \"Country=Equatorial Guinea\", \"showlegend\": true, \"type\": \"scattergeo\"}, {\"geo\": \"geo\", \"hoverlabel\": {\"namelength\": 0}, \"hovertemplate\": \"Country=French Polynesia<br>average=%{marker.size}<br>CountryCode=%{location}\", \"legendgroup\": \"Country=French Polynesia\", \"locationmode\": \"ISO-3\", \"locations\": [\"PYF\"], \"marker\": {\"color\": \"#FFA15A\", \"size\": [576.0], \"sizemode\": \"area\", \"sizeref\": 4415.14}, \"name\": \"Country=French Polynesia\", \"showlegend\": true, \"type\": \"scattergeo\"}, {\"geo\": \"geo\", \"hoverlabel\": {\"namelength\": 0}, \"hovertemplate\": \"Country=Laos<br>average=%{marker.size}<br>CountryCode=%{location}\", \"legendgroup\": \"Country=Laos\", \"locationmode\": \"ISO-3\", \"locations\": [\"LAO\"], \"marker\": {\"color\": \"#19d3f3\", \"size\": [571.0], \"sizemode\": \"area\", \"sizeref\": 4415.14}, \"name\": \"Country=Laos\", \"showlegend\": true, \"type\": \"scattergeo\"}, {\"geo\": \"geo\", \"hoverlabel\": {\"namelength\": 0}, \"hovertemplate\": \"Country=Comoros<br>average=%{marker.size}<br>CountryCode=%{location}\", \"legendgroup\": \"Country=Comoros\", \"locationmode\": \"ISO-3\", \"locations\": [\"COM\"], \"marker\": {\"color\": \"#FF6692\", \"size\": [542.0], \"sizemode\": \"area\", \"sizeref\": 4415.14}, \"name\": \"Country=Comoros\", \"showlegend\": true, \"type\": \"scattergeo\"}, {\"geo\": \"geo\", \"hoverlabel\": {\"namelength\": 0}, \"hovertemplate\": \"Country=Saint Vincent and the Grenadines<br>average=%{marker.size}<br>CountryCode=%{location}\", \"legendgroup\": \"Country=Saint Vincent and the Grenadines\", \"locationmode\": \"ISO-3\", \"locations\": [\"VCT\"], \"marker\": {\"color\": \"#B6E880\", \"size\": [539.0], \"sizemode\": \"area\", \"sizeref\": 4415.14}, \"name\": \"Country=Saint Vincent and the Grenadines\", \"showlegend\": true, \"type\": \"scattergeo\"}, {\"geo\": \"geo\", \"hoverlabel\": {\"namelength\": 0}, \"hovertemplate\": \"Country=Macau Special Administrative Region<br>average=%{marker.size}<br>CountryCode=%{location}\", \"legendgroup\": \"Country=Macau Special Administrative Region\", \"locationmode\": \"ISO-3\", \"locations\": [\"MAC\"], \"marker\": {\"color\": \"#FF97FF\", \"size\": [537.0], \"sizemode\": \"area\", \"sizeref\": 4415.14}, \"name\": \"Country=Macau Special Administrative Region\", \"showlegend\": true, \"type\": \"scattergeo\"}, {\"geo\": \"geo\", \"hoverlabel\": {\"namelength\": 0}, \"hovertemplate\": \"Country=Malta<br>average=%{marker.size}<br>CountryCode=%{location}\", \"legendgroup\": \"Country=Malta\", \"locationmode\": \"ISO-3\", \"locations\": [\"MLT\"], \"marker\": {\"color\": \"#FECB52\", \"size\": [527.0], \"sizemode\": \"area\", \"sizeref\": 4415.14}, \"name\": \"Country=Malta\", \"showlegend\": true, \"type\": \"scattergeo\"}, {\"geo\": \"geo\", \"hoverlabel\": {\"namelength\": 0}, \"hovertemplate\": \"Country=Luxembourg<br>average=%{marker.size}<br>CountryCode=%{location}\", \"legendgroup\": \"Country=Luxembourg\", \"locationmode\": \"ISO-3\", \"locations\": [\"LUX\"], \"marker\": {\"color\": \"#636efa\", \"size\": [508.0], \"sizemode\": \"area\", \"sizeref\": 4415.14}, \"name\": \"Country=Luxembourg\", \"showlegend\": true, \"type\": \"scattergeo\"}, {\"geo\": \"geo\", \"hoverlabel\": {\"namelength\": 0}, \"hovertemplate\": \"Country=Curacao<br>average=%{marker.size}<br>CountryCode=%{location}\", \"legendgroup\": \"Country=Curacao\", \"locationmode\": \"ISO-3\", \"locations\": [\"CUW\"], \"marker\": {\"color\": \"#EF553B\", \"size\": [405.0], \"sizemode\": \"area\", \"sizeref\": 4415.14}, \"name\": \"Country=Curacao\", \"showlegend\": true, \"type\": \"scattergeo\"}, {\"geo\": \"geo\", \"hoverlabel\": {\"namelength\": 0}, \"hovertemplate\": \"Country=Samoa<br>average=%{marker.size}<br>CountryCode=%{location}\", \"legendgroup\": \"Country=Samoa\", \"locationmode\": \"ISO-3\", \"locations\": [\"WSM\"], \"marker\": {\"color\": \"#00cc96\", \"size\": [393.0], \"sizemode\": \"area\", \"sizeref\": 4415.14}, \"name\": \"Country=Samoa\", \"showlegend\": true, \"type\": \"scattergeo\"}, {\"geo\": \"geo\", \"hoverlabel\": {\"namelength\": 0}, \"hovertemplate\": \"Country=Saint Kitts and Nevis<br>average=%{marker.size}<br>CountryCode=%{location}\", \"legendgroup\": \"Country=Saint Kitts and Nevis\", \"locationmode\": \"ISO-3\", \"locations\": [\"KNA\"], \"marker\": {\"color\": \"#ab63fa\", \"size\": [393.0], \"sizemode\": \"area\", \"sizeref\": 4415.14}, \"name\": \"Country=Saint Kitts and Nevis\", \"showlegend\": true, \"type\": \"scattergeo\"}, {\"geo\": \"geo\", \"hoverlabel\": {\"namelength\": 0}, \"hovertemplate\": \"Country=Lesotho<br>average=%{marker.size}<br>CountryCode=%{location}\", \"legendgroup\": \"Country=Lesotho\", \"locationmode\": \"ISO-3\", \"locations\": [\"LSO\"], \"marker\": {\"color\": \"#FFA15A\", \"size\": [353.0], \"sizemode\": \"area\", \"sizeref\": 4415.14}, \"name\": \"Country=Lesotho\", \"showlegend\": true, \"type\": \"scattergeo\"}, {\"geo\": \"geo\", \"hoverlabel\": {\"namelength\": 0}, \"hovertemplate\": \"Country=Swaziland<br>average=%{marker.size}<br>CountryCode=%{location}\", \"legendgroup\": \"Country=Swaziland\", \"locationmode\": \"ISO-3\", \"locations\": [\"SWZ\"], \"marker\": {\"color\": \"#19d3f3\", \"size\": [346.0], \"sizemode\": \"area\", \"sizeref\": 4415.14}, \"name\": \"Country=Swaziland\", \"showlegend\": true, \"type\": \"scattergeo\"}, {\"geo\": \"geo\", \"hoverlabel\": {\"namelength\": 0}, \"hovertemplate\": \"Country=Maldives<br>average=%{marker.size}<br>CountryCode=%{location}\", \"legendgroup\": \"Country=Maldives\", \"locationmode\": \"ISO-3\", \"locations\": [\"MDV\"], \"marker\": {\"color\": \"#FF6692\", \"size\": [337.0], \"sizemode\": \"area\", \"sizeref\": 4415.14}, \"name\": \"Country=Maldives\", \"showlegend\": true, \"type\": \"scattergeo\"}, {\"geo\": \"geo\", \"hoverlabel\": {\"namelength\": 0}, \"hovertemplate\": \"Country=Netherlands Antilles<br>average=%{marker.size}<br>CountryCode=%{location}\", \"legendgroup\": \"Country=Netherlands Antilles\", \"locationmode\": \"ISO-3\", \"locations\": [\"ANT\"], \"marker\": {\"color\": \"#B6E880\", \"size\": [309.0], \"sizemode\": \"area\", \"sizeref\": 4415.14}, \"name\": \"Country=Netherlands Antilles\", \"showlegend\": true, \"type\": \"scattergeo\"}, {\"geo\": \"geo\", \"hoverlabel\": {\"namelength\": 0}, \"hovertemplate\": \"Country=Papua New Guinea<br>average=%{marker.size}<br>CountryCode=%{location}\", \"legendgroup\": \"Country=Papua New Guinea\", \"locationmode\": \"ISO-3\", \"locations\": [\"PNG\"], \"marker\": {\"color\": \"#FF97FF\", \"size\": [307.0], \"sizemode\": \"area\", \"sizeref\": 4415.14}, \"name\": \"Country=Papua New Guinea\", \"showlegend\": true, \"type\": \"scattergeo\"}, {\"geo\": \"geo\", \"hoverlabel\": {\"namelength\": 0}, \"hovertemplate\": \"Country=Brunei<br>average=%{marker.size}<br>CountryCode=%{location}\", \"legendgroup\": \"Country=Brunei\", \"locationmode\": \"ISO-3\", \"locations\": [\"BRN\"], \"marker\": {\"color\": \"#FECB52\", \"size\": [270.0], \"sizemode\": \"area\", \"sizeref\": 4415.14}, \"name\": \"Country=Brunei\", \"showlegend\": true, \"type\": \"scattergeo\"}, {\"geo\": \"geo\", \"hoverlabel\": {\"namelength\": 0}, \"hovertemplate\": \"Country=Seychelles<br>average=%{marker.size}<br>CountryCode=%{location}\", \"legendgroup\": \"Country=Seychelles\", \"locationmode\": \"ISO-3\", \"locations\": [\"SYC\"], \"marker\": {\"color\": \"#636efa\", \"size\": [263.0], \"sizemode\": \"area\", \"sizeref\": 4415.14}, \"name\": \"Country=Seychelles\", \"showlegend\": true, \"type\": \"scattergeo\"}, {\"geo\": \"geo\", \"hoverlabel\": {\"namelength\": 0}, \"hovertemplate\": \"Country=Niue<br>average=%{marker.size}<br>CountryCode=%{location}\", \"legendgroup\": \"Country=Niue\", \"locationmode\": \"ISO-3\", \"locations\": [\"NIU\"], \"marker\": {\"color\": \"#EF553B\", \"size\": [225.0], \"sizemode\": \"area\", \"sizeref\": 4415.14}, \"name\": \"Country=Niue\", \"showlegend\": true, \"type\": \"scattergeo\"}, {\"geo\": \"geo\", \"hoverlabel\": {\"namelength\": 0}, \"hovertemplate\": \"Country=Guadeloupe<br>average=%{marker.size}<br>CountryCode=%{location}\", \"legendgroup\": \"Country=Guadeloupe\", \"locationmode\": \"ISO-3\", \"locations\": [\"GLP\"], \"marker\": {\"color\": \"#00cc96\", \"size\": [193.0], \"sizemode\": \"area\", \"sizeref\": 4415.14}, \"name\": \"Country=Guadeloupe\", \"showlegend\": true, \"type\": \"scattergeo\"}, {\"geo\": \"geo\", \"hoverlabel\": {\"namelength\": 0}, \"hovertemplate\": \"Country=North Korea<br>average=%{marker.size}<br>CountryCode=%{location}\", \"legendgroup\": \"Country=North Korea\", \"locationmode\": \"ISO-3\", \"locations\": [\"PRK\"], \"marker\": {\"color\": \"#ab63fa\", \"size\": [188.0], \"sizemode\": \"area\", \"sizeref\": 4415.14}, \"name\": \"Country=North Korea\", \"showlegend\": true, \"type\": \"scattergeo\"}, {\"geo\": \"geo\", \"hoverlabel\": {\"namelength\": 0}, \"hovertemplate\": \"Country=New Caledonia<br>average=%{marker.size}<br>CountryCode=%{location}\", \"legendgroup\": \"Country=New Caledonia\", \"locationmode\": \"ISO-3\", \"locations\": [\"NCL\"], \"marker\": {\"color\": \"#FFA15A\", \"size\": [184.0], \"sizemode\": \"area\", \"sizeref\": 4415.14}, \"name\": \"Country=New Caledonia\", \"showlegend\": true, \"type\": \"scattergeo\"}, {\"geo\": \"geo\", \"hoverlabel\": {\"namelength\": 0}, \"hovertemplate\": \"Country=Andorra<br>average=%{marker.size}<br>CountryCode=%{location}\", \"legendgroup\": \"Country=Andorra\", \"locationmode\": \"ISO-3\", \"locations\": [\"AND\"], \"marker\": {\"color\": \"#19d3f3\", \"size\": [173.0], \"sizemode\": \"area\", \"sizeref\": 4415.14}, \"name\": \"Country=Andorra\", \"showlegend\": true, \"type\": \"scattergeo\"}, {\"geo\": \"geo\", \"hoverlabel\": {\"namelength\": 0}, \"hovertemplate\": \"Country=Vanuatu<br>average=%{marker.size}<br>CountryCode=%{location}\", \"legendgroup\": \"Country=Vanuatu\", \"locationmode\": \"ISO-3\", \"locations\": [\"VUT\"], \"marker\": {\"color\": \"#FF6692\", \"size\": [149.0], \"sizemode\": \"area\", \"sizeref\": 4415.14}, \"name\": \"Country=Vanuatu\", \"showlegend\": true, \"type\": \"scattergeo\"}, {\"geo\": \"geo\", \"hoverlabel\": {\"namelength\": 0}, \"hovertemplate\": \"Country=Kiribati<br>average=%{marker.size}<br>CountryCode=%{location}\", \"legendgroup\": \"Country=Kiribati\", \"locationmode\": \"ISO-3\", \"locations\": [\"KIR\"], \"marker\": {\"color\": \"#B6E880\", \"size\": [148.0], \"sizemode\": \"area\", \"sizeref\": 4415.14}, \"name\": \"Country=Kiribati\", \"showlegend\": true, \"type\": \"scattergeo\"}, {\"geo\": \"geo\", \"hoverlabel\": {\"namelength\": 0}, \"hovertemplate\": \"Country=Nauru<br>average=%{marker.size}<br>CountryCode=%{location}\", \"legendgroup\": \"Country=Nauru\", \"locationmode\": \"ISO-3\", \"locations\": [\"NRU\"], \"marker\": {\"color\": \"#FF97FF\", \"size\": [138.0], \"sizemode\": \"area\", \"sizeref\": 4415.14}, \"name\": \"Country=Nauru\", \"showlegend\": true, \"type\": \"scattergeo\"}, {\"geo\": \"geo\", \"hoverlabel\": {\"namelength\": 0}, \"hovertemplate\": \"Country=Martinique<br>average=%{marker.size}<br>CountryCode=%{location}\", \"legendgroup\": \"Country=Martinique\", \"locationmode\": \"ISO-3\", \"locations\": [\"MTQ\"], \"marker\": {\"color\": \"#FECB52\", \"size\": [129.0], \"sizemode\": \"area\", \"sizeref\": 4415.14}, \"name\": \"Country=Martinique\", \"showlegend\": true, \"type\": \"scattergeo\"}, {\"geo\": \"geo\", \"hoverlabel\": {\"namelength\": 0}, \"hovertemplate\": \"Country=Saint Martin<br>average=%{marker.size}<br>CountryCode=%{location}\", \"legendgroup\": \"Country=Saint Martin\", \"locationmode\": \"ISO-3\", \"locations\": [\"MAF\", \"MAF\"], \"marker\": {\"color\": \"#636efa\", \"size\": [128.0, 73.0], \"sizemode\": \"area\", \"sizeref\": 4415.14}, \"name\": \"Country=Saint Martin\", \"showlegend\": true, \"type\": \"scattergeo\"}, {\"geo\": \"geo\", \"hoverlabel\": {\"namelength\": 0}, \"hovertemplate\": \"Country=Monaco<br>average=%{marker.size}<br>CountryCode=%{location}\", \"legendgroup\": \"Country=Monaco\", \"locationmode\": \"ISO-3\", \"locations\": [\"MCO\"], \"marker\": {\"color\": \"#EF553B\", \"size\": [120.0], \"sizemode\": \"area\", \"sizeref\": 4415.14}, \"name\": \"Country=Monaco\", \"showlegend\": true, \"type\": \"scattergeo\"}, {\"geo\": \"geo\", \"hoverlabel\": {\"namelength\": 0}, \"hovertemplate\": \"Country=Cook Islands<br>average=%{marker.size}<br>CountryCode=%{location}\", \"legendgroup\": \"Country=Cook Islands\", \"locationmode\": \"ISO-3\", \"locations\": [\"COK\"], \"marker\": {\"color\": \"#00cc96\", \"size\": [105.0], \"sizemode\": \"area\", \"sizeref\": 4415.14}, \"name\": \"Country=Cook Islands\", \"showlegend\": true, \"type\": \"scattergeo\"}, {\"geo\": \"geo\", \"hoverlabel\": {\"namelength\": 0}, \"hovertemplate\": \"Country=Sao Tome and Principe<br>average=%{marker.size}<br>CountryCode=%{location}\", \"legendgroup\": \"Country=Sao Tome and Principe\", \"locationmode\": \"ISO-3\", \"locations\": [\"STP\"], \"marker\": {\"color\": \"#ab63fa\", \"size\": [91.0], \"sizemode\": \"area\", \"sizeref\": 4415.14}, \"name\": \"Country=Sao Tome and Principe\", \"showlegend\": true, \"type\": \"scattergeo\"}, {\"geo\": \"geo\", \"hoverlabel\": {\"namelength\": 0}, \"hovertemplate\": \"Country=Timor-Leste<br>average=%{marker.size}<br>CountryCode=%{location}\", \"legendgroup\": \"Country=Timor-Leste\", \"locationmode\": \"ISO-3\", \"locations\": [\"TLS\"], \"marker\": {\"color\": \"#FFA15A\", \"size\": [85.0], \"sizemode\": \"area\", \"sizeref\": 4415.14}, \"name\": \"Country=Timor-Leste\", \"showlegend\": true, \"type\": \"scattergeo\"}, {\"geo\": \"geo\", \"hoverlabel\": {\"namelength\": 0}, \"hovertemplate\": \"Country=Solomon Islands<br>average=%{marker.size}<br>CountryCode=%{location}\", \"legendgroup\": \"Country=Solomon Islands\", \"locationmode\": \"ISO-3\", \"locations\": [\"SLB\"], \"marker\": {\"color\": \"#19d3f3\", \"size\": [78.0], \"sizemode\": \"area\", \"sizeref\": 4415.14}, \"name\": \"Country=Solomon Islands\", \"showlegend\": true, \"type\": \"scattergeo\"}, {\"geo\": \"geo\", \"hoverlabel\": {\"namelength\": 0}, \"hovertemplate\": \"Country=Liechtenstein<br>average=%{marker.size}<br>CountryCode=%{location}\", \"legendgroup\": \"Country=Liechtenstein\", \"locationmode\": \"ISO-3\", \"locations\": [\"LIE\"], \"marker\": {\"color\": \"#FF6692\", \"size\": [75.0], \"sizemode\": \"area\", \"sizeref\": 4415.14}, \"name\": \"Country=Liechtenstein\", \"showlegend\": true, \"type\": \"scattergeo\"}, {\"geo\": \"geo\", \"hoverlabel\": {\"namelength\": 0}, \"hovertemplate\": \"Country=Faroe Islands<br>average=%{marker.size}<br>CountryCode=%{location}\", \"legendgroup\": \"Country=Faroe Islands\", \"locationmode\": \"ISO-3\", \"locations\": [\"FRO\"], \"marker\": {\"color\": \"#B6E880\", \"size\": [73.0], \"sizemode\": \"area\", \"sizeref\": 4415.14}, \"name\": \"Country=Faroe Islands\", \"showlegend\": true, \"type\": \"scattergeo\"}, {\"geo\": \"geo\", \"hoverlabel\": {\"namelength\": 0}, \"hovertemplate\": \"Country=Greenland<br>average=%{marker.size}<br>CountryCode=%{location}\", \"legendgroup\": \"Country=Greenland\", \"locationmode\": \"ISO-3\", \"locations\": [\"GRL\"], \"marker\": {\"color\": \"#FF97FF\", \"size\": [67.0], \"sizemode\": \"area\", \"sizeref\": 4415.14}, \"name\": \"Country=Greenland\", \"showlegend\": true, \"type\": \"scattergeo\"}, {\"geo\": \"geo\", \"hoverlabel\": {\"namelength\": 0}, \"hovertemplate\": \"Country=Reunion<br>average=%{marker.size}<br>CountryCode=%{location}\", \"legendgroup\": \"Country=Reunion\", \"locationmode\": \"ISO-3\", \"locations\": [\"REU\"], \"marker\": {\"color\": \"#FECB52\", \"size\": [60.0], \"sizemode\": \"area\", \"sizeref\": 4415.14}, \"name\": \"Country=Reunion\", \"showlegend\": true, \"type\": \"scattergeo\"}, {\"geo\": \"geo\", \"hoverlabel\": {\"namelength\": 0}, \"hovertemplate\": \"Country=Vatican City<br>average=%{marker.size}<br>CountryCode=%{location}\", \"legendgroup\": \"Country=Vatican City\", \"locationmode\": \"ISO-3\", \"locations\": [\"VAT\"], \"marker\": {\"color\": \"#636efa\", \"size\": [59.0], \"sizemode\": \"area\", \"sizeref\": 4415.14}, \"name\": \"Country=Vatican City\", \"showlegend\": true, \"type\": \"scattergeo\"}, {\"geo\": \"geo\", \"hoverlabel\": {\"namelength\": 0}, \"hovertemplate\": \"Country=French Guiana<br>average=%{marker.size}<br>CountryCode=%{location}\", \"legendgroup\": \"Country=French Guiana\", \"locationmode\": \"ISO-3\", \"locations\": [\"GUF\"], \"marker\": {\"color\": \"#EF553B\", \"size\": [52.0], \"sizemode\": \"area\", \"sizeref\": 4415.14}, \"name\": \"Country=French Guiana\", \"showlegend\": true, \"type\": \"scattergeo\"}, {\"geo\": \"geo\", \"hoverlabel\": {\"namelength\": 0}, \"hovertemplate\": \"Country=Western Sahara<br>average=%{marker.size}<br>CountryCode=%{location}\", \"legendgroup\": \"Country=Western Sahara\", \"locationmode\": \"ISO-3\", \"locations\": [\"ESH\"], \"marker\": {\"color\": \"#00cc96\", \"size\": [48.0], \"sizemode\": \"area\", \"sizeref\": 4415.14}, \"name\": \"Country=Western Sahara\", \"showlegend\": true, \"type\": \"scattergeo\"}, {\"geo\": \"geo\", \"hoverlabel\": {\"namelength\": 0}, \"hovertemplate\": \"Country=Marshall Islands<br>average=%{marker.size}<br>CountryCode=%{location}\", \"legendgroup\": \"Country=Marshall Islands\", \"locationmode\": \"ISO-3\", \"locations\": [\"MHL\"], \"marker\": {\"color\": \"#ab63fa\", \"size\": [47.0], \"sizemode\": \"area\", \"sizeref\": 4415.14}, \"name\": \"Country=Marshall Islands\", \"showlegend\": true, \"type\": \"scattergeo\"}, {\"geo\": \"geo\", \"hoverlabel\": {\"namelength\": 0}, \"hovertemplate\": \"Country=Palau<br>average=%{marker.size}<br>CountryCode=%{location}\", \"legendgroup\": \"Country=Palau\", \"locationmode\": \"ISO-3\", \"locations\": [\"PLW\"], \"marker\": {\"color\": \"#FFA15A\", \"size\": [36.0], \"sizemode\": \"area\", \"sizeref\": 4415.14}, \"name\": \"Country=Palau\", \"showlegend\": true, \"type\": \"scattergeo\"}, {\"geo\": \"geo\", \"hoverlabel\": {\"namelength\": 0}, \"hovertemplate\": \"Country=Tuvalu<br>average=%{marker.size}<br>CountryCode=%{location}\", \"legendgroup\": \"Country=Tuvalu\", \"locationmode\": \"ISO-3\", \"locations\": [\"TUV\"], \"marker\": {\"color\": \"#19d3f3\", \"size\": [32.0], \"sizemode\": \"area\", \"sizeref\": 4415.14}, \"name\": \"Country=Tuvalu\", \"showlegend\": true, \"type\": \"scattergeo\"}, {\"geo\": \"geo\", \"hoverlabel\": {\"namelength\": 0}, \"hovertemplate\": \"Country=San Marino<br>average=%{marker.size}<br>CountryCode=%{location}\", \"legendgroup\": \"Country=San Marino\", \"locationmode\": \"ISO-3\", \"locations\": [\"SMR\"], \"marker\": {\"color\": \"#FF6692\", \"size\": [29.0], \"sizemode\": \"area\", \"sizeref\": 4415.14}, \"name\": \"Country=San Marino\", \"showlegend\": true, \"type\": \"scattergeo\"}, {\"geo\": \"geo\", \"hoverlabel\": {\"namelength\": 0}, \"hovertemplate\": \"Country=Micronesia, Federated States of<br>average=%{marker.size}<br>CountryCode=%{location}\", \"legendgroup\": \"Country=Micronesia, Federated States of\", \"locationmode\": \"ISO-3\", \"locations\": [\"FSM\"], \"marker\": {\"color\": \"#B6E880\", \"size\": [26.0], \"sizemode\": \"area\", \"sizeref\": 4415.14}, \"name\": \"Country=Micronesia, Federated States of\", \"showlegend\": true, \"type\": \"scattergeo\"}, {\"geo\": \"geo\", \"hoverlabel\": {\"namelength\": 0}, \"hovertemplate\": \"Country=Wallis and Futuna<br>average=%{marker.size}<br>CountryCode=%{location}\", \"legendgroup\": \"Country=Wallis and Futuna\", \"locationmode\": \"ISO-3\", \"locations\": [\"WLF\"], \"marker\": {\"color\": \"#FF97FF\", \"size\": [26.0], \"sizemode\": \"area\", \"sizeref\": 4415.14}, \"name\": \"Country=Wallis and Futuna\", \"showlegend\": true, \"type\": \"scattergeo\"}, {\"geo\": \"geo\", \"hoverlabel\": {\"namelength\": 0}, \"hovertemplate\": \"Country=French Southern and Antarctic Lands<br>average=%{marker.size}<br>CountryCode=%{location}\", \"legendgroup\": \"Country=French Southern and Antarctic Lands\", \"locationmode\": \"ISO-3\", \"locations\": [\"ATF\"], \"marker\": {\"color\": \"#FECB52\", \"size\": [24.0], \"sizemode\": \"area\", \"sizeref\": 4415.14}, \"name\": \"Country=French Southern and Antarctic Lands\", \"showlegend\": true, \"type\": \"scattergeo\"}, {\"geo\": \"geo\", \"hoverlabel\": {\"namelength\": 0}, \"hovertemplate\": \"Country=Saint Pierre and Miquelon<br>average=%{marker.size}<br>CountryCode=%{location}\", \"legendgroup\": \"Country=Saint Pierre and Miquelon\", \"locationmode\": \"ISO-3\", \"locations\": [\"SPM\"], \"marker\": {\"color\": \"#636efa\", \"size\": [24.0], \"sizemode\": \"area\", \"sizeref\": 4415.14}, \"name\": \"Country=Saint Pierre and Miquelon\", \"showlegend\": true, \"type\": \"scattergeo\"}, {\"geo\": \"geo\", \"hoverlabel\": {\"namelength\": 0}, \"hovertemplate\": \"Country=Norfolk Island<br>average=%{marker.size}<br>CountryCode=%{location}\", \"legendgroup\": \"Country=Norfolk Island\", \"locationmode\": \"ISO-3\", \"locations\": [\"NFK\"], \"marker\": {\"color\": \"#EF553B\", \"size\": [24.0], \"sizemode\": \"area\", \"sizeref\": 4415.14}, \"name\": \"Country=Norfolk Island\", \"showlegend\": true, \"type\": \"scattergeo\"}, {\"geo\": \"geo\", \"hoverlabel\": {\"namelength\": 0}, \"hovertemplate\": \"Country=Svalbard<br>average=%{marker.size}<br>CountryCode=%{location}\", \"legendgroup\": \"Country=Svalbard\", \"locationmode\": \"ISO-3\", \"locations\": [\"SJM\"], \"marker\": {\"color\": \"#00cc96\", \"size\": [21.0], \"sizemode\": \"area\", \"sizeref\": 4415.14}, \"name\": \"Country=Svalbard\", \"showlegend\": true, \"type\": \"scattergeo\"}, {\"geo\": \"geo\", \"hoverlabel\": {\"namelength\": 0}, \"hovertemplate\": \"Country=Tokelau<br>average=%{marker.size}<br>CountryCode=%{location}\", \"legendgroup\": \"Country=Tokelau\", \"locationmode\": \"ISO-3\", \"locations\": [\"TKL\"], \"marker\": {\"color\": \"#ab63fa\", \"size\": [19.0], \"sizemode\": \"area\", \"sizeref\": 4415.14}, \"name\": \"Country=Tokelau\", \"showlegend\": true, \"type\": \"scattergeo\"}, {\"geo\": \"geo\", \"hoverlabel\": {\"namelength\": 0}, \"hovertemplate\": \"Country=Saint Barthelemy<br>average=%{marker.size}<br>CountryCode=%{location}\", \"legendgroup\": \"Country=Saint Barthelemy\", \"locationmode\": \"ISO-3\", \"locations\": [\"BLM\"], \"marker\": {\"color\": \"#FFA15A\", \"size\": [18.0], \"sizemode\": \"area\", \"sizeref\": 4415.14}, \"name\": \"Country=Saint Barthelemy\", \"showlegend\": true, \"type\": \"scattergeo\"}, {\"geo\": \"geo\", \"hoverlabel\": {\"namelength\": 0}, \"hovertemplate\": \"Country=Christmas Island<br>average=%{marker.size}<br>CountryCode=%{location}\", \"legendgroup\": \"Country=Christmas Island\", \"locationmode\": \"ISO-3\", \"locations\": [\"CXR\"], \"marker\": {\"color\": \"#19d3f3\", \"size\": [13.0], \"sizemode\": \"area\", \"sizeref\": 4415.14}, \"name\": \"Country=Christmas Island\", \"showlegend\": true, \"type\": \"scattergeo\"}, {\"geo\": \"geo\", \"hoverlabel\": {\"namelength\": 0}, \"hovertemplate\": \"Country=Mayotte<br>average=%{marker.size}<br>CountryCode=%{location}\", \"legendgroup\": \"Country=Mayotte\", \"locationmode\": \"ISO-3\", \"locations\": [\"MYT\"], \"marker\": {\"color\": \"#FF6692\", \"size\": [10.0], \"sizemode\": \"area\", \"sizeref\": 4415.14}, \"name\": \"Country=Mayotte\", \"showlegend\": true, \"type\": \"scattergeo\"}, {\"geo\": \"geo\", \"hoverlabel\": {\"namelength\": 0}, \"hovertemplate\": \"Country=Cocos Islands<br>average=%{marker.size}<br>CountryCode=%{location}\", \"legendgroup\": \"Country=Cocos Islands\", \"locationmode\": \"ISO-3\", \"locations\": [null], \"marker\": {\"color\": \"#B6E880\", \"size\": [10.0], \"sizemode\": \"area\", \"sizeref\": 4415.14}, \"name\": \"Country=Cocos Islands\", \"showlegend\": true, \"type\": \"scattergeo\"}, {\"geo\": \"geo\", \"hoverlabel\": {\"namelength\": 0}, \"hovertemplate\": \"Country=Brazil<br>average=%{marker.size}<br>CountryCode=%{location}\", \"legendgroup\": \"Country=Brazil\", \"locationmode\": \"ISO-3\", \"locations\": [\"BRA\"], \"marker\": {\"color\": \"#FF97FF\", \"size\": [0.0], \"sizemode\": \"area\", \"sizeref\": 4415.14}, \"name\": \"Country=Brazil\", \"showlegend\": true, \"type\": \"scattergeo\"}],\n",
       "                        {\"geo\": {\"center\": {}, \"domain\": {\"x\": [0.0, 1.0], \"y\": [0.0, 1.0]}, \"projection\": {\"type\": \"natural earth\"}, \"scope\": \"world\"}, \"legend\": {\"itemsizing\": \"constant\", \"tracegroupgap\": 0}, \"margin\": {\"t\": 60}, \"template\": {\"data\": {\"bar\": [{\"error_x\": {\"color\": \"#2a3f5f\"}, \"error_y\": {\"color\": \"#2a3f5f\"}, \"marker\": {\"line\": {\"color\": \"#E5ECF6\", \"width\": 0.5}}, \"type\": \"bar\"}], \"barpolar\": [{\"marker\": {\"line\": {\"color\": \"#E5ECF6\", \"width\": 0.5}}, \"type\": \"barpolar\"}], \"carpet\": [{\"aaxis\": {\"endlinecolor\": \"#2a3f5f\", \"gridcolor\": \"white\", \"linecolor\": \"white\", \"minorgridcolor\": \"white\", \"startlinecolor\": \"#2a3f5f\"}, \"baxis\": {\"endlinecolor\": \"#2a3f5f\", \"gridcolor\": \"white\", \"linecolor\": \"white\", \"minorgridcolor\": \"white\", \"startlinecolor\": \"#2a3f5f\"}, \"type\": \"carpet\"}], \"choropleth\": [{\"colorbar\": {\"outlinewidth\": 0, \"ticks\": \"\"}, \"type\": \"choropleth\"}], \"contour\": [{\"colorbar\": {\"outlinewidth\": 0, \"ticks\": \"\"}, \"colorscale\": [[0.0, \"#0d0887\"], [0.1111111111111111, \"#46039f\"], [0.2222222222222222, \"#7201a8\"], [0.3333333333333333, \"#9c179e\"], [0.4444444444444444, \"#bd3786\"], [0.5555555555555556, \"#d8576b\"], [0.6666666666666666, \"#ed7953\"], [0.7777777777777778, \"#fb9f3a\"], [0.8888888888888888, \"#fdca26\"], [1.0, \"#f0f921\"]], \"type\": \"contour\"}], \"contourcarpet\": [{\"colorbar\": {\"outlinewidth\": 0, \"ticks\": \"\"}, \"type\": \"contourcarpet\"}], \"heatmap\": [{\"colorbar\": {\"outlinewidth\": 0, \"ticks\": \"\"}, \"colorscale\": [[0.0, \"#0d0887\"], [0.1111111111111111, \"#46039f\"], [0.2222222222222222, \"#7201a8\"], [0.3333333333333333, \"#9c179e\"], [0.4444444444444444, \"#bd3786\"], [0.5555555555555556, \"#d8576b\"], [0.6666666666666666, \"#ed7953\"], [0.7777777777777778, \"#fb9f3a\"], [0.8888888888888888, \"#fdca26\"], [1.0, \"#f0f921\"]], \"type\": \"heatmap\"}], \"heatmapgl\": [{\"colorbar\": {\"outlinewidth\": 0, \"ticks\": \"\"}, \"colorscale\": [[0.0, \"#0d0887\"], [0.1111111111111111, \"#46039f\"], [0.2222222222222222, \"#7201a8\"], [0.3333333333333333, \"#9c179e\"], [0.4444444444444444, \"#bd3786\"], [0.5555555555555556, \"#d8576b\"], [0.6666666666666666, \"#ed7953\"], [0.7777777777777778, \"#fb9f3a\"], [0.8888888888888888, \"#fdca26\"], [1.0, \"#f0f921\"]], \"type\": \"heatmapgl\"}], \"histogram\": [{\"marker\": {\"colorbar\": {\"outlinewidth\": 0, \"ticks\": \"\"}}, \"type\": \"histogram\"}], \"histogram2d\": [{\"colorbar\": {\"outlinewidth\": 0, \"ticks\": \"\"}, \"colorscale\": [[0.0, \"#0d0887\"], [0.1111111111111111, \"#46039f\"], [0.2222222222222222, \"#7201a8\"], [0.3333333333333333, \"#9c179e\"], [0.4444444444444444, \"#bd3786\"], [0.5555555555555556, \"#d8576b\"], [0.6666666666666666, \"#ed7953\"], [0.7777777777777778, \"#fb9f3a\"], [0.8888888888888888, \"#fdca26\"], [1.0, \"#f0f921\"]], \"type\": \"histogram2d\"}], \"histogram2dcontour\": [{\"colorbar\": {\"outlinewidth\": 0, \"ticks\": \"\"}, \"colorscale\": [[0.0, \"#0d0887\"], [0.1111111111111111, \"#46039f\"], [0.2222222222222222, \"#7201a8\"], [0.3333333333333333, \"#9c179e\"], [0.4444444444444444, \"#bd3786\"], [0.5555555555555556, \"#d8576b\"], [0.6666666666666666, \"#ed7953\"], [0.7777777777777778, \"#fb9f3a\"], [0.8888888888888888, \"#fdca26\"], [1.0, \"#f0f921\"]], \"type\": \"histogram2dcontour\"}], \"mesh3d\": [{\"colorbar\": {\"outlinewidth\": 0, \"ticks\": \"\"}, \"type\": \"mesh3d\"}], \"parcoords\": [{\"line\": {\"colorbar\": {\"outlinewidth\": 0, \"ticks\": \"\"}}, \"type\": \"parcoords\"}], \"pie\": [{\"automargin\": true, \"type\": \"pie\"}], \"scatter\": [{\"marker\": {\"colorbar\": {\"outlinewidth\": 0, \"ticks\": \"\"}}, \"type\": \"scatter\"}], \"scatter3d\": [{\"line\": {\"colorbar\": {\"outlinewidth\": 0, \"ticks\": \"\"}}, \"marker\": {\"colorbar\": {\"outlinewidth\": 0, \"ticks\": \"\"}}, \"type\": \"scatter3d\"}], \"scattercarpet\": [{\"marker\": {\"colorbar\": {\"outlinewidth\": 0, \"ticks\": \"\"}}, \"type\": \"scattercarpet\"}], \"scattergeo\": [{\"marker\": {\"colorbar\": {\"outlinewidth\": 0, \"ticks\": \"\"}}, \"type\": \"scattergeo\"}], \"scattergl\": [{\"marker\": {\"colorbar\": {\"outlinewidth\": 0, \"ticks\": \"\"}}, \"type\": \"scattergl\"}], \"scattermapbox\": [{\"marker\": {\"colorbar\": {\"outlinewidth\": 0, \"ticks\": \"\"}}, \"type\": \"scattermapbox\"}], \"scatterpolar\": [{\"marker\": {\"colorbar\": {\"outlinewidth\": 0, \"ticks\": \"\"}}, \"type\": \"scatterpolar\"}], \"scatterpolargl\": [{\"marker\": {\"colorbar\": {\"outlinewidth\": 0, \"ticks\": \"\"}}, \"type\": \"scatterpolargl\"}], \"scatterternary\": [{\"marker\": {\"colorbar\": {\"outlinewidth\": 0, \"ticks\": \"\"}}, \"type\": \"scatterternary\"}], \"surface\": [{\"colorbar\": {\"outlinewidth\": 0, \"ticks\": \"\"}, \"colorscale\": [[0.0, \"#0d0887\"], [0.1111111111111111, \"#46039f\"], [0.2222222222222222, \"#7201a8\"], [0.3333333333333333, \"#9c179e\"], [0.4444444444444444, \"#bd3786\"], [0.5555555555555556, \"#d8576b\"], [0.6666666666666666, \"#ed7953\"], [0.7777777777777778, \"#fb9f3a\"], [0.8888888888888888, \"#fdca26\"], [1.0, \"#f0f921\"]], \"type\": \"surface\"}], \"table\": [{\"cells\": {\"fill\": {\"color\": \"#EBF0F8\"}, \"line\": {\"color\": \"white\"}}, \"header\": {\"fill\": {\"color\": \"#C8D4E3\"}, \"line\": {\"color\": \"white\"}}, \"type\": \"table\"}]}, \"layout\": {\"annotationdefaults\": {\"arrowcolor\": \"#2a3f5f\", \"arrowhead\": 0, \"arrowwidth\": 1}, \"coloraxis\": {\"colorbar\": {\"outlinewidth\": 0, \"ticks\": \"\"}}, \"colorscale\": {\"diverging\": [[0, \"#8e0152\"], [0.1, \"#c51b7d\"], [0.2, \"#de77ae\"], [0.3, \"#f1b6da\"], [0.4, \"#fde0ef\"], [0.5, \"#f7f7f7\"], [0.6, \"#e6f5d0\"], [0.7, \"#b8e186\"], [0.8, \"#7fbc41\"], [0.9, \"#4d9221\"], [1, \"#276419\"]], \"sequential\": [[0.0, \"#0d0887\"], [0.1111111111111111, \"#46039f\"], [0.2222222222222222, \"#7201a8\"], [0.3333333333333333, \"#9c179e\"], [0.4444444444444444, \"#bd3786\"], [0.5555555555555556, \"#d8576b\"], [0.6666666666666666, \"#ed7953\"], [0.7777777777777778, \"#fb9f3a\"], [0.8888888888888888, \"#fdca26\"], [1.0, \"#f0f921\"]], \"sequentialminus\": [[0.0, \"#0d0887\"], [0.1111111111111111, \"#46039f\"], [0.2222222222222222, \"#7201a8\"], [0.3333333333333333, \"#9c179e\"], [0.4444444444444444, \"#bd3786\"], [0.5555555555555556, \"#d8576b\"], [0.6666666666666666, \"#ed7953\"], [0.7777777777777778, \"#fb9f3a\"], [0.8888888888888888, \"#fdca26\"], [1.0, \"#f0f921\"]]}, \"colorway\": [\"#636efa\", \"#EF553B\", \"#00cc96\", \"#ab63fa\", \"#FFA15A\", \"#19d3f3\", \"#FF6692\", \"#B6E880\", \"#FF97FF\", \"#FECB52\"], \"font\": {\"color\": \"#2a3f5f\"}, \"geo\": {\"bgcolor\": \"white\", \"lakecolor\": \"white\", \"landcolor\": \"#E5ECF6\", \"showlakes\": true, \"showland\": true, \"subunitcolor\": \"white\"}, \"hoverlabel\": {\"align\": \"left\"}, \"hovermode\": \"closest\", \"mapbox\": {\"style\": \"light\"}, \"paper_bgcolor\": \"white\", \"plot_bgcolor\": \"#E5ECF6\", \"polar\": {\"angularaxis\": {\"gridcolor\": \"white\", \"linecolor\": \"white\", \"ticks\": \"\"}, \"bgcolor\": \"#E5ECF6\", \"radialaxis\": {\"gridcolor\": \"white\", \"linecolor\": \"white\", \"ticks\": \"\"}}, \"scene\": {\"xaxis\": {\"backgroundcolor\": \"#E5ECF6\", \"gridcolor\": \"white\", \"gridwidth\": 2, \"linecolor\": \"white\", \"showbackground\": true, \"ticks\": \"\", \"zerolinecolor\": \"white\"}, \"yaxis\": {\"backgroundcolor\": \"#E5ECF6\", \"gridcolor\": \"white\", \"gridwidth\": 2, \"linecolor\": \"white\", \"showbackground\": true, \"ticks\": \"\", \"zerolinecolor\": \"white\"}, \"zaxis\": {\"backgroundcolor\": \"#E5ECF6\", \"gridcolor\": \"white\", \"gridwidth\": 2, \"linecolor\": \"white\", \"showbackground\": true, \"ticks\": \"\", \"zerolinecolor\": \"white\"}}, \"shapedefaults\": {\"line\": {\"color\": \"#2a3f5f\"}}, \"ternary\": {\"aaxis\": {\"gridcolor\": \"white\", \"linecolor\": \"white\", \"ticks\": \"\"}, \"baxis\": {\"gridcolor\": \"white\", \"linecolor\": \"white\", \"ticks\": \"\"}, \"bgcolor\": \"#E5ECF6\", \"caxis\": {\"gridcolor\": \"white\", \"linecolor\": \"white\", \"ticks\": \"\"}}, \"title\": {\"x\": 0.05}, \"xaxis\": {\"automargin\": true, \"gridcolor\": \"white\", \"linecolor\": \"white\", \"ticks\": \"\", \"title\": {\"standoff\": 15}, \"zerolinecolor\": \"white\", \"zerolinewidth\": 2}, \"yaxis\": {\"automargin\": true, \"gridcolor\": \"white\", \"linecolor\": \"white\", \"ticks\": \"\", \"title\": {\"standoff\": 15}, \"zerolinecolor\": \"white\", \"zerolinewidth\": 2}}}},\n",
       "                        {\"responsive\": true}\n",
       "                    ).then(function(){\n",
       "                            \n",
       "var gd = document.getElementById('fda48428-5a31-4db6-9d29-1eb2af4fa005');\n",
       "var x = new MutationObserver(function (mutations, observer) {{\n",
       "        var display = window.getComputedStyle(gd).display;\n",
       "        if (!display || display === 'none') {{\n",
       "            console.log([gd, 'removed!']);\n",
       "            Plotly.purge(gd);\n",
       "            observer.disconnect();\n",
       "        }}\n",
       "}});\n",
       "\n",
       "// Listen for the removal of the full notebook cells\n",
       "var notebookContainer = gd.closest('#notebook-container');\n",
       "if (notebookContainer) {{\n",
       "    x.observe(notebookContainer, {childList: true});\n",
       "}}\n",
       "\n",
       "// Listen for the clearing of the current output cell\n",
       "var outputEl = gd.closest('.output');\n",
       "if (outputEl) {{\n",
       "    x.observe(outputEl, {childList: true});\n",
       "}}\n",
       "\n",
       "                        })\n",
       "                };\n",
       "                });\n",
       "            </script>\n",
       "        </div>"
      ]
     },
     "metadata": {},
     "output_type": "display_data"
    }
   ],
   "source": [
    "\n",
    "import plotly.express as px\n",
    "#df = px.data_to_plot.gapminder()\n",
    "fig = px.scatter_geo(data_to_plot.iloc[1:, :], locations=\"CountryCode\",locationmode = 'ISO-3', projection=\"natural earth\",\n",
    "                    scope = 'world', size = 'average', color = 'Country')\n",
    "fig.show()"
   ]
  },
  {
   "cell_type": "code",
   "execution_count": null,
   "metadata": {},
   "outputs": [],
   "source": []
  }
 ],
 "metadata": {
  "kernelspec": {
   "display_name": "Python 3",
   "language": "python",
   "name": "python3"
  },
  "language_info": {
   "codemirror_mode": {
    "name": "ipython",
    "version": 3
   },
   "file_extension": ".py",
   "mimetype": "text/x-python",
   "name": "python",
   "nbconvert_exporter": "python",
   "pygments_lexer": "ipython3",
   "version": "3.7.3"
  }
 },
 "nbformat": 4,
 "nbformat_minor": 2
}
